{
 "cells": [
  {
   "cell_type": "markdown",
   "metadata": {},
   "source": [
    "# Actividad unidad 3\n",
    "\n",
    "Este cuaderno de trabajo está diseñado para que practiques los elementos vistos a lo largo de la unidad. __(Total 10 pts)__\n",
    "\n",
    "Para esta actividad es necesario un archivo con extensión csv llamado ___HR-Employee-Attrition.csv___ que debe estar en la misma carpeta en la que esta este archivo."
   ]
  },
  {
   "cell_type": "markdown",
   "metadata": {},
   "source": [
    "#### 1 - Cambia la variable de entorno $COLUMNS$ a 1000 para imprimir más columnas de los DataFrames (1 pt)."
   ]
  },
  {
   "cell_type": "code",
   "execution_count": 1,
   "metadata": {},
   "outputs": [],
   "source": [
    "ENV[\"COLUMNS\"] = 1000;"
   ]
  },
  {
   "cell_type": "markdown",
   "metadata": {},
   "source": [
    "#### 2 - Usa el paquete CSV para leer el archivo ___HR-Employee-Attrition.csv___ y guárdalo en la variable _df_ (1 pt).\n",
    "\n",
    "> Nota: agrega el parámetro copycols=true al leer el archivo"
   ]
  },
  {
   "cell_type": "code",
   "execution_count": 2,
   "metadata": {},
   "outputs": [
    {
     "data": {
      "text/html": [
       "<div><div style = \"float: left;\"><span>1470×35 DataFrame</span></div><div style = \"float: right;\"><span style = \"font-style: italic;\">1445 rows omitted</span></div><div style = \"clear: both;\"></div></div><div class = \"data-frame\" style = \"overflow-x: scroll;\"><table class = \"data-frame\" style = \"margin-bottom: 6px;\"><thead><tr class = \"header\"><th class = \"rowNumber\" style = \"font-weight: bold; text-align: right;\">Row</th><th style = \"text-align: left;\">Age</th><th style = \"text-align: left;\">Attrition</th><th style = \"text-align: left;\">BusinessTravel</th><th style = \"text-align: left;\">DailyRate</th><th style = \"text-align: left;\">Department</th><th style = \"text-align: left;\">DistanceFromHome</th><th style = \"text-align: left;\">Education</th><th style = \"text-align: left;\">EducationField</th><th style = \"text-align: left;\">EmployeeCount</th><th style = \"text-align: left;\">EmployeeNumber</th><th style = \"text-align: left;\">EnvironmentSatisfaction</th><th style = \"text-align: left;\">Gender</th><th style = \"text-align: left;\">HourlyRate</th><th style = \"text-align: left;\">JobInvolvement</th><th style = \"text-align: left;\">JobLevel</th><th style = \"text-align: left;\">JobRole</th><th style = \"text-align: left;\">JobSatisfaction</th><th style = \"text-align: left;\">MaritalStatus</th><th style = \"text-align: left;\">MonthlyIncome</th><th style = \"text-align: left;\">MonthlyRate</th><th style = \"text-align: left;\">NumCompaniesWorked</th><th style = \"text-align: left;\">Over18</th><th style = \"text-align: left;\">OverTime</th><th style = \"text-align: left;\">PercentSalaryHike</th><th style = \"text-align: left;\">PerformanceRating</th><th style = \"text-align: left;\">RelationshipSatisfaction</th><th style = \"text-align: left;\">StandardHours</th><th style = \"text-align: left;\">StockOptionLevel</th><th style = \"text-align: left;\">TotalWorkingYears</th><th style = \"text-align: left;\">TrainingTimesLastYear</th><th style = \"text-align: left;\">WorkLifeBalance</th><th style = \"text-align: left;\">YearsAtCompany</th><th style = \"text-align: left;\">YearsInCurrentRole</th><th style = \"text-align: left;\">YearsSinceLastPromotion</th><th style = \"text-align: left;\">YearsWithCurrManager</th></tr><tr class = \"subheader headerLastRow\"><th class = \"rowNumber\" style = \"font-weight: bold; text-align: right;\"></th><th title = \"Int64\" style = \"text-align: left;\">Int64</th><th title = \"String3\" style = \"text-align: left;\">String3</th><th title = \"Union{Missing, String31}\" style = \"text-align: left;\">String31?</th><th title = \"Int64\" style = \"text-align: left;\">Int64</th><th title = \"String31\" style = \"text-align: left;\">String31</th><th title = \"Int64\" style = \"text-align: left;\">Int64</th><th title = \"Int64\" style = \"text-align: left;\">Int64</th><th title = \"String31\" style = \"text-align: left;\">String31</th><th title = \"Int64\" style = \"text-align: left;\">Int64</th><th title = \"Int64\" style = \"text-align: left;\">Int64</th><th title = \"Int64\" style = \"text-align: left;\">Int64</th><th title = \"String7\" style = \"text-align: left;\">String7</th><th title = \"Int64\" style = \"text-align: left;\">Int64</th><th title = \"Int64\" style = \"text-align: left;\">Int64</th><th title = \"Int64\" style = \"text-align: left;\">Int64</th><th title = \"Union{Missing, String31}\" style = \"text-align: left;\">String31?</th><th title = \"Int64\" style = \"text-align: left;\">Int64</th><th title = \"Union{Missing, String15}\" style = \"text-align: left;\">String15?</th><th title = \"Int64\" style = \"text-align: left;\">Int64</th><th title = \"Int64\" style = \"text-align: left;\">Int64</th><th title = \"Int64\" style = \"text-align: left;\">Int64</th><th title = \"String3\" style = \"text-align: left;\">String3</th><th title = \"String3\" style = \"text-align: left;\">String3</th><th title = \"Int64\" style = \"text-align: left;\">Int64</th><th title = \"Int64\" style = \"text-align: left;\">Int64</th><th title = \"Int64\" style = \"text-align: left;\">Int64</th><th title = \"Int64\" style = \"text-align: left;\">Int64</th><th title = \"Int64\" style = \"text-align: left;\">Int64</th><th title = \"Int64\" style = \"text-align: left;\">Int64</th><th title = \"Int64\" style = \"text-align: left;\">Int64</th><th title = \"Int64\" style = \"text-align: left;\">Int64</th><th title = \"Int64\" style = \"text-align: left;\">Int64</th><th title = \"Int64\" style = \"text-align: left;\">Int64</th><th title = \"Int64\" style = \"text-align: left;\">Int64</th><th title = \"Int64\" style = \"text-align: left;\">Int64</th></tr></thead><tbody><tr><td class = \"rowNumber\" style = \"font-weight: bold; text-align: right;\">1</td><td style = \"text-align: right;\">41</td><td style = \"text-align: left;\">Yes</td><td style = \"text-align: left;\">Travel_Rarely</td><td style = \"text-align: right;\">1102</td><td style = \"text-align: left;\">Sales</td><td style = \"text-align: right;\">1</td><td style = \"text-align: right;\">2</td><td style = \"text-align: left;\">Life Sciences</td><td style = \"text-align: right;\">1</td><td style = \"text-align: right;\">1</td><td style = \"text-align: right;\">2</td><td style = \"text-align: left;\">Female</td><td style = \"text-align: right;\">94</td><td style = \"text-align: right;\">3</td><td style = \"text-align: right;\">2</td><td style = \"text-align: left;\">Sales Executive</td><td style = \"text-align: right;\">4</td><td style = \"text-align: left;\">Single</td><td style = \"text-align: right;\">5993</td><td style = \"text-align: right;\">19479</td><td style = \"text-align: right;\">8</td><td style = \"text-align: left;\">Y</td><td style = \"text-align: left;\">Yes</td><td style = \"text-align: right;\">11</td><td style = \"text-align: right;\">3</td><td style = \"text-align: right;\">1</td><td style = \"text-align: right;\">80</td><td style = \"text-align: right;\">0</td><td style = \"text-align: right;\">8</td><td style = \"text-align: right;\">0</td><td style = \"text-align: right;\">1</td><td style = \"text-align: right;\">6</td><td style = \"text-align: right;\">4</td><td style = \"text-align: right;\">0</td><td style = \"text-align: right;\">5</td></tr><tr><td class = \"rowNumber\" style = \"font-weight: bold; text-align: right;\">2</td><td style = \"text-align: right;\">49</td><td style = \"text-align: left;\">No</td><td style = \"text-align: left;\">Travel_Frequently</td><td style = \"text-align: right;\">279</td><td style = \"text-align: left;\">Research &amp; Development</td><td style = \"text-align: right;\">8</td><td style = \"text-align: right;\">1</td><td style = \"text-align: left;\">Life Sciences</td><td style = \"text-align: right;\">1</td><td style = \"text-align: right;\">2</td><td style = \"text-align: right;\">3</td><td style = \"text-align: left;\">Male</td><td style = \"text-align: right;\">61</td><td style = \"text-align: right;\">2</td><td style = \"text-align: right;\">2</td><td style = \"text-align: left;\">Research Scientist</td><td style = \"text-align: right;\">2</td><td style = \"text-align: left;\">Married</td><td style = \"text-align: right;\">5130</td><td style = \"text-align: right;\">24907</td><td style = \"text-align: right;\">1</td><td style = \"text-align: left;\">Y</td><td style = \"text-align: left;\">No</td><td style = \"text-align: right;\">23</td><td style = \"text-align: right;\">4</td><td style = \"text-align: right;\">4</td><td style = \"text-align: right;\">80</td><td style = \"text-align: right;\">1</td><td style = \"text-align: right;\">10</td><td style = \"text-align: right;\">3</td><td style = \"text-align: right;\">3</td><td style = \"text-align: right;\">10</td><td style = \"text-align: right;\">7</td><td style = \"text-align: right;\">1</td><td style = \"text-align: right;\">7</td></tr><tr><td class = \"rowNumber\" style = \"font-weight: bold; text-align: right;\">3</td><td style = \"text-align: right;\">37</td><td style = \"text-align: left;\">Yes</td><td style = \"font-style: italic; text-align: left;\">missing</td><td style = \"text-align: right;\">1373</td><td style = \"text-align: left;\">Research &amp; Development</td><td style = \"text-align: right;\">2</td><td style = \"text-align: right;\">2</td><td style = \"text-align: left;\">Other</td><td style = \"text-align: right;\">1</td><td style = \"text-align: right;\">4</td><td style = \"text-align: right;\">4</td><td style = \"text-align: left;\">Male</td><td style = \"text-align: right;\">92</td><td style = \"text-align: right;\">2</td><td style = \"text-align: right;\">1</td><td style = \"font-style: italic; text-align: left;\">missing</td><td style = \"text-align: right;\">3</td><td style = \"text-align: left;\">Single</td><td style = \"text-align: right;\">2090</td><td style = \"text-align: right;\">2396</td><td style = \"text-align: right;\">6</td><td style = \"text-align: left;\">Yes</td><td style = \"text-align: left;\">Y</td><td style = \"text-align: right;\">15</td><td style = \"text-align: right;\">3</td><td style = \"text-align: right;\">2</td><td style = \"text-align: right;\">80</td><td style = \"text-align: right;\">0</td><td style = \"text-align: right;\">7</td><td style = \"text-align: right;\">3</td><td style = \"text-align: right;\">3</td><td style = \"text-align: right;\">0</td><td style = \"text-align: right;\">0</td><td style = \"text-align: right;\">0</td><td style = \"text-align: right;\">0</td></tr><tr><td class = \"rowNumber\" style = \"font-weight: bold; text-align: right;\">4</td><td style = \"text-align: right;\">33</td><td style = \"text-align: left;\">No</td><td style = \"text-align: left;\">Travel_Frequently</td><td style = \"text-align: right;\">1392</td><td style = \"text-align: left;\">Research &amp; Development</td><td style = \"text-align: right;\">3</td><td style = \"text-align: right;\">4</td><td style = \"text-align: left;\">Life Sciences</td><td style = \"text-align: right;\">1</td><td style = \"text-align: right;\">5</td><td style = \"text-align: right;\">4</td><td style = \"text-align: left;\">Female</td><td style = \"text-align: right;\">56</td><td style = \"text-align: right;\">3</td><td style = \"text-align: right;\">1</td><td style = \"text-align: left;\">Research Scientist</td><td style = \"text-align: right;\">3</td><td style = \"text-align: left;\">Married</td><td style = \"text-align: right;\">2909</td><td style = \"text-align: right;\">23159</td><td style = \"text-align: right;\">1</td><td style = \"text-align: left;\">Y</td><td style = \"text-align: left;\">Y</td><td style = \"text-align: right;\">11</td><td style = \"text-align: right;\">3</td><td style = \"text-align: right;\">3</td><td style = \"text-align: right;\">80</td><td style = \"text-align: right;\">0</td><td style = \"text-align: right;\">8</td><td style = \"text-align: right;\">3</td><td style = \"text-align: right;\">3</td><td style = \"text-align: right;\">8</td><td style = \"text-align: right;\">7</td><td style = \"text-align: right;\">3</td><td style = \"text-align: right;\">0</td></tr><tr><td class = \"rowNumber\" style = \"font-weight: bold; text-align: right;\">5</td><td style = \"text-align: right;\">27</td><td style = \"text-align: left;\">No</td><td style = \"text-align: left;\">Travel_Rarely</td><td style = \"text-align: right;\">591</td><td style = \"text-align: left;\">Research &amp; Development</td><td style = \"text-align: right;\">2</td><td style = \"text-align: right;\">1</td><td style = \"text-align: left;\">Medical</td><td style = \"text-align: right;\">1</td><td style = \"text-align: right;\">7</td><td style = \"text-align: right;\">1</td><td style = \"text-align: left;\">Male</td><td style = \"text-align: right;\">40</td><td style = \"text-align: right;\">3</td><td style = \"text-align: right;\">1</td><td style = \"text-align: left;\">Laboratory Technician</td><td style = \"text-align: right;\">2</td><td style = \"text-align: left;\">Married</td><td style = \"text-align: right;\">3468</td><td style = \"text-align: right;\">16632</td><td style = \"text-align: right;\">9</td><td style = \"text-align: left;\">Yes</td><td style = \"text-align: left;\">N</td><td style = \"text-align: right;\">12</td><td style = \"text-align: right;\">3</td><td style = \"text-align: right;\">4</td><td style = \"text-align: right;\">80</td><td style = \"text-align: right;\">1</td><td style = \"text-align: right;\">6</td><td style = \"text-align: right;\">3</td><td style = \"text-align: right;\">3</td><td style = \"text-align: right;\">2</td><td style = \"text-align: right;\">2</td><td style = \"text-align: right;\">2</td><td style = \"text-align: right;\">2</td></tr><tr><td class = \"rowNumber\" style = \"font-weight: bold; text-align: right;\">6</td><td style = \"text-align: right;\">32</td><td style = \"text-align: left;\">No</td><td style = \"text-align: left;\">Travel_Frequently</td><td style = \"text-align: right;\">1005</td><td style = \"text-align: left;\">Research &amp; Development</td><td style = \"text-align: right;\">2</td><td style = \"text-align: right;\">2</td><td style = \"text-align: left;\">Life Sciences</td><td style = \"text-align: right;\">1</td><td style = \"text-align: right;\">8</td><td style = \"text-align: right;\">4</td><td style = \"text-align: left;\">Male</td><td style = \"text-align: right;\">79</td><td style = \"text-align: right;\">3</td><td style = \"text-align: right;\">1</td><td style = \"text-align: left;\">Laboratory Technician</td><td style = \"text-align: right;\">4</td><td style = \"text-align: left;\">Single</td><td style = \"text-align: right;\">3068</td><td style = \"text-align: right;\">11864</td><td style = \"text-align: right;\">0</td><td style = \"text-align: left;\">Y</td><td style = \"text-align: left;\">No</td><td style = \"text-align: right;\">13</td><td style = \"text-align: right;\">3</td><td style = \"text-align: right;\">3</td><td style = \"text-align: right;\">80</td><td style = \"text-align: right;\">0</td><td style = \"text-align: right;\">8</td><td style = \"text-align: right;\">2</td><td style = \"text-align: right;\">2</td><td style = \"text-align: right;\">7</td><td style = \"text-align: right;\">7</td><td style = \"text-align: right;\">3</td><td style = \"text-align: right;\">6</td></tr><tr><td class = \"rowNumber\" style = \"font-weight: bold; text-align: right;\">7</td><td style = \"text-align: right;\">59</td><td style = \"text-align: left;\">No</td><td style = \"text-align: left;\">Travel_Rarely</td><td style = \"text-align: right;\">1324</td><td style = \"text-align: left;\">Research &amp; Development</td><td style = \"text-align: right;\">3</td><td style = \"text-align: right;\">3</td><td style = \"text-align: left;\">Medical</td><td style = \"text-align: right;\">1</td><td style = \"text-align: right;\">10</td><td style = \"text-align: right;\">3</td><td style = \"text-align: left;\">Female</td><td style = \"text-align: right;\">81</td><td style = \"text-align: right;\">4</td><td style = \"text-align: right;\">1</td><td style = \"text-align: left;\">Laboratory Technician</td><td style = \"text-align: right;\">1</td><td style = \"text-align: left;\">Married</td><td style = \"text-align: right;\">2670</td><td style = \"text-align: right;\">9964</td><td style = \"text-align: right;\">4</td><td style = \"text-align: left;\">Y</td><td style = \"text-align: left;\">Yes</td><td style = \"text-align: right;\">20</td><td style = \"text-align: right;\">4</td><td style = \"text-align: right;\">1</td><td style = \"text-align: right;\">80</td><td style = \"text-align: right;\">3</td><td style = \"text-align: right;\">12</td><td style = \"text-align: right;\">3</td><td style = \"text-align: right;\">2</td><td style = \"text-align: right;\">1</td><td style = \"text-align: right;\">0</td><td style = \"text-align: right;\">0</td><td style = \"text-align: right;\">0</td></tr><tr><td class = \"rowNumber\" style = \"font-weight: bold; text-align: right;\">8</td><td style = \"text-align: right;\">30</td><td style = \"text-align: left;\">No</td><td style = \"text-align: left;\">Travel_Rarely</td><td style = \"text-align: right;\">1358</td><td style = \"text-align: left;\">Research &amp; Development</td><td style = \"text-align: right;\">24</td><td style = \"text-align: right;\">1</td><td style = \"text-align: left;\">Life Sciences</td><td style = \"text-align: right;\">1</td><td style = \"text-align: right;\">11</td><td style = \"text-align: right;\">4</td><td style = \"text-align: left;\">Male</td><td style = \"text-align: right;\">67</td><td style = \"text-align: right;\">3</td><td style = \"text-align: right;\">1</td><td style = \"text-align: left;\">Laboratory Technician</td><td style = \"text-align: right;\">3</td><td style = \"font-style: italic; text-align: left;\">missing</td><td style = \"text-align: right;\">2693</td><td style = \"text-align: right;\">13335</td><td style = \"text-align: right;\">1</td><td style = \"text-align: left;\">Y</td><td style = \"text-align: left;\">No</td><td style = \"text-align: right;\">22</td><td style = \"text-align: right;\">4</td><td style = \"text-align: right;\">2</td><td style = \"text-align: right;\">80</td><td style = \"text-align: right;\">1</td><td style = \"text-align: right;\">1</td><td style = \"text-align: right;\">2</td><td style = \"text-align: right;\">3</td><td style = \"text-align: right;\">1</td><td style = \"text-align: right;\">0</td><td style = \"text-align: right;\">0</td><td style = \"text-align: right;\">0</td></tr><tr><td class = \"rowNumber\" style = \"font-weight: bold; text-align: right;\">9</td><td style = \"text-align: right;\">38</td><td style = \"text-align: left;\">No</td><td style = \"text-align: left;\">Travel_Frequently</td><td style = \"text-align: right;\">216</td><td style = \"text-align: left;\">Research &amp; Development</td><td style = \"text-align: right;\">23</td><td style = \"text-align: right;\">3</td><td style = \"text-align: left;\">Life Sciences</td><td style = \"text-align: right;\">1</td><td style = \"text-align: right;\">12</td><td style = \"text-align: right;\">4</td><td style = \"text-align: left;\">Male</td><td style = \"text-align: right;\">44</td><td style = \"text-align: right;\">2</td><td style = \"text-align: right;\">3</td><td style = \"text-align: left;\">Manufacturing Director</td><td style = \"text-align: right;\">3</td><td style = \"text-align: left;\">Single</td><td style = \"text-align: right;\">9526</td><td style = \"text-align: right;\">8787</td><td style = \"text-align: right;\">0</td><td style = \"text-align: left;\">Y</td><td style = \"text-align: left;\">No</td><td style = \"text-align: right;\">21</td><td style = \"text-align: right;\">4</td><td style = \"text-align: right;\">2</td><td style = \"text-align: right;\">80</td><td style = \"text-align: right;\">0</td><td style = \"text-align: right;\">10</td><td style = \"text-align: right;\">2</td><td style = \"text-align: right;\">3</td><td style = \"text-align: right;\">9</td><td style = \"text-align: right;\">7</td><td style = \"text-align: right;\">1</td><td style = \"text-align: right;\">8</td></tr><tr><td class = \"rowNumber\" style = \"font-weight: bold; text-align: right;\">10</td><td style = \"text-align: right;\">36</td><td style = \"text-align: left;\">No</td><td style = \"text-align: left;\">Travel_Rarely</td><td style = \"text-align: right;\">1299</td><td style = \"text-align: left;\">Research &amp; Development</td><td style = \"text-align: right;\">27</td><td style = \"text-align: right;\">3</td><td style = \"text-align: left;\">Medical</td><td style = \"text-align: right;\">1</td><td style = \"text-align: right;\">13</td><td style = \"text-align: right;\">3</td><td style = \"text-align: left;\">Male</td><td style = \"text-align: right;\">94</td><td style = \"text-align: right;\">3</td><td style = \"text-align: right;\">2</td><td style = \"text-align: left;\">Healthcare Representative</td><td style = \"text-align: right;\">3</td><td style = \"text-align: left;\">Married</td><td style = \"text-align: right;\">5237</td><td style = \"text-align: right;\">16577</td><td style = \"text-align: right;\">6</td><td style = \"text-align: left;\">Y</td><td style = \"text-align: left;\">No</td><td style = \"text-align: right;\">13</td><td style = \"text-align: right;\">3</td><td style = \"text-align: right;\">2</td><td style = \"text-align: right;\">80</td><td style = \"text-align: right;\">2</td><td style = \"text-align: right;\">17</td><td style = \"text-align: right;\">3</td><td style = \"text-align: right;\">2</td><td style = \"text-align: right;\">7</td><td style = \"text-align: right;\">7</td><td style = \"text-align: right;\">7</td><td style = \"text-align: right;\">7</td></tr><tr><td class = \"rowNumber\" style = \"font-weight: bold; text-align: right;\">11</td><td style = \"text-align: right;\">35</td><td style = \"text-align: left;\">No</td><td style = \"text-align: left;\">Travel_Rarely</td><td style = \"text-align: right;\">809</td><td style = \"text-align: left;\">Research &amp; Development</td><td style = \"text-align: right;\">16</td><td style = \"text-align: right;\">3</td><td style = \"text-align: left;\">Medical</td><td style = \"text-align: right;\">1</td><td style = \"text-align: right;\">14</td><td style = \"text-align: right;\">1</td><td style = \"text-align: left;\">Male</td><td style = \"text-align: right;\">84</td><td style = \"text-align: right;\">4</td><td style = \"text-align: right;\">1</td><td style = \"text-align: left;\">Laboratory Technician</td><td style = \"text-align: right;\">2</td><td style = \"text-align: left;\">Married</td><td style = \"text-align: right;\">2426</td><td style = \"text-align: right;\">16479</td><td style = \"text-align: right;\">0</td><td style = \"text-align: left;\">Y</td><td style = \"text-align: left;\">No</td><td style = \"text-align: right;\">13</td><td style = \"text-align: right;\">3</td><td style = \"text-align: right;\">3</td><td style = \"text-align: right;\">80</td><td style = \"text-align: right;\">1</td><td style = \"text-align: right;\">6</td><td style = \"text-align: right;\">5</td><td style = \"text-align: right;\">3</td><td style = \"text-align: right;\">5</td><td style = \"text-align: right;\">4</td><td style = \"text-align: right;\">0</td><td style = \"text-align: right;\">3</td></tr><tr><td class = \"rowNumber\" style = \"font-weight: bold; text-align: right;\">12</td><td style = \"text-align: right;\">29</td><td style = \"text-align: left;\">No</td><td style = \"text-align: left;\">Travel_Rarely</td><td style = \"text-align: right;\">153</td><td style = \"text-align: left;\">Research &amp; Development</td><td style = \"text-align: right;\">15</td><td style = \"text-align: right;\">2</td><td style = \"text-align: left;\">Life Sciences</td><td style = \"text-align: right;\">1</td><td style = \"text-align: right;\">15</td><td style = \"text-align: right;\">4</td><td style = \"text-align: left;\">Female</td><td style = \"text-align: right;\">49</td><td style = \"text-align: right;\">2</td><td style = \"text-align: right;\">2</td><td style = \"text-align: left;\">Laboratory Technician</td><td style = \"text-align: right;\">3</td><td style = \"text-align: left;\">Single</td><td style = \"text-align: right;\">4193</td><td style = \"text-align: right;\">12682</td><td style = \"text-align: right;\">0</td><td style = \"text-align: left;\">Y</td><td style = \"text-align: left;\">Yes</td><td style = \"text-align: right;\">12</td><td style = \"text-align: right;\">3</td><td style = \"text-align: right;\">4</td><td style = \"text-align: right;\">80</td><td style = \"text-align: right;\">0</td><td style = \"text-align: right;\">10</td><td style = \"text-align: right;\">3</td><td style = \"text-align: right;\">3</td><td style = \"text-align: right;\">9</td><td style = \"text-align: right;\">5</td><td style = \"text-align: right;\">0</td><td style = \"text-align: right;\">8</td></tr><tr><td class = \"rowNumber\" style = \"font-weight: bold; text-align: right;\">13</td><td style = \"text-align: right;\">31</td><td style = \"text-align: left;\">No</td><td style = \"text-align: left;\">Travel_Rarely</td><td style = \"text-align: right;\">670</td><td style = \"text-align: left;\">Research &amp; Development</td><td style = \"text-align: right;\">26</td><td style = \"text-align: right;\">1</td><td style = \"text-align: left;\">Life Sciences</td><td style = \"text-align: right;\">1</td><td style = \"text-align: right;\">16</td><td style = \"text-align: right;\">1</td><td style = \"text-align: left;\">Male</td><td style = \"text-align: right;\">31</td><td style = \"text-align: right;\">3</td><td style = \"text-align: right;\">1</td><td style = \"text-align: left;\">Research Scientist</td><td style = \"text-align: right;\">3</td><td style = \"text-align: left;\">Divorced</td><td style = \"text-align: right;\">2911</td><td style = \"text-align: right;\">15170</td><td style = \"text-align: right;\">1</td><td style = \"text-align: left;\">Y</td><td style = \"text-align: left;\">No</td><td style = \"text-align: right;\">17</td><td style = \"text-align: right;\">3</td><td style = \"text-align: right;\">4</td><td style = \"text-align: right;\">80</td><td style = \"text-align: right;\">1</td><td style = \"text-align: right;\">5</td><td style = \"text-align: right;\">1</td><td style = \"text-align: right;\">2</td><td style = \"text-align: right;\">5</td><td style = \"text-align: right;\">2</td><td style = \"text-align: right;\">4</td><td style = \"text-align: right;\">3</td></tr><tr><td style = \"text-align: right;\">&vellip;</td><td style = \"text-align: right;\">&vellip;</td><td style = \"text-align: right;\">&vellip;</td><td style = \"text-align: right;\">&vellip;</td><td style = \"text-align: right;\">&vellip;</td><td style = \"text-align: right;\">&vellip;</td><td style = \"text-align: right;\">&vellip;</td><td style = \"text-align: right;\">&vellip;</td><td style = \"text-align: right;\">&vellip;</td><td style = \"text-align: right;\">&vellip;</td><td style = \"text-align: right;\">&vellip;</td><td style = \"text-align: right;\">&vellip;</td><td style = \"text-align: right;\">&vellip;</td><td style = \"text-align: right;\">&vellip;</td><td style = \"text-align: right;\">&vellip;</td><td style = \"text-align: right;\">&vellip;</td><td style = \"text-align: right;\">&vellip;</td><td style = \"text-align: right;\">&vellip;</td><td style = \"text-align: right;\">&vellip;</td><td style = \"text-align: right;\">&vellip;</td><td style = \"text-align: right;\">&vellip;</td><td style = \"text-align: right;\">&vellip;</td><td style = \"text-align: right;\">&vellip;</td><td style = \"text-align: right;\">&vellip;</td><td style = \"text-align: right;\">&vellip;</td><td style = \"text-align: right;\">&vellip;</td><td style = \"text-align: right;\">&vellip;</td><td style = \"text-align: right;\">&vellip;</td><td style = \"text-align: right;\">&vellip;</td><td style = \"text-align: right;\">&vellip;</td><td style = \"text-align: right;\">&vellip;</td><td style = \"text-align: right;\">&vellip;</td><td style = \"text-align: right;\">&vellip;</td><td style = \"text-align: right;\">&vellip;</td><td style = \"text-align: right;\">&vellip;</td><td style = \"text-align: right;\">&vellip;</td></tr><tr><td class = \"rowNumber\" style = \"font-weight: bold; text-align: right;\">1459</td><td style = \"text-align: right;\">35</td><td style = \"text-align: left;\">No</td><td style = \"text-align: left;\">Travel_Rarely</td><td style = \"text-align: right;\">287</td><td style = \"text-align: left;\">Research &amp; Development</td><td style = \"text-align: right;\">1</td><td style = \"text-align: right;\">4</td><td style = \"text-align: left;\">Life Sciences</td><td style = \"text-align: right;\">1</td><td style = \"text-align: right;\">2052</td><td style = \"text-align: right;\">3</td><td style = \"text-align: left;\">Female</td><td style = \"text-align: right;\">62</td><td style = \"text-align: right;\">1</td><td style = \"text-align: right;\">1</td><td style = \"text-align: left;\">Research Scientist</td><td style = \"text-align: right;\">4</td><td style = \"text-align: left;\">Married</td><td style = \"text-align: right;\">2977</td><td style = \"text-align: right;\">8952</td><td style = \"text-align: right;\">1</td><td style = \"text-align: left;\">Y</td><td style = \"text-align: left;\">No</td><td style = \"text-align: right;\">12</td><td style = \"text-align: right;\">3</td><td style = \"text-align: right;\">4</td><td style = \"text-align: right;\">80</td><td style = \"text-align: right;\">1</td><td style = \"text-align: right;\">4</td><td style = \"text-align: right;\">5</td><td style = \"text-align: right;\">3</td><td style = \"text-align: right;\">4</td><td style = \"text-align: right;\">3</td><td style = \"text-align: right;\">1</td><td style = \"text-align: right;\">1</td></tr><tr><td class = \"rowNumber\" style = \"font-weight: bold; text-align: right;\">1460</td><td style = \"text-align: right;\">29</td><td style = \"text-align: left;\">No</td><td style = \"text-align: left;\">Travel_Rarely</td><td style = \"text-align: right;\">1378</td><td style = \"text-align: left;\">Research &amp; Development</td><td style = \"text-align: right;\">13</td><td style = \"text-align: right;\">2</td><td style = \"text-align: left;\">Other</td><td style = \"text-align: right;\">1</td><td style = \"text-align: right;\">2053</td><td style = \"text-align: right;\">4</td><td style = \"text-align: left;\">Male</td><td style = \"text-align: right;\">46</td><td style = \"text-align: right;\">2</td><td style = \"text-align: right;\">2</td><td style = \"text-align: left;\">Laboratory Technician</td><td style = \"text-align: right;\">2</td><td style = \"text-align: left;\">Married</td><td style = \"text-align: right;\">4025</td><td style = \"text-align: right;\">23679</td><td style = \"text-align: right;\">4</td><td style = \"text-align: left;\">Y</td><td style = \"text-align: left;\">Yes</td><td style = \"text-align: right;\">13</td><td style = \"text-align: right;\">3</td><td style = \"text-align: right;\">1</td><td style = \"text-align: right;\">80</td><td style = \"text-align: right;\">1</td><td style = \"text-align: right;\">10</td><td style = \"text-align: right;\">2</td><td style = \"text-align: right;\">3</td><td style = \"text-align: right;\">4</td><td style = \"text-align: right;\">3</td><td style = \"text-align: right;\">0</td><td style = \"text-align: right;\">3</td></tr><tr><td class = \"rowNumber\" style = \"font-weight: bold; text-align: right;\">1461</td><td style = \"text-align: right;\">29</td><td style = \"text-align: left;\">No</td><td style = \"text-align: left;\">Travel_Rarely</td><td style = \"text-align: right;\">468</td><td style = \"text-align: left;\">Research &amp; Development</td><td style = \"text-align: right;\">28</td><td style = \"text-align: right;\">4</td><td style = \"text-align: left;\">Medical</td><td style = \"text-align: right;\">1</td><td style = \"text-align: right;\">2054</td><td style = \"text-align: right;\">4</td><td style = \"text-align: left;\">Female</td><td style = \"text-align: right;\">73</td><td style = \"text-align: right;\">2</td><td style = \"text-align: right;\">1</td><td style = \"text-align: left;\">Research Scientist</td><td style = \"text-align: right;\">1</td><td style = \"text-align: left;\">Single</td><td style = \"text-align: right;\">3785</td><td style = \"text-align: right;\">8489</td><td style = \"text-align: right;\">1</td><td style = \"text-align: left;\">Y</td><td style = \"text-align: left;\">No</td><td style = \"text-align: right;\">14</td><td style = \"text-align: right;\">3</td><td style = \"text-align: right;\">2</td><td style = \"text-align: right;\">80</td><td style = \"text-align: right;\">0</td><td style = \"text-align: right;\">5</td><td style = \"text-align: right;\">3</td><td style = \"text-align: right;\">1</td><td style = \"text-align: right;\">5</td><td style = \"text-align: right;\">4</td><td style = \"text-align: right;\">0</td><td style = \"text-align: right;\">4</td></tr><tr><td class = \"rowNumber\" style = \"font-weight: bold; text-align: right;\">1462</td><td style = \"text-align: right;\">50</td><td style = \"text-align: left;\">Yes</td><td style = \"text-align: left;\">Travel_Rarely</td><td style = \"text-align: right;\">410</td><td style = \"text-align: left;\">Sales</td><td style = \"text-align: right;\">28</td><td style = \"text-align: right;\">3</td><td style = \"text-align: left;\">Marketing</td><td style = \"text-align: right;\">1</td><td style = \"text-align: right;\">2055</td><td style = \"text-align: right;\">4</td><td style = \"text-align: left;\">Male</td><td style = \"text-align: right;\">39</td><td style = \"text-align: right;\">2</td><td style = \"text-align: right;\">3</td><td style = \"text-align: left;\">Sales Executive</td><td style = \"text-align: right;\">1</td><td style = \"text-align: left;\">Divorced</td><td style = \"text-align: right;\">10854</td><td style = \"text-align: right;\">16586</td><td style = \"text-align: right;\">4</td><td style = \"text-align: left;\">Y</td><td style = \"text-align: left;\">Yes</td><td style = \"text-align: right;\">13</td><td style = \"text-align: right;\">3</td><td style = \"text-align: right;\">2</td><td style = \"text-align: right;\">80</td><td style = \"text-align: right;\">1</td><td style = \"text-align: right;\">20</td><td style = \"text-align: right;\">3</td><td style = \"text-align: right;\">3</td><td style = \"text-align: right;\">3</td><td style = \"text-align: right;\">2</td><td style = \"text-align: right;\">2</td><td style = \"text-align: right;\">0</td></tr><tr><td class = \"rowNumber\" style = \"font-weight: bold; text-align: right;\">1463</td><td style = \"text-align: right;\">39</td><td style = \"text-align: left;\">No</td><td style = \"text-align: left;\">Travel_Rarely</td><td style = \"text-align: right;\">722</td><td style = \"text-align: left;\">Sales</td><td style = \"text-align: right;\">24</td><td style = \"text-align: right;\">1</td><td style = \"text-align: left;\">Marketing</td><td style = \"text-align: right;\">1</td><td style = \"text-align: right;\">2056</td><td style = \"text-align: right;\">2</td><td style = \"text-align: left;\">Female</td><td style = \"text-align: right;\">60</td><td style = \"text-align: right;\">2</td><td style = \"text-align: right;\">4</td><td style = \"text-align: left;\">Sales Executive</td><td style = \"text-align: right;\">4</td><td style = \"text-align: left;\">Married</td><td style = \"text-align: right;\">12031</td><td style = \"text-align: right;\">8828</td><td style = \"text-align: right;\">0</td><td style = \"text-align: left;\">Y</td><td style = \"text-align: left;\">No</td><td style = \"text-align: right;\">11</td><td style = \"text-align: right;\">3</td><td style = \"text-align: right;\">1</td><td style = \"text-align: right;\">80</td><td style = \"text-align: right;\">1</td><td style = \"text-align: right;\">21</td><td style = \"text-align: right;\">2</td><td style = \"text-align: right;\">2</td><td style = \"text-align: right;\">20</td><td style = \"text-align: right;\">9</td><td style = \"text-align: right;\">9</td><td style = \"text-align: right;\">6</td></tr><tr><td class = \"rowNumber\" style = \"font-weight: bold; text-align: right;\">1464</td><td style = \"text-align: right;\">31</td><td style = \"text-align: left;\">No</td><td style = \"text-align: left;\">Non-Travel</td><td style = \"text-align: right;\">325</td><td style = \"text-align: left;\">Research &amp; Development</td><td style = \"text-align: right;\">5</td><td style = \"text-align: right;\">3</td><td style = \"text-align: left;\">Medical</td><td style = \"text-align: right;\">1</td><td style = \"text-align: right;\">2057</td><td style = \"text-align: right;\">2</td><td style = \"text-align: left;\">Male</td><td style = \"text-align: right;\">74</td><td style = \"text-align: right;\">3</td><td style = \"text-align: right;\">2</td><td style = \"text-align: left;\">Manufacturing Director</td><td style = \"text-align: right;\">1</td><td style = \"text-align: left;\">Single</td><td style = \"text-align: right;\">9936</td><td style = \"text-align: right;\">3787</td><td style = \"text-align: right;\">0</td><td style = \"text-align: left;\">Y</td><td style = \"text-align: left;\">No</td><td style = \"text-align: right;\">19</td><td style = \"text-align: right;\">3</td><td style = \"text-align: right;\">2</td><td style = \"text-align: right;\">80</td><td style = \"text-align: right;\">0</td><td style = \"text-align: right;\">10</td><td style = \"text-align: right;\">2</td><td style = \"text-align: right;\">3</td><td style = \"text-align: right;\">9</td><td style = \"text-align: right;\">4</td><td style = \"text-align: right;\">1</td><td style = \"text-align: right;\">7</td></tr><tr><td class = \"rowNumber\" style = \"font-weight: bold; text-align: right;\">1465</td><td style = \"text-align: right;\">26</td><td style = \"text-align: left;\">No</td><td style = \"text-align: left;\">Travel_Rarely</td><td style = \"text-align: right;\">1167</td><td style = \"text-align: left;\">Sales</td><td style = \"text-align: right;\">5</td><td style = \"text-align: right;\">3</td><td style = \"text-align: left;\">Other</td><td style = \"text-align: right;\">1</td><td style = \"text-align: right;\">2060</td><td style = \"text-align: right;\">4</td><td style = \"text-align: left;\">Female</td><td style = \"text-align: right;\">30</td><td style = \"text-align: right;\">2</td><td style = \"text-align: right;\">1</td><td style = \"text-align: left;\">Sales Representative</td><td style = \"text-align: right;\">3</td><td style = \"text-align: left;\">Single</td><td style = \"text-align: right;\">2966</td><td style = \"text-align: right;\">21378</td><td style = \"text-align: right;\">0</td><td style = \"text-align: left;\">Y</td><td style = \"text-align: left;\">No</td><td style = \"text-align: right;\">18</td><td style = \"text-align: right;\">3</td><td style = \"text-align: right;\">4</td><td style = \"text-align: right;\">80</td><td style = \"text-align: right;\">0</td><td style = \"text-align: right;\">5</td><td style = \"text-align: right;\">2</td><td style = \"text-align: right;\">3</td><td style = \"text-align: right;\">4</td><td style = \"text-align: right;\">2</td><td style = \"text-align: right;\">0</td><td style = \"text-align: right;\">0</td></tr><tr><td class = \"rowNumber\" style = \"font-weight: bold; text-align: right;\">1466</td><td style = \"text-align: right;\">36</td><td style = \"text-align: left;\">No</td><td style = \"text-align: left;\">Travel_Frequently</td><td style = \"text-align: right;\">884</td><td style = \"text-align: left;\">Research &amp; Development</td><td style = \"text-align: right;\">23</td><td style = \"text-align: right;\">2</td><td style = \"text-align: left;\">Medical</td><td style = \"text-align: right;\">1</td><td style = \"text-align: right;\">2061</td><td style = \"text-align: right;\">3</td><td style = \"text-align: left;\">Male</td><td style = \"text-align: right;\">41</td><td style = \"text-align: right;\">4</td><td style = \"text-align: right;\">2</td><td style = \"text-align: left;\">Laboratory Technician</td><td style = \"text-align: right;\">4</td><td style = \"text-align: left;\">Married</td><td style = \"text-align: right;\">2571</td><td style = \"text-align: right;\">12290</td><td style = \"text-align: right;\">4</td><td style = \"text-align: left;\">Y</td><td style = \"text-align: left;\">No</td><td style = \"text-align: right;\">17</td><td style = \"text-align: right;\">3</td><td style = \"text-align: right;\">3</td><td style = \"text-align: right;\">80</td><td style = \"text-align: right;\">1</td><td style = \"text-align: right;\">17</td><td style = \"text-align: right;\">3</td><td style = \"text-align: right;\">3</td><td style = \"text-align: right;\">5</td><td style = \"text-align: right;\">2</td><td style = \"text-align: right;\">0</td><td style = \"text-align: right;\">3</td></tr><tr><td class = \"rowNumber\" style = \"font-weight: bold; text-align: right;\">1467</td><td style = \"text-align: right;\">39</td><td style = \"text-align: left;\">No</td><td style = \"text-align: left;\">Travel_Rarely</td><td style = \"text-align: right;\">613</td><td style = \"text-align: left;\">Research &amp; Development</td><td style = \"text-align: right;\">6</td><td style = \"text-align: right;\">1</td><td style = \"text-align: left;\">Medical</td><td style = \"text-align: right;\">1</td><td style = \"text-align: right;\">2062</td><td style = \"text-align: right;\">4</td><td style = \"text-align: left;\">Male</td><td style = \"text-align: right;\">42</td><td style = \"text-align: right;\">2</td><td style = \"text-align: right;\">3</td><td style = \"text-align: left;\">Healthcare Representative</td><td style = \"text-align: right;\">1</td><td style = \"text-align: left;\">Married</td><td style = \"text-align: right;\">9991</td><td style = \"text-align: right;\">21457</td><td style = \"text-align: right;\">4</td><td style = \"text-align: left;\">Y</td><td style = \"text-align: left;\">No</td><td style = \"text-align: right;\">15</td><td style = \"text-align: right;\">3</td><td style = \"text-align: right;\">1</td><td style = \"text-align: right;\">80</td><td style = \"text-align: right;\">1</td><td style = \"text-align: right;\">9</td><td style = \"text-align: right;\">5</td><td style = \"text-align: right;\">3</td><td style = \"text-align: right;\">7</td><td style = \"text-align: right;\">7</td><td style = \"text-align: right;\">1</td><td style = \"text-align: right;\">7</td></tr><tr><td class = \"rowNumber\" style = \"font-weight: bold; text-align: right;\">1468</td><td style = \"text-align: right;\">27</td><td style = \"text-align: left;\">No</td><td style = \"text-align: left;\">Travel_Rarely</td><td style = \"text-align: right;\">155</td><td style = \"text-align: left;\">Research &amp; Development</td><td style = \"text-align: right;\">4</td><td style = \"text-align: right;\">3</td><td style = \"text-align: left;\">Life Sciences</td><td style = \"text-align: right;\">1</td><td style = \"text-align: right;\">2064</td><td style = \"text-align: right;\">2</td><td style = \"text-align: left;\">Male</td><td style = \"text-align: right;\">87</td><td style = \"text-align: right;\">4</td><td style = \"text-align: right;\">2</td><td style = \"text-align: left;\">Manufacturing Director</td><td style = \"text-align: right;\">2</td><td style = \"text-align: left;\">Married</td><td style = \"text-align: right;\">6142</td><td style = \"text-align: right;\">5174</td><td style = \"text-align: right;\">1</td><td style = \"text-align: left;\">Y</td><td style = \"text-align: left;\">Yes</td><td style = \"text-align: right;\">20</td><td style = \"text-align: right;\">4</td><td style = \"text-align: right;\">2</td><td style = \"text-align: right;\">80</td><td style = \"text-align: right;\">1</td><td style = \"text-align: right;\">6</td><td style = \"text-align: right;\">0</td><td style = \"text-align: right;\">3</td><td style = \"text-align: right;\">6</td><td style = \"text-align: right;\">2</td><td style = \"text-align: right;\">0</td><td style = \"text-align: right;\">3</td></tr><tr><td class = \"rowNumber\" style = \"font-weight: bold; text-align: right;\">1469</td><td style = \"text-align: right;\">49</td><td style = \"text-align: left;\">No</td><td style = \"text-align: left;\">Travel_Frequently</td><td style = \"text-align: right;\">1023</td><td style = \"text-align: left;\">Sales</td><td style = \"text-align: right;\">2</td><td style = \"text-align: right;\">3</td><td style = \"text-align: left;\">Medical</td><td style = \"text-align: right;\">1</td><td style = \"text-align: right;\">2065</td><td style = \"text-align: right;\">4</td><td style = \"text-align: left;\">Male</td><td style = \"text-align: right;\">63</td><td style = \"text-align: right;\">2</td><td style = \"text-align: right;\">2</td><td style = \"text-align: left;\">Sales Executive</td><td style = \"text-align: right;\">2</td><td style = \"text-align: left;\">Married</td><td style = \"text-align: right;\">5390</td><td style = \"text-align: right;\">13243</td><td style = \"text-align: right;\">2</td><td style = \"text-align: left;\">Y</td><td style = \"text-align: left;\">No</td><td style = \"text-align: right;\">14</td><td style = \"text-align: right;\">3</td><td style = \"text-align: right;\">4</td><td style = \"text-align: right;\">80</td><td style = \"text-align: right;\">0</td><td style = \"text-align: right;\">17</td><td style = \"text-align: right;\">3</td><td style = \"text-align: right;\">2</td><td style = \"text-align: right;\">9</td><td style = \"text-align: right;\">6</td><td style = \"text-align: right;\">0</td><td style = \"text-align: right;\">8</td></tr><tr><td class = \"rowNumber\" style = \"font-weight: bold; text-align: right;\">1470</td><td style = \"text-align: right;\">34</td><td style = \"text-align: left;\">No</td><td style = \"text-align: left;\">Travel_Rarely</td><td style = \"text-align: right;\">628</td><td style = \"text-align: left;\">Research &amp; Development</td><td style = \"text-align: right;\">8</td><td style = \"text-align: right;\">3</td><td style = \"text-align: left;\">Medical</td><td style = \"text-align: right;\">1</td><td style = \"text-align: right;\">2068</td><td style = \"text-align: right;\">2</td><td style = \"text-align: left;\">Male</td><td style = \"text-align: right;\">82</td><td style = \"text-align: right;\">4</td><td style = \"text-align: right;\">2</td><td style = \"text-align: left;\">Laboratory Technician</td><td style = \"text-align: right;\">3</td><td style = \"text-align: left;\">Married</td><td style = \"text-align: right;\">4404</td><td style = \"text-align: right;\">10228</td><td style = \"text-align: right;\">2</td><td style = \"text-align: left;\">Y</td><td style = \"text-align: left;\">No</td><td style = \"text-align: right;\">12</td><td style = \"text-align: right;\">3</td><td style = \"text-align: right;\">1</td><td style = \"text-align: right;\">80</td><td style = \"text-align: right;\">0</td><td style = \"text-align: right;\">6</td><td style = \"text-align: right;\">3</td><td style = \"text-align: right;\">4</td><td style = \"text-align: right;\">4</td><td style = \"text-align: right;\">3</td><td style = \"text-align: right;\">1</td><td style = \"text-align: right;\">2</td></tr></tbody></table></div>"
      ],
      "text/latex": [
       "\\begin{tabular}{r|ccccccccccccccccccccccccccccccccccc}\n",
       "\t& Age & Attrition & BusinessTravel & DailyRate & Department & DistanceFromHome & Education & EducationField & EmployeeCount & EmployeeNumber & EnvironmentSatisfaction & Gender & HourlyRate & JobInvolvement & JobLevel & JobRole & JobSatisfaction & MaritalStatus & MonthlyIncome & MonthlyRate & NumCompaniesWorked & Over18 & OverTime & PercentSalaryHike & PerformanceRating & RelationshipSatisfaction & StandardHours & StockOptionLevel & TotalWorkingYears & TrainingTimesLastYear & WorkLifeBalance & YearsAtCompany & YearsInCurrentRole & YearsSinceLastPromotion & YearsWithCurrManager\\\\\n",
       "\t\\hline\n",
       "\t& Int64 & String3 & String31? & Int64 & String31 & Int64 & Int64 & String31 & Int64 & Int64 & Int64 & String7 & Int64 & Int64 & Int64 & String31? & Int64 & String15? & Int64 & Int64 & Int64 & String3 & String3 & Int64 & Int64 & Int64 & Int64 & Int64 & Int64 & Int64 & Int64 & Int64 & Int64 & Int64 & Int64\\\\\n",
       "\t\\hline\n",
       "\t1 & 41 & Yes & Travel\\_Rarely & 1102 & Sales & 1 & 2 & Life Sciences & 1 & 1 & 2 & Female & 94 & 3 & 2 & Sales Executive & 4 & Single & 5993 & 19479 & 8 & Y & Yes & 11 & 3 & 1 & 80 & 0 & 8 & 0 & 1 & 6 & 4 & 0 & 5 \\\\\n",
       "\t2 & 49 & No & Travel\\_Frequently & 279 & Research \\& Development & 8 & 1 & Life Sciences & 1 & 2 & 3 & Male & 61 & 2 & 2 & Research Scientist & 2 & Married & 5130 & 24907 & 1 & Y & No & 23 & 4 & 4 & 80 & 1 & 10 & 3 & 3 & 10 & 7 & 1 & 7 \\\\\n",
       "\t3 & 37 & Yes & \\emph{missing} & 1373 & Research \\& Development & 2 & 2 & Other & 1 & 4 & 4 & Male & 92 & 2 & 1 & \\emph{missing} & 3 & Single & 2090 & 2396 & 6 & Yes & Y & 15 & 3 & 2 & 80 & 0 & 7 & 3 & 3 & 0 & 0 & 0 & 0 \\\\\n",
       "\t4 & 33 & No & Travel\\_Frequently & 1392 & Research \\& Development & 3 & 4 & Life Sciences & 1 & 5 & 4 & Female & 56 & 3 & 1 & Research Scientist & 3 & Married & 2909 & 23159 & 1 & Y & Y & 11 & 3 & 3 & 80 & 0 & 8 & 3 & 3 & 8 & 7 & 3 & 0 \\\\\n",
       "\t5 & 27 & No & Travel\\_Rarely & 591 & Research \\& Development & 2 & 1 & Medical & 1 & 7 & 1 & Male & 40 & 3 & 1 & Laboratory Technician & 2 & Married & 3468 & 16632 & 9 & Yes & N & 12 & 3 & 4 & 80 & 1 & 6 & 3 & 3 & 2 & 2 & 2 & 2 \\\\\n",
       "\t6 & 32 & No & Travel\\_Frequently & 1005 & Research \\& Development & 2 & 2 & Life Sciences & 1 & 8 & 4 & Male & 79 & 3 & 1 & Laboratory Technician & 4 & Single & 3068 & 11864 & 0 & Y & No & 13 & 3 & 3 & 80 & 0 & 8 & 2 & 2 & 7 & 7 & 3 & 6 \\\\\n",
       "\t7 & 59 & No & Travel\\_Rarely & 1324 & Research \\& Development & 3 & 3 & Medical & 1 & 10 & 3 & Female & 81 & 4 & 1 & Laboratory Technician & 1 & Married & 2670 & 9964 & 4 & Y & Yes & 20 & 4 & 1 & 80 & 3 & 12 & 3 & 2 & 1 & 0 & 0 & 0 \\\\\n",
       "\t8 & 30 & No & Travel\\_Rarely & 1358 & Research \\& Development & 24 & 1 & Life Sciences & 1 & 11 & 4 & Male & 67 & 3 & 1 & Laboratory Technician & 3 & \\emph{missing} & 2693 & 13335 & 1 & Y & No & 22 & 4 & 2 & 80 & 1 & 1 & 2 & 3 & 1 & 0 & 0 & 0 \\\\\n",
       "\t9 & 38 & No & Travel\\_Frequently & 216 & Research \\& Development & 23 & 3 & Life Sciences & 1 & 12 & 4 & Male & 44 & 2 & 3 & Manufacturing Director & 3 & Single & 9526 & 8787 & 0 & Y & No & 21 & 4 & 2 & 80 & 0 & 10 & 2 & 3 & 9 & 7 & 1 & 8 \\\\\n",
       "\t10 & 36 & No & Travel\\_Rarely & 1299 & Research \\& Development & 27 & 3 & Medical & 1 & 13 & 3 & Male & 94 & 3 & 2 & Healthcare Representative & 3 & Married & 5237 & 16577 & 6 & Y & No & 13 & 3 & 2 & 80 & 2 & 17 & 3 & 2 & 7 & 7 & 7 & 7 \\\\\n",
       "\t11 & 35 & No & Travel\\_Rarely & 809 & Research \\& Development & 16 & 3 & Medical & 1 & 14 & 1 & Male & 84 & 4 & 1 & Laboratory Technician & 2 & Married & 2426 & 16479 & 0 & Y & No & 13 & 3 & 3 & 80 & 1 & 6 & 5 & 3 & 5 & 4 & 0 & 3 \\\\\n",
       "\t12 & 29 & No & Travel\\_Rarely & 153 & Research \\& Development & 15 & 2 & Life Sciences & 1 & 15 & 4 & Female & 49 & 2 & 2 & Laboratory Technician & 3 & Single & 4193 & 12682 & 0 & Y & Yes & 12 & 3 & 4 & 80 & 0 & 10 & 3 & 3 & 9 & 5 & 0 & 8 \\\\\n",
       "\t13 & 31 & No & Travel\\_Rarely & 670 & Research \\& Development & 26 & 1 & Life Sciences & 1 & 16 & 1 & Male & 31 & 3 & 1 & Research Scientist & 3 & Divorced & 2911 & 15170 & 1 & Y & No & 17 & 3 & 4 & 80 & 1 & 5 & 1 & 2 & 5 & 2 & 4 & 3 \\\\\n",
       "\t14 & 34 & No & Travel\\_Rarely & 1346 & Research \\& Development & 19 & 2 & Medical & 1 & 18 & 2 & Male & 93 & 3 & 1 & Laboratory Technician & 4 & Divorced & 2661 & 8758 & 0 & Y & No & 11 & 3 & 3 & 80 & 1 & 3 & 2 & 3 & 2 & 2 & 1 & 2 \\\\\n",
       "\t15 & 28 & Yes & Travel\\_Rarely & 103 & Research \\& Development & 24 & 3 & Life Sciences & 1 & 19 & 3 & Male & 50 & 2 & 1 & Laboratory Technician & 3 & Single & 2028 & 12947 & 5 & Y & Yes & 14 & 3 & 2 & 80 & 0 & 6 & 4 & 3 & 4 & 2 & 0 & 3 \\\\\n",
       "\t16 & 29 & No & Travel\\_Rarely & 1389 & Research \\& Development & 21 & 4 & Life Sciences & 1 & 20 & 2 & Female & 51 & 4 & 3 & Manufacturing Director & 1 & Divorced & 9980 & 10195 & 1 & Y & No & 11 & 3 & 3 & 80 & 1 & 10 & 1 & 3 & 10 & 9 & 8 & 8 \\\\\n",
       "\t17 & 32 & No & Travel\\_Rarely & 334 & Research \\& Development & 5 & 2 & Life Sciences & 1 & 21 & 1 & Male & 80 & 4 & 1 & Research Scientist & 2 & Divorced & 3298 & 15053 & 0 & Y & Yes & 12 & 3 & 4 & 80 & 2 & 7 & 5 & 2 & 6 & 2 & 0 & 5 \\\\\n",
       "\t18 & 22 & No & Non-Travel & 1123 & Research \\& Development & 16 & 2 & Medical & 1 & 22 & 4 & Male & 96 & 4 & 1 & Laboratory Technician & 4 & Divorced & 2935 & 7324 & 1 & Y & Yes & 13 & 3 & 2 & 80 & 2 & 1 & 2 & 2 & 1 & 0 & 0 & 0 \\\\\n",
       "\t19 & 53 & No & Travel\\_Rarely & 1219 & Sales & 2 & 4 & Life Sciences & 1 & 23 & 1 & Female & 78 & 2 & 4 & Manager & 4 & Married & 15427 & 22021 & 2 & Y & No & 16 & 3 & 3 & 80 & 0 & 31 & 3 & 3 & 25 & 8 & 3 & 7 \\\\\n",
       "\t20 & 38 & No & Travel\\_Rarely & 371 & Research \\& Development & 2 & 3 & Life Sciences & 1 & 24 & 4 & Male & 45 & 3 & 1 & Research Scientist & 4 & Single & 3944 & 4306 & 5 & Y & Yes & 11 & 3 & 3 & 80 & 0 & 6 & 3 & 3 & 3 & 2 & 1 & 2 \\\\\n",
       "\t21 & 24 & No & Non-Travel & 673 & Research \\& Development & 11 & 2 & Other & 1 & 26 & 1 & Female & 96 & 4 & 2 & Manufacturing Director & 3 & Divorced & 4011 & 8232 & 0 & Y & No & 18 & 3 & 4 & 80 & 1 & 5 & 5 & 2 & 4 & 2 & 1 & 3 \\\\\n",
       "\t22 & 36 & Yes & Travel\\_Rarely & 1218 & Sales & 9 & 4 & Life Sciences & 1 & 27 & 3 & Male & 82 & 2 & 1 & Sales Representative & 1 & Single & 3407 & 6986 & 7 & Y & No & 23 & 4 & 2 & 80 & 0 & 10 & 4 & 3 & 5 & 3 & 0 & 3 \\\\\n",
       "\t23 & 34 & No & Travel\\_Rarely & 419 & Research \\& Development & 7 & 4 & Life Sciences & 1 & 28 & 1 & Female & 53 & 3 & 3 & Research Director & 2 & Single & 11994 & 21293 & 0 & Y & No & 11 & 3 & 3 & 80 & 0 & 13 & 4 & 3 & 12 & 6 & 2 & 11 \\\\\n",
       "\t24 & 21 & No & Travel\\_Rarely & 391 & Research \\& Development & 15 & 2 & Life Sciences & 1 & 30 & 3 & Male & 96 & 3 & 1 & Research Scientist & 4 & Single & 1232 & 19281 & 1 & Y & No & 14 & 3 & 4 & 80 & 0 & 0 & 6 & 3 & 0 & 0 & 0 & 0 \\\\\n",
       "\t25 & 34 & Yes & Travel\\_Rarely & 699 & Research \\& Development & 6 & 1 & Medical & 1 & 31 & 2 & Male & 83 & 3 & 1 & Research Scientist & 1 & Single & 2960 & 17102 & 2 & Y & No & 11 & 3 & 3 & 80 & 0 & 8 & 2 & 3 & 4 & 2 & 1 & 3 \\\\\n",
       "\t26 & 53 & No & Travel\\_Rarely & 1282 & Research \\& Development & 5 & 3 & Other & 1 & 32 & 3 & Female & 58 & 3 & 5 & Manager & 3 & Divorced & 19094 & 10735 & 4 & Y & No & 11 & 3 & 4 & 80 & 1 & 26 & 3 & 2 & 14 & 13 & 4 & 8 \\\\\n",
       "\t27 & 32 & Yes & Travel\\_Frequently & 1125 & Research \\& Development & 16 & 1 & Life Sciences & 1 & 33 & 2 & Female & 72 & 1 & 1 & Research Scientist & 1 & Single & 3919 & 4681 & 1 & Y & Yes & 22 & 4 & 2 & 80 & 0 & 10 & 5 & 3 & 10 & 2 & 6 & 7 \\\\\n",
       "\t28 & 42 & No & Travel\\_Rarely & 691 & Sales & 8 & 4 & Marketing & 1 & 35 & 3 & Male & 48 & 3 & 2 & Sales Executive & 2 & Married & 6825 & 21173 & 0 & Y & No & 11 & 3 & 4 & 80 & 1 & 10 & 2 & 3 & 9 & 7 & 4 & 2 \\\\\n",
       "\t29 & 44 & No & Travel\\_Rarely & 477 & Research \\& Development & 7 & 4 & Medical & 1 & 36 & 1 & Female & 42 & 2 & 3 & Healthcare Representative & 4 & Married & 10248 & 2094 & 3 & Y & No & 14 & 3 & 4 & 80 & 1 & 24 & 4 & 3 & 22 & 6 & 5 & 17 \\\\\n",
       "\t30 & 46 & No & Travel\\_Rarely & 705 & Sales & 2 & 4 & Marketing & 1 & 38 & 2 & Female & 83 & 3 & 5 & Manager & 1 & Single & 18947 & 22822 & 3 & Y & No & 12 & 3 & 4 & 80 & 0 & 22 & 2 & 2 & 2 & 2 & 2 & 1 \\\\\n",
       "\t$\\dots$ & $\\dots$ & $\\dots$ & $\\dots$ & $\\dots$ & $\\dots$ & $\\dots$ & $\\dots$ & $\\dots$ & $\\dots$ & $\\dots$ & $\\dots$ & $\\dots$ & $\\dots$ & $\\dots$ & $\\dots$ & $\\dots$ & $\\dots$ & $\\dots$ & $\\dots$ & $\\dots$ & $\\dots$ & $\\dots$ & $\\dots$ & $\\dots$ & $\\dots$ & $\\dots$ & $\\dots$ & $\\dots$ & $\\dots$ & $\\dots$ & $\\dots$ & $\\dots$ & $\\dots$ & $\\dots$ & $\\dots$ \\\\\n",
       "\\end{tabular}\n"
      ],
      "text/plain": [
       "\u001b[1m1470×35 DataFrame\u001b[0m\n",
       "\u001b[1m  Row \u001b[0m│\u001b[1m Age   \u001b[0m\u001b[1m Attrition \u001b[0m\u001b[1m BusinessTravel    \u001b[0m\u001b[1m DailyRate \u001b[0m\u001b[1m Department             \u001b[0m\u001b[1m DistanceFromHome \u001b[0m\u001b[1m Education \u001b[0m\u001b[1m EducationField \u001b[0m\u001b[1m EmployeeCount \u001b[0m\u001b[1m EmployeeNumber \u001b[0m\u001b[1m EnvironmentSatisfaction \u001b[0m\u001b[1m Gender  \u001b[0m\u001b[1m HourlyRate \u001b[0m\u001b[1m JobInvolvement \u001b[0m\u001b[1m JobLevel \u001b[0m\u001b[1m JobRole                   \u001b[0m\u001b[1m JobSatisfaction \u001b[0m\u001b[1m MaritalStatus \u001b[0m\u001b[1m MonthlyIncome \u001b[0m\u001b[1m MonthlyRate \u001b[0m\u001b[1m NumCompaniesWorked \u001b[0m\u001b[1m Over18  \u001b[0m\u001b[1m OverTime \u001b[0m\u001b[1m PercentSalaryHike \u001b[0m\u001b[1m PerformanceRating \u001b[0m\u001b[1m RelationshipSatisfaction \u001b[0m\u001b[1m StandardHours \u001b[0m\u001b[1m StockOptionLevel \u001b[0m\u001b[1m TotalWorkingYears \u001b[0m\u001b[1m TrainingTimesLastYear \u001b[0m\u001b[1m WorkLifeBalance \u001b[0m\u001b[1m YearsAtCompany \u001b[0m\u001b[1m YearsInCurrentRole \u001b[0m\u001b[1m YearsSinceLastPromotion \u001b[0m\u001b[1m YearsWithCurrManager \u001b[0m\n",
       "      │\u001b[90m Int64 \u001b[0m\u001b[90m String3   \u001b[0m\u001b[90m String31?         \u001b[0m\u001b[90m Int64     \u001b[0m\u001b[90m String31               \u001b[0m\u001b[90m Int64            \u001b[0m\u001b[90m Int64     \u001b[0m\u001b[90m String31       \u001b[0m\u001b[90m Int64         \u001b[0m\u001b[90m Int64          \u001b[0m\u001b[90m Int64                   \u001b[0m\u001b[90m String7 \u001b[0m\u001b[90m Int64      \u001b[0m\u001b[90m Int64          \u001b[0m\u001b[90m Int64    \u001b[0m\u001b[90m String31?                 \u001b[0m\u001b[90m Int64           \u001b[0m\u001b[90m String15?     \u001b[0m\u001b[90m Int64         \u001b[0m\u001b[90m Int64       \u001b[0m\u001b[90m Int64              \u001b[0m\u001b[90m String3 \u001b[0m\u001b[90m String3  \u001b[0m\u001b[90m Int64             \u001b[0m\u001b[90m Int64             \u001b[0m\u001b[90m Int64                    \u001b[0m\u001b[90m Int64         \u001b[0m\u001b[90m Int64            \u001b[0m\u001b[90m Int64             \u001b[0m\u001b[90m Int64                 \u001b[0m\u001b[90m Int64           \u001b[0m\u001b[90m Int64          \u001b[0m\u001b[90m Int64              \u001b[0m\u001b[90m Int64                   \u001b[0m\u001b[90m Int64                \u001b[0m\n",
       "──────┼─────────────────────────────────────────────────────────────────────────────────────────────────────────────────────────────────────────────────────────────────────────────────────────────────────────────────────────────────────────────────────────────────────────────────────────────────────────────────────────────────────────────────────────────────────────────────────────────────────────────────────────────────────────────────────────────────────────────────────────────────────────────────────────────────────────────────────────────────────────────────────────────────────────\n",
       "    1 │    41  Yes        Travel_Rarely           1102  Sales                                  1          2  Life Sciences               1               1                        2  Female           94               3         2  Sales Executive                          4  Single                  5993        19479                   8  Y        Yes                      11                  3                         1             80                 0                  8                      0                1               6                   4                        0                     5\n",
       "    2 │    49  No         Travel_Frequently        279  Research & Development                 8          1  Life Sciences               1               2                        3  Male             61               2         2  Research Scientist                       2  Married                 5130        24907                   1  Y        No                       23                  4                         4             80                 1                 10                      3                3              10                   7                        1                     7\n",
       "    3 │    37  Yes       \u001b[90m missing           \u001b[0m      1373  Research & Development                 2          2  Other                       1               4                        4  Male             92               2         1 \u001b[90m missing                   \u001b[0m               3  Single                  2090         2396                   6  Yes      Y                        15                  3                         2             80                 0                  7                      3                3               0                   0                        0                     0\n",
       "    4 │    33  No         Travel_Frequently       1392  Research & Development                 3          4  Life Sciences               1               5                        4  Female           56               3         1  Research Scientist                       3  Married                 2909        23159                   1  Y        Y                        11                  3                         3             80                 0                  8                      3                3               8                   7                        3                     0\n",
       "    5 │    27  No         Travel_Rarely            591  Research & Development                 2          1  Medical                     1               7                        1  Male             40               3         1  Laboratory Technician                    2  Married                 3468        16632                   9  Yes      N                        12                  3                         4             80                 1                  6                      3                3               2                   2                        2                     2\n",
       "    6 │    32  No         Travel_Frequently       1005  Research & Development                 2          2  Life Sciences               1               8                        4  Male             79               3         1  Laboratory Technician                    4  Single                  3068        11864                   0  Y        No                       13                  3                         3             80                 0                  8                      2                2               7                   7                        3                     6\n",
       "    7 │    59  No         Travel_Rarely           1324  Research & Development                 3          3  Medical                     1              10                        3  Female           81               4         1  Laboratory Technician                    1  Married                 2670         9964                   4  Y        Yes                      20                  4                         1             80                 3                 12                      3                2               1                   0                        0                     0\n",
       "    8 │    30  No         Travel_Rarely           1358  Research & Development                24          1  Life Sciences               1              11                        4  Male             67               3         1  Laboratory Technician                    3 \u001b[90m missing       \u001b[0m          2693        13335                   1  Y        No                       22                  4                         2             80                 1                  1                      2                3               1                   0                        0                     0\n",
       "    9 │    38  No         Travel_Frequently        216  Research & Development                23          3  Life Sciences               1              12                        4  Male             44               2         3  Manufacturing Director                   3  Single                  9526         8787                   0  Y        No                       21                  4                         2             80                 0                 10                      2                3               9                   7                        1                     8\n",
       "   10 │    36  No         Travel_Rarely           1299  Research & Development                27          3  Medical                     1              13                        3  Male             94               3         2  Healthcare Representative                3  Married                 5237        16577                   6  Y        No                       13                  3                         2             80                 2                 17                      3                2               7                   7                        7                     7\n",
       "   11 │    35  No         Travel_Rarely            809  Research & Development                16          3  Medical                     1              14                        1  Male             84               4         1  Laboratory Technician                    2  Married                 2426        16479                   0  Y        No                       13                  3                         3             80                 1                  6                      5                3               5                   4                        0                     3\n",
       "  ⋮   │   ⋮        ⋮              ⋮              ⋮                ⋮                    ⋮              ⋮            ⋮               ⋮              ⋮                    ⋮                ⋮         ⋮             ⋮            ⋮                  ⋮                     ⋮               ⋮              ⋮             ⋮               ⋮              ⋮        ⋮              ⋮                  ⋮                     ⋮                    ⋮               ⋮                  ⋮                    ⋮                   ⋮               ⋮                 ⋮                      ⋮                      ⋮\n",
       " 1461 │    29  No         Travel_Rarely            468  Research & Development                28          4  Medical                     1            2054                        4  Female           73               2         1  Research Scientist                       1  Single                  3785         8489                   1  Y        No                       14                  3                         2             80                 0                  5                      3                1               5                   4                        0                     4\n",
       " 1462 │    50  Yes        Travel_Rarely            410  Sales                                 28          3  Marketing                   1            2055                        4  Male             39               2         3  Sales Executive                          1  Divorced               10854        16586                   4  Y        Yes                      13                  3                         2             80                 1                 20                      3                3               3                   2                        2                     0\n",
       " 1463 │    39  No         Travel_Rarely            722  Sales                                 24          1  Marketing                   1            2056                        2  Female           60               2         4  Sales Executive                          4  Married                12031         8828                   0  Y        No                       11                  3                         1             80                 1                 21                      2                2              20                   9                        9                     6\n",
       " 1464 │    31  No         Non-Travel               325  Research & Development                 5          3  Medical                     1            2057                        2  Male             74               3         2  Manufacturing Director                   1  Single                  9936         3787                   0  Y        No                       19                  3                         2             80                 0                 10                      2                3               9                   4                        1                     7\n",
       " 1465 │    26  No         Travel_Rarely           1167  Sales                                  5          3  Other                       1            2060                        4  Female           30               2         1  Sales Representative                     3  Single                  2966        21378                   0  Y        No                       18                  3                         4             80                 0                  5                      2                3               4                   2                        0                     0\n",
       " 1466 │    36  No         Travel_Frequently        884  Research & Development                23          2  Medical                     1            2061                        3  Male             41               4         2  Laboratory Technician                    4  Married                 2571        12290                   4  Y        No                       17                  3                         3             80                 1                 17                      3                3               5                   2                        0                     3\n",
       " 1467 │    39  No         Travel_Rarely            613  Research & Development                 6          1  Medical                     1            2062                        4  Male             42               2         3  Healthcare Representative                1  Married                 9991        21457                   4  Y        No                       15                  3                         1             80                 1                  9                      5                3               7                   7                        1                     7\n",
       " 1468 │    27  No         Travel_Rarely            155  Research & Development                 4          3  Life Sciences               1            2064                        2  Male             87               4         2  Manufacturing Director                   2  Married                 6142         5174                   1  Y        Yes                      20                  4                         2             80                 1                  6                      0                3               6                   2                        0                     3\n",
       " 1469 │    49  No         Travel_Frequently       1023  Sales                                  2          3  Medical                     1            2065                        4  Male             63               2         2  Sales Executive                          2  Married                 5390        13243                   2  Y        No                       14                  3                         4             80                 0                 17                      3                2               9                   6                        0                     8\n",
       " 1470 │    34  No         Travel_Rarely            628  Research & Development                 8          3  Medical                     1            2068                        2  Male             82               4         2  Laboratory Technician                    3  Married                 4404        10228                   2  Y        No                       12                  3                         1             80                 0                  6                      3                4               4                   3                        1                     2\n",
       "\u001b[36m                                                                                                                                                                                                                                                                                                                                                                                                                                                                                                                                                                                               1449 rows omitted\u001b[0m"
      ]
     },
     "execution_count": 2,
     "metadata": {},
     "output_type": "execute_result"
    }
   ],
   "source": [
    "using CSV\n",
    "using DataFrames\n",
    "df=CSV.read(\"HR-Employee-Attrition.csv\",DataFrame)"
   ]
  },
  {
   "cell_type": "markdown",
   "metadata": {},
   "source": [
    "#### 3 - Imprime los primeros 3 y últimos 3 registros de _df_ (1 pt)."
   ]
  },
  {
   "cell_type": "code",
   "execution_count": 3,
   "metadata": {},
   "outputs": [
    {
     "data": {
      "text/html": [
       "<div><div style = \"float: left;\"><span>3×35 DataFrame</span></div><div style = \"clear: both;\"></div></div><div class = \"data-frame\" style = \"overflow-x: scroll;\"><table class = \"data-frame\" style = \"margin-bottom: 6px;\"><thead><tr class = \"header\"><th class = \"rowNumber\" style = \"font-weight: bold; text-align: right;\">Row</th><th style = \"text-align: left;\">Age</th><th style = \"text-align: left;\">Attrition</th><th style = \"text-align: left;\">BusinessTravel</th><th style = \"text-align: left;\">DailyRate</th><th style = \"text-align: left;\">Department</th><th style = \"text-align: left;\">DistanceFromHome</th><th style = \"text-align: left;\">Education</th><th style = \"text-align: left;\">EducationField</th><th style = \"text-align: left;\">EmployeeCount</th><th style = \"text-align: left;\">EmployeeNumber</th><th style = \"text-align: left;\">EnvironmentSatisfaction</th><th style = \"text-align: left;\">Gender</th><th style = \"text-align: left;\">HourlyRate</th><th style = \"text-align: left;\">JobInvolvement</th><th style = \"text-align: left;\">JobLevel</th><th style = \"text-align: left;\">JobRole</th><th style = \"text-align: left;\">JobSatisfaction</th><th style = \"text-align: left;\">MaritalStatus</th><th style = \"text-align: left;\">MonthlyIncome</th><th style = \"text-align: left;\">MonthlyRate</th><th style = \"text-align: left;\">NumCompaniesWorked</th><th style = \"text-align: left;\">Over18</th><th style = \"text-align: left;\">OverTime</th><th style = \"text-align: left;\">PercentSalaryHike</th><th style = \"text-align: left;\">PerformanceRating</th><th style = \"text-align: left;\">RelationshipSatisfaction</th><th style = \"text-align: left;\">StandardHours</th><th style = \"text-align: left;\">StockOptionLevel</th><th style = \"text-align: left;\">TotalWorkingYears</th><th style = \"text-align: left;\">TrainingTimesLastYear</th><th style = \"text-align: left;\">WorkLifeBalance</th><th style = \"text-align: left;\">YearsAtCompany</th><th style = \"text-align: left;\">YearsInCurrentRole</th><th style = \"text-align: left;\">YearsSinceLastPromotion</th><th style = \"text-align: left;\">YearsWithCurrManager</th></tr><tr class = \"subheader headerLastRow\"><th class = \"rowNumber\" style = \"font-weight: bold; text-align: right;\"></th><th title = \"Int64\" style = \"text-align: left;\">Int64</th><th title = \"String3\" style = \"text-align: left;\">String3</th><th title = \"Union{Missing, String31}\" style = \"text-align: left;\">String31?</th><th title = \"Int64\" style = \"text-align: left;\">Int64</th><th title = \"String31\" style = \"text-align: left;\">String31</th><th title = \"Int64\" style = \"text-align: left;\">Int64</th><th title = \"Int64\" style = \"text-align: left;\">Int64</th><th title = \"String31\" style = \"text-align: left;\">String31</th><th title = \"Int64\" style = \"text-align: left;\">Int64</th><th title = \"Int64\" style = \"text-align: left;\">Int64</th><th title = \"Int64\" style = \"text-align: left;\">Int64</th><th title = \"String7\" style = \"text-align: left;\">String7</th><th title = \"Int64\" style = \"text-align: left;\">Int64</th><th title = \"Int64\" style = \"text-align: left;\">Int64</th><th title = \"Int64\" style = \"text-align: left;\">Int64</th><th title = \"Union{Missing, String31}\" style = \"text-align: left;\">String31?</th><th title = \"Int64\" style = \"text-align: left;\">Int64</th><th title = \"Union{Missing, String15}\" style = \"text-align: left;\">String15?</th><th title = \"Int64\" style = \"text-align: left;\">Int64</th><th title = \"Int64\" style = \"text-align: left;\">Int64</th><th title = \"Int64\" style = \"text-align: left;\">Int64</th><th title = \"String3\" style = \"text-align: left;\">String3</th><th title = \"String3\" style = \"text-align: left;\">String3</th><th title = \"Int64\" style = \"text-align: left;\">Int64</th><th title = \"Int64\" style = \"text-align: left;\">Int64</th><th title = \"Int64\" style = \"text-align: left;\">Int64</th><th title = \"Int64\" style = \"text-align: left;\">Int64</th><th title = \"Int64\" style = \"text-align: left;\">Int64</th><th title = \"Int64\" style = \"text-align: left;\">Int64</th><th title = \"Int64\" style = \"text-align: left;\">Int64</th><th title = \"Int64\" style = \"text-align: left;\">Int64</th><th title = \"Int64\" style = \"text-align: left;\">Int64</th><th title = \"Int64\" style = \"text-align: left;\">Int64</th><th title = \"Int64\" style = \"text-align: left;\">Int64</th><th title = \"Int64\" style = \"text-align: left;\">Int64</th></tr></thead><tbody><tr><td class = \"rowNumber\" style = \"font-weight: bold; text-align: right;\">1</td><td style = \"text-align: right;\">41</td><td style = \"text-align: left;\">Yes</td><td style = \"text-align: left;\">Travel_Rarely</td><td style = \"text-align: right;\">1102</td><td style = \"text-align: left;\">Sales</td><td style = \"text-align: right;\">1</td><td style = \"text-align: right;\">2</td><td style = \"text-align: left;\">Life Sciences</td><td style = \"text-align: right;\">1</td><td style = \"text-align: right;\">1</td><td style = \"text-align: right;\">2</td><td style = \"text-align: left;\">Female</td><td style = \"text-align: right;\">94</td><td style = \"text-align: right;\">3</td><td style = \"text-align: right;\">2</td><td style = \"text-align: left;\">Sales Executive</td><td style = \"text-align: right;\">4</td><td style = \"text-align: left;\">Single</td><td style = \"text-align: right;\">5993</td><td style = \"text-align: right;\">19479</td><td style = \"text-align: right;\">8</td><td style = \"text-align: left;\">Y</td><td style = \"text-align: left;\">Yes</td><td style = \"text-align: right;\">11</td><td style = \"text-align: right;\">3</td><td style = \"text-align: right;\">1</td><td style = \"text-align: right;\">80</td><td style = \"text-align: right;\">0</td><td style = \"text-align: right;\">8</td><td style = \"text-align: right;\">0</td><td style = \"text-align: right;\">1</td><td style = \"text-align: right;\">6</td><td style = \"text-align: right;\">4</td><td style = \"text-align: right;\">0</td><td style = \"text-align: right;\">5</td></tr><tr><td class = \"rowNumber\" style = \"font-weight: bold; text-align: right;\">2</td><td style = \"text-align: right;\">49</td><td style = \"text-align: left;\">No</td><td style = \"text-align: left;\">Travel_Frequently</td><td style = \"text-align: right;\">279</td><td style = \"text-align: left;\">Research &amp; Development</td><td style = \"text-align: right;\">8</td><td style = \"text-align: right;\">1</td><td style = \"text-align: left;\">Life Sciences</td><td style = \"text-align: right;\">1</td><td style = \"text-align: right;\">2</td><td style = \"text-align: right;\">3</td><td style = \"text-align: left;\">Male</td><td style = \"text-align: right;\">61</td><td style = \"text-align: right;\">2</td><td style = \"text-align: right;\">2</td><td style = \"text-align: left;\">Research Scientist</td><td style = \"text-align: right;\">2</td><td style = \"text-align: left;\">Married</td><td style = \"text-align: right;\">5130</td><td style = \"text-align: right;\">24907</td><td style = \"text-align: right;\">1</td><td style = \"text-align: left;\">Y</td><td style = \"text-align: left;\">No</td><td style = \"text-align: right;\">23</td><td style = \"text-align: right;\">4</td><td style = \"text-align: right;\">4</td><td style = \"text-align: right;\">80</td><td style = \"text-align: right;\">1</td><td style = \"text-align: right;\">10</td><td style = \"text-align: right;\">3</td><td style = \"text-align: right;\">3</td><td style = \"text-align: right;\">10</td><td style = \"text-align: right;\">7</td><td style = \"text-align: right;\">1</td><td style = \"text-align: right;\">7</td></tr><tr><td class = \"rowNumber\" style = \"font-weight: bold; text-align: right;\">3</td><td style = \"text-align: right;\">37</td><td style = \"text-align: left;\">Yes</td><td style = \"font-style: italic; text-align: left;\">missing</td><td style = \"text-align: right;\">1373</td><td style = \"text-align: left;\">Research &amp; Development</td><td style = \"text-align: right;\">2</td><td style = \"text-align: right;\">2</td><td style = \"text-align: left;\">Other</td><td style = \"text-align: right;\">1</td><td style = \"text-align: right;\">4</td><td style = \"text-align: right;\">4</td><td style = \"text-align: left;\">Male</td><td style = \"text-align: right;\">92</td><td style = \"text-align: right;\">2</td><td style = \"text-align: right;\">1</td><td style = \"font-style: italic; text-align: left;\">missing</td><td style = \"text-align: right;\">3</td><td style = \"text-align: left;\">Single</td><td style = \"text-align: right;\">2090</td><td style = \"text-align: right;\">2396</td><td style = \"text-align: right;\">6</td><td style = \"text-align: left;\">Yes</td><td style = \"text-align: left;\">Y</td><td style = \"text-align: right;\">15</td><td style = \"text-align: right;\">3</td><td style = \"text-align: right;\">2</td><td style = \"text-align: right;\">80</td><td style = \"text-align: right;\">0</td><td style = \"text-align: right;\">7</td><td style = \"text-align: right;\">3</td><td style = \"text-align: right;\">3</td><td style = \"text-align: right;\">0</td><td style = \"text-align: right;\">0</td><td style = \"text-align: right;\">0</td><td style = \"text-align: right;\">0</td></tr></tbody></table></div>"
      ],
      "text/latex": [
       "\\begin{tabular}{r|ccccccccccccccccccccccccccccccccccc}\n",
       "\t& Age & Attrition & BusinessTravel & DailyRate & Department & DistanceFromHome & Education & EducationField & EmployeeCount & EmployeeNumber & EnvironmentSatisfaction & Gender & HourlyRate & JobInvolvement & JobLevel & JobRole & JobSatisfaction & MaritalStatus & MonthlyIncome & MonthlyRate & NumCompaniesWorked & Over18 & OverTime & PercentSalaryHike & PerformanceRating & RelationshipSatisfaction & StandardHours & StockOptionLevel & TotalWorkingYears & TrainingTimesLastYear & WorkLifeBalance & YearsAtCompany & YearsInCurrentRole & YearsSinceLastPromotion & YearsWithCurrManager\\\\\n",
       "\t\\hline\n",
       "\t& Int64 & String3 & String31? & Int64 & String31 & Int64 & Int64 & String31 & Int64 & Int64 & Int64 & String7 & Int64 & Int64 & Int64 & String31? & Int64 & String15? & Int64 & Int64 & Int64 & String3 & String3 & Int64 & Int64 & Int64 & Int64 & Int64 & Int64 & Int64 & Int64 & Int64 & Int64 & Int64 & Int64\\\\\n",
       "\t\\hline\n",
       "\t1 & 41 & Yes & Travel\\_Rarely & 1102 & Sales & 1 & 2 & Life Sciences & 1 & 1 & 2 & Female & 94 & 3 & 2 & Sales Executive & 4 & Single & 5993 & 19479 & 8 & Y & Yes & 11 & 3 & 1 & 80 & 0 & 8 & 0 & 1 & 6 & 4 & 0 & 5 \\\\\n",
       "\t2 & 49 & No & Travel\\_Frequently & 279 & Research \\& Development & 8 & 1 & Life Sciences & 1 & 2 & 3 & Male & 61 & 2 & 2 & Research Scientist & 2 & Married & 5130 & 24907 & 1 & Y & No & 23 & 4 & 4 & 80 & 1 & 10 & 3 & 3 & 10 & 7 & 1 & 7 \\\\\n",
       "\t3 & 37 & Yes & \\emph{missing} & 1373 & Research \\& Development & 2 & 2 & Other & 1 & 4 & 4 & Male & 92 & 2 & 1 & \\emph{missing} & 3 & Single & 2090 & 2396 & 6 & Yes & Y & 15 & 3 & 2 & 80 & 0 & 7 & 3 & 3 & 0 & 0 & 0 & 0 \\\\\n",
       "\\end{tabular}\n"
      ],
      "text/plain": [
       "\u001b[1m3×35 DataFrame\u001b[0m\n",
       "\u001b[1m Row \u001b[0m│\u001b[1m Age   \u001b[0m\u001b[1m Attrition \u001b[0m\u001b[1m BusinessTravel    \u001b[0m\u001b[1m DailyRate \u001b[0m\u001b[1m Department             \u001b[0m\u001b[1m DistanceFromHome \u001b[0m\u001b[1m Education \u001b[0m\u001b[1m EducationField \u001b[0m\u001b[1m EmployeeCount \u001b[0m\u001b[1m EmployeeNumber \u001b[0m\u001b[1m EnvironmentSatisfaction \u001b[0m\u001b[1m Gender  \u001b[0m\u001b[1m HourlyRate \u001b[0m\u001b[1m JobInvolvement \u001b[0m\u001b[1m JobLevel \u001b[0m\u001b[1m JobRole            \u001b[0m\u001b[1m JobSatisfaction \u001b[0m\u001b[1m MaritalStatus \u001b[0m\u001b[1m MonthlyIncome \u001b[0m\u001b[1m MonthlyRate \u001b[0m\u001b[1m NumCompaniesWorked \u001b[0m\u001b[1m Over18  \u001b[0m\u001b[1m OverTime \u001b[0m\u001b[1m PercentSalaryHike \u001b[0m\u001b[1m PerformanceRating \u001b[0m\u001b[1m RelationshipSatisfaction \u001b[0m\u001b[1m StandardHours \u001b[0m\u001b[1m StockOptionLevel \u001b[0m\u001b[1m TotalWorkingYears \u001b[0m\u001b[1m TrainingTimesLastYear \u001b[0m\u001b[1m WorkLifeBalance \u001b[0m\u001b[1m YearsAtCompany \u001b[0m\u001b[1m YearsInCurrentRole \u001b[0m\u001b[1m YearsSinceLastPromotion \u001b[0m\u001b[1m YearsWithCurrManager \u001b[0m\n",
       "     │\u001b[90m Int64 \u001b[0m\u001b[90m String3   \u001b[0m\u001b[90m String31?         \u001b[0m\u001b[90m Int64     \u001b[0m\u001b[90m String31               \u001b[0m\u001b[90m Int64            \u001b[0m\u001b[90m Int64     \u001b[0m\u001b[90m String31       \u001b[0m\u001b[90m Int64         \u001b[0m\u001b[90m Int64          \u001b[0m\u001b[90m Int64                   \u001b[0m\u001b[90m String7 \u001b[0m\u001b[90m Int64      \u001b[0m\u001b[90m Int64          \u001b[0m\u001b[90m Int64    \u001b[0m\u001b[90m String31?          \u001b[0m\u001b[90m Int64           \u001b[0m\u001b[90m String15?     \u001b[0m\u001b[90m Int64         \u001b[0m\u001b[90m Int64       \u001b[0m\u001b[90m Int64              \u001b[0m\u001b[90m String3 \u001b[0m\u001b[90m String3  \u001b[0m\u001b[90m Int64             \u001b[0m\u001b[90m Int64             \u001b[0m\u001b[90m Int64                    \u001b[0m\u001b[90m Int64         \u001b[0m\u001b[90m Int64            \u001b[0m\u001b[90m Int64             \u001b[0m\u001b[90m Int64                 \u001b[0m\u001b[90m Int64           \u001b[0m\u001b[90m Int64          \u001b[0m\u001b[90m Int64              \u001b[0m\u001b[90m Int64                   \u001b[0m\u001b[90m Int64                \u001b[0m\n",
       "─────┼──────────────────────────────────────────────────────────────────────────────────────────────────────────────────────────────────────────────────────────────────────────────────────────────────────────────────────────────────────────────────────────────────────────────────────────────────────────────────────────────────────────────────────────────────────────────────────────────────────────────────────────────────────────────────────────────────────────────────────────────────────────────────────────────────────────────────────────────────────────────────────────────────\n",
       "   1 │    41  Yes        Travel_Rarely           1102  Sales                                  1          2  Life Sciences               1               1                        2  Female           94               3         2  Sales Executive                   4  Single                  5993        19479                   8  Y        Yes                      11                  3                         1             80                 0                  8                      0                1               6                   4                        0                     5\n",
       "   2 │    49  No         Travel_Frequently        279  Research & Development                 8          1  Life Sciences               1               2                        3  Male             61               2         2  Research Scientist                2  Married                 5130        24907                   1  Y        No                       23                  4                         4             80                 1                 10                      3                3              10                   7                        1                     7\n",
       "   3 │    37  Yes       \u001b[90m missing           \u001b[0m      1373  Research & Development                 2          2  Other                       1               4                        4  Male             92               2         1 \u001b[90m missing            \u001b[0m               3  Single                  2090         2396                   6  Yes      Y                        15                  3                         2             80                 0                  7                      3                3               0                   0                        0                     0"
      ]
     },
     "execution_count": 3,
     "metadata": {},
     "output_type": "execute_result"
    }
   ],
   "source": [
    "first(df,3)"
   ]
  },
  {
   "cell_type": "code",
   "execution_count": 4,
   "metadata": {},
   "outputs": [
    {
     "data": {
      "text/html": [
       "<div><div style = \"float: left;\"><span>3×35 DataFrame</span></div><div style = \"clear: both;\"></div></div><div class = \"data-frame\" style = \"overflow-x: scroll;\"><table class = \"data-frame\" style = \"margin-bottom: 6px;\"><thead><tr class = \"header\"><th class = \"rowNumber\" style = \"font-weight: bold; text-align: right;\">Row</th><th style = \"text-align: left;\">Age</th><th style = \"text-align: left;\">Attrition</th><th style = \"text-align: left;\">BusinessTravel</th><th style = \"text-align: left;\">DailyRate</th><th style = \"text-align: left;\">Department</th><th style = \"text-align: left;\">DistanceFromHome</th><th style = \"text-align: left;\">Education</th><th style = \"text-align: left;\">EducationField</th><th style = \"text-align: left;\">EmployeeCount</th><th style = \"text-align: left;\">EmployeeNumber</th><th style = \"text-align: left;\">EnvironmentSatisfaction</th><th style = \"text-align: left;\">Gender</th><th style = \"text-align: left;\">HourlyRate</th><th style = \"text-align: left;\">JobInvolvement</th><th style = \"text-align: left;\">JobLevel</th><th style = \"text-align: left;\">JobRole</th><th style = \"text-align: left;\">JobSatisfaction</th><th style = \"text-align: left;\">MaritalStatus</th><th style = \"text-align: left;\">MonthlyIncome</th><th style = \"text-align: left;\">MonthlyRate</th><th style = \"text-align: left;\">NumCompaniesWorked</th><th style = \"text-align: left;\">Over18</th><th style = \"text-align: left;\">OverTime</th><th style = \"text-align: left;\">PercentSalaryHike</th><th style = \"text-align: left;\">PerformanceRating</th><th style = \"text-align: left;\">RelationshipSatisfaction</th><th style = \"text-align: left;\">StandardHours</th><th style = \"text-align: left;\">StockOptionLevel</th><th style = \"text-align: left;\">TotalWorkingYears</th><th style = \"text-align: left;\">TrainingTimesLastYear</th><th style = \"text-align: left;\">WorkLifeBalance</th><th style = \"text-align: left;\">YearsAtCompany</th><th style = \"text-align: left;\">YearsInCurrentRole</th><th style = \"text-align: left;\">YearsSinceLastPromotion</th><th style = \"text-align: left;\">YearsWithCurrManager</th></tr><tr class = \"subheader headerLastRow\"><th class = \"rowNumber\" style = \"font-weight: bold; text-align: right;\"></th><th title = \"Int64\" style = \"text-align: left;\">Int64</th><th title = \"String3\" style = \"text-align: left;\">String3</th><th title = \"Union{Missing, String31}\" style = \"text-align: left;\">String31?</th><th title = \"Int64\" style = \"text-align: left;\">Int64</th><th title = \"String31\" style = \"text-align: left;\">String31</th><th title = \"Int64\" style = \"text-align: left;\">Int64</th><th title = \"Int64\" style = \"text-align: left;\">Int64</th><th title = \"String31\" style = \"text-align: left;\">String31</th><th title = \"Int64\" style = \"text-align: left;\">Int64</th><th title = \"Int64\" style = \"text-align: left;\">Int64</th><th title = \"Int64\" style = \"text-align: left;\">Int64</th><th title = \"String7\" style = \"text-align: left;\">String7</th><th title = \"Int64\" style = \"text-align: left;\">Int64</th><th title = \"Int64\" style = \"text-align: left;\">Int64</th><th title = \"Int64\" style = \"text-align: left;\">Int64</th><th title = \"Union{Missing, String31}\" style = \"text-align: left;\">String31?</th><th title = \"Int64\" style = \"text-align: left;\">Int64</th><th title = \"Union{Missing, String15}\" style = \"text-align: left;\">String15?</th><th title = \"Int64\" style = \"text-align: left;\">Int64</th><th title = \"Int64\" style = \"text-align: left;\">Int64</th><th title = \"Int64\" style = \"text-align: left;\">Int64</th><th title = \"String3\" style = \"text-align: left;\">String3</th><th title = \"String3\" style = \"text-align: left;\">String3</th><th title = \"Int64\" style = \"text-align: left;\">Int64</th><th title = \"Int64\" style = \"text-align: left;\">Int64</th><th title = \"Int64\" style = \"text-align: left;\">Int64</th><th title = \"Int64\" style = \"text-align: left;\">Int64</th><th title = \"Int64\" style = \"text-align: left;\">Int64</th><th title = \"Int64\" style = \"text-align: left;\">Int64</th><th title = \"Int64\" style = \"text-align: left;\">Int64</th><th title = \"Int64\" style = \"text-align: left;\">Int64</th><th title = \"Int64\" style = \"text-align: left;\">Int64</th><th title = \"Int64\" style = \"text-align: left;\">Int64</th><th title = \"Int64\" style = \"text-align: left;\">Int64</th><th title = \"Int64\" style = \"text-align: left;\">Int64</th></tr></thead><tbody><tr><td class = \"rowNumber\" style = \"font-weight: bold; text-align: right;\">1</td><td style = \"text-align: right;\">27</td><td style = \"text-align: left;\">No</td><td style = \"text-align: left;\">Travel_Rarely</td><td style = \"text-align: right;\">155</td><td style = \"text-align: left;\">Research &amp; Development</td><td style = \"text-align: right;\">4</td><td style = \"text-align: right;\">3</td><td style = \"text-align: left;\">Life Sciences</td><td style = \"text-align: right;\">1</td><td style = \"text-align: right;\">2064</td><td style = \"text-align: right;\">2</td><td style = \"text-align: left;\">Male</td><td style = \"text-align: right;\">87</td><td style = \"text-align: right;\">4</td><td style = \"text-align: right;\">2</td><td style = \"text-align: left;\">Manufacturing Director</td><td style = \"text-align: right;\">2</td><td style = \"text-align: left;\">Married</td><td style = \"text-align: right;\">6142</td><td style = \"text-align: right;\">5174</td><td style = \"text-align: right;\">1</td><td style = \"text-align: left;\">Y</td><td style = \"text-align: left;\">Yes</td><td style = \"text-align: right;\">20</td><td style = \"text-align: right;\">4</td><td style = \"text-align: right;\">2</td><td style = \"text-align: right;\">80</td><td style = \"text-align: right;\">1</td><td style = \"text-align: right;\">6</td><td style = \"text-align: right;\">0</td><td style = \"text-align: right;\">3</td><td style = \"text-align: right;\">6</td><td style = \"text-align: right;\">2</td><td style = \"text-align: right;\">0</td><td style = \"text-align: right;\">3</td></tr><tr><td class = \"rowNumber\" style = \"font-weight: bold; text-align: right;\">2</td><td style = \"text-align: right;\">49</td><td style = \"text-align: left;\">No</td><td style = \"text-align: left;\">Travel_Frequently</td><td style = \"text-align: right;\">1023</td><td style = \"text-align: left;\">Sales</td><td style = \"text-align: right;\">2</td><td style = \"text-align: right;\">3</td><td style = \"text-align: left;\">Medical</td><td style = \"text-align: right;\">1</td><td style = \"text-align: right;\">2065</td><td style = \"text-align: right;\">4</td><td style = \"text-align: left;\">Male</td><td style = \"text-align: right;\">63</td><td style = \"text-align: right;\">2</td><td style = \"text-align: right;\">2</td><td style = \"text-align: left;\">Sales Executive</td><td style = \"text-align: right;\">2</td><td style = \"text-align: left;\">Married</td><td style = \"text-align: right;\">5390</td><td style = \"text-align: right;\">13243</td><td style = \"text-align: right;\">2</td><td style = \"text-align: left;\">Y</td><td style = \"text-align: left;\">No</td><td style = \"text-align: right;\">14</td><td style = \"text-align: right;\">3</td><td style = \"text-align: right;\">4</td><td style = \"text-align: right;\">80</td><td style = \"text-align: right;\">0</td><td style = \"text-align: right;\">17</td><td style = \"text-align: right;\">3</td><td style = \"text-align: right;\">2</td><td style = \"text-align: right;\">9</td><td style = \"text-align: right;\">6</td><td style = \"text-align: right;\">0</td><td style = \"text-align: right;\">8</td></tr><tr><td class = \"rowNumber\" style = \"font-weight: bold; text-align: right;\">3</td><td style = \"text-align: right;\">34</td><td style = \"text-align: left;\">No</td><td style = \"text-align: left;\">Travel_Rarely</td><td style = \"text-align: right;\">628</td><td style = \"text-align: left;\">Research &amp; Development</td><td style = \"text-align: right;\">8</td><td style = \"text-align: right;\">3</td><td style = \"text-align: left;\">Medical</td><td style = \"text-align: right;\">1</td><td style = \"text-align: right;\">2068</td><td style = \"text-align: right;\">2</td><td style = \"text-align: left;\">Male</td><td style = \"text-align: right;\">82</td><td style = \"text-align: right;\">4</td><td style = \"text-align: right;\">2</td><td style = \"text-align: left;\">Laboratory Technician</td><td style = \"text-align: right;\">3</td><td style = \"text-align: left;\">Married</td><td style = \"text-align: right;\">4404</td><td style = \"text-align: right;\">10228</td><td style = \"text-align: right;\">2</td><td style = \"text-align: left;\">Y</td><td style = \"text-align: left;\">No</td><td style = \"text-align: right;\">12</td><td style = \"text-align: right;\">3</td><td style = \"text-align: right;\">1</td><td style = \"text-align: right;\">80</td><td style = \"text-align: right;\">0</td><td style = \"text-align: right;\">6</td><td style = \"text-align: right;\">3</td><td style = \"text-align: right;\">4</td><td style = \"text-align: right;\">4</td><td style = \"text-align: right;\">3</td><td style = \"text-align: right;\">1</td><td style = \"text-align: right;\">2</td></tr></tbody></table></div>"
      ],
      "text/latex": [
       "\\begin{tabular}{r|ccccccccccccccccccccccccccccccccccc}\n",
       "\t& Age & Attrition & BusinessTravel & DailyRate & Department & DistanceFromHome & Education & EducationField & EmployeeCount & EmployeeNumber & EnvironmentSatisfaction & Gender & HourlyRate & JobInvolvement & JobLevel & JobRole & JobSatisfaction & MaritalStatus & MonthlyIncome & MonthlyRate & NumCompaniesWorked & Over18 & OverTime & PercentSalaryHike & PerformanceRating & RelationshipSatisfaction & StandardHours & StockOptionLevel & TotalWorkingYears & TrainingTimesLastYear & WorkLifeBalance & YearsAtCompany & YearsInCurrentRole & YearsSinceLastPromotion & YearsWithCurrManager\\\\\n",
       "\t\\hline\n",
       "\t& Int64 & String3 & String31? & Int64 & String31 & Int64 & Int64 & String31 & Int64 & Int64 & Int64 & String7 & Int64 & Int64 & Int64 & String31? & Int64 & String15? & Int64 & Int64 & Int64 & String3 & String3 & Int64 & Int64 & Int64 & Int64 & Int64 & Int64 & Int64 & Int64 & Int64 & Int64 & Int64 & Int64\\\\\n",
       "\t\\hline\n",
       "\t1 & 27 & No & Travel\\_Rarely & 155 & Research \\& Development & 4 & 3 & Life Sciences & 1 & 2064 & 2 & Male & 87 & 4 & 2 & Manufacturing Director & 2 & Married & 6142 & 5174 & 1 & Y & Yes & 20 & 4 & 2 & 80 & 1 & 6 & 0 & 3 & 6 & 2 & 0 & 3 \\\\\n",
       "\t2 & 49 & No & Travel\\_Frequently & 1023 & Sales & 2 & 3 & Medical & 1 & 2065 & 4 & Male & 63 & 2 & 2 & Sales Executive & 2 & Married & 5390 & 13243 & 2 & Y & No & 14 & 3 & 4 & 80 & 0 & 17 & 3 & 2 & 9 & 6 & 0 & 8 \\\\\n",
       "\t3 & 34 & No & Travel\\_Rarely & 628 & Research \\& Development & 8 & 3 & Medical & 1 & 2068 & 2 & Male & 82 & 4 & 2 & Laboratory Technician & 3 & Married & 4404 & 10228 & 2 & Y & No & 12 & 3 & 1 & 80 & 0 & 6 & 3 & 4 & 4 & 3 & 1 & 2 \\\\\n",
       "\\end{tabular}\n"
      ],
      "text/plain": [
       "\u001b[1m3×35 DataFrame\u001b[0m\n",
       "\u001b[1m Row \u001b[0m│\u001b[1m Age   \u001b[0m\u001b[1m Attrition \u001b[0m\u001b[1m BusinessTravel    \u001b[0m\u001b[1m DailyRate \u001b[0m\u001b[1m Department             \u001b[0m\u001b[1m DistanceFromHome \u001b[0m\u001b[1m Education \u001b[0m\u001b[1m EducationField \u001b[0m\u001b[1m EmployeeCount \u001b[0m\u001b[1m EmployeeNumber \u001b[0m\u001b[1m EnvironmentSatisfaction \u001b[0m\u001b[1m Gender  \u001b[0m\u001b[1m HourlyRate \u001b[0m\u001b[1m JobInvolvement \u001b[0m\u001b[1m JobLevel \u001b[0m\u001b[1m JobRole                \u001b[0m\u001b[1m JobSatisfaction \u001b[0m\u001b[1m MaritalStatus \u001b[0m\u001b[1m MonthlyIncome \u001b[0m\u001b[1m MonthlyRate \u001b[0m\u001b[1m NumCompaniesWorked \u001b[0m\u001b[1m Over18  \u001b[0m\u001b[1m OverTime \u001b[0m\u001b[1m PercentSalaryHike \u001b[0m\u001b[1m PerformanceRating \u001b[0m\u001b[1m RelationshipSatisfaction \u001b[0m\u001b[1m StandardHours \u001b[0m\u001b[1m StockOptionLevel \u001b[0m\u001b[1m TotalWorkingYears \u001b[0m\u001b[1m TrainingTimesLastYear \u001b[0m\u001b[1m WorkLifeBalance \u001b[0m\u001b[1m YearsAtCompany \u001b[0m\u001b[1m YearsInCurrentRole \u001b[0m\u001b[1m YearsSinceLastPromotion \u001b[0m\u001b[1m YearsWithCurrManager \u001b[0m\n",
       "     │\u001b[90m Int64 \u001b[0m\u001b[90m String3   \u001b[0m\u001b[90m String31?         \u001b[0m\u001b[90m Int64     \u001b[0m\u001b[90m String31               \u001b[0m\u001b[90m Int64            \u001b[0m\u001b[90m Int64     \u001b[0m\u001b[90m String31       \u001b[0m\u001b[90m Int64         \u001b[0m\u001b[90m Int64          \u001b[0m\u001b[90m Int64                   \u001b[0m\u001b[90m String7 \u001b[0m\u001b[90m Int64      \u001b[0m\u001b[90m Int64          \u001b[0m\u001b[90m Int64    \u001b[0m\u001b[90m String31?              \u001b[0m\u001b[90m Int64           \u001b[0m\u001b[90m String15?     \u001b[0m\u001b[90m Int64         \u001b[0m\u001b[90m Int64       \u001b[0m\u001b[90m Int64              \u001b[0m\u001b[90m String3 \u001b[0m\u001b[90m String3  \u001b[0m\u001b[90m Int64             \u001b[0m\u001b[90m Int64             \u001b[0m\u001b[90m Int64                    \u001b[0m\u001b[90m Int64         \u001b[0m\u001b[90m Int64            \u001b[0m\u001b[90m Int64             \u001b[0m\u001b[90m Int64                 \u001b[0m\u001b[90m Int64           \u001b[0m\u001b[90m Int64          \u001b[0m\u001b[90m Int64              \u001b[0m\u001b[90m Int64                   \u001b[0m\u001b[90m Int64                \u001b[0m\n",
       "─────┼──────────────────────────────────────────────────────────────────────────────────────────────────────────────────────────────────────────────────────────────────────────────────────────────────────────────────────────────────────────────────────────────────────────────────────────────────────────────────────────────────────────────────────────────────────────────────────────────────────────────────────────────────────────────────────────────────────────────────────────────────────────────────────────────────────────────────────────────────────────────────────────────────────\n",
       "   1 │    27  No         Travel_Rarely            155  Research & Development                 4          3  Life Sciences               1            2064                        2  Male             87               4         2  Manufacturing Director                2  Married                 6142         5174                   1  Y        Yes                      20                  4                         2             80                 1                  6                      0                3               6                   2                        0                     3\n",
       "   2 │    49  No         Travel_Frequently       1023  Sales                                  2          3  Medical                     1            2065                        4  Male             63               2         2  Sales Executive                       2  Married                 5390        13243                   2  Y        No                       14                  3                         4             80                 0                 17                      3                2               9                   6                        0                     8\n",
       "   3 │    34  No         Travel_Rarely            628  Research & Development                 8          3  Medical                     1            2068                        2  Male             82               4         2  Laboratory Technician                 3  Married                 4404        10228                   2  Y        No                       12                  3                         1             80                 0                  6                      3                4               4                   3                        1                     2"
      ]
     },
     "execution_count": 4,
     "metadata": {},
     "output_type": "execute_result"
    }
   ],
   "source": [
    "last(df,3)"
   ]
  },
  {
   "cell_type": "markdown",
   "metadata": {},
   "source": [
    "#### 4 - Imprime el número de filas (1 pt)."
   ]
  },
  {
   "cell_type": "code",
   "execution_count": 5,
   "metadata": {},
   "outputs": [
    {
     "data": {
      "text/plain": [
       "1470"
      ]
     },
     "execution_count": 5,
     "metadata": {},
     "output_type": "execute_result"
    }
   ],
   "source": [
    "nrow(df)"
   ]
  },
  {
   "cell_type": "markdown",
   "metadata": {},
   "source": [
    "#### 5 - Imprime las columnas y tipo de _df_ (1 pt)."
   ]
  },
  {
   "cell_type": "code",
   "execution_count": 6,
   "metadata": {},
   "outputs": [
    {
     "name": "stdout",
     "output_type": "stream",
     "text": [
      "(\"Age\", Int64)\n",
      "(\"Attrition\", String3)\n",
      "(\"BusinessTravel\", Union{Missing, String31})\n",
      "(\"DailyRate\", Int64)\n",
      "(\"Department\", String31)\n",
      "(\"DistanceFromHome\", Int64)\n",
      "(\"Education\", Int64)\n",
      "(\"EducationField\", String31)\n",
      "(\"EmployeeCount\", Int64)\n",
      "(\"EmployeeNumber\", Int64)\n",
      "(\"EnvironmentSatisfaction\", Int64)\n",
      "(\"Gender\", String7)\n",
      "(\"HourlyRate\", Int64)\n",
      "(\"JobInvolvement\", Int64)\n",
      "(\"JobLevel\", Int64)\n",
      "(\"JobRole\", Union{Missing, String31})\n",
      "(\"JobSatisfaction\", Int64)\n",
      "(\"MaritalStatus\", Union{Missing, String15})\n",
      "(\"MonthlyIncome\", Int64)\n",
      "(\"MonthlyRate\", Int64)\n",
      "(\"NumCompaniesWorked\", Int64)\n",
      "(\"Over18\", String3)\n",
      "(\"OverTime\", String3)\n",
      "(\"PercentSalaryHike\", Int64)\n",
      "(\"PerformanceRating\", Int64)\n",
      "(\"RelationshipSatisfaction\", Int64)\n",
      "(\"StandardHours\", Int64)\n",
      "(\"StockOptionLevel\", Int64)\n",
      "(\"TotalWorkingYears\", Int64)\n",
      "(\"TrainingTimesLastYear\", Int64)\n",
      "(\"WorkLifeBalance\", Int64)\n",
      "(\"YearsAtCompany\", Int64)\n",
      "(\"YearsInCurrentRole\", Int64)\n",
      "(\"YearsSinceLastPromotion\", Int64)\n",
      "(\"YearsWithCurrManager\", Int64)\n"
     ]
    }
   ],
   "source": [
    "for i in zip(names(df), eltype.(eachcol(df)))\n",
    "    println(i)\n",
    "end"
   ]
  },
  {
   "cell_type": "markdown",
   "metadata": {},
   "source": [
    "#### 6 - Imprime los valores únicos de las columnas con valores missing (1 pt)."
   ]
  },
  {
   "cell_type": "code",
   "execution_count": 7,
   "metadata": {},
   "outputs": [
    {
     "data": {
      "text/plain": [
       "4-element Vector{Union{Missing, String31}}:\n",
       " \"Travel_Rarely\"\n",
       " \"Travel_Frequently\"\n",
       " missing\n",
       " \"Non-Travel\""
      ]
     },
     "execution_count": 7,
     "metadata": {},
     "output_type": "execute_result"
    }
   ],
   "source": [
    "unique(df.BusinessTravel)"
   ]
  },
  {
   "cell_type": "code",
   "execution_count": 8,
   "metadata": {},
   "outputs": [
    {
     "data": {
      "text/plain": [
       "10-element Vector{Union{Missing, String31}}:\n",
       " \"Sales Executive\"\n",
       " \"Research Scientist\"\n",
       " missing\n",
       " \"Laboratory Technician\"\n",
       " \"Manufacturing Director\"\n",
       " \"Healthcare Representative\"\n",
       " \"Manager\"\n",
       " \"Sales Representative\"\n",
       " \"Research Director\"\n",
       " \"Human Resources\""
      ]
     },
     "execution_count": 8,
     "metadata": {},
     "output_type": "execute_result"
    }
   ],
   "source": [
    "unique(df.JobRole)"
   ]
  },
  {
   "cell_type": "code",
   "execution_count": 9,
   "metadata": {},
   "outputs": [
    {
     "data": {
      "text/plain": [
       "4-element Vector{Union{Missing, String15}}:\n",
       " \"Single\"\n",
       " \"Married\"\n",
       " missing\n",
       " \"Divorced\""
      ]
     },
     "execution_count": 9,
     "metadata": {},
     "output_type": "execute_result"
    }
   ],
   "source": [
    "unique(df.MaritalStatus)"
   ]
  },
  {
   "cell_type": "markdown",
   "metadata": {},
   "source": [
    "#### 7 - Elimina los valores _missing_ de _df_ y vuelve a imprimir las columnas del punto 6 (1 pt).\n",
    "> Similar a disallowmissing!, puedes usar dropmissing! para eliminar valores _missing_"
   ]
  },
  {
   "cell_type": "code",
   "execution_count": 10,
   "metadata": {},
   "outputs": [
    {
     "name": "stdout",
     "output_type": "stream",
     "text": [
      "(\"Age\", Int64)\n",
      "(\"Attrition\", String3)\n",
      "(\"BusinessTravel\", String31)\n",
      "(\"DailyRate\", Int64)\n",
      "(\"Department\", String31)\n",
      "(\"DistanceFromHome\", Int64)\n",
      "(\"Education\", Int64)\n",
      "(\"EducationField\", String31)\n",
      "(\"EmployeeCount\", Int64)\n",
      "(\"EmployeeNumber\", Int64)\n",
      "(\"EnvironmentSatisfaction\", Int64)\n",
      "(\"Gender\", String7)\n",
      "(\"HourlyRate\", Int64)\n",
      "(\"JobInvolvement\", Int64)\n",
      "(\"JobLevel\", Int64)\n",
      "(\"JobRole\", String31)\n",
      "(\"JobSatisfaction\", Int64)\n",
      "(\"MaritalStatus\", String15)\n",
      "(\"MonthlyIncome\", Int64)\n",
      "(\"MonthlyRate\", Int64)\n",
      "(\"NumCompaniesWorked\", Int64)\n",
      "(\"Over18\", String3)\n",
      "(\"OverTime\", String3)\n",
      "(\"PercentSalaryHike\", Int64)\n",
      "(\"PerformanceRating\", Int64)\n",
      "(\"RelationshipSatisfaction\", Int64)\n",
      "(\"StandardHours\", Int64)\n",
      "(\"StockOptionLevel\", Int64)\n",
      "(\"TotalWorkingYears\", Int64)\n",
      "(\"TrainingTimesLastYear\", Int64)\n",
      "(\"WorkLifeBalance\", Int64)\n",
      "(\"YearsAtCompany\", Int64)\n",
      "(\"YearsInCurrentRole\", Int64)\n",
      "(\"YearsSinceLastPromotion\", Int64)\n",
      "(\"YearsWithCurrManager\", Int64)\n"
     ]
    }
   ],
   "source": [
    "dropmissing!(df);\n",
    "for i in zip(names(df), eltype.(eachcol(df)))\n",
    "    println(i)\n",
    "end"
   ]
  },
  {
   "cell_type": "code",
   "execution_count": 11,
   "metadata": {},
   "outputs": [
    {
     "data": {
      "text/plain": [
       "3-element Vector{String31}:\n",
       " \"Travel_Rarely\"\n",
       " \"Travel_Frequently\"\n",
       " \"Non-Travel\""
      ]
     },
     "execution_count": 11,
     "metadata": {},
     "output_type": "execute_result"
    }
   ],
   "source": [
    "unique(df.BusinessTravel)"
   ]
  },
  {
   "cell_type": "code",
   "execution_count": 12,
   "metadata": {},
   "outputs": [
    {
     "data": {
      "text/plain": [
       "9-element Vector{String31}:\n",
       " \"Sales Executive\"\n",
       " \"Research Scientist\"\n",
       " \"Laboratory Technician\"\n",
       " \"Manufacturing Director\"\n",
       " \"Healthcare Representative\"\n",
       " \"Manager\"\n",
       " \"Sales Representative\"\n",
       " \"Research Director\"\n",
       " \"Human Resources\""
      ]
     },
     "execution_count": 12,
     "metadata": {},
     "output_type": "execute_result"
    }
   ],
   "source": [
    "unique(df.JobRole)"
   ]
  },
  {
   "cell_type": "code",
   "execution_count": 13,
   "metadata": {},
   "outputs": [
    {
     "data": {
      "text/plain": [
       "3-element Vector{String15}:\n",
       " \"Single\"\n",
       " \"Married\"\n",
       " \"Divorced\""
      ]
     },
     "execution_count": 13,
     "metadata": {},
     "output_type": "execute_result"
    }
   ],
   "source": [
    "unique(df.MaritalStatus)"
   ]
  },
  {
   "cell_type": "markdown",
   "metadata": {},
   "source": [
    "#### 8 - Las columnas Over18 y OverTime tienen múltiples representaciones. Modifícalas para que solo contengan true o false (1 pt)."
   ]
  },
  {
   "cell_type": "markdown",
   "metadata": {},
   "source": [
    "__Over18__:"
   ]
  },
  {
   "cell_type": "code",
   "execution_count": 14,
   "metadata": {
    "scrolled": true
   },
   "outputs": [
    {
     "data": {
      "text/plain": [
       "2-element Vector{String3}:\n",
       " \"Y\"\n",
       " \"Yes\""
      ]
     },
     "execution_count": 14,
     "metadata": {},
     "output_type": "execute_result"
    }
   ],
   "source": [
    "unique(df.Over18)\n"
   ]
  },
  {
   "cell_type": "code",
   "execution_count": 15,
   "metadata": {},
   "outputs": [
    {
     "data": {
      "text/plain": [
       "1467-element view(::PooledArrays.PooledVector{String3, UInt32, Vector{UInt32}}, [1, 2, 3, 5, 6, 7, 8, 9, 10, 11  …  1459, 1460, 1461, 1462, 1463, 1464, 1465, 1466, 1467, 1468]) with eltype String3:\n",
       " \"Yes\"\n",
       " \"Yes\"\n",
       " \"Yes\"\n",
       " \"Yes\"\n",
       " \"Yes\"\n",
       " \"Yes\"\n",
       " \"Yes\"\n",
       " \"Yes\"\n",
       " \"Yes\"\n",
       " \"Yes\"\n",
       " \"Yes\"\n",
       " \"Yes\"\n",
       " \"Yes\"\n",
       " ⋮\n",
       " \"Yes\"\n",
       " \"Yes\"\n",
       " \"Yes\"\n",
       " \"Yes\"\n",
       " \"Yes\"\n",
       " \"Yes\"\n",
       " \"Yes\"\n",
       " \"Yes\"\n",
       " \"Yes\"\n",
       " \"Yes\"\n",
       " \"Yes\"\n",
       " \"Yes\""
      ]
     },
     "execution_count": 15,
     "metadata": {},
     "output_type": "execute_result"
    }
   ],
   "source": [
    "df[(df[!,:Over18] .== \"Y\"),:Over18].=\"Yes\""
   ]
  },
  {
   "cell_type": "code",
   "execution_count": 16,
   "metadata": {},
   "outputs": [
    {
     "data": {
      "text/plain": [
       "1-element Vector{String3}:\n",
       " \"Yes\""
      ]
     },
     "execution_count": 16,
     "metadata": {},
     "output_type": "execute_result"
    }
   ],
   "source": [
    "unique(df.Over18)"
   ]
  },
  {
   "cell_type": "markdown",
   "metadata": {},
   "source": [
    "__OverTime__:"
   ]
  },
  {
   "cell_type": "code",
   "execution_count": 17,
   "metadata": {
    "scrolled": true
   },
   "outputs": [
    {
     "data": {
      "text/plain": [
       "4-element Vector{String3}:\n",
       " \"Yes\"\n",
       " \"No\"\n",
       " \"Y\"\n",
       " \"N\""
      ]
     },
     "execution_count": 17,
     "metadata": {},
     "output_type": "execute_result"
    }
   ],
   "source": [
    "unique(df.OverTime)"
   ]
  },
  {
   "cell_type": "code",
   "execution_count": 18,
   "metadata": {},
   "outputs": [
    {
     "data": {
      "text/plain": [
       "1-element view(::PooledArrays.PooledVector{String3, UInt32, Vector{UInt32}}, [4]) with eltype String3:\n",
       " \"No\""
      ]
     },
     "execution_count": 18,
     "metadata": {},
     "output_type": "execute_result"
    }
   ],
   "source": [
    "df[(df[!,:OverTime] .== \"Y\"),:OverTime].=\"Yes\"\n",
    "df[(df[!,:OverTime] .== \"N\"),:OverTime].=\"No\""
   ]
  },
  {
   "cell_type": "code",
   "execution_count": 19,
   "metadata": {},
   "outputs": [
    {
     "data": {
      "text/plain": [
       "2-element Vector{String3}:\n",
       " \"Yes\"\n",
       " \"No\""
      ]
     },
     "execution_count": 19,
     "metadata": {},
     "output_type": "execute_result"
    }
   ],
   "source": [
    "unique(df.OverTime)"
   ]
  },
  {
   "cell_type": "markdown",
   "metadata": {},
   "source": [
    "#### 9 - Aplica un preprocesamiento del tipo _LabelBinarizer_ y _MinMaxScaler_ a las columnas _Age_ , _BusinessTravel_ , _JobRole_ (2 pts).\n"
   ]
  },
  {
   "cell_type": "code",
   "execution_count": 20,
   "metadata": {},
   "outputs": [
    {
     "name": "stderr",
     "output_type": "stream",
     "text": [
      "\u001b[36m\u001b[1m[ \u001b[22m\u001b[39m\u001b[36m\u001b[1mInfo: \u001b[22m\u001b[39mmkl not found, proceeding to installing non-mkl versions of sci-kit learn via Conda\n",
      "\u001b[36m\u001b[1m[ \u001b[22m\u001b[39m\u001b[36m\u001b[1mInfo: \u001b[22m\u001b[39mRunning `conda install -y -c conda-forge 'scikit-learn>=1.2,<1.3'` in root environment\n"
     ]
    },
    {
     "name": "stdout",
     "output_type": "stream",
     "text": [
      "Collecting package metadata (current_repodata.json): ...working... done\n",
      "Solving environment: ...working... done\n",
      "\n",
      "# All requested packages already installed.\n",
      "\n"
     ]
    },
    {
     "data": {
      "text/plain": [
       "PyObject <class 'sklearn.preprocessing._data.MinMaxScaler'>"
      ]
     },
     "execution_count": 20,
     "metadata": {},
     "output_type": "execute_result"
    }
   ],
   "source": [
    "using ScikitLearn\n",
    "using DataFrames: DataFrame, missing\n",
    "@sk_import preprocessing: (LabelBinarizer, MinMaxScaler)"
   ]
  },
  {
   "cell_type": "code",
   "execution_count": 21,
   "metadata": {},
   "outputs": [],
   "source": [
    "mapper = DataFrameMapper([\n",
    "                        (:BusinessTravel, LabelBinarizer()),\n",
    "                        (:JobRole, LabelBinarizer()),\n",
    "                        ([:Age], MinMaxScaler())\n",
    "                        ]);"
   ]
  },
  {
   "cell_type": "code",
   "execution_count": 22,
   "metadata": {},
   "outputs": [
    {
     "data": {
      "text/plain": [
       "1468×13 Matrix{Float64}:\n",
       " 0.0  0.0  1.0  0.0  0.0  0.0  0.0  0.0  0.0  0.0  1.0  0.0  0.547619\n",
       " 0.0  1.0  0.0  0.0  0.0  0.0  0.0  0.0  0.0  1.0  0.0  0.0  0.738095\n",
       " 0.0  1.0  0.0  0.0  0.0  0.0  0.0  0.0  0.0  1.0  0.0  0.0  0.357143\n",
       " 0.0  0.0  1.0  0.0  0.0  1.0  0.0  0.0  0.0  0.0  0.0  0.0  0.214286\n",
       " 0.0  1.0  0.0  0.0  0.0  1.0  0.0  0.0  0.0  0.0  0.0  0.0  0.333333\n",
       " 0.0  0.0  1.0  0.0  0.0  1.0  0.0  0.0  0.0  0.0  0.0  0.0  0.97619\n",
       " 0.0  1.0  0.0  0.0  0.0  0.0  0.0  1.0  0.0  0.0  0.0  0.0  0.47619\n",
       " 0.0  0.0  1.0  1.0  0.0  0.0  0.0  0.0  0.0  0.0  0.0  0.0  0.428571\n",
       " 0.0  0.0  1.0  0.0  0.0  1.0  0.0  0.0  0.0  0.0  0.0  0.0  0.404762\n",
       " 0.0  0.0  1.0  0.0  0.0  1.0  0.0  0.0  0.0  0.0  0.0  0.0  0.261905\n",
       " 0.0  0.0  1.0  0.0  0.0  0.0  0.0  0.0  0.0  1.0  0.0  0.0  0.309524\n",
       " 0.0  0.0  1.0  0.0  0.0  1.0  0.0  0.0  0.0  0.0  0.0  0.0  0.380952\n",
       " 0.0  0.0  1.0  0.0  0.0  1.0  0.0  0.0  0.0  0.0  0.0  0.0  0.238095\n",
       " ⋮                        ⋮                        ⋮         \n",
       " 0.0  0.0  1.0  0.0  0.0  0.0  0.0  0.0  0.0  1.0  0.0  0.0  0.404762\n",
       " 0.0  0.0  1.0  0.0  0.0  1.0  0.0  0.0  0.0  0.0  0.0  0.0  0.261905\n",
       " 0.0  0.0  1.0  0.0  0.0  0.0  0.0  0.0  0.0  1.0  0.0  0.0  0.261905\n",
       " 0.0  0.0  1.0  0.0  0.0  0.0  0.0  0.0  0.0  0.0  1.0  0.0  0.761905\n",
       " 0.0  0.0  1.0  0.0  0.0  0.0  0.0  0.0  0.0  0.0  1.0  0.0  0.5\n",
       " 1.0  0.0  0.0  0.0  0.0  0.0  0.0  1.0  0.0  0.0  0.0  0.0  0.309524\n",
       " 0.0  0.0  1.0  0.0  0.0  0.0  0.0  0.0  0.0  0.0  0.0  1.0  0.190476\n",
       " 0.0  1.0  0.0  0.0  0.0  1.0  0.0  0.0  0.0  0.0  0.0  0.0  0.428571\n",
       " 0.0  0.0  1.0  1.0  0.0  0.0  0.0  0.0  0.0  0.0  0.0  0.0  0.5\n",
       " 0.0  0.0  1.0  0.0  0.0  0.0  0.0  1.0  0.0  0.0  0.0  0.0  0.214286\n",
       " 0.0  1.0  0.0  0.0  0.0  0.0  0.0  0.0  0.0  0.0  1.0  0.0  0.738095\n",
       " 0.0  0.0  1.0  0.0  0.0  1.0  0.0  0.0  0.0  0.0  0.0  0.0  0.380952"
      ]
     },
     "execution_count": 22,
     "metadata": {},
     "output_type": "execute_result"
    }
   ],
   "source": [
    "fit_transform!(mapper, copy(df))"
   ]
  },
  {
   "cell_type": "markdown",
   "metadata": {},
   "source": [
    "<hr>\n",
    "\n",
    "###### Fuente de los datos:\n",
    "\n",
    "> https://www.kaggle.com/pavansubhasht/ibm-hr-analytics-attrition-dataset"
   ]
  }
 ],
 "metadata": {
  "kernelspec": {
   "display_name": "Julia 1.9.0",
   "language": "julia",
   "name": "julia-1.9"
  },
  "language_info": {
   "file_extension": ".jl",
   "mimetype": "application/julia",
   "name": "julia",
   "version": "1.9.0"
  }
 },
 "nbformat": 4,
 "nbformat_minor": 2
}
