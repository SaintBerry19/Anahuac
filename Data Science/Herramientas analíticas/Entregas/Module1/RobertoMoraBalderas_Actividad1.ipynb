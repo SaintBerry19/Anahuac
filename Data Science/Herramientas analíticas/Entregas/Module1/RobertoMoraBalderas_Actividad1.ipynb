{
 "cells": [
  {
   "cell_type": "markdown",
   "metadata": {},
   "source": [
    "# Actividad unidad 1"
   ]
  },
  {
   "cell_type": "markdown",
   "metadata": {},
   "source": [
    "Este cuaderno de trabajo está diseñado para que practiques los elementos vistos a lo largo de la unidad."
   ]
  },
  {
   "cell_type": "markdown",
   "metadata": {},
   "source": [
    "#### 1 - Determina de que tipo de variable contiene la variable $r$ e imprimelo en la siguiente celda "
   ]
  },
  {
   "cell_type": "code",
   "execution_count": 1,
   "metadata": {},
   "outputs": [
    {
     "data": {
      "text/plain": [
       "Float64"
      ]
     },
     "execution_count": 1,
     "metadata": {},
     "output_type": "execute_result"
    }
   ],
   "source": [
    "r = 12.5\n",
    "\n",
    "#Coloca la instrucción necesaria aquí\n",
    "typeof(r)"
   ]
  },
  {
   "cell_type": "markdown",
   "metadata": {},
   "source": [
    "#### 2 - Determina el resultado de la expresión $\\pi \\cdot r^{2}$ y guardalo en la variable $A$"
   ]
  },
  {
   "cell_type": "code",
   "execution_count": 2,
   "metadata": {},
   "outputs": [
    {
     "data": {
      "text/plain": [
       "490.8738521234052"
      ]
     },
     "execution_count": 2,
     "metadata": {},
     "output_type": "execute_result"
    }
   ],
   "source": [
    "A=pi*r^2"
   ]
  },
  {
   "cell_type": "markdown",
   "metadata": {},
   "source": [
    "#### 3 - Imprime el texto \"El area de un circulo con radio r es A\" pero remplaza $r$ y $A$ con su valor verdadero"
   ]
  },
  {
   "cell_type": "code",
   "execution_count": 11,
   "metadata": {},
   "outputs": [
    {
     "name": "stdout",
     "output_type": "stream",
     "text": [
      "El area de un circulo con radio 12.5 es 490.8738521234052\n"
     ]
    }
   ],
   "source": [
    "string=\"El area de un circulo con radio $r es $A\"\n",
    "println(string)"
   ]
  },
  {
   "cell_type": "markdown",
   "metadata": {},
   "source": [
    "#### 4 - Imprime la longuitud del String generado en el punto 3"
   ]
  },
  {
   "cell_type": "code",
   "execution_count": 12,
   "metadata": {},
   "outputs": [
    {
     "data": {
      "text/plain": [
       "57"
      ]
     },
     "execution_count": 12,
     "metadata": {},
     "output_type": "execute_result"
    }
   ],
   "source": [
    "length(string)"
   ]
  },
  {
   "cell_type": "markdown",
   "metadata": {},
   "source": [
    "#### 5- Genera un arreglo que contenga los siguientes elementos y guárdalo en la variable $arr$:\n",
    "\n",
    "$$ arr = \\left[ \\begin{matrix} 3 & 3 & 4 \\end{matrix} \\right] $$\n",
    "\n",
    "#### Adicionalmente imprime el ultimo el elemento."
   ]
  },
  {
   "cell_type": "code",
   "execution_count": 18,
   "metadata": {},
   "outputs": [
    {
     "data": {
      "text/plain": [
       "4"
      ]
     },
     "execution_count": 18,
     "metadata": {},
     "output_type": "execute_result"
    }
   ],
   "source": [
    "arr = [3 3 4]\n",
    "arr[3]"
   ]
  },
  {
   "cell_type": "markdown",
   "metadata": {},
   "source": [
    "#### 6 - Suma las siguientes matrices y guarda el resultado en M3:\n",
    "$$ M1 = \\left( \\begin{matrix} 2 & 3 & 5 \\\\ 2 & 3 & 2 \\\\ 5 & 4 & 10 \\end{matrix} \\right) $$\n",
    "\n",
    "$$ M2 = \\left( \\begin{matrix} 1 & 1 & 1 \\\\ 1 & 1 & 1 \\\\ 1 & 1 & 1 \\end{matrix} \\right) $$\n",
    "\n"
   ]
  },
  {
   "cell_type": "code",
   "execution_count": 19,
   "metadata": {},
   "outputs": [
    {
     "data": {
      "text/plain": [
       "3×3 Matrix{Int64}:\n",
       " 3  4   6\n",
       " 3  4   3\n",
       " 6  5  11"
      ]
     },
     "execution_count": 19,
     "metadata": {},
     "output_type": "execute_result"
    }
   ],
   "source": [
    "M1=[2 3 5;2 3 2; 5 4 10]\n",
    "M2=[1 1 1;1 1 1;1 1 1]\n",
    "M3=M1+M2"
   ]
  },
  {
   "cell_type": "markdown",
   "metadata": {},
   "source": [
    "#### 7 - Selecciona e imprime solamente la columna central de M3"
   ]
  },
  {
   "cell_type": "code",
   "execution_count": 20,
   "metadata": {},
   "outputs": [
    {
     "data": {
      "text/plain": [
       "3-element Vector{Int64}:\n",
       " 4\n",
       " 4\n",
       " 5"
      ]
     },
     "execution_count": 20,
     "metadata": {},
     "output_type": "execute_result"
    }
   ],
   "source": [
    "M3[:,2]"
   ]
  },
  {
   "cell_type": "markdown",
   "metadata": {},
   "source": [
    "#### 8 - Con un ciclo for recorre e imprime los elementos de $arr$"
   ]
  },
  {
   "cell_type": "code",
   "execution_count": 21,
   "metadata": {},
   "outputs": [
    {
     "data": {
      "text/plain": [
       "1×3 Matrix{Int64}:\n",
       " 3  3  4"
      ]
     },
     "execution_count": 21,
     "metadata": {},
     "output_type": "execute_result"
    }
   ],
   "source": [
    "result=[i for i in arr]"
   ]
  },
  {
   "cell_type": "markdown",
   "metadata": {},
   "source": [
    "#### 9 - Crea un diccionario y añade al menos 5 de tus películas favoritas, la llave será el nombre de la película y el valor será el año de estreno. Guarda este diccionario con el nombre de $movies$"
   ]
  },
  {
   "cell_type": "code",
   "execution_count": 71,
   "metadata": {},
   "outputs": [
    {
     "data": {
      "text/plain": [
       "Dict{String, Int64} with 5 entries:\n",
       "  \"Shutter Island\" => 2010\n",
       "  \"Inception\"      => 2010\n",
       "  \"Fight Club\"     => 1990\n",
       "  \"Memento\"        => 2000\n",
       "  \"Interstellar\"   => 2014"
      ]
     },
     "execution_count": 71,
     "metadata": {},
     "output_type": "execute_result"
    }
   ],
   "source": [
    "movies=Dict(\"Inception\"=>2010,\"Interstellar\"=>2014,\"Shutter Island\"=>2010,\"Fight Club\"=>1990,\"Memento\"=>2000)"
   ]
  },
  {
   "cell_type": "markdown",
   "metadata": {},
   "source": [
    "#### 10 - Elimina la película más antigua del diccionario $movies$"
   ]
  },
  {
   "cell_type": "code",
   "execution_count": 72,
   "metadata": {},
   "outputs": [
    {
     "data": {
      "text/plain": [
       "\"Fight Club\""
      ]
     },
     "execution_count": 72,
     "metadata": {},
     "output_type": "execute_result"
    }
   ],
   "source": [
    "comparison=[value for (key,value) in movies][1]\n",
    "for (key,value) in movies\n",
    "    comparison==value ? continue : (comparison<value ? continue : (oldest=value, old_movie=key))\n",
    "end\n",
    "old_movie"
   ]
  },
  {
   "cell_type": "code",
   "execution_count": 73,
   "metadata": {},
   "outputs": [
    {
     "data": {
      "text/plain": [
       "1990"
      ]
     },
     "execution_count": 73,
     "metadata": {},
     "output_type": "execute_result"
    }
   ],
   "source": [
    "pop!(movies,old_movie)"
   ]
  },
  {
   "cell_type": "code",
   "execution_count": 74,
   "metadata": {},
   "outputs": [
    {
     "data": {
      "text/plain": [
       "Dict{String, Int64} with 4 entries:\n",
       "  \"Shutter Island\" => 2010\n",
       "  \"Inception\"      => 2010\n",
       "  \"Memento\"        => 2000\n",
       "  \"Interstellar\"   => 2014"
      ]
     },
     "execution_count": 74,
     "metadata": {},
     "output_type": "execute_result"
    }
   ],
   "source": [
    "movies"
   ]
  }
 ],
 "metadata": {
  "kernelspec": {
   "display_name": "Julia 1.9.0",
   "language": "julia",
   "name": "julia-1.9"
  },
  "language_info": {
   "file_extension": ".jl",
   "mimetype": "application/julia",
   "name": "julia",
   "version": "1.9.0"
  }
 },
 "nbformat": 4,
 "nbformat_minor": 2
}
