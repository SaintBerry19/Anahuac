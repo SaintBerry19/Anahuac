{
 "cells": [
  {
   "cell_type": "markdown",
   "metadata": {},
   "source": [
    "# Actividad unidad 2"
   ]
  },
  {
   "cell_type": "markdown",
   "metadata": {},
   "source": [
    "Este cuaderno de trabajo está diseñado para que practiques los elementos vistos a lo largo de la unidad. __(Total 10 pts)__"
   ]
  },
  {
   "cell_type": "markdown",
   "metadata": {},
   "source": [
    "#### 1 - Realiza una función $imprimir$ que imprima 3 veces el elemento recibido. Después ejecútala con un valor de prueba (1 pt)."
   ]
  },
  {
   "cell_type": "code",
   "execution_count": 1,
   "metadata": {},
   "outputs": [
    {
     "name": "stdout",
     "output_type": "stream",
     "text": [
      "Este es el string de prueba.\n",
      "Este es el string de prueba.\n",
      "Este es el string de prueba.\n"
     ]
    }
   ],
   "source": [
    "function imprimir(string)\n",
    "    for i=1:3\n",
    "        println(string)\n",
    "    end\n",
    "end\n",
    "imprimir(\"Este es el string de prueba.\")"
   ]
  },
  {
   "cell_type": "markdown",
   "metadata": {},
   "source": [
    "<hr>\n",
    "Apartir de las estructuras definidas en la siguiete celda:"
   ]
  },
  {
   "cell_type": "code",
   "execution_count": 2,
   "metadata": {},
   "outputs": [],
   "source": [
    "struct Cuadro\n",
    "    lado\n",
    "end\n",
    "\n",
    "struct Cubo\n",
    "    lado\n",
    "end\n",
    "\n",
    "struct Circulo\n",
    "   radio \n",
    "end\n",
    "\n",
    "struct Esfera\n",
    "   radio \n",
    "end\n",
    "\n",
    "struct Rectangulo\n",
    "    lado1\n",
    "    lado2\n",
    "end"
   ]
  },
  {
   "cell_type": "markdown",
   "metadata": {},
   "source": [
    "Y basándose en el siguiente código:"
   ]
  },
  {
   "cell_type": "code",
   "execution_count": 3,
   "metadata": {},
   "outputs": [
    {
     "data": {
      "text/plain": [
       "4"
      ]
     },
     "execution_count": 3,
     "metadata": {},
     "output_type": "execute_result"
    }
   ],
   "source": [
    "function area(figura::Cuadro)\n",
    "    return figura.lado^2\n",
    "end\n",
    "\n",
    "cuadrado = Cuadro(2)\n",
    "area(cuadrado)"
   ]
  },
  {
   "cell_type": "markdown",
   "metadata": {},
   "source": [
    "Realiza los siguientes reactivos:\n",
    "#### 2 - Crea 2 funciones llamadas $area$ que calculen el área de un $Circulo$ y un $Rectangulo$ __(2 pts)__"
   ]
  },
  {
   "cell_type": "code",
   "execution_count": 4,
   "metadata": {},
   "outputs": [
    {
     "name": "stdout",
     "output_type": "stream",
     "text": [
      "Círculo: 12.566370614359172\n",
      "Rectángulo: 50\n"
     ]
    }
   ],
   "source": [
    "function area(figura::Rectangulo)\n",
    "    return figura.lado1*figura.lado2\n",
    "end\n",
    "\n",
    "function area(figura::Circulo)\n",
    "    return figura.radio^2*pi\n",
    "end\n",
    "\n",
    "\n",
    "circulo = Circulo(2)\n",
    "println(\"Círculo: \", area(circulo))\n",
    "\n",
    "rectangulo = Rectangulo(5,10)\n",
    "println(\"Rectángulo: \", area(rectangulo))"
   ]
  },
  {
   "cell_type": "markdown",
   "metadata": {},
   "source": [
    "#### 3 - Crea una función $volumen$ que calcule el volumen de una ___Esfera___ y un ___Cubo___ __(2 pts)__"
   ]
  },
  {
   "cell_type": "code",
   "execution_count": 5,
   "metadata": {},
   "outputs": [
    {
     "name": "stdout",
     "output_type": "stream",
     "text": [
      "Volumen Esfera: 33.510321638291124\n",
      "Volumen Cubo: 64\n"
     ]
    }
   ],
   "source": [
    "function volumen(figura::Esfera)\n",
    "    return figura.radio^3*pi*(4/3)\n",
    "end\n",
    "\n",
    "function volumen(figura::Cubo)\n",
    "    return figura.lado^3\n",
    "end\n",
    "\n",
    "esfera = Esfera(2)\n",
    "println(\"Volumen Esfera: \",volumen(esfera))\n",
    "\n",
    "cubo = Cubo(4)\n",
    "println(\"Volumen Cubo: \", volumen(cubo))\n"
   ]
  },
  {
   "cell_type": "markdown",
   "metadata": {},
   "source": [
    "#### 4 - Con la función methods, Imprime todas las implemetaciones de área y volumen (2 pt) "
   ]
  },
  {
   "cell_type": "code",
   "execution_count": 6,
   "metadata": {},
   "outputs": [
    {
     "name": "stdout",
     "output_type": "stream",
     "text": [
      "# 3 methods for generic function \"area\" from \u001b[35mMain\u001b[39m:\n",
      " [1] area(\u001b[90mfigura\u001b[39m::\u001b[1mCuadro\u001b[22m)\n",
      "\u001b[90m     @\u001b[39m \u001b[90m\u001b[4mIn[3]:1\u001b[24m\u001b[39m\n",
      " [2] area(\u001b[90mfigura\u001b[39m::\u001b[1mRectangulo\u001b[22m)\n",
      "\u001b[90m     @\u001b[39m \u001b[90m\u001b[4mIn[4]:1\u001b[24m\u001b[39m\n",
      " [3] area(\u001b[90mfigura\u001b[39m::\u001b[1mCirculo\u001b[22m)\n",
      "\u001b[90m     @\u001b[39m \u001b[90m\u001b[4mIn[4]:5\u001b[24m\u001b[39m\n",
      "# 2 methods for generic function \"volumen\" from \u001b[35mMain\u001b[39m:\n",
      " [1] volumen(\u001b[90mfigura\u001b[39m::\u001b[1mEsfera\u001b[22m)\n",
      "\u001b[90m     @\u001b[39m \u001b[90m\u001b[4mIn[5]:1\u001b[24m\u001b[39m\n",
      " [2] volumen(\u001b[90mfigura\u001b[39m::\u001b[1mCubo\u001b[22m)\n",
      "\u001b[90m     @\u001b[39m \u001b[90m\u001b[4mIn[5]:5\u001b[24m\u001b[39m\n"
     ]
    }
   ],
   "source": [
    "println(methods(area))\n",
    "println(methods(volumen))"
   ]
  },
  {
   "cell_type": "markdown",
   "metadata": {},
   "source": [
    "#### 5 - Imprime los paquetes instalados en la máquina __(1 pt)__"
   ]
  },
  {
   "cell_type": "code",
   "execution_count": 11,
   "metadata": {},
   "outputs": [
    {
     "name": "stdout",
     "output_type": "stream",
     "text": [
      "\u001b[32m\u001b[1mStatus\u001b[22m\u001b[39m `~/.julia/environments/v1.9/Project.toml`\n",
      "  \u001b[90m[a93c6f00] \u001b[39mDataFrames v1.5.0\n",
      "  \u001b[90m[7073ff75] \u001b[39mIJulia v1.24.0\n",
      "  \u001b[90m[91a5bcdd] \u001b[39mPlots v1.38.14\n"
     ]
    }
   ],
   "source": [
    "using Pkg\n",
    "Pkg.status()"
   ]
  },
  {
   "cell_type": "markdown",
   "metadata": {},
   "source": [
    "#### 6 - Mide el tiempo de ejecución de la función en la siguiente celda __(2 pt)__"
   ]
  },
  {
   "cell_type": "code",
   "execution_count": 15,
   "metadata": {},
   "outputs": [
    {
     "name": "stdout",
     "output_type": "stream",
     "text": [
      " 18.148466 seconds\n"
     ]
    }
   ],
   "source": [
    "function calculopesado(n)\n",
    "    for i in 1:n\n",
    "        for j in 1:n\n",
    "            (i+j)^2\n",
    "        end\n",
    "    end\n",
    "end\n",
    "\n",
    "@time calculopesado(100000)"
   ]
  }
 ],
 "metadata": {
  "kernelspec": {
   "display_name": "Julia 1.9.0",
   "language": "julia",
   "name": "julia-1.9"
  },
  "language_info": {
   "file_extension": ".jl",
   "mimetype": "application/julia",
   "name": "julia",
   "version": "1.9.0"
  }
 },
 "nbformat": 4,
 "nbformat_minor": 2
}
