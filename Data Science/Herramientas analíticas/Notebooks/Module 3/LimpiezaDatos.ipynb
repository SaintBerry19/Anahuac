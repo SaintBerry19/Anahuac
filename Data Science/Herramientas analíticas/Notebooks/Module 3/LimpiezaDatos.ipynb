{
 "cells": [
  {
   "cell_type": "code",
   "execution_count": 1,
   "id": "5826cf17",
   "metadata": {},
   "outputs": [],
   "source": [
    "# https://archive.ics.uci.edu/ml/datasets/adult (Anteriormente http://mlr.cs.umass.edu/ml/datasets/Adult)\n",
    "using DataFrames\n",
    "using CSV\n",
    "ENV[\"COLUMNS\"] = 250;"
   ]
  },
  {
   "cell_type": "code",
   "execution_count": 5,
   "id": "769111c1",
   "metadata": {},
   "outputs": [],
   "source": [
    "column_names = [\"age\",\"workclass\",\"fnlwgt\",\"education\",\"education-num\",\"marital-status\",\"occupation\",\"relationship\",\"race\",\"sex\",\"capital-gain\",\"capital-loss\",\"hours-per-week\",\"native-country\", \"mas50\"]\n",
    ";"
   ]
  },
  {
   "cell_type": "code",
   "execution_count": 10,
   "id": "c944f189",
   "metadata": {
    "scrolled": true
   },
   "outputs": [
    {
     "data": {
      "text/html": [
       "<div><div style = \"float: left;\"><span>DataFrameRow (15 columns)</span></div><div style = \"clear: both;\"></div></div><div class = \"data-frame\" style = \"overflow-x: scroll;\"><table class = \"data-frame\" style = \"margin-bottom: 6px;\"><thead><tr class = \"header\"><th class = \"rowLabel\" style = \"font-weight: bold; text-align: right;\">Row</th><th style = \"text-align: left;\">age</th><th style = \"text-align: left;\">workclass</th><th style = \"text-align: left;\">fnlwgt</th><th style = \"text-align: left;\">education</th><th style = \"text-align: left;\">education-num</th><th style = \"text-align: left;\">marital-status</th><th style = \"text-align: left;\">occupation</th><th style = \"text-align: left;\">relationship</th><th style = \"text-align: left;\">race</th><th style = \"text-align: left;\">sex</th><th style = \"text-align: left;\">capital-gain</th><th style = \"text-align: left;\">capital-loss</th><th style = \"text-align: left;\">hours-per-week</th><th style = \"text-align: left;\">native-country</th><th style = \"text-align: left;\">mas50</th></tr><tr class = \"subheader headerLastRow\"><th class = \"rowLabel\" style = \"font-weight: bold; text-align: right;\"></th><th title = \"Int64\" style = \"text-align: left;\">Int64</th><th title = \"Union{Missing, String31}\" style = \"text-align: left;\">String31?</th><th title = \"Int64\" style = \"text-align: left;\">Int64</th><th title = \"String15\" style = \"text-align: left;\">String15</th><th title = \"Int64\" style = \"text-align: left;\">Int64</th><th title = \"String31\" style = \"text-align: left;\">String31</th><th title = \"Union{Missing, String31}\" style = \"text-align: left;\">String31?</th><th title = \"String15\" style = \"text-align: left;\">String15</th><th title = \"String31\" style = \"text-align: left;\">String31</th><th title = \"String7\" style = \"text-align: left;\">String7</th><th title = \"Int64\" style = \"text-align: left;\">Int64</th><th title = \"Int64\" style = \"text-align: left;\">Int64</th><th title = \"Int64\" style = \"text-align: left;\">Int64</th><th title = \"Union{Missing, String31}\" style = \"text-align: left;\">String31?</th><th title = \"String7\" style = \"text-align: left;\">String7</th></tr></thead><tbody><tr><td class = \"rowLabel\" style = \"font-weight: bold; text-align: right;\">32561</td><td style = \"text-align: right;\">52</td><td style = \"text-align: left;\">Self-emp-inc</td><td style = \"text-align: right;\">287927</td><td style = \"text-align: left;\">HS-grad</td><td style = \"text-align: right;\">9</td><td style = \"text-align: left;\">Married-civ-spouse</td><td style = \"text-align: left;\">Exec-managerial</td><td style = \"text-align: left;\">Wife</td><td style = \"text-align: left;\">White</td><td style = \"text-align: left;\">Female</td><td style = \"text-align: right;\">15024</td><td style = \"text-align: right;\">0</td><td style = \"text-align: right;\">40</td><td style = \"text-align: left;\">United-States</td><td style = \"text-align: left;\">&gt;50K</td></tr></tbody></table></div>"
      ],
      "text/latex": [
       "\\begin{tabular}{r|ccccccccccccccc}\n",
       "\t& age & workclass & fnlwgt & education & education-num & marital-status & occupation & relationship & race & sex & capital-gain & capital-loss & hours-per-week & native-country & mas50\\\\\n",
       "\t\\hline\n",
       "\t& Int64 & String31? & Int64 & String15 & Int64 & String31 & String31? & String15 & String31 & String7 & Int64 & Int64 & Int64 & String31? & String7\\\\\n",
       "\t\\hline\n",
       "\t32561 & 52 & Self-emp-inc & 287927 & HS-grad & 9 & Married-civ-spouse & Exec-managerial & Wife & White & Female & 15024 & 0 & 40 & United-States & >50K \\\\\n",
       "\\end{tabular}\n"
      ],
      "text/plain": [
       "\u001b[1mDataFrameRow\u001b[0m\n",
       "\u001b[1m   Row \u001b[0m│\u001b[1m age   \u001b[0m\u001b[1m workclass    \u001b[0m\u001b[1m fnlwgt \u001b[0m\u001b[1m education \u001b[0m\u001b[1m education-num \u001b[0m\u001b[1m marital-status     \u001b[0m\u001b[1m occupation      \u001b[0m\u001b[1m relationship \u001b[0m\u001b[1m race     \u001b[0m\u001b[1m sex     \u001b[0m\u001b[1m capital-gain \u001b[0m\u001b[1m capital-loss \u001b[0m\u001b[1m hours-per-week \u001b[0m\u001b[1m native-country \u001b[0m\u001b[1m mas50   \u001b[0m\n",
       "       │\u001b[90m Int64 \u001b[0m\u001b[90m String31?    \u001b[0m\u001b[90m Int64  \u001b[0m\u001b[90m String15  \u001b[0m\u001b[90m Int64         \u001b[0m\u001b[90m String31           \u001b[0m\u001b[90m String31?       \u001b[0m\u001b[90m String15     \u001b[0m\u001b[90m String31 \u001b[0m\u001b[90m String7 \u001b[0m\u001b[90m Int64        \u001b[0m\u001b[90m Int64        \u001b[0m\u001b[90m Int64          \u001b[0m\u001b[90m String31?      \u001b[0m\u001b[90m String7 \u001b[0m\n",
       "───────┼──────────────────────────────────────────────────────────────────────────────────────────────────────────────────────────────────────────────────────────────────────────────────────────────────\n",
       " 32561 │    52  Self-emp-inc  287927  HS-grad                9  Married-civ-spouse  Exec-managerial  Wife          White     Female          15024             0              40  United-States   >50K"
      ]
     },
     "execution_count": 10,
     "metadata": {},
     "output_type": "execute_result"
    }
   ],
   "source": [
    "df = DataFrame(CSV.File(\"/Users/robertomora/Documents/Coding/Anahuac/Data Science/Herramientas analíticas/Notebooks/Material 1_7_2/adult.data.txt\", \n",
    "        header = column_names,\n",
    "        missingstring=[\"NA\", \"na\", \"n/a\", \"missing\", \"?\"],\n",
    "        delim=\", \"))\n",
    "nrow(df)\n",
    "last(df)"
   ]
  },
  {
   "cell_type": "code",
   "execution_count": 11,
   "id": "46073946",
   "metadata": {},
   "outputs": [
    {
     "data": {
      "text/plain": [
       "32560"
      ]
     },
     "execution_count": 11,
     "metadata": {},
     "output_type": "execute_result"
    }
   ],
   "source": [
    "delete!(df,32561)\n",
    "nrow(df)\n"
   ]
  },
  {
   "cell_type": "code",
   "execution_count": 12,
   "id": "b88cdd76",
   "metadata": {},
   "outputs": [
    {
     "data": {
      "text/html": [
       "<div><div style = \"float: left;\"><span>DataFrameRow (15 columns)</span></div><div style = \"clear: both;\"></div></div><div class = \"data-frame\" style = \"overflow-x: scroll;\"><table class = \"data-frame\" style = \"margin-bottom: 6px;\"><thead><tr class = \"header\"><th class = \"rowLabel\" style = \"font-weight: bold; text-align: right;\">Row</th><th style = \"text-align: left;\">age</th><th style = \"text-align: left;\">workclass</th><th style = \"text-align: left;\">fnlwgt</th><th style = \"text-align: left;\">education</th><th style = \"text-align: left;\">education-num</th><th style = \"text-align: left;\">marital-status</th><th style = \"text-align: left;\">occupation</th><th style = \"text-align: left;\">relationship</th><th style = \"text-align: left;\">race</th><th style = \"text-align: left;\">sex</th><th style = \"text-align: left;\">capital-gain</th><th style = \"text-align: left;\">capital-loss</th><th style = \"text-align: left;\">hours-per-week</th><th style = \"text-align: left;\">native-country</th><th style = \"text-align: left;\">mas50</th></tr><tr class = \"subheader headerLastRow\"><th class = \"rowLabel\" style = \"font-weight: bold; text-align: right;\"></th><th title = \"Int64\" style = \"text-align: left;\">Int64</th><th title = \"Union{Missing, String31}\" style = \"text-align: left;\">String31?</th><th title = \"Int64\" style = \"text-align: left;\">Int64</th><th title = \"String15\" style = \"text-align: left;\">String15</th><th title = \"Int64\" style = \"text-align: left;\">Int64</th><th title = \"String31\" style = \"text-align: left;\">String31</th><th title = \"Union{Missing, String31}\" style = \"text-align: left;\">String31?</th><th title = \"String15\" style = \"text-align: left;\">String15</th><th title = \"String31\" style = \"text-align: left;\">String31</th><th title = \"String7\" style = \"text-align: left;\">String7</th><th title = \"Int64\" style = \"text-align: left;\">Int64</th><th title = \"Int64\" style = \"text-align: left;\">Int64</th><th title = \"Int64\" style = \"text-align: left;\">Int64</th><th title = \"Union{Missing, String31}\" style = \"text-align: left;\">String31?</th><th title = \"String7\" style = \"text-align: left;\">String7</th></tr></thead><tbody><tr><td class = \"rowLabel\" style = \"font-weight: bold; text-align: right;\">32560</td><td style = \"text-align: right;\">22</td><td style = \"text-align: left;\">Private</td><td style = \"text-align: right;\">201490</td><td style = \"text-align: left;\">HS-grad</td><td style = \"text-align: right;\">9</td><td style = \"text-align: left;\">Never-married</td><td style = \"text-align: left;\">Adm-clerical</td><td style = \"text-align: left;\">Own-child</td><td style = \"text-align: left;\">White</td><td style = \"text-align: left;\">Male</td><td style = \"text-align: right;\">0</td><td style = \"text-align: right;\">0</td><td style = \"text-align: right;\">20</td><td style = \"text-align: left;\">United-States</td><td style = \"text-align: left;\">&lt;=50K</td></tr></tbody></table></div>"
      ],
      "text/latex": [
       "\\begin{tabular}{r|ccccccccccccccc}\n",
       "\t& age & workclass & fnlwgt & education & education-num & marital-status & occupation & relationship & race & sex & capital-gain & capital-loss & hours-per-week & native-country & mas50\\\\\n",
       "\t\\hline\n",
       "\t& Int64 & String31? & Int64 & String15 & Int64 & String31 & String31? & String15 & String31 & String7 & Int64 & Int64 & Int64 & String31? & String7\\\\\n",
       "\t\\hline\n",
       "\t32560 & 22 & Private & 201490 & HS-grad & 9 & Never-married & Adm-clerical & Own-child & White & Male & 0 & 0 & 20 & United-States & <=50K \\\\\n",
       "\\end{tabular}\n"
      ],
      "text/plain": [
       "\u001b[1mDataFrameRow\u001b[0m\n",
       "\u001b[1m   Row \u001b[0m│\u001b[1m age   \u001b[0m\u001b[1m workclass \u001b[0m\u001b[1m fnlwgt \u001b[0m\u001b[1m education \u001b[0m\u001b[1m education-num \u001b[0m\u001b[1m marital-status \u001b[0m\u001b[1m occupation   \u001b[0m\u001b[1m relationship \u001b[0m\u001b[1m race     \u001b[0m\u001b[1m sex     \u001b[0m\u001b[1m capital-gain \u001b[0m\u001b[1m capital-loss \u001b[0m\u001b[1m hours-per-week \u001b[0m\u001b[1m native-country \u001b[0m\u001b[1m mas50   \u001b[0m\n",
       "       │\u001b[90m Int64 \u001b[0m\u001b[90m String31? \u001b[0m\u001b[90m Int64  \u001b[0m\u001b[90m String15  \u001b[0m\u001b[90m Int64         \u001b[0m\u001b[90m String31       \u001b[0m\u001b[90m String31?    \u001b[0m\u001b[90m String15     \u001b[0m\u001b[90m String31 \u001b[0m\u001b[90m String7 \u001b[0m\u001b[90m Int64        \u001b[0m\u001b[90m Int64        \u001b[0m\u001b[90m Int64          \u001b[0m\u001b[90m String31?      \u001b[0m\u001b[90m String7 \u001b[0m\n",
       "───────┼────────────────────────────────────────────────────────────────────────────────────────────────────────────────────────────────────────────────────────────────────────────────────────\n",
       " 32560 │    22  Private    201490  HS-grad                9  Never-married   Adm-clerical  Own-child     White     Male                0             0              20  United-States   <=50K"
      ]
     },
     "execution_count": 12,
     "metadata": {},
     "output_type": "execute_result"
    }
   ],
   "source": [
    "last(df)"
   ]
  },
  {
   "cell_type": "code",
   "execution_count": 13,
   "id": "9446f24f",
   "metadata": {},
   "outputs": [
    {
     "data": {
      "text/plain": [
       "15-element Vector{String}:\n",
       " \"age\"\n",
       " \"workclass\"\n",
       " \"fnlwgt\"\n",
       " \"education\"\n",
       " \"education-num\"\n",
       " \"marital-status\"\n",
       " \"occupation\"\n",
       " \"relationship\"\n",
       " \"race\"\n",
       " \"sex\"\n",
       " \"capital-gain\"\n",
       " \"capital-loss\"\n",
       " \"hours-per-week\"\n",
       " \"native-country\"\n",
       " \"mas50\""
      ]
     },
     "execution_count": 13,
     "metadata": {},
     "output_type": "execute_result"
    }
   ],
   "source": [
    "names(df)"
   ]
  },
  {
   "cell_type": "code",
   "execution_count": 14,
   "id": "44bb1be5",
   "metadata": {},
   "outputs": [
    {
     "data": {
      "text/plain": [
       "\"32560×15 DataFrame\""
      ]
     },
     "execution_count": 14,
     "metadata": {},
     "output_type": "execute_result"
    }
   ],
   "source": [
    "summary(df)"
   ]
  },
  {
   "cell_type": "code",
   "execution_count": 15,
   "id": "a67b73c9",
   "metadata": {},
   "outputs": [
    {
     "data": {
      "text/html": [
       "<div><div style = \"float: left;\"><span>5×15 DataFrame</span></div><div style = \"clear: both;\"></div></div><div class = \"data-frame\" style = \"overflow-x: scroll;\"><table class = \"data-frame\" style = \"margin-bottom: 6px;\"><thead><tr class = \"header\"><th class = \"rowNumber\" style = \"font-weight: bold; text-align: right;\">Row</th><th style = \"text-align: left;\">age</th><th style = \"text-align: left;\">workclass</th><th style = \"text-align: left;\">fnlwgt</th><th style = \"text-align: left;\">education</th><th style = \"text-align: left;\">education-num</th><th style = \"text-align: left;\">marital-status</th><th style = \"text-align: left;\">occupation</th><th style = \"text-align: left;\">relationship</th><th style = \"text-align: left;\">race</th><th style = \"text-align: left;\">sex</th><th style = \"text-align: left;\">capital-gain</th><th style = \"text-align: left;\">capital-loss</th><th style = \"text-align: left;\">hours-per-week</th><th style = \"text-align: left;\">native-country</th><th style = \"text-align: left;\">mas50</th></tr><tr class = \"subheader headerLastRow\"><th class = \"rowNumber\" style = \"font-weight: bold; text-align: right;\"></th><th title = \"Int64\" style = \"text-align: left;\">Int64</th><th title = \"Union{Missing, String31}\" style = \"text-align: left;\">String31?</th><th title = \"Int64\" style = \"text-align: left;\">Int64</th><th title = \"String15\" style = \"text-align: left;\">String15</th><th title = \"Int64\" style = \"text-align: left;\">Int64</th><th title = \"String31\" style = \"text-align: left;\">String31</th><th title = \"Union{Missing, String31}\" style = \"text-align: left;\">String31?</th><th title = \"String15\" style = \"text-align: left;\">String15</th><th title = \"String31\" style = \"text-align: left;\">String31</th><th title = \"String7\" style = \"text-align: left;\">String7</th><th title = \"Int64\" style = \"text-align: left;\">Int64</th><th title = \"Int64\" style = \"text-align: left;\">Int64</th><th title = \"Int64\" style = \"text-align: left;\">Int64</th><th title = \"Union{Missing, String31}\" style = \"text-align: left;\">String31?</th><th title = \"String7\" style = \"text-align: left;\">String7</th></tr></thead><tbody><tr><td class = \"rowNumber\" style = \"font-weight: bold; text-align: right;\">1</td><td style = \"text-align: right;\">39</td><td style = \"text-align: left;\">State-gov</td><td style = \"text-align: right;\">77516</td><td style = \"text-align: left;\">Bachelors</td><td style = \"text-align: right;\">13</td><td style = \"text-align: left;\">Never-married</td><td style = \"text-align: left;\">Adm-clerical</td><td style = \"text-align: left;\">Not-in-family</td><td style = \"text-align: left;\">White</td><td style = \"text-align: left;\">Male</td><td style = \"text-align: right;\">2174</td><td style = \"text-align: right;\">0</td><td style = \"text-align: right;\">40</td><td style = \"text-align: left;\">United-States</td><td style = \"text-align: left;\">&lt;=50K</td></tr><tr><td class = \"rowNumber\" style = \"font-weight: bold; text-align: right;\">2</td><td style = \"text-align: right;\">50</td><td style = \"text-align: left;\">Self-emp-not-inc</td><td style = \"text-align: right;\">83311</td><td style = \"text-align: left;\">Bachelors</td><td style = \"text-align: right;\">13</td><td style = \"text-align: left;\">Married-civ-spouse</td><td style = \"text-align: left;\">Exec-managerial</td><td style = \"text-align: left;\">Husband</td><td style = \"text-align: left;\">White</td><td style = \"text-align: left;\">male</td><td style = \"text-align: right;\">0</td><td style = \"text-align: right;\">0</td><td style = \"text-align: right;\">13</td><td style = \"text-align: left;\">United-States</td><td style = \"text-align: left;\">&lt;=50K</td></tr><tr><td class = \"rowNumber\" style = \"font-weight: bold; text-align: right;\">3</td><td style = \"text-align: right;\">38</td><td style = \"text-align: left;\">Private</td><td style = \"text-align: right;\">215646</td><td style = \"text-align: left;\">HS-grad</td><td style = \"text-align: right;\">9</td><td style = \"text-align: left;\">Divorced</td><td style = \"text-align: left;\">Handlers-cleaners</td><td style = \"text-align: left;\">Not-in-family</td><td style = \"text-align: left;\">White</td><td style = \"text-align: left;\">Male</td><td style = \"text-align: right;\">0</td><td style = \"text-align: right;\">0</td><td style = \"text-align: right;\">40</td><td style = \"text-align: left;\">United-States</td><td style = \"text-align: left;\">&lt;=50K</td></tr><tr><td class = \"rowNumber\" style = \"font-weight: bold; text-align: right;\">4</td><td style = \"text-align: right;\">53</td><td style = \"text-align: left;\">Private</td><td style = \"text-align: right;\">234721</td><td style = \"text-align: left;\">11th</td><td style = \"text-align: right;\">7</td><td style = \"text-align: left;\">Married-civ-spouse</td><td style = \"text-align: left;\">Handlers-cleaners</td><td style = \"text-align: left;\">Husband</td><td style = \"text-align: left;\">Black</td><td style = \"text-align: left;\">male</td><td style = \"text-align: right;\">0</td><td style = \"text-align: right;\">0</td><td style = \"text-align: right;\">40</td><td style = \"text-align: left;\">United-States</td><td style = \"text-align: left;\">&lt;=50K</td></tr><tr><td class = \"rowNumber\" style = \"font-weight: bold; text-align: right;\">5</td><td style = \"text-align: right;\">28</td><td style = \"text-align: left;\">Private</td><td style = \"text-align: right;\">338409</td><td style = \"text-align: left;\">Bachelors</td><td style = \"text-align: right;\">13</td><td style = \"text-align: left;\">Married-civ-spouse</td><td style = \"text-align: left;\">Prof-specialty</td><td style = \"text-align: left;\">Wife</td><td style = \"text-align: left;\">Black</td><td style = \"text-align: left;\">Female</td><td style = \"text-align: right;\">0</td><td style = \"text-align: right;\">0</td><td style = \"text-align: right;\">40</td><td style = \"text-align: left;\">Cuba</td><td style = \"text-align: left;\">&lt;=50K</td></tr></tbody></table></div>"
      ],
      "text/latex": [
       "\\begin{tabular}{r|ccccccccccccccc}\n",
       "\t& age & workclass & fnlwgt & education & education-num & marital-status & occupation & relationship & race & sex & capital-gain & capital-loss & hours-per-week & native-country & mas50\\\\\n",
       "\t\\hline\n",
       "\t& Int64 & String31? & Int64 & String15 & Int64 & String31 & String31? & String15 & String31 & String7 & Int64 & Int64 & Int64 & String31? & String7\\\\\n",
       "\t\\hline\n",
       "\t1 & 39 & State-gov & 77516 & Bachelors & 13 & Never-married & Adm-clerical & Not-in-family & White & Male & 2174 & 0 & 40 & United-States & <=50K \\\\\n",
       "\t2 & 50 & Self-emp-not-inc & 83311 & Bachelors & 13 & Married-civ-spouse & Exec-managerial & Husband & White & male & 0 & 0 & 13 & United-States & <=50K \\\\\n",
       "\t3 & 38 & Private & 215646 & HS-grad & 9 & Divorced & Handlers-cleaners & Not-in-family & White & Male & 0 & 0 & 40 & United-States & <=50K \\\\\n",
       "\t4 & 53 & Private & 234721 & 11th & 7 & Married-civ-spouse & Handlers-cleaners & Husband & Black & male & 0 & 0 & 40 & United-States & <=50K \\\\\n",
       "\t5 & 28 & Private & 338409 & Bachelors & 13 & Married-civ-spouse & Prof-specialty & Wife & Black & Female & 0 & 0 & 40 & Cuba & <=50K \\\\\n",
       "\\end{tabular}\n"
      ],
      "text/plain": [
       "\u001b[1m5×15 DataFrame\u001b[0m\n",
       "\u001b[1m Row \u001b[0m│\u001b[1m age   \u001b[0m\u001b[1m workclass        \u001b[0m\u001b[1m fnlwgt \u001b[0m\u001b[1m education \u001b[0m\u001b[1m education-num \u001b[0m\u001b[1m marital-status     \u001b[0m\u001b[1m occupation        \u001b[0m\u001b[1m relationship  \u001b[0m\u001b[1m race     \u001b[0m\u001b[1m sex     \u001b[0m\u001b[1m capital-gain \u001b[0m\u001b[1m capital-loss \u001b[0m\u001b[1m hours-per-week \u001b[0m\u001b[1m native-country \u001b[0m\u001b[1m mas50   \u001b[0m\n",
       "     │\u001b[90m Int64 \u001b[0m\u001b[90m String31?        \u001b[0m\u001b[90m Int64  \u001b[0m\u001b[90m String15  \u001b[0m\u001b[90m Int64         \u001b[0m\u001b[90m String31           \u001b[0m\u001b[90m String31?         \u001b[0m\u001b[90m String15      \u001b[0m\u001b[90m String31 \u001b[0m\u001b[90m String7 \u001b[0m\u001b[90m Int64        \u001b[0m\u001b[90m Int64        \u001b[0m\u001b[90m Int64          \u001b[0m\u001b[90m String31?      \u001b[0m\u001b[90m String7 \u001b[0m\n",
       "─────┼─────────────────────────────────────────────────────────────────────────────────────────────────────────────────────────────────────────────────────────────────────────────────────────────────────────\n",
       "   1 │    39  State-gov          77516  Bachelors             13  Never-married       Adm-clerical       Not-in-family  White     Male             2174             0              40  United-States   <=50K\n",
       "   2 │    50  Self-emp-not-inc   83311  Bachelors             13  Married-civ-spouse  Exec-managerial    Husband        White     male                0             0              13  United-States   <=50K\n",
       "   3 │    38  Private           215646  HS-grad                9  Divorced            Handlers-cleaners  Not-in-family  White     Male                0             0              40  United-States   <=50K\n",
       "   4 │    53  Private           234721  11th                   7  Married-civ-spouse  Handlers-cleaners  Husband        Black     male                0             0              40  United-States   <=50K\n",
       "   5 │    28  Private           338409  Bachelors             13  Married-civ-spouse  Prof-specialty     Wife           Black     Female              0             0              40  Cuba            <=50K"
      ]
     },
     "execution_count": 15,
     "metadata": {},
     "output_type": "execute_result"
    }
   ],
   "source": [
    "first(df,5)"
   ]
  },
  {
   "cell_type": "code",
   "execution_count": 16,
   "id": "e9726190",
   "metadata": {
    "scrolled": true
   },
   "outputs": [
    {
     "name": "stdout",
     "output_type": "stream",
     "text": [
      "(\"age\", Int64)\n",
      "(\"workclass\", Union{Missing, String31})\n",
      "(\"fnlwgt\", Int64)\n",
      "(\"education\", String15)\n",
      "(\"education-num\", Int64)\n",
      "(\"marital-status\", String31)\n",
      "(\"occupation\", Union{Missing, String31})\n",
      "(\"relationship\", String15)\n",
      "(\"race\", String31)\n",
      "(\"sex\", String7)\n",
      "(\"capital-gain\", Int64)\n",
      "(\"capital-loss\", Int64)\n",
      "(\"hours-per-week\", Int64)\n",
      "(\"native-country\", Union{Missing, String31})\n",
      "(\"mas50\", String7)\n"
     ]
    }
   ],
   "source": [
    "for i in zip(names(df), eltype.(eachcol(df)))\n",
    "    println(i)\n",
    "end"
   ]
  },
  {
   "cell_type": "code",
   "execution_count": 19,
   "id": "29c1f834",
   "metadata": {},
   "outputs": [
    {
     "name": "stdout",
     "output_type": "stream",
     "text": [
      "(\"age\", Int64)\n",
      "(\"workclass\", Union{Missing, String31})\n",
      "(\"fnlwgt\", Int64)\n",
      "(\"education\", String15)\n",
      "(\"education-num\", Int64)\n",
      "(\"marital-status\", String31)\n",
      "(\"occupation\", Union{Missing, String31})\n",
      "(\"relationship\", String15)\n",
      "(\"race\", String31)\n",
      "(\"sex\", String7)\n",
      "(\"capital-gain\", Int64)\n",
      "(\"capital-loss\", Int64)\n",
      "(\"hours-per-week\", Int64)\n",
      "(\"native-country\", Union{Missing, String31})\n",
      "(\"mas50\", String7)\n"
     ]
    }
   ],
   "source": [
    "disallowmissing!(df, error=false);\n",
    "for i in zip(names(df), eltype.(eachcol(df)))\n",
    "    println(i)\n",
    "end"
   ]
  },
  {
   "cell_type": "code",
   "execution_count": 17,
   "id": "6dacbaf0",
   "metadata": {},
   "outputs": [
    {
     "data": {
      "text/plain": [
       "32560-element Vector{Int64}:\n",
       " 39\n",
       " 50\n",
       " 38\n",
       " 53\n",
       " 28\n",
       " 37\n",
       " 49\n",
       " 52\n",
       " 31\n",
       " 42\n",
       " 37\n",
       " 30\n",
       " 23\n",
       "  ⋮\n",
       " 65\n",
       " 43\n",
       " 43\n",
       " 32\n",
       " 43\n",
       " 32\n",
       " 53\n",
       " 22\n",
       " 27\n",
       " 40\n",
       " 58\n",
       " 22"
      ]
     },
     "execution_count": 17,
     "metadata": {},
     "output_type": "execute_result"
    }
   ],
   "source": [
    "df[!,:age] = convert.(Int,df[!,:age])"
   ]
  },
  {
   "cell_type": "markdown",
   "id": "d078034a",
   "metadata": {},
   "source": [
    "## Elementos Erroneos"
   ]
  },
  {
   "cell_type": "code",
   "execution_count": 18,
   "id": "e0357da9",
   "metadata": {},
   "outputs": [
    {
     "data": {
      "text/plain": [
       "7-element Vector{String7}:\n",
       " \"Male\"\n",
       " \"male\"\n",
       " \"Female\"\n",
       " \"Femle\"\n",
       " \"Mal\"\n",
       " \"female\"\n",
       " \"Man\""
      ]
     },
     "execution_count": 18,
     "metadata": {},
     "output_type": "execute_result"
    }
   ],
   "source": [
    "unique(df.sex)"
   ]
  },
  {
   "cell_type": "code",
   "execution_count": 20,
   "id": "0335615c",
   "metadata": {},
   "outputs": [
    {
     "data": {
      "text/plain": [
       "1-element view(::PooledArrays.PooledVector{String7, UInt32, Vector{UInt32}}, [15]) with eltype String7:\n",
       " \"Male\""
      ]
     },
     "execution_count": 20,
     "metadata": {},
     "output_type": "execute_result"
    }
   ],
   "source": [
    "df[(df[!,:sex] .== \"male\"),:sex].=\"Male\"\n",
    "df[(df[!,:sex] .== \"Femle\"),:sex].=\"Female\"\n",
    "df[(df[!,:sex] .== \"Femle\"),:sex].=\"Female\"\n",
    "df[(df[!,:sex] .== \"Mal\"),:sex].=\"Male\"\n",
    "df[(df[!,:sex] .== \"female\"),:sex].=\"Female\"\n",
    "df[(df[!,:sex] .== \"Man\"),:sex].=\"Male\""
   ]
  },
  {
   "cell_type": "code",
   "execution_count": 21,
   "id": "1e06bc35",
   "metadata": {},
   "outputs": [
    {
     "data": {
      "text/plain": [
       "2-element Vector{String7}:\n",
       " \"Male\"\n",
       " \"Female\""
      ]
     },
     "execution_count": 21,
     "metadata": {},
     "output_type": "execute_result"
    }
   ],
   "source": [
    "unique(df.sex)"
   ]
  },
  {
   "cell_type": "code",
   "execution_count": 22,
   "id": "1f151bd7",
   "metadata": {},
   "outputs": [
    {
     "data": {
      "text/html": [
       "<div><div style = \"float: left;\"><span>30161×15 DataFrame</span></div><div style = \"float: right;\"><span style = \"font-style: italic;\">30136 rows omitted</span></div><div style = \"clear: both;\"></div></div><div class = \"data-frame\" style = \"overflow-x: scroll;\"><table class = \"data-frame\" style = \"margin-bottom: 6px;\"><thead><tr class = \"header\"><th class = \"rowNumber\" style = \"font-weight: bold; text-align: right;\">Row</th><th style = \"text-align: left;\">age</th><th style = \"text-align: left;\">workclass</th><th style = \"text-align: left;\">fnlwgt</th><th style = \"text-align: left;\">education</th><th style = \"text-align: left;\">education-num</th><th style = \"text-align: left;\">marital-status</th><th style = \"text-align: left;\">occupation</th><th style = \"text-align: left;\">relationship</th><th style = \"text-align: left;\">race</th><th style = \"text-align: left;\">sex</th><th style = \"text-align: left;\">capital-gain</th><th style = \"text-align: left;\">capital-loss</th><th style = \"text-align: left;\">hours-per-week</th><th style = \"text-align: left;\">native-country</th><th style = \"text-align: left;\">mas50</th></tr><tr class = \"subheader headerLastRow\"><th class = \"rowNumber\" style = \"font-weight: bold; text-align: right;\"></th><th title = \"Int64\" style = \"text-align: left;\">Int64</th><th title = \"Union{Missing, String31}\" style = \"text-align: left;\">String31?</th><th title = \"Int64\" style = \"text-align: left;\">Int64</th><th title = \"String15\" style = \"text-align: left;\">String15</th><th title = \"Int64\" style = \"text-align: left;\">Int64</th><th title = \"String31\" style = \"text-align: left;\">String31</th><th title = \"Union{Missing, String31}\" style = \"text-align: left;\">String31?</th><th title = \"String15\" style = \"text-align: left;\">String15</th><th title = \"String31\" style = \"text-align: left;\">String31</th><th title = \"String7\" style = \"text-align: left;\">String7</th><th title = \"Int64\" style = \"text-align: left;\">Int64</th><th title = \"Int64\" style = \"text-align: left;\">Int64</th><th title = \"Int64\" style = \"text-align: left;\">Int64</th><th title = \"Union{Missing, String31}\" style = \"text-align: left;\">String31?</th><th title = \"String7\" style = \"text-align: left;\">String7</th></tr></thead><tbody><tr><td class = \"rowNumber\" style = \"font-weight: bold; text-align: right;\">1</td><td style = \"text-align: right;\">39</td><td style = \"text-align: left;\">State-gov</td><td style = \"text-align: right;\">77516</td><td style = \"text-align: left;\">Bachelors</td><td style = \"text-align: right;\">13</td><td style = \"text-align: left;\">Never-married</td><td style = \"text-align: left;\">Adm-clerical</td><td style = \"text-align: left;\">Not-in-family</td><td style = \"text-align: left;\">White</td><td style = \"text-align: left;\">Male</td><td style = \"text-align: right;\">2174</td><td style = \"text-align: right;\">0</td><td style = \"text-align: right;\">40</td><td style = \"text-align: left;\">United-States</td><td style = \"text-align: left;\">&lt;=50K</td></tr><tr><td class = \"rowNumber\" style = \"font-weight: bold; text-align: right;\">2</td><td style = \"text-align: right;\">50</td><td style = \"text-align: left;\">Self-emp-not-inc</td><td style = \"text-align: right;\">83311</td><td style = \"text-align: left;\">Bachelors</td><td style = \"text-align: right;\">13</td><td style = \"text-align: left;\">Married-civ-spouse</td><td style = \"text-align: left;\">Exec-managerial</td><td style = \"text-align: left;\">Husband</td><td style = \"text-align: left;\">White</td><td style = \"text-align: left;\">Male</td><td style = \"text-align: right;\">0</td><td style = \"text-align: right;\">0</td><td style = \"text-align: right;\">13</td><td style = \"text-align: left;\">United-States</td><td style = \"text-align: left;\">&lt;=50K</td></tr><tr><td class = \"rowNumber\" style = \"font-weight: bold; text-align: right;\">3</td><td style = \"text-align: right;\">38</td><td style = \"text-align: left;\">Private</td><td style = \"text-align: right;\">215646</td><td style = \"text-align: left;\">HS-grad</td><td style = \"text-align: right;\">9</td><td style = \"text-align: left;\">Divorced</td><td style = \"text-align: left;\">Handlers-cleaners</td><td style = \"text-align: left;\">Not-in-family</td><td style = \"text-align: left;\">White</td><td style = \"text-align: left;\">Male</td><td style = \"text-align: right;\">0</td><td style = \"text-align: right;\">0</td><td style = \"text-align: right;\">40</td><td style = \"text-align: left;\">United-States</td><td style = \"text-align: left;\">&lt;=50K</td></tr><tr><td class = \"rowNumber\" style = \"font-weight: bold; text-align: right;\">4</td><td style = \"text-align: right;\">53</td><td style = \"text-align: left;\">Private</td><td style = \"text-align: right;\">234721</td><td style = \"text-align: left;\">11th</td><td style = \"text-align: right;\">7</td><td style = \"text-align: left;\">Married-civ-spouse</td><td style = \"text-align: left;\">Handlers-cleaners</td><td style = \"text-align: left;\">Husband</td><td style = \"text-align: left;\">Black</td><td style = \"text-align: left;\">Male</td><td style = \"text-align: right;\">0</td><td style = \"text-align: right;\">0</td><td style = \"text-align: right;\">40</td><td style = \"text-align: left;\">United-States</td><td style = \"text-align: left;\">&lt;=50K</td></tr><tr><td class = \"rowNumber\" style = \"font-weight: bold; text-align: right;\">5</td><td style = \"text-align: right;\">28</td><td style = \"text-align: left;\">Private</td><td style = \"text-align: right;\">338409</td><td style = \"text-align: left;\">Bachelors</td><td style = \"text-align: right;\">13</td><td style = \"text-align: left;\">Married-civ-spouse</td><td style = \"text-align: left;\">Prof-specialty</td><td style = \"text-align: left;\">Wife</td><td style = \"text-align: left;\">Black</td><td style = \"text-align: left;\">Female</td><td style = \"text-align: right;\">0</td><td style = \"text-align: right;\">0</td><td style = \"text-align: right;\">40</td><td style = \"text-align: left;\">Cuba</td><td style = \"text-align: left;\">&lt;=50K</td></tr><tr><td class = \"rowNumber\" style = \"font-weight: bold; text-align: right;\">6</td><td style = \"text-align: right;\">37</td><td style = \"text-align: left;\">Private</td><td style = \"text-align: right;\">284582</td><td style = \"text-align: left;\">Masters</td><td style = \"text-align: right;\">14</td><td style = \"text-align: left;\">Married-civ-spouse</td><td style = \"text-align: left;\">Exec-managerial</td><td style = \"text-align: left;\">Wife</td><td style = \"text-align: left;\">White</td><td style = \"text-align: left;\">Female</td><td style = \"text-align: right;\">0</td><td style = \"text-align: right;\">0</td><td style = \"text-align: right;\">40</td><td style = \"text-align: left;\">United-States</td><td style = \"text-align: left;\">&lt;=50K</td></tr><tr><td class = \"rowNumber\" style = \"font-weight: bold; text-align: right;\">7</td><td style = \"text-align: right;\">49</td><td style = \"text-align: left;\">Private</td><td style = \"text-align: right;\">160187</td><td style = \"text-align: left;\">9th</td><td style = \"text-align: right;\">5</td><td style = \"text-align: left;\">Married-spouse-absent</td><td style = \"text-align: left;\">Other-service</td><td style = \"text-align: left;\">Not-in-family</td><td style = \"text-align: left;\">Black</td><td style = \"text-align: left;\">Female</td><td style = \"text-align: right;\">0</td><td style = \"text-align: right;\">0</td><td style = \"text-align: right;\">16</td><td style = \"text-align: left;\">Jamaica</td><td style = \"text-align: left;\">&lt;=50K</td></tr><tr><td class = \"rowNumber\" style = \"font-weight: bold; text-align: right;\">8</td><td style = \"text-align: right;\">52</td><td style = \"text-align: left;\">Self-emp-not-inc</td><td style = \"text-align: right;\">209642</td><td style = \"text-align: left;\">HS-grad</td><td style = \"text-align: right;\">9</td><td style = \"text-align: left;\">Married-civ-spouse</td><td style = \"text-align: left;\">Exec-managerial</td><td style = \"text-align: left;\">Husband</td><td style = \"text-align: left;\">White</td><td style = \"text-align: left;\">Male</td><td style = \"text-align: right;\">0</td><td style = \"text-align: right;\">0</td><td style = \"text-align: right;\">45</td><td style = \"text-align: left;\">United-States</td><td style = \"text-align: left;\">&gt;50K</td></tr><tr><td class = \"rowNumber\" style = \"font-weight: bold; text-align: right;\">9</td><td style = \"text-align: right;\">31</td><td style = \"text-align: left;\">Private</td><td style = \"text-align: right;\">45781</td><td style = \"text-align: left;\">Masters</td><td style = \"text-align: right;\">14</td><td style = \"text-align: left;\">Never-married</td><td style = \"text-align: left;\">Prof-specialty</td><td style = \"text-align: left;\">Not-in-family</td><td style = \"text-align: left;\">White</td><td style = \"text-align: left;\">Female</td><td style = \"text-align: right;\">14084</td><td style = \"text-align: right;\">0</td><td style = \"text-align: right;\">50</td><td style = \"text-align: left;\">United-States</td><td style = \"text-align: left;\">&gt;50K</td></tr><tr><td class = \"rowNumber\" style = \"font-weight: bold; text-align: right;\">10</td><td style = \"text-align: right;\">42</td><td style = \"text-align: left;\">Private</td><td style = \"text-align: right;\">159449</td><td style = \"text-align: left;\">Bachelors</td><td style = \"text-align: right;\">13</td><td style = \"text-align: left;\">Married-civ-spouse</td><td style = \"text-align: left;\">Exec-managerial</td><td style = \"text-align: left;\">Husband</td><td style = \"text-align: left;\">White</td><td style = \"text-align: left;\">Male</td><td style = \"text-align: right;\">5178</td><td style = \"text-align: right;\">0</td><td style = \"text-align: right;\">40</td><td style = \"text-align: left;\">United-States</td><td style = \"text-align: left;\">&gt;50K</td></tr><tr><td class = \"rowNumber\" style = \"font-weight: bold; text-align: right;\">11</td><td style = \"text-align: right;\">37</td><td style = \"text-align: left;\">Private</td><td style = \"text-align: right;\">280464</td><td style = \"text-align: left;\">Some-college</td><td style = \"text-align: right;\">10</td><td style = \"text-align: left;\">Married-civ-spouse</td><td style = \"text-align: left;\">Exec-managerial</td><td style = \"text-align: left;\">Husband</td><td style = \"text-align: left;\">Black</td><td style = \"text-align: left;\">Male</td><td style = \"text-align: right;\">0</td><td style = \"text-align: right;\">0</td><td style = \"text-align: right;\">80</td><td style = \"text-align: left;\">United-States</td><td style = \"text-align: left;\">&gt;50K</td></tr><tr><td class = \"rowNumber\" style = \"font-weight: bold; text-align: right;\">12</td><td style = \"text-align: right;\">30</td><td style = \"text-align: left;\">State-gov</td><td style = \"text-align: right;\">141297</td><td style = \"text-align: left;\">Bachelors</td><td style = \"text-align: right;\">13</td><td style = \"text-align: left;\">Married-civ-spouse</td><td style = \"text-align: left;\">Prof-specialty</td><td style = \"text-align: left;\">Husband</td><td style = \"text-align: left;\">Asian-Pac-Islander</td><td style = \"text-align: left;\">Male</td><td style = \"text-align: right;\">0</td><td style = \"text-align: right;\">0</td><td style = \"text-align: right;\">40</td><td style = \"text-align: left;\">India</td><td style = \"text-align: left;\">&gt;50K</td></tr><tr><td class = \"rowNumber\" style = \"font-weight: bold; text-align: right;\">13</td><td style = \"text-align: right;\">23</td><td style = \"text-align: left;\">Private</td><td style = \"text-align: right;\">122272</td><td style = \"text-align: left;\">Bachelors</td><td style = \"text-align: right;\">13</td><td style = \"text-align: left;\">Never-married</td><td style = \"text-align: left;\">Adm-clerical</td><td style = \"text-align: left;\">Own-child</td><td style = \"text-align: left;\">White</td><td style = \"text-align: left;\">Female</td><td style = \"text-align: right;\">0</td><td style = \"text-align: right;\">0</td><td style = \"text-align: right;\">30</td><td style = \"text-align: left;\">United-States</td><td style = \"text-align: left;\">&lt;=50K</td></tr><tr><td style = \"text-align: right;\">&vellip;</td><td style = \"text-align: right;\">&vellip;</td><td style = \"text-align: right;\">&vellip;</td><td style = \"text-align: right;\">&vellip;</td><td style = \"text-align: right;\">&vellip;</td><td style = \"text-align: right;\">&vellip;</td><td style = \"text-align: right;\">&vellip;</td><td style = \"text-align: right;\">&vellip;</td><td style = \"text-align: right;\">&vellip;</td><td style = \"text-align: right;\">&vellip;</td><td style = \"text-align: right;\">&vellip;</td><td style = \"text-align: right;\">&vellip;</td><td style = \"text-align: right;\">&vellip;</td><td style = \"text-align: right;\">&vellip;</td><td style = \"text-align: right;\">&vellip;</td><td style = \"text-align: right;\">&vellip;</td></tr><tr><td class = \"rowNumber\" style = \"font-weight: bold; text-align: right;\">30150</td><td style = \"text-align: right;\">65</td><td style = \"text-align: left;\">Self-emp-not-inc</td><td style = \"text-align: right;\">99359</td><td style = \"text-align: left;\">Prof-school</td><td style = \"text-align: right;\">15</td><td style = \"text-align: left;\">Never-married</td><td style = \"text-align: left;\">Prof-specialty</td><td style = \"text-align: left;\">Not-in-family</td><td style = \"text-align: left;\">White</td><td style = \"text-align: left;\">Male</td><td style = \"text-align: right;\">1086</td><td style = \"text-align: right;\">0</td><td style = \"text-align: right;\">60</td><td style = \"text-align: left;\">United-States</td><td style = \"text-align: left;\">&lt;=50K</td></tr><tr><td class = \"rowNumber\" style = \"font-weight: bold; text-align: right;\">30151</td><td style = \"text-align: right;\">43</td><td style = \"text-align: left;\">State-gov</td><td style = \"text-align: right;\">255835</td><td style = \"text-align: left;\">Some-college</td><td style = \"text-align: right;\">10</td><td style = \"text-align: left;\">Divorced</td><td style = \"text-align: left;\">Adm-clerical</td><td style = \"text-align: left;\">Other-relative</td><td style = \"text-align: left;\">White</td><td style = \"text-align: left;\">Female</td><td style = \"text-align: right;\">0</td><td style = \"text-align: right;\">0</td><td style = \"text-align: right;\">40</td><td style = \"text-align: left;\">United-States</td><td style = \"text-align: left;\">&lt;=50K</td></tr><tr><td class = \"rowNumber\" style = \"font-weight: bold; text-align: right;\">30152</td><td style = \"text-align: right;\">43</td><td style = \"text-align: left;\">Self-emp-not-inc</td><td style = \"text-align: right;\">27242</td><td style = \"text-align: left;\">Some-college</td><td style = \"text-align: right;\">10</td><td style = \"text-align: left;\">Married-civ-spouse</td><td style = \"text-align: left;\">Craft-repair</td><td style = \"text-align: left;\">Husband</td><td style = \"text-align: left;\">White</td><td style = \"text-align: left;\">Male</td><td style = \"text-align: right;\">0</td><td style = \"text-align: right;\">0</td><td style = \"text-align: right;\">50</td><td style = \"text-align: left;\">United-States</td><td style = \"text-align: left;\">&lt;=50K</td></tr><tr><td class = \"rowNumber\" style = \"font-weight: bold; text-align: right;\">30153</td><td style = \"text-align: right;\">32</td><td style = \"text-align: left;\">Private</td><td style = \"text-align: right;\">34066</td><td style = \"text-align: left;\">10th</td><td style = \"text-align: right;\">6</td><td style = \"text-align: left;\">Married-civ-spouse</td><td style = \"text-align: left;\">Handlers-cleaners</td><td style = \"text-align: left;\">Husband</td><td style = \"text-align: left;\">Amer-Indian-Eskimo</td><td style = \"text-align: left;\">Male</td><td style = \"text-align: right;\">0</td><td style = \"text-align: right;\">0</td><td style = \"text-align: right;\">40</td><td style = \"text-align: left;\">United-States</td><td style = \"text-align: left;\">&lt;=50K</td></tr><tr><td class = \"rowNumber\" style = \"font-weight: bold; text-align: right;\">30154</td><td style = \"text-align: right;\">43</td><td style = \"text-align: left;\">Private</td><td style = \"text-align: right;\">84661</td><td style = \"text-align: left;\">Assoc-voc</td><td style = \"text-align: right;\">11</td><td style = \"text-align: left;\">Married-civ-spouse</td><td style = \"text-align: left;\">Sales</td><td style = \"text-align: left;\">Husband</td><td style = \"text-align: left;\">White</td><td style = \"text-align: left;\">Male</td><td style = \"text-align: right;\">0</td><td style = \"text-align: right;\">0</td><td style = \"text-align: right;\">45</td><td style = \"text-align: left;\">United-States</td><td style = \"text-align: left;\">&lt;=50K</td></tr><tr><td class = \"rowNumber\" style = \"font-weight: bold; text-align: right;\">30155</td><td style = \"text-align: right;\">32</td><td style = \"text-align: left;\">Private</td><td style = \"text-align: right;\">116138</td><td style = \"text-align: left;\">Masters</td><td style = \"text-align: right;\">14</td><td style = \"text-align: left;\">Never-married</td><td style = \"text-align: left;\">Tech-support</td><td style = \"text-align: left;\">Not-in-family</td><td style = \"text-align: left;\">Asian-Pac-Islander</td><td style = \"text-align: left;\">Male</td><td style = \"text-align: right;\">0</td><td style = \"text-align: right;\">0</td><td style = \"text-align: right;\">11</td><td style = \"text-align: left;\">Taiwan</td><td style = \"text-align: left;\">&lt;=50K</td></tr><tr><td class = \"rowNumber\" style = \"font-weight: bold; text-align: right;\">30156</td><td style = \"text-align: right;\">53</td><td style = \"text-align: left;\">Private</td><td style = \"text-align: right;\">321865</td><td style = \"text-align: left;\">Masters</td><td style = \"text-align: right;\">14</td><td style = \"text-align: left;\">Married-civ-spouse</td><td style = \"text-align: left;\">Exec-managerial</td><td style = \"text-align: left;\">Husband</td><td style = \"text-align: left;\">White</td><td style = \"text-align: left;\">Male</td><td style = \"text-align: right;\">0</td><td style = \"text-align: right;\">0</td><td style = \"text-align: right;\">40</td><td style = \"text-align: left;\">United-States</td><td style = \"text-align: left;\">&gt;50K</td></tr><tr><td class = \"rowNumber\" style = \"font-weight: bold; text-align: right;\">30157</td><td style = \"text-align: right;\">22</td><td style = \"text-align: left;\">Private</td><td style = \"text-align: right;\">310152</td><td style = \"text-align: left;\">Some-college</td><td style = \"text-align: right;\">10</td><td style = \"text-align: left;\">Never-married</td><td style = \"text-align: left;\">Protective-serv</td><td style = \"text-align: left;\">Not-in-family</td><td style = \"text-align: left;\">White</td><td style = \"text-align: left;\">Male</td><td style = \"text-align: right;\">0</td><td style = \"text-align: right;\">0</td><td style = \"text-align: right;\">40</td><td style = \"text-align: left;\">United-States</td><td style = \"text-align: left;\">&lt;=50K</td></tr><tr><td class = \"rowNumber\" style = \"font-weight: bold; text-align: right;\">30158</td><td style = \"text-align: right;\">27</td><td style = \"text-align: left;\">Private</td><td style = \"text-align: right;\">257302</td><td style = \"text-align: left;\">Assoc-acdm</td><td style = \"text-align: right;\">12</td><td style = \"text-align: left;\">Married-civ-spouse</td><td style = \"text-align: left;\">Tech-support</td><td style = \"text-align: left;\">Wife</td><td style = \"text-align: left;\">White</td><td style = \"text-align: left;\">Female</td><td style = \"text-align: right;\">0</td><td style = \"text-align: right;\">0</td><td style = \"text-align: right;\">38</td><td style = \"text-align: left;\">United-States</td><td style = \"text-align: left;\">&lt;=50K</td></tr><tr><td class = \"rowNumber\" style = \"font-weight: bold; text-align: right;\">30159</td><td style = \"text-align: right;\">40</td><td style = \"text-align: left;\">Private</td><td style = \"text-align: right;\">154374</td><td style = \"text-align: left;\">HS-grad</td><td style = \"text-align: right;\">9</td><td style = \"text-align: left;\">Married-civ-spouse</td><td style = \"text-align: left;\">Machine-op-inspct</td><td style = \"text-align: left;\">Husband</td><td style = \"text-align: left;\">White</td><td style = \"text-align: left;\">Male</td><td style = \"text-align: right;\">0</td><td style = \"text-align: right;\">0</td><td style = \"text-align: right;\">40</td><td style = \"text-align: left;\">United-States</td><td style = \"text-align: left;\">&gt;50K</td></tr><tr><td class = \"rowNumber\" style = \"font-weight: bold; text-align: right;\">30160</td><td style = \"text-align: right;\">58</td><td style = \"text-align: left;\">Private</td><td style = \"text-align: right;\">151910</td><td style = \"text-align: left;\">HS-grad</td><td style = \"text-align: right;\">9</td><td style = \"text-align: left;\">Widowed</td><td style = \"text-align: left;\">Adm-clerical</td><td style = \"text-align: left;\">Unmarried</td><td style = \"text-align: left;\">White</td><td style = \"text-align: left;\">Female</td><td style = \"text-align: right;\">0</td><td style = \"text-align: right;\">0</td><td style = \"text-align: right;\">40</td><td style = \"text-align: left;\">United-States</td><td style = \"text-align: left;\">&lt;=50K</td></tr><tr><td class = \"rowNumber\" style = \"font-weight: bold; text-align: right;\">30161</td><td style = \"text-align: right;\">22</td><td style = \"text-align: left;\">Private</td><td style = \"text-align: right;\">201490</td><td style = \"text-align: left;\">HS-grad</td><td style = \"text-align: right;\">9</td><td style = \"text-align: left;\">Never-married</td><td style = \"text-align: left;\">Adm-clerical</td><td style = \"text-align: left;\">Own-child</td><td style = \"text-align: left;\">White</td><td style = \"text-align: left;\">Male</td><td style = \"text-align: right;\">0</td><td style = \"text-align: right;\">0</td><td style = \"text-align: right;\">20</td><td style = \"text-align: left;\">United-States</td><td style = \"text-align: left;\">&lt;=50K</td></tr></tbody></table></div>"
      ],
      "text/latex": [
       "\\begin{tabular}{r|ccccccccccccccc}\n",
       "\t& age & workclass & fnlwgt & education & education-num & marital-status & occupation & relationship & race & sex & capital-gain & capital-loss & hours-per-week & native-country & mas50\\\\\n",
       "\t\\hline\n",
       "\t& Int64 & String31? & Int64 & String15 & Int64 & String31 & String31? & String15 & String31 & String7 & Int64 & Int64 & Int64 & String31? & String7\\\\\n",
       "\t\\hline\n",
       "\t1 & 39 & State-gov & 77516 & Bachelors & 13 & Never-married & Adm-clerical & Not-in-family & White & Male & 2174 & 0 & 40 & United-States & <=50K \\\\\n",
       "\t2 & 50 & Self-emp-not-inc & 83311 & Bachelors & 13 & Married-civ-spouse & Exec-managerial & Husband & White & Male & 0 & 0 & 13 & United-States & <=50K \\\\\n",
       "\t3 & 38 & Private & 215646 & HS-grad & 9 & Divorced & Handlers-cleaners & Not-in-family & White & Male & 0 & 0 & 40 & United-States & <=50K \\\\\n",
       "\t4 & 53 & Private & 234721 & 11th & 7 & Married-civ-spouse & Handlers-cleaners & Husband & Black & Male & 0 & 0 & 40 & United-States & <=50K \\\\\n",
       "\t5 & 28 & Private & 338409 & Bachelors & 13 & Married-civ-spouse & Prof-specialty & Wife & Black & Female & 0 & 0 & 40 & Cuba & <=50K \\\\\n",
       "\t6 & 37 & Private & 284582 & Masters & 14 & Married-civ-spouse & Exec-managerial & Wife & White & Female & 0 & 0 & 40 & United-States & <=50K \\\\\n",
       "\t7 & 49 & Private & 160187 & 9th & 5 & Married-spouse-absent & Other-service & Not-in-family & Black & Female & 0 & 0 & 16 & Jamaica & <=50K \\\\\n",
       "\t8 & 52 & Self-emp-not-inc & 209642 & HS-grad & 9 & Married-civ-spouse & Exec-managerial & Husband & White & Male & 0 & 0 & 45 & United-States & >50K \\\\\n",
       "\t9 & 31 & Private & 45781 & Masters & 14 & Never-married & Prof-specialty & Not-in-family & White & Female & 14084 & 0 & 50 & United-States & >50K \\\\\n",
       "\t10 & 42 & Private & 159449 & Bachelors & 13 & Married-civ-spouse & Exec-managerial & Husband & White & Male & 5178 & 0 & 40 & United-States & >50K \\\\\n",
       "\t11 & 37 & Private & 280464 & Some-college & 10 & Married-civ-spouse & Exec-managerial & Husband & Black & Male & 0 & 0 & 80 & United-States & >50K \\\\\n",
       "\t12 & 30 & State-gov & 141297 & Bachelors & 13 & Married-civ-spouse & Prof-specialty & Husband & Asian-Pac-Islander & Male & 0 & 0 & 40 & India & >50K \\\\\n",
       "\t13 & 23 & Private & 122272 & Bachelors & 13 & Never-married & Adm-clerical & Own-child & White & Female & 0 & 0 & 30 & United-States & <=50K \\\\\n",
       "\t14 & 32 & Private & 205019 & Assoc-acdm & 12 & Never-married & Sales & Not-in-family & Black & Male & 0 & 0 & 50 & United-States & <=50K \\\\\n",
       "\t15 & 34 & Private & 245487 & 7th-8th & 4 & Married-civ-spouse & Transport-moving & Husband & Amer-Indian-Eskimo & Male & 0 & 0 & 45 & Mexico & <=50K \\\\\n",
       "\t16 & 25 & Self-emp-not-inc & 176756 & HS-grad & 9 & Never-married & Farming-fishing & Own-child & White & Male & 0 & 0 & 35 & United-States & <=50K \\\\\n",
       "\t17 & 32 & Private & 186824 & HS-grad & 9 & Never-married & Machine-op-inspct & Unmarried & White & Male & 0 & 0 & 40 & United-States & <=50K \\\\\n",
       "\t18 & 38 & Private & 28887 & 11th & 7 & Married-civ-spouse & Sales & Husband & White & Male & 0 & 0 & 50 & United-States & <=50K \\\\\n",
       "\t19 & 43 & Self-emp-not-inc & 292175 & Masters & 14 & Divorced & Exec-managerial & Unmarried & White & Female & 0 & 0 & 45 & United-States & >50K \\\\\n",
       "\t20 & 40 & Private & 193524 & Doctorate & 16 & Married-civ-spouse & Prof-specialty & Husband & White & Male & 0 & 0 & 60 & United-States & >50K \\\\\n",
       "\t21 & 54 & Private & 302146 & HS-grad & 9 & Separated & Other-service & Unmarried & Black & Female & 0 & 0 & 20 & United-States & <=50K \\\\\n",
       "\t22 & 35 & Federal-gov & 76845 & 9th & 5 & Married-civ-spouse & Farming-fishing & Husband & Black & Male & 0 & 0 & 40 & United-States & <=50K \\\\\n",
       "\t23 & 43 & Private & 117037 & 11th & 7 & Married-civ-spouse & Transport-moving & Husband & White & Male & 0 & 2042 & 40 & United-States & <=50K \\\\\n",
       "\t24 & 59 & Private & 109015 & HS-grad & 9 & Divorced & Tech-support & Unmarried & White & Female & 0 & 0 & 40 & United-States & <=50K \\\\\n",
       "\t25 & 56 & Local-gov & 216851 & Bachelors & 13 & Married-civ-spouse & Tech-support & Husband & White & Male & 0 & 0 & 40 & United-States & >50K \\\\\n",
       "\t26 & 19 & Private & 168294 & HS-grad & 9 & Never-married & Craft-repair & Own-child & White & Male & 0 & 0 & 40 & United-States & <=50K \\\\\n",
       "\t27 & 39 & Private & 367260 & HS-grad & 9 & Divorced & Exec-managerial & Not-in-family & White & Male & 0 & 0 & 80 & United-States & <=50K \\\\\n",
       "\t28 & 49 & Private & 193366 & HS-grad & 9 & Married-civ-spouse & Craft-repair & Husband & White & Male & 0 & 0 & 40 & United-States & <=50K \\\\\n",
       "\t29 & 23 & Local-gov & 190709 & Assoc-acdm & 12 & Never-married & Protective-serv & Not-in-family & White & Male & 0 & 0 & 52 & United-States & <=50K \\\\\n",
       "\t30 & 20 & Private & 266015 & Some-college & 10 & Never-married & Sales & Own-child & Black & Male & 0 & 0 & 44 & United-States & <=50K \\\\\n",
       "\t$\\dots$ & $\\dots$ & $\\dots$ & $\\dots$ & $\\dots$ & $\\dots$ & $\\dots$ & $\\dots$ & $\\dots$ & $\\dots$ & $\\dots$ & $\\dots$ & $\\dots$ & $\\dots$ & $\\dots$ & $\\dots$ \\\\\n",
       "\\end{tabular}\n"
      ],
      "text/plain": [
       "\u001b[1m30161×15 DataFrame\u001b[0m\n",
       "\u001b[1m   Row \u001b[0m│\u001b[1m age   \u001b[0m\u001b[1m workclass        \u001b[0m\u001b[1m fnlwgt \u001b[0m\u001b[1m education    \u001b[0m\u001b[1m education-num \u001b[0m\u001b[1m marital-status        \u001b[0m\u001b[1m occupation        \u001b[0m\u001b[1m relationship   \u001b[0m\u001b[1m race               \u001b[0m\u001b[1m sex     \u001b[0m\u001b[1m capital-gain \u001b[0m\u001b[1m capital-loss \u001b[0m\u001b[1m hours-per-week \u001b[0m\u001b[1m native-country \u001b[0m\u001b[1m mas50   \u001b[0m\n",
       "       │\u001b[90m Int64 \u001b[0m\u001b[90m String31?        \u001b[0m\u001b[90m Int64  \u001b[0m\u001b[90m String15     \u001b[0m\u001b[90m Int64         \u001b[0m\u001b[90m String31              \u001b[0m\u001b[90m String31?         \u001b[0m\u001b[90m String15       \u001b[0m\u001b[90m String31           \u001b[0m\u001b[90m String7 \u001b[0m\u001b[90m Int64        \u001b[0m\u001b[90m Int64        \u001b[0m\u001b[90m Int64          \u001b[0m\u001b[90m String31?      \u001b[0m\u001b[90m String7 \u001b[0m\n",
       "───────┼──────────────────────────────────────────────────────────────────────────────────────────────────────────────────────────────────────────────────────────────────────────────────────────────────────────────────────────\n",
       "     1 │    39  State-gov          77516  Bachelors                13  Never-married          Adm-clerical       Not-in-family   White               Male             2174             0              40  United-States   <=50K\n",
       "     2 │    50  Self-emp-not-inc   83311  Bachelors                13  Married-civ-spouse     Exec-managerial    Husband         White               Male                0             0              13  United-States   <=50K\n",
       "     3 │    38  Private           215646  HS-grad                   9  Divorced               Handlers-cleaners  Not-in-family   White               Male                0             0              40  United-States   <=50K\n",
       "     4 │    53  Private           234721  11th                      7  Married-civ-spouse     Handlers-cleaners  Husband         Black               Male                0             0              40  United-States   <=50K\n",
       "     5 │    28  Private           338409  Bachelors                13  Married-civ-spouse     Prof-specialty     Wife            Black               Female              0             0              40  Cuba            <=50K\n",
       "     6 │    37  Private           284582  Masters                  14  Married-civ-spouse     Exec-managerial    Wife            White               Female              0             0              40  United-States   <=50K\n",
       "     7 │    49  Private           160187  9th                       5  Married-spouse-absent  Other-service      Not-in-family   Black               Female              0             0              16  Jamaica         <=50K\n",
       "     8 │    52  Self-emp-not-inc  209642  HS-grad                   9  Married-civ-spouse     Exec-managerial    Husband         White               Male                0             0              45  United-States   >50K\n",
       "     9 │    31  Private            45781  Masters                  14  Never-married          Prof-specialty     Not-in-family   White               Female          14084             0              50  United-States   >50K\n",
       "    10 │    42  Private           159449  Bachelors                13  Married-civ-spouse     Exec-managerial    Husband         White               Male             5178             0              40  United-States   >50K\n",
       "    11 │    37  Private           280464  Some-college             10  Married-civ-spouse     Exec-managerial    Husband         Black               Male                0             0              80  United-States   >50K\n",
       "   ⋮   │   ⋮           ⋮            ⋮          ⋮              ⋮                  ⋮                    ⋮                ⋮                 ⋮              ⋮          ⋮             ⋮              ⋮               ⋮            ⋮\n",
       " 30152 │    43  Self-emp-not-inc   27242  Some-college             10  Married-civ-spouse     Craft-repair       Husband         White               Male                0             0              50  United-States   <=50K\n",
       " 30153 │    32  Private            34066  10th                      6  Married-civ-spouse     Handlers-cleaners  Husband         Amer-Indian-Eskimo  Male                0             0              40  United-States   <=50K\n",
       " 30154 │    43  Private            84661  Assoc-voc                11  Married-civ-spouse     Sales              Husband         White               Male                0             0              45  United-States   <=50K\n",
       " 30155 │    32  Private           116138  Masters                  14  Never-married          Tech-support       Not-in-family   Asian-Pac-Islander  Male                0             0              11  Taiwan          <=50K\n",
       " 30156 │    53  Private           321865  Masters                  14  Married-civ-spouse     Exec-managerial    Husband         White               Male                0             0              40  United-States   >50K\n",
       " 30157 │    22  Private           310152  Some-college             10  Never-married          Protective-serv    Not-in-family   White               Male                0             0              40  United-States   <=50K\n",
       " 30158 │    27  Private           257302  Assoc-acdm               12  Married-civ-spouse     Tech-support       Wife            White               Female              0             0              38  United-States   <=50K\n",
       " 30159 │    40  Private           154374  HS-grad                   9  Married-civ-spouse     Machine-op-inspct  Husband         White               Male                0             0              40  United-States   >50K\n",
       " 30160 │    58  Private           151910  HS-grad                   9  Widowed                Adm-clerical       Unmarried       White               Female              0             0              40  United-States   <=50K\n",
       " 30161 │    22  Private           201490  HS-grad                   9  Never-married          Adm-clerical       Own-child       White               Male                0             0              20  United-States   <=50K\n",
       "\u001b[36m                                                                                                                                                                                                                30140 rows omitted\u001b[0m"
      ]
     },
     "execution_count": 22,
     "metadata": {},
     "output_type": "execute_result"
    }
   ],
   "source": [
    "df[completecases(df),:]"
   ]
  },
  {
   "cell_type": "markdown",
   "id": "a9069984",
   "metadata": {},
   "source": [
    "## Datos Faltantes"
   ]
  },
  {
   "cell_type": "code",
   "execution_count": 24,
   "id": "d2f2d207",
   "metadata": {},
   "outputs": [
    {
     "name": "stderr",
     "output_type": "stream",
     "text": [
      "\u001b[32m\u001b[1m   Resolving\u001b[22m\u001b[39m package versions...\n",
      "\u001b[32m\u001b[1m    Updating\u001b[22m\u001b[39m `~/.julia/environments/v1.9/Project.toml`\n",
      "  \u001b[90m[2913bbd2] \u001b[39m\u001b[92m+ StatsBase v0.34.0\u001b[39m\n",
      "\u001b[32m\u001b[1m  No Changes\u001b[22m\u001b[39m to `~/.julia/environments/v1.9/Manifest.toml`\n"
     ]
    },
    {
     "data": {
      "text/plain": [
       "Dict{Union{Missing, String31}, Int64} with 9 entries:\n",
       "  String31(\"Never-worked\")     => 7\n",
       "  missing                      => 1836\n",
       "  String31(\"Private\")          => 22696\n",
       "  String31(\"Federal-gov\")      => 960\n",
       "  String31(\"Self-emp-inc\")     => 1115\n",
       "  String31(\"Without-pay\")      => 14\n",
       "  String31(\"Local-gov\")        => 2093\n",
       "  String31(\"State-gov\")        => 1298\n",
       "  String31(\"Self-emp-not-inc\") => 2541"
      ]
     },
     "execution_count": 24,
     "metadata": {},
     "output_type": "execute_result"
    }
   ],
   "source": [
    "using Pkg\n",
    "Pkg.add(\"StatsBase\")\n",
    "using StatsBase\n",
    "countmap(df[!,:workclass])"
   ]
  },
  {
   "cell_type": "code",
   "execution_count": 25,
   "id": "39469251",
   "metadata": {},
   "outputs": [
    {
     "data": {
      "text/plain": [
       "32560-element Vector{AbstractString}:\n",
       " \"State-gov\"\n",
       " \"Self-emp-not-inc\"\n",
       " \"Private\"\n",
       " \"Private\"\n",
       " \"Private\"\n",
       " \"Private\"\n",
       " \"Private\"\n",
       " \"Self-emp-not-inc\"\n",
       " \"Private\"\n",
       " \"Private\"\n",
       " \"Private\"\n",
       " \"State-gov\"\n",
       " \"Private\"\n",
       " ⋮\n",
       " \"Self-emp-not-inc\"\n",
       " \"State-gov\"\n",
       " \"Self-emp-not-inc\"\n",
       " \"Private\"\n",
       " \"Private\"\n",
       " \"Private\"\n",
       " \"Private\"\n",
       " \"Private\"\n",
       " \"Private\"\n",
       " \"Private\"\n",
       " \"Private\"\n",
       " \"Private\""
      ]
     },
     "execution_count": 25,
     "metadata": {},
     "output_type": "execute_result"
    }
   ],
   "source": [
    "# df[(df[!,:workclass] .== missing),:workclass].=\"Private\" No funciona porque aqui no hay nulos\n",
    "df[!,:workclass] = coalesce.(df[!,:workclass], \"Private\")"
   ]
  },
  {
   "cell_type": "code",
   "execution_count": 26,
   "id": "85305597",
   "metadata": {},
   "outputs": [
    {
     "data": {
      "text/plain": [
       "Dict{AbstractString, Int64} with 8 entries:\n",
       "  String31(\"Never-worked\")     => 7\n",
       "  String31(\"Private\")          => 24532\n",
       "  String31(\"Federal-gov\")      => 960\n",
       "  String31(\"Self-emp-inc\")     => 1115\n",
       "  String31(\"Without-pay\")      => 14\n",
       "  String31(\"Local-gov\")        => 2093\n",
       "  String31(\"State-gov\")        => 1298\n",
       "  String31(\"Self-emp-not-inc\") => 2541"
      ]
     },
     "execution_count": 26,
     "metadata": {},
     "output_type": "execute_result"
    }
   ],
   "source": [
    "countmap(df[!,:workclass])"
   ]
  },
  {
   "cell_type": "code",
   "execution_count": 29,
   "id": "d9a6d535",
   "metadata": {},
   "outputs": [
    {
     "data": {
      "text/plain": [
       "583"
      ]
     },
     "execution_count": 29,
     "metadata": {},
     "output_type": "execute_result"
    }
   ],
   "source": [
    "countmap(df[!,:\"native-country\"])[missing]"
   ]
  },
  {
   "cell_type": "code",
   "execution_count": 31,
   "id": "462dc0a9",
   "metadata": {},
   "outputs": [
    {
     "data": {
      "text/plain": [
       "Dict{AbstractString, Int64} with 42 entries:\n",
       "  String31(\"Philippines\")                => 198\n",
       "  String31(\"Holand-Netherlands\")         => 1\n",
       "  String31(\"Jamaica\")                    => 81\n",
       "  String31(\"Puerto-Rico\")                => 114\n",
       "  String31(\"Cambodia\")                   => 19\n",
       "  String31(\"Peru\")                       => 31\n",
       "  String31(\"El-Salvador\")                => 106\n",
       "  String31(\"Outlying-US(Guam-USVI-etc)\") => 14\n",
       "  String31(\"Greece\")                     => 29\n",
       "  String31(\"Japan\")                      => 62\n",
       "  String31(\"Germany\")                    => 137\n",
       "  String31(\"Ecuador\")                    => 28\n",
       "  String31(\"Honduras\")                   => 13\n",
       "  String31(\"India\")                      => 100\n",
       "  String31(\"Columbia\")                   => 59\n",
       "  String31(\"Canada\")                     => 121\n",
       "  String31(\"France\")                     => 29\n",
       "  \"No country\"                           => 583\n",
       "  String31(\"Thailand\")                   => 18\n",
       "  String31(\"Haiti\")                      => 44\n",
       "  String31(\"Portugal\")                   => 37\n",
       "  String31(\"Mexico\")                     => 643\n",
       "  String31(\"Hong\")                       => 20\n",
       "  String31(\"England\")                    => 90\n",
       "  String31(\"Guatemala\")                  => 64\n",
       "  ⋮                                      => ⋮"
      ]
     },
     "execution_count": 31,
     "metadata": {},
     "output_type": "execute_result"
    }
   ],
   "source": [
    "df[!,:\"native-country\"] = coalesce.(df[!,:\"native-country\"], \"No country\");\n",
    "countmap(df[!,:\"native-country\"])"
   ]
  },
  {
   "cell_type": "code",
   "execution_count": 32,
   "id": "157b1706",
   "metadata": {},
   "outputs": [
    {
     "name": "stdout",
     "output_type": "stream",
     "text": [
      "(\"age\", Int64)\n",
      "(\"workclass\", AbstractString)\n",
      "(\"fnlwgt\", Int64)\n",
      "(\"education\", String15)\n",
      "(\"education-num\", Int64)\n",
      "(\"marital-status\", String31)\n",
      "(\"occupation\", Union{Missing, String31})\n",
      "(\"relationship\", String15)\n",
      "(\"race\", String31)\n",
      "(\"sex\", String7)\n",
      "(\"capital-gain\", Int64)\n",
      "(\"capital-loss\", Int64)\n",
      "(\"hours-per-week\", Int64)\n",
      "(\"native-country\", AbstractString)\n",
      "(\"mas50\", String7)\n"
     ]
    }
   ],
   "source": [
    "disallowmissing!(df, error=false);\n",
    "for i in zip(names(df), eltype.(eachcol(df)))\n",
    "    println(i)\n",
    "end"
   ]
  },
  {
   "cell_type": "code",
   "execution_count": 33,
   "id": "35bdcf33",
   "metadata": {},
   "outputs": [
    {
     "data": {
      "text/plain": [
       "Dict{AbstractString, Int64} with 15 entries:\n",
       "  String31(\"Farming-fishing\")   => 994\n",
       "  String31(\"Protective-serv\")   => 649\n",
       "  String31(\"Craft-repair\")      => 4099\n",
       "  String31(\"Adm-clerical\")      => 3770\n",
       "  String31(\"Machine-op-inspct\") => 2002\n",
       "  String31(\"Exec-managerial\")   => 4065\n",
       "  String31(\"Transport-moving\")  => 1597\n",
       "  String31(\"Prof-specialty\")    => 4140\n",
       "  String31(\"Handlers-cleaners\") => 1370\n",
       "  String31(\"Tech-support\")      => 928\n",
       "  String31(\"Other-service\")     => 3295\n",
       "  String31(\"Priv-house-serv\")   => 149\n",
       "  String31(\"Armed-Forces\")      => 9\n",
       "  \"Not Found\"                   => 1843\n",
       "  String31(\"Sales\")             => 3650"
      ]
     },
     "execution_count": 33,
     "metadata": {},
     "output_type": "execute_result"
    }
   ],
   "source": [
    "df[!,:occupation] = coalesce.(df[!,:occupation], \"Not Found\");\n",
    "countmap(df[!,:occupation])"
   ]
  },
  {
   "cell_type": "code",
   "execution_count": 34,
   "id": "dff28016",
   "metadata": {},
   "outputs": [
    {
     "name": "stdout",
     "output_type": "stream",
     "text": [
      "(\"age\", Int64)\n",
      "(\"workclass\", AbstractString)\n",
      "(\"fnlwgt\", Int64)\n",
      "(\"education\", String15)\n",
      "(\"education-num\", Int64)\n",
      "(\"marital-status\", String31)\n",
      "(\"occupation\", AbstractString)\n",
      "(\"relationship\", String15)\n",
      "(\"race\", String31)\n",
      "(\"sex\", String7)\n",
      "(\"capital-gain\", Int64)\n",
      "(\"capital-loss\", Int64)\n",
      "(\"hours-per-week\", Int64)\n",
      "(\"native-country\", AbstractString)\n",
      "(\"mas50\", String7)\n"
     ]
    },
    {
     "data": {
      "text/html": [
       "<div><div style = \"float: left;\"><span>32560×15 DataFrame</span></div><div style = \"float: right;\"><span style = \"font-style: italic;\">32535 rows omitted</span></div><div style = \"clear: both;\"></div></div><div class = \"data-frame\" style = \"overflow-x: scroll;\"><table class = \"data-frame\" style = \"margin-bottom: 6px;\"><thead><tr class = \"header\"><th class = \"rowNumber\" style = \"font-weight: bold; text-align: right;\">Row</th><th style = \"text-align: left;\">age</th><th style = \"text-align: left;\">workclass</th><th style = \"text-align: left;\">fnlwgt</th><th style = \"text-align: left;\">education</th><th style = \"text-align: left;\">education-num</th><th style = \"text-align: left;\">marital-status</th><th style = \"text-align: left;\">occupation</th><th style = \"text-align: left;\">relationship</th><th style = \"text-align: left;\">race</th><th style = \"text-align: left;\">sex</th><th style = \"text-align: left;\">capital-gain</th><th style = \"text-align: left;\">capital-loss</th><th style = \"text-align: left;\">hours-per-week</th><th style = \"text-align: left;\">native-country</th><th style = \"text-align: left;\">mas50</th></tr><tr class = \"subheader headerLastRow\"><th class = \"rowNumber\" style = \"font-weight: bold; text-align: right;\"></th><th title = \"Int64\" style = \"text-align: left;\">Int64</th><th title = \"AbstractString\" style = \"text-align: left;\">Abstract…</th><th title = \"Int64\" style = \"text-align: left;\">Int64</th><th title = \"String15\" style = \"text-align: left;\">String15</th><th title = \"Int64\" style = \"text-align: left;\">Int64</th><th title = \"String31\" style = \"text-align: left;\">String31</th><th title = \"AbstractString\" style = \"text-align: left;\">Abstract…</th><th title = \"String15\" style = \"text-align: left;\">String15</th><th title = \"String31\" style = \"text-align: left;\">String31</th><th title = \"String7\" style = \"text-align: left;\">String7</th><th title = \"Int64\" style = \"text-align: left;\">Int64</th><th title = \"Int64\" style = \"text-align: left;\">Int64</th><th title = \"Int64\" style = \"text-align: left;\">Int64</th><th title = \"AbstractString\" style = \"text-align: left;\">Abstract…</th><th title = \"String7\" style = \"text-align: left;\">String7</th></tr></thead><tbody><tr><td class = \"rowNumber\" style = \"font-weight: bold; text-align: right;\">1</td><td style = \"text-align: right;\">39</td><td style = \"text-align: left;\">State-gov</td><td style = \"text-align: right;\">77516</td><td style = \"text-align: left;\">Bachelors</td><td style = \"text-align: right;\">13</td><td style = \"text-align: left;\">Never-married</td><td style = \"text-align: left;\">Adm-clerical</td><td style = \"text-align: left;\">Not-in-family</td><td style = \"text-align: left;\">White</td><td style = \"text-align: left;\">Male</td><td style = \"text-align: right;\">2174</td><td style = \"text-align: right;\">0</td><td style = \"text-align: right;\">40</td><td style = \"text-align: left;\">United-States</td><td style = \"text-align: left;\">&lt;=50K</td></tr><tr><td class = \"rowNumber\" style = \"font-weight: bold; text-align: right;\">2</td><td style = \"text-align: right;\">50</td><td style = \"text-align: left;\">Self-emp-not-inc</td><td style = \"text-align: right;\">83311</td><td style = \"text-align: left;\">Bachelors</td><td style = \"text-align: right;\">13</td><td style = \"text-align: left;\">Married-civ-spouse</td><td style = \"text-align: left;\">Exec-managerial</td><td style = \"text-align: left;\">Husband</td><td style = \"text-align: left;\">White</td><td style = \"text-align: left;\">Male</td><td style = \"text-align: right;\">0</td><td style = \"text-align: right;\">0</td><td style = \"text-align: right;\">13</td><td style = \"text-align: left;\">United-States</td><td style = \"text-align: left;\">&lt;=50K</td></tr><tr><td class = \"rowNumber\" style = \"font-weight: bold; text-align: right;\">3</td><td style = \"text-align: right;\">38</td><td style = \"text-align: left;\">Private</td><td style = \"text-align: right;\">215646</td><td style = \"text-align: left;\">HS-grad</td><td style = \"text-align: right;\">9</td><td style = \"text-align: left;\">Divorced</td><td style = \"text-align: left;\">Handlers-cleaners</td><td style = \"text-align: left;\">Not-in-family</td><td style = \"text-align: left;\">White</td><td style = \"text-align: left;\">Male</td><td style = \"text-align: right;\">0</td><td style = \"text-align: right;\">0</td><td style = \"text-align: right;\">40</td><td style = \"text-align: left;\">United-States</td><td style = \"text-align: left;\">&lt;=50K</td></tr><tr><td class = \"rowNumber\" style = \"font-weight: bold; text-align: right;\">4</td><td style = \"text-align: right;\">53</td><td style = \"text-align: left;\">Private</td><td style = \"text-align: right;\">234721</td><td style = \"text-align: left;\">11th</td><td style = \"text-align: right;\">7</td><td style = \"text-align: left;\">Married-civ-spouse</td><td style = \"text-align: left;\">Handlers-cleaners</td><td style = \"text-align: left;\">Husband</td><td style = \"text-align: left;\">Black</td><td style = \"text-align: left;\">Male</td><td style = \"text-align: right;\">0</td><td style = \"text-align: right;\">0</td><td style = \"text-align: right;\">40</td><td style = \"text-align: left;\">United-States</td><td style = \"text-align: left;\">&lt;=50K</td></tr><tr><td class = \"rowNumber\" style = \"font-weight: bold; text-align: right;\">5</td><td style = \"text-align: right;\">28</td><td style = \"text-align: left;\">Private</td><td style = \"text-align: right;\">338409</td><td style = \"text-align: left;\">Bachelors</td><td style = \"text-align: right;\">13</td><td style = \"text-align: left;\">Married-civ-spouse</td><td style = \"text-align: left;\">Prof-specialty</td><td style = \"text-align: left;\">Wife</td><td style = \"text-align: left;\">Black</td><td style = \"text-align: left;\">Female</td><td style = \"text-align: right;\">0</td><td style = \"text-align: right;\">0</td><td style = \"text-align: right;\">40</td><td style = \"text-align: left;\">Cuba</td><td style = \"text-align: left;\">&lt;=50K</td></tr><tr><td class = \"rowNumber\" style = \"font-weight: bold; text-align: right;\">6</td><td style = \"text-align: right;\">37</td><td style = \"text-align: left;\">Private</td><td style = \"text-align: right;\">284582</td><td style = \"text-align: left;\">Masters</td><td style = \"text-align: right;\">14</td><td style = \"text-align: left;\">Married-civ-spouse</td><td style = \"text-align: left;\">Exec-managerial</td><td style = \"text-align: left;\">Wife</td><td style = \"text-align: left;\">White</td><td style = \"text-align: left;\">Female</td><td style = \"text-align: right;\">0</td><td style = \"text-align: right;\">0</td><td style = \"text-align: right;\">40</td><td style = \"text-align: left;\">United-States</td><td style = \"text-align: left;\">&lt;=50K</td></tr><tr><td class = \"rowNumber\" style = \"font-weight: bold; text-align: right;\">7</td><td style = \"text-align: right;\">49</td><td style = \"text-align: left;\">Private</td><td style = \"text-align: right;\">160187</td><td style = \"text-align: left;\">9th</td><td style = \"text-align: right;\">5</td><td style = \"text-align: left;\">Married-spouse-absent</td><td style = \"text-align: left;\">Other-service</td><td style = \"text-align: left;\">Not-in-family</td><td style = \"text-align: left;\">Black</td><td style = \"text-align: left;\">Female</td><td style = \"text-align: right;\">0</td><td style = \"text-align: right;\">0</td><td style = \"text-align: right;\">16</td><td style = \"text-align: left;\">Jamaica</td><td style = \"text-align: left;\">&lt;=50K</td></tr><tr><td class = \"rowNumber\" style = \"font-weight: bold; text-align: right;\">8</td><td style = \"text-align: right;\">52</td><td style = \"text-align: left;\">Self-emp-not-inc</td><td style = \"text-align: right;\">209642</td><td style = \"text-align: left;\">HS-grad</td><td style = \"text-align: right;\">9</td><td style = \"text-align: left;\">Married-civ-spouse</td><td style = \"text-align: left;\">Exec-managerial</td><td style = \"text-align: left;\">Husband</td><td style = \"text-align: left;\">White</td><td style = \"text-align: left;\">Male</td><td style = \"text-align: right;\">0</td><td style = \"text-align: right;\">0</td><td style = \"text-align: right;\">45</td><td style = \"text-align: left;\">United-States</td><td style = \"text-align: left;\">&gt;50K</td></tr><tr><td class = \"rowNumber\" style = \"font-weight: bold; text-align: right;\">9</td><td style = \"text-align: right;\">31</td><td style = \"text-align: left;\">Private</td><td style = \"text-align: right;\">45781</td><td style = \"text-align: left;\">Masters</td><td style = \"text-align: right;\">14</td><td style = \"text-align: left;\">Never-married</td><td style = \"text-align: left;\">Prof-specialty</td><td style = \"text-align: left;\">Not-in-family</td><td style = \"text-align: left;\">White</td><td style = \"text-align: left;\">Female</td><td style = \"text-align: right;\">14084</td><td style = \"text-align: right;\">0</td><td style = \"text-align: right;\">50</td><td style = \"text-align: left;\">United-States</td><td style = \"text-align: left;\">&gt;50K</td></tr><tr><td class = \"rowNumber\" style = \"font-weight: bold; text-align: right;\">10</td><td style = \"text-align: right;\">42</td><td style = \"text-align: left;\">Private</td><td style = \"text-align: right;\">159449</td><td style = \"text-align: left;\">Bachelors</td><td style = \"text-align: right;\">13</td><td style = \"text-align: left;\">Married-civ-spouse</td><td style = \"text-align: left;\">Exec-managerial</td><td style = \"text-align: left;\">Husband</td><td style = \"text-align: left;\">White</td><td style = \"text-align: left;\">Male</td><td style = \"text-align: right;\">5178</td><td style = \"text-align: right;\">0</td><td style = \"text-align: right;\">40</td><td style = \"text-align: left;\">United-States</td><td style = \"text-align: left;\">&gt;50K</td></tr><tr><td class = \"rowNumber\" style = \"font-weight: bold; text-align: right;\">11</td><td style = \"text-align: right;\">37</td><td style = \"text-align: left;\">Private</td><td style = \"text-align: right;\">280464</td><td style = \"text-align: left;\">Some-college</td><td style = \"text-align: right;\">10</td><td style = \"text-align: left;\">Married-civ-spouse</td><td style = \"text-align: left;\">Exec-managerial</td><td style = \"text-align: left;\">Husband</td><td style = \"text-align: left;\">Black</td><td style = \"text-align: left;\">Male</td><td style = \"text-align: right;\">0</td><td style = \"text-align: right;\">0</td><td style = \"text-align: right;\">80</td><td style = \"text-align: left;\">United-States</td><td style = \"text-align: left;\">&gt;50K</td></tr><tr><td class = \"rowNumber\" style = \"font-weight: bold; text-align: right;\">12</td><td style = \"text-align: right;\">30</td><td style = \"text-align: left;\">State-gov</td><td style = \"text-align: right;\">141297</td><td style = \"text-align: left;\">Bachelors</td><td style = \"text-align: right;\">13</td><td style = \"text-align: left;\">Married-civ-spouse</td><td style = \"text-align: left;\">Prof-specialty</td><td style = \"text-align: left;\">Husband</td><td style = \"text-align: left;\">Asian-Pac-Islander</td><td style = \"text-align: left;\">Male</td><td style = \"text-align: right;\">0</td><td style = \"text-align: right;\">0</td><td style = \"text-align: right;\">40</td><td style = \"text-align: left;\">India</td><td style = \"text-align: left;\">&gt;50K</td></tr><tr><td class = \"rowNumber\" style = \"font-weight: bold; text-align: right;\">13</td><td style = \"text-align: right;\">23</td><td style = \"text-align: left;\">Private</td><td style = \"text-align: right;\">122272</td><td style = \"text-align: left;\">Bachelors</td><td style = \"text-align: right;\">13</td><td style = \"text-align: left;\">Never-married</td><td style = \"text-align: left;\">Adm-clerical</td><td style = \"text-align: left;\">Own-child</td><td style = \"text-align: left;\">White</td><td style = \"text-align: left;\">Female</td><td style = \"text-align: right;\">0</td><td style = \"text-align: right;\">0</td><td style = \"text-align: right;\">30</td><td style = \"text-align: left;\">United-States</td><td style = \"text-align: left;\">&lt;=50K</td></tr><tr><td style = \"text-align: right;\">&vellip;</td><td style = \"text-align: right;\">&vellip;</td><td style = \"text-align: right;\">&vellip;</td><td style = \"text-align: right;\">&vellip;</td><td style = \"text-align: right;\">&vellip;</td><td style = \"text-align: right;\">&vellip;</td><td style = \"text-align: right;\">&vellip;</td><td style = \"text-align: right;\">&vellip;</td><td style = \"text-align: right;\">&vellip;</td><td style = \"text-align: right;\">&vellip;</td><td style = \"text-align: right;\">&vellip;</td><td style = \"text-align: right;\">&vellip;</td><td style = \"text-align: right;\">&vellip;</td><td style = \"text-align: right;\">&vellip;</td><td style = \"text-align: right;\">&vellip;</td><td style = \"text-align: right;\">&vellip;</td></tr><tr><td class = \"rowNumber\" style = \"font-weight: bold; text-align: right;\">32549</td><td style = \"text-align: right;\">65</td><td style = \"text-align: left;\">Self-emp-not-inc</td><td style = \"text-align: right;\">99359</td><td style = \"text-align: left;\">Prof-school</td><td style = \"text-align: right;\">15</td><td style = \"text-align: left;\">Never-married</td><td style = \"text-align: left;\">Prof-specialty</td><td style = \"text-align: left;\">Not-in-family</td><td style = \"text-align: left;\">White</td><td style = \"text-align: left;\">Male</td><td style = \"text-align: right;\">1086</td><td style = \"text-align: right;\">0</td><td style = \"text-align: right;\">60</td><td style = \"text-align: left;\">United-States</td><td style = \"text-align: left;\">&lt;=50K</td></tr><tr><td class = \"rowNumber\" style = \"font-weight: bold; text-align: right;\">32550</td><td style = \"text-align: right;\">43</td><td style = \"text-align: left;\">State-gov</td><td style = \"text-align: right;\">255835</td><td style = \"text-align: left;\">Some-college</td><td style = \"text-align: right;\">10</td><td style = \"text-align: left;\">Divorced</td><td style = \"text-align: left;\">Adm-clerical</td><td style = \"text-align: left;\">Other-relative</td><td style = \"text-align: left;\">White</td><td style = \"text-align: left;\">Female</td><td style = \"text-align: right;\">0</td><td style = \"text-align: right;\">0</td><td style = \"text-align: right;\">40</td><td style = \"text-align: left;\">United-States</td><td style = \"text-align: left;\">&lt;=50K</td></tr><tr><td class = \"rowNumber\" style = \"font-weight: bold; text-align: right;\">32551</td><td style = \"text-align: right;\">43</td><td style = \"text-align: left;\">Self-emp-not-inc</td><td style = \"text-align: right;\">27242</td><td style = \"text-align: left;\">Some-college</td><td style = \"text-align: right;\">10</td><td style = \"text-align: left;\">Married-civ-spouse</td><td style = \"text-align: left;\">Craft-repair</td><td style = \"text-align: left;\">Husband</td><td style = \"text-align: left;\">White</td><td style = \"text-align: left;\">Male</td><td style = \"text-align: right;\">0</td><td style = \"text-align: right;\">0</td><td style = \"text-align: right;\">50</td><td style = \"text-align: left;\">United-States</td><td style = \"text-align: left;\">&lt;=50K</td></tr><tr><td class = \"rowNumber\" style = \"font-weight: bold; text-align: right;\">32552</td><td style = \"text-align: right;\">32</td><td style = \"text-align: left;\">Private</td><td style = \"text-align: right;\">34066</td><td style = \"text-align: left;\">10th</td><td style = \"text-align: right;\">6</td><td style = \"text-align: left;\">Married-civ-spouse</td><td style = \"text-align: left;\">Handlers-cleaners</td><td style = \"text-align: left;\">Husband</td><td style = \"text-align: left;\">Amer-Indian-Eskimo</td><td style = \"text-align: left;\">Male</td><td style = \"text-align: right;\">0</td><td style = \"text-align: right;\">0</td><td style = \"text-align: right;\">40</td><td style = \"text-align: left;\">United-States</td><td style = \"text-align: left;\">&lt;=50K</td></tr><tr><td class = \"rowNumber\" style = \"font-weight: bold; text-align: right;\">32553</td><td style = \"text-align: right;\">43</td><td style = \"text-align: left;\">Private</td><td style = \"text-align: right;\">84661</td><td style = \"text-align: left;\">Assoc-voc</td><td style = \"text-align: right;\">11</td><td style = \"text-align: left;\">Married-civ-spouse</td><td style = \"text-align: left;\">Sales</td><td style = \"text-align: left;\">Husband</td><td style = \"text-align: left;\">White</td><td style = \"text-align: left;\">Male</td><td style = \"text-align: right;\">0</td><td style = \"text-align: right;\">0</td><td style = \"text-align: right;\">45</td><td style = \"text-align: left;\">United-States</td><td style = \"text-align: left;\">&lt;=50K</td></tr><tr><td class = \"rowNumber\" style = \"font-weight: bold; text-align: right;\">32554</td><td style = \"text-align: right;\">32</td><td style = \"text-align: left;\">Private</td><td style = \"text-align: right;\">116138</td><td style = \"text-align: left;\">Masters</td><td style = \"text-align: right;\">14</td><td style = \"text-align: left;\">Never-married</td><td style = \"text-align: left;\">Tech-support</td><td style = \"text-align: left;\">Not-in-family</td><td style = \"text-align: left;\">Asian-Pac-Islander</td><td style = \"text-align: left;\">Male</td><td style = \"text-align: right;\">0</td><td style = \"text-align: right;\">0</td><td style = \"text-align: right;\">11</td><td style = \"text-align: left;\">Taiwan</td><td style = \"text-align: left;\">&lt;=50K</td></tr><tr><td class = \"rowNumber\" style = \"font-weight: bold; text-align: right;\">32555</td><td style = \"text-align: right;\">53</td><td style = \"text-align: left;\">Private</td><td style = \"text-align: right;\">321865</td><td style = \"text-align: left;\">Masters</td><td style = \"text-align: right;\">14</td><td style = \"text-align: left;\">Married-civ-spouse</td><td style = \"text-align: left;\">Exec-managerial</td><td style = \"text-align: left;\">Husband</td><td style = \"text-align: left;\">White</td><td style = \"text-align: left;\">Male</td><td style = \"text-align: right;\">0</td><td style = \"text-align: right;\">0</td><td style = \"text-align: right;\">40</td><td style = \"text-align: left;\">United-States</td><td style = \"text-align: left;\">&gt;50K</td></tr><tr><td class = \"rowNumber\" style = \"font-weight: bold; text-align: right;\">32556</td><td style = \"text-align: right;\">22</td><td style = \"text-align: left;\">Private</td><td style = \"text-align: right;\">310152</td><td style = \"text-align: left;\">Some-college</td><td style = \"text-align: right;\">10</td><td style = \"text-align: left;\">Never-married</td><td style = \"text-align: left;\">Protective-serv</td><td style = \"text-align: left;\">Not-in-family</td><td style = \"text-align: left;\">White</td><td style = \"text-align: left;\">Male</td><td style = \"text-align: right;\">0</td><td style = \"text-align: right;\">0</td><td style = \"text-align: right;\">40</td><td style = \"text-align: left;\">United-States</td><td style = \"text-align: left;\">&lt;=50K</td></tr><tr><td class = \"rowNumber\" style = \"font-weight: bold; text-align: right;\">32557</td><td style = \"text-align: right;\">27</td><td style = \"text-align: left;\">Private</td><td style = \"text-align: right;\">257302</td><td style = \"text-align: left;\">Assoc-acdm</td><td style = \"text-align: right;\">12</td><td style = \"text-align: left;\">Married-civ-spouse</td><td style = \"text-align: left;\">Tech-support</td><td style = \"text-align: left;\">Wife</td><td style = \"text-align: left;\">White</td><td style = \"text-align: left;\">Female</td><td style = \"text-align: right;\">0</td><td style = \"text-align: right;\">0</td><td style = \"text-align: right;\">38</td><td style = \"text-align: left;\">United-States</td><td style = \"text-align: left;\">&lt;=50K</td></tr><tr><td class = \"rowNumber\" style = \"font-weight: bold; text-align: right;\">32558</td><td style = \"text-align: right;\">40</td><td style = \"text-align: left;\">Private</td><td style = \"text-align: right;\">154374</td><td style = \"text-align: left;\">HS-grad</td><td style = \"text-align: right;\">9</td><td style = \"text-align: left;\">Married-civ-spouse</td><td style = \"text-align: left;\">Machine-op-inspct</td><td style = \"text-align: left;\">Husband</td><td style = \"text-align: left;\">White</td><td style = \"text-align: left;\">Male</td><td style = \"text-align: right;\">0</td><td style = \"text-align: right;\">0</td><td style = \"text-align: right;\">40</td><td style = \"text-align: left;\">United-States</td><td style = \"text-align: left;\">&gt;50K</td></tr><tr><td class = \"rowNumber\" style = \"font-weight: bold; text-align: right;\">32559</td><td style = \"text-align: right;\">58</td><td style = \"text-align: left;\">Private</td><td style = \"text-align: right;\">151910</td><td style = \"text-align: left;\">HS-grad</td><td style = \"text-align: right;\">9</td><td style = \"text-align: left;\">Widowed</td><td style = \"text-align: left;\">Adm-clerical</td><td style = \"text-align: left;\">Unmarried</td><td style = \"text-align: left;\">White</td><td style = \"text-align: left;\">Female</td><td style = \"text-align: right;\">0</td><td style = \"text-align: right;\">0</td><td style = \"text-align: right;\">40</td><td style = \"text-align: left;\">United-States</td><td style = \"text-align: left;\">&lt;=50K</td></tr><tr><td class = \"rowNumber\" style = \"font-weight: bold; text-align: right;\">32560</td><td style = \"text-align: right;\">22</td><td style = \"text-align: left;\">Private</td><td style = \"text-align: right;\">201490</td><td style = \"text-align: left;\">HS-grad</td><td style = \"text-align: right;\">9</td><td style = \"text-align: left;\">Never-married</td><td style = \"text-align: left;\">Adm-clerical</td><td style = \"text-align: left;\">Own-child</td><td style = \"text-align: left;\">White</td><td style = \"text-align: left;\">Male</td><td style = \"text-align: right;\">0</td><td style = \"text-align: right;\">0</td><td style = \"text-align: right;\">20</td><td style = \"text-align: left;\">United-States</td><td style = \"text-align: left;\">&lt;=50K</td></tr></tbody></table></div>"
      ],
      "text/latex": [
       "\\begin{tabular}{r|ccccccccccccccc}\n",
       "\t& age & workclass & fnlwgt & education & education-num & marital-status & occupation & relationship & race & sex & capital-gain & capital-loss & hours-per-week & native-country & mas50\\\\\n",
       "\t\\hline\n",
       "\t& Int64 & Abstract… & Int64 & String15 & Int64 & String31 & Abstract… & String15 & String31 & String7 & Int64 & Int64 & Int64 & Abstract… & String7\\\\\n",
       "\t\\hline\n",
       "\t1 & 39 & State-gov & 77516 & Bachelors & 13 & Never-married & Adm-clerical & Not-in-family & White & Male & 2174 & 0 & 40 & United-States & <=50K \\\\\n",
       "\t2 & 50 & Self-emp-not-inc & 83311 & Bachelors & 13 & Married-civ-spouse & Exec-managerial & Husband & White & Male & 0 & 0 & 13 & United-States & <=50K \\\\\n",
       "\t3 & 38 & Private & 215646 & HS-grad & 9 & Divorced & Handlers-cleaners & Not-in-family & White & Male & 0 & 0 & 40 & United-States & <=50K \\\\\n",
       "\t4 & 53 & Private & 234721 & 11th & 7 & Married-civ-spouse & Handlers-cleaners & Husband & Black & Male & 0 & 0 & 40 & United-States & <=50K \\\\\n",
       "\t5 & 28 & Private & 338409 & Bachelors & 13 & Married-civ-spouse & Prof-specialty & Wife & Black & Female & 0 & 0 & 40 & Cuba & <=50K \\\\\n",
       "\t6 & 37 & Private & 284582 & Masters & 14 & Married-civ-spouse & Exec-managerial & Wife & White & Female & 0 & 0 & 40 & United-States & <=50K \\\\\n",
       "\t7 & 49 & Private & 160187 & 9th & 5 & Married-spouse-absent & Other-service & Not-in-family & Black & Female & 0 & 0 & 16 & Jamaica & <=50K \\\\\n",
       "\t8 & 52 & Self-emp-not-inc & 209642 & HS-grad & 9 & Married-civ-spouse & Exec-managerial & Husband & White & Male & 0 & 0 & 45 & United-States & >50K \\\\\n",
       "\t9 & 31 & Private & 45781 & Masters & 14 & Never-married & Prof-specialty & Not-in-family & White & Female & 14084 & 0 & 50 & United-States & >50K \\\\\n",
       "\t10 & 42 & Private & 159449 & Bachelors & 13 & Married-civ-spouse & Exec-managerial & Husband & White & Male & 5178 & 0 & 40 & United-States & >50K \\\\\n",
       "\t11 & 37 & Private & 280464 & Some-college & 10 & Married-civ-spouse & Exec-managerial & Husband & Black & Male & 0 & 0 & 80 & United-States & >50K \\\\\n",
       "\t12 & 30 & State-gov & 141297 & Bachelors & 13 & Married-civ-spouse & Prof-specialty & Husband & Asian-Pac-Islander & Male & 0 & 0 & 40 & India & >50K \\\\\n",
       "\t13 & 23 & Private & 122272 & Bachelors & 13 & Never-married & Adm-clerical & Own-child & White & Female & 0 & 0 & 30 & United-States & <=50K \\\\\n",
       "\t14 & 32 & Private & 205019 & Assoc-acdm & 12 & Never-married & Sales & Not-in-family & Black & Male & 0 & 0 & 50 & United-States & <=50K \\\\\n",
       "\t15 & 40 & Private & 121772 & Assoc-voc & 11 & Married-civ-spouse & Craft-repair & Husband & Asian-Pac-Islander & Male & 0 & 0 & 40 & No country & >50K \\\\\n",
       "\t16 & 34 & Private & 245487 & 7th-8th & 4 & Married-civ-spouse & Transport-moving & Husband & Amer-Indian-Eskimo & Male & 0 & 0 & 45 & Mexico & <=50K \\\\\n",
       "\t17 & 25 & Self-emp-not-inc & 176756 & HS-grad & 9 & Never-married & Farming-fishing & Own-child & White & Male & 0 & 0 & 35 & United-States & <=50K \\\\\n",
       "\t18 & 32 & Private & 186824 & HS-grad & 9 & Never-married & Machine-op-inspct & Unmarried & White & Male & 0 & 0 & 40 & United-States & <=50K \\\\\n",
       "\t19 & 38 & Private & 28887 & 11th & 7 & Married-civ-spouse & Sales & Husband & White & Male & 0 & 0 & 50 & United-States & <=50K \\\\\n",
       "\t20 & 43 & Self-emp-not-inc & 292175 & Masters & 14 & Divorced & Exec-managerial & Unmarried & White & Female & 0 & 0 & 45 & United-States & >50K \\\\\n",
       "\t21 & 40 & Private & 193524 & Doctorate & 16 & Married-civ-spouse & Prof-specialty & Husband & White & Male & 0 & 0 & 60 & United-States & >50K \\\\\n",
       "\t22 & 54 & Private & 302146 & HS-grad & 9 & Separated & Other-service & Unmarried & Black & Female & 0 & 0 & 20 & United-States & <=50K \\\\\n",
       "\t23 & 35 & Federal-gov & 76845 & 9th & 5 & Married-civ-spouse & Farming-fishing & Husband & Black & Male & 0 & 0 & 40 & United-States & <=50K \\\\\n",
       "\t24 & 43 & Private & 117037 & 11th & 7 & Married-civ-spouse & Transport-moving & Husband & White & Male & 0 & 2042 & 40 & United-States & <=50K \\\\\n",
       "\t25 & 59 & Private & 109015 & HS-grad & 9 & Divorced & Tech-support & Unmarried & White & Female & 0 & 0 & 40 & United-States & <=50K \\\\\n",
       "\t26 & 56 & Local-gov & 216851 & Bachelors & 13 & Married-civ-spouse & Tech-support & Husband & White & Male & 0 & 0 & 40 & United-States & >50K \\\\\n",
       "\t27 & 19 & Private & 168294 & HS-grad & 9 & Never-married & Craft-repair & Own-child & White & Male & 0 & 0 & 40 & United-States & <=50K \\\\\n",
       "\t28 & 54 & Private & 180211 & Some-college & 10 & Married-civ-spouse & Not Found & Husband & Asian-Pac-Islander & Male & 0 & 0 & 60 & South & >50K \\\\\n",
       "\t29 & 39 & Private & 367260 & HS-grad & 9 & Divorced & Exec-managerial & Not-in-family & White & Male & 0 & 0 & 80 & United-States & <=50K \\\\\n",
       "\t30 & 49 & Private & 193366 & HS-grad & 9 & Married-civ-spouse & Craft-repair & Husband & White & Male & 0 & 0 & 40 & United-States & <=50K \\\\\n",
       "\t$\\dots$ & $\\dots$ & $\\dots$ & $\\dots$ & $\\dots$ & $\\dots$ & $\\dots$ & $\\dots$ & $\\dots$ & $\\dots$ & $\\dots$ & $\\dots$ & $\\dots$ & $\\dots$ & $\\dots$ & $\\dots$ \\\\\n",
       "\\end{tabular}\n"
      ],
      "text/plain": [
       "\u001b[1m32560×15 DataFrame\u001b[0m\n",
       "\u001b[1m   Row \u001b[0m│\u001b[1m age   \u001b[0m\u001b[1m workclass        \u001b[0m\u001b[1m fnlwgt \u001b[0m\u001b[1m education    \u001b[0m\u001b[1m education-num \u001b[0m\u001b[1m marital-status        \u001b[0m\u001b[1m occupation        \u001b[0m\u001b[1m relationship   \u001b[0m\u001b[1m race               \u001b[0m\u001b[1m sex     \u001b[0m\u001b[1m capital-gain \u001b[0m\u001b[1m capital-loss \u001b[0m\u001b[1m hours-per-week \u001b[0m\u001b[1m native-country \u001b[0m\u001b[1m mas50   \u001b[0m\n",
       "       │\u001b[90m Int64 \u001b[0m\u001b[90m Abstract…        \u001b[0m\u001b[90m Int64  \u001b[0m\u001b[90m String15     \u001b[0m\u001b[90m Int64         \u001b[0m\u001b[90m String31              \u001b[0m\u001b[90m Abstract…         \u001b[0m\u001b[90m String15       \u001b[0m\u001b[90m String31           \u001b[0m\u001b[90m String7 \u001b[0m\u001b[90m Int64        \u001b[0m\u001b[90m Int64        \u001b[0m\u001b[90m Int64          \u001b[0m\u001b[90m Abstract…      \u001b[0m\u001b[90m String7 \u001b[0m\n",
       "───────┼──────────────────────────────────────────────────────────────────────────────────────────────────────────────────────────────────────────────────────────────────────────────────────────────────────────────────────────\n",
       "     1 │    39  State-gov          77516  Bachelors                13  Never-married          Adm-clerical       Not-in-family   White               Male             2174             0              40  United-States   <=50K\n",
       "     2 │    50  Self-emp-not-inc   83311  Bachelors                13  Married-civ-spouse     Exec-managerial    Husband         White               Male                0             0              13  United-States   <=50K\n",
       "     3 │    38  Private           215646  HS-grad                   9  Divorced               Handlers-cleaners  Not-in-family   White               Male                0             0              40  United-States   <=50K\n",
       "     4 │    53  Private           234721  11th                      7  Married-civ-spouse     Handlers-cleaners  Husband         Black               Male                0             0              40  United-States   <=50K\n",
       "     5 │    28  Private           338409  Bachelors                13  Married-civ-spouse     Prof-specialty     Wife            Black               Female              0             0              40  Cuba            <=50K\n",
       "     6 │    37  Private           284582  Masters                  14  Married-civ-spouse     Exec-managerial    Wife            White               Female              0             0              40  United-States   <=50K\n",
       "     7 │    49  Private           160187  9th                       5  Married-spouse-absent  Other-service      Not-in-family   Black               Female              0             0              16  Jamaica         <=50K\n",
       "     8 │    52  Self-emp-not-inc  209642  HS-grad                   9  Married-civ-spouse     Exec-managerial    Husband         White               Male                0             0              45  United-States   >50K\n",
       "     9 │    31  Private            45781  Masters                  14  Never-married          Prof-specialty     Not-in-family   White               Female          14084             0              50  United-States   >50K\n",
       "    10 │    42  Private           159449  Bachelors                13  Married-civ-spouse     Exec-managerial    Husband         White               Male             5178             0              40  United-States   >50K\n",
       "    11 │    37  Private           280464  Some-college             10  Married-civ-spouse     Exec-managerial    Husband         Black               Male                0             0              80  United-States   >50K\n",
       "   ⋮   │   ⋮           ⋮            ⋮          ⋮              ⋮                  ⋮                    ⋮                ⋮                 ⋮              ⋮          ⋮             ⋮              ⋮               ⋮            ⋮\n",
       " 32551 │    43  Self-emp-not-inc   27242  Some-college             10  Married-civ-spouse     Craft-repair       Husband         White               Male                0             0              50  United-States   <=50K\n",
       " 32552 │    32  Private            34066  10th                      6  Married-civ-spouse     Handlers-cleaners  Husband         Amer-Indian-Eskimo  Male                0             0              40  United-States   <=50K\n",
       " 32553 │    43  Private            84661  Assoc-voc                11  Married-civ-spouse     Sales              Husband         White               Male                0             0              45  United-States   <=50K\n",
       " 32554 │    32  Private           116138  Masters                  14  Never-married          Tech-support       Not-in-family   Asian-Pac-Islander  Male                0             0              11  Taiwan          <=50K\n",
       " 32555 │    53  Private           321865  Masters                  14  Married-civ-spouse     Exec-managerial    Husband         White               Male                0             0              40  United-States   >50K\n",
       " 32556 │    22  Private           310152  Some-college             10  Never-married          Protective-serv    Not-in-family   White               Male                0             0              40  United-States   <=50K\n",
       " 32557 │    27  Private           257302  Assoc-acdm               12  Married-civ-spouse     Tech-support       Wife            White               Female              0             0              38  United-States   <=50K\n",
       " 32558 │    40  Private           154374  HS-grad                   9  Married-civ-spouse     Machine-op-inspct  Husband         White               Male                0             0              40  United-States   >50K\n",
       " 32559 │    58  Private           151910  HS-grad                   9  Widowed                Adm-clerical       Unmarried       White               Female              0             0              40  United-States   <=50K\n",
       " 32560 │    22  Private           201490  HS-grad                   9  Never-married          Adm-clerical       Own-child       White               Male                0             0              20  United-States   <=50K\n",
       "\u001b[36m                                                                                                                                                                                                                32539 rows omitted\u001b[0m"
      ]
     },
     "execution_count": 34,
     "metadata": {},
     "output_type": "execute_result"
    }
   ],
   "source": [
    "df = df[completecases(df),:]\n",
    "disallowmissing!(df, error=false);\n",
    "for i in zip(names(df), eltype.(eachcol(df)))\n",
    "    println(i)\n",
    "end\n",
    "df"
   ]
  },
  {
   "cell_type": "markdown",
   "id": "c7719a41",
   "metadata": {},
   "source": [
    "## Normalizacion y escalamiento"
   ]
  },
  {
   "cell_type": "code",
   "execution_count": 35,
   "id": "20c72867",
   "metadata": {},
   "outputs": [
    {
     "name": "stderr",
     "output_type": "stream",
     "text": [
      "\u001b[32m\u001b[1m   Resolving\u001b[22m\u001b[39m package versions...\n",
      "\u001b[32m\u001b[1m   Installed\u001b[22m\u001b[39m ScikitLearnBase ─ v0.5.0\n",
      "\u001b[32m\u001b[1m   Installed\u001b[22m\u001b[39m SentinelArrays ── v1.4.0\n",
      "\u001b[32m\u001b[1m   Installed\u001b[22m\u001b[39m LogExpFunctions ─ v0.3.24\n",
      "\u001b[32m\u001b[1m   Installed\u001b[22m\u001b[39m PyCall ────────── v1.95.1\n",
      "\u001b[32m\u001b[1m   Installed\u001b[22m\u001b[39m IJulia ────────── v1.24.2\n",
      "\u001b[32m\u001b[1m   Installed\u001b[22m\u001b[39m StatsBase ─────── v0.33.21\n",
      "\u001b[32m\u001b[1m   Installed\u001b[22m\u001b[39m UnPack ────────── v1.0.2\n",
      "\u001b[32m\u001b[1m   Installed\u001b[22m\u001b[39m OpenSSL_jll ───── v1.1.21+0\n",
      "\u001b[32m\u001b[1m   Installed\u001b[22m\u001b[39m IterTools ─────── v1.8.0\n",
      "\u001b[32m\u001b[1m   Installed\u001b[22m\u001b[39m Plots ─────────── v1.38.15\n",
      "\u001b[32m\u001b[1m   Installed\u001b[22m\u001b[39m PrecompileTools ─ v1.1.2\n",
      "\u001b[32m\u001b[1m   Installed\u001b[22m\u001b[39m Parameters ────── v0.12.3\n",
      "\u001b[32m\u001b[1m   Installed\u001b[22m\u001b[39m ScikitLearn ───── v0.7.0\n",
      "\u001b[32m\u001b[1m    Updating\u001b[22m\u001b[39m `~/.julia/environments/v1.9/Project.toml`\n",
      "  \u001b[90m[7073ff75] \u001b[39m\u001b[93m↑ IJulia v1.24.0 ⇒ v1.24.2\u001b[39m\n",
      "  \u001b[90m[91a5bcdd] \u001b[39m\u001b[93m↑ Plots v1.38.14 ⇒ v1.38.15\u001b[39m\n",
      "  \u001b[90m[3646fa90] \u001b[39m\u001b[92m+ ScikitLearn v0.7.0\u001b[39m\n",
      "\u001b[33m⌅\u001b[39m \u001b[90m[2913bbd2] \u001b[39m\u001b[95m↓ StatsBase v0.34.0 ⇒ v0.33.21\u001b[39m\n",
      "\u001b[32m\u001b[1m    Updating\u001b[22m\u001b[39m `~/.julia/environments/v1.9/Manifest.toml`\n",
      "  \u001b[90m[7073ff75] \u001b[39m\u001b[93m↑ IJulia v1.24.0 ⇒ v1.24.2\u001b[39m\n",
      "  \u001b[90m[c8e1da08] \u001b[39m\u001b[92m+ IterTools v1.8.0\u001b[39m\n",
      "  \u001b[90m[2ab3a3ac] \u001b[39m\u001b[93m↑ LogExpFunctions v0.3.23 ⇒ v0.3.24\u001b[39m\n",
      "  \u001b[90m[d96e819e] \u001b[39m\u001b[92m+ Parameters v0.12.3\u001b[39m\n",
      "  \u001b[90m[91a5bcdd] \u001b[39m\u001b[93m↑ Plots v1.38.14 ⇒ v1.38.15\u001b[39m\n",
      "  \u001b[90m[aea7be01] \u001b[39m\u001b[93m↑ PrecompileTools v1.1.1 ⇒ v1.1.2\u001b[39m\n",
      "  \u001b[90m[438e738f] \u001b[39m\u001b[92m+ PyCall v1.95.1\u001b[39m\n",
      "  \u001b[90m[3646fa90] \u001b[39m\u001b[92m+ ScikitLearn v0.7.0\u001b[39m\n",
      "  \u001b[90m[6e75b9c4] \u001b[39m\u001b[92m+ ScikitLearnBase v0.5.0\u001b[39m\n",
      "  \u001b[90m[91c51154] \u001b[39m\u001b[93m↑ SentinelArrays v1.3.18 ⇒ v1.4.0\u001b[39m\n",
      "\u001b[33m⌅\u001b[39m \u001b[90m[2913bbd2] \u001b[39m\u001b[95m↓ StatsBase v0.34.0 ⇒ v0.33.21\u001b[39m\n",
      "  \u001b[90m[3a884ed6] \u001b[39m\u001b[92m+ UnPack v1.0.2\u001b[39m\n",
      "\u001b[33m⌅\u001b[39m \u001b[90m[458c3c95] \u001b[39m\u001b[93m↑ OpenSSL_jll v1.1.20+0 ⇒ v1.1.21+0\u001b[39m\n",
      "  \u001b[90m[8ba89e20] \u001b[39m\u001b[92m+ Distributed\u001b[39m\n",
      "\u001b[36m\u001b[1m        Info\u001b[22m\u001b[39m Packages marked with \u001b[33m⌅\u001b[39m have new versions available but compatibility constraints restrict them from upgrading. To see why use `status --outdated -m`\n",
      "\u001b[32m\u001b[1m    Building\u001b[22m\u001b[39m PyCall → `~/.julia/scratchspaces/44cfe95a-1eb2-52ea-b672-e2afdf69b78f/62f417f6ad727987c755549e9cd88c46578da562/build.log`\n",
      "\u001b[32m\u001b[1m    Building\u001b[22m\u001b[39m IJulia → `~/.julia/scratchspaces/44cfe95a-1eb2-52ea-b672-e2afdf69b78f/47ac8cc196b81001a711f4b2c12c97372338f00c/build.log`\n",
      "\u001b[32m\u001b[1mPrecompiling\u001b[22m\u001b[39m project...\n",
      "\u001b[32m  ✓ \u001b[39m\u001b[90mUnPack\u001b[39m\n",
      "\u001b[33m  ✓ \u001b[39m\u001b[90mPrecompileTools\u001b[39m\n",
      "\u001b[32m  ✓ \u001b[39m\u001b[90mScikitLearnBase\u001b[39m\n",
      "\u001b[32m  ✓ \u001b[39m\u001b[90mIterTools\u001b[39m\n",
      "\u001b[32m  ✓ \u001b[39m\u001b[90mOpenSSL_jll\u001b[39m\n",
      "\u001b[33m  ✓ \u001b[39m\u001b[90mLogExpFunctions\u001b[39m\n",
      "\u001b[32m  ✓ \u001b[39m\u001b[90mParameters\u001b[39m\n",
      "\u001b[33m  ✓ \u001b[39m\u001b[90mSentinelArrays\u001b[39m\n",
      "\u001b[32m  ✓ \u001b[39m\u001b[90mRecipesBase\u001b[39m\n",
      "\u001b[32m  ✓ \u001b[39m\u001b[90mQt5Base_jll\u001b[39m\n",
      "\u001b[32m  ✓ \u001b[39m\u001b[90mFFMPEG_jll\u001b[39m\n",
      "\u001b[32m  ✓ \u001b[39m\u001b[90mOpenSSL\u001b[39m\n",
      "\u001b[32m  ✓ \u001b[39m\u001b[90mFFMPEG\u001b[39m\n",
      "\u001b[33m  ✓ \u001b[39mStatsBase\n",
      "\u001b[32m  ✓ \u001b[39m\u001b[90mGR_jll\u001b[39m\n",
      "\u001b[32m  ✓ \u001b[39m\u001b[90mSpecialFunctions\u001b[39m\n",
      "\u001b[32m  ✓ \u001b[39mHTTP\n",
      "\u001b[32m  ✓ \u001b[39m\u001b[90mColorVectorSpace\u001b[39m\n",
      "\u001b[32m  ✓ \u001b[39m\u001b[90mColorSchemes\u001b[39m\n",
      "\u001b[32m  ✓ \u001b[39m\u001b[90mPlotUtils\u001b[39m\n",
      "\u001b[33m  ✓ \u001b[39m\u001b[90mParsers\u001b[39m\n",
      "\u001b[33m  ✓ \u001b[39m\u001b[90mInlineStrings\u001b[39m\n",
      "\u001b[33m  ✓ \u001b[39mJSON\n",
      "\u001b[33m  ✓ \u001b[39m\u001b[90mWeakRefStrings\u001b[39m\n",
      "\u001b[33m  ✓ \u001b[39m\u001b[90mConda\u001b[39m\n",
      "\u001b[32m  ✓ \u001b[39m\u001b[90mPlotThemes\u001b[39m\n",
      "\u001b[32m  ✓ \u001b[39m\u001b[90mRecipesPipeline\u001b[39m\n",
      "\u001b[32m  ✓ \u001b[39mSQLite\n",
      "\u001b[32m  ✓ \u001b[39m\u001b[90mGR\u001b[39m\n",
      "\u001b[33m  ✓ \u001b[39mIJulia\n",
      "\u001b[32m  ✓ \u001b[39m\u001b[90mPyCall\u001b[39m\n",
      "\u001b[33m  ✓ \u001b[39mCSV\n",
      "\u001b[33m  ✓ \u001b[39mDataFrames\n",
      "\u001b[32m  ✓ \u001b[39m\u001b[90mLatexify → DataFramesExt\u001b[39m\n",
      "\u001b[32m  ✓ \u001b[39mScikitLearn\n",
      "\u001b[32m  ✓ \u001b[39mPlots\n",
      "\u001b[32m  ✓ \u001b[39m\u001b[90mPlots → IJuliaExt\u001b[39m\n",
      "\u001b[32m  ✓ \u001b[39m\u001b[90mPlots → UnitfulExt\u001b[39m\n",
      "  38 dependencies successfully precompiled in 61 seconds. 133 already precompiled.\n",
      "  \u001b[33m12\u001b[39m dependencies precompiled but different versions are currently loaded. Restart julia to access the new versions\n",
      "\u001b[36m\u001b[1m[ \u001b[22m\u001b[39m\u001b[36m\u001b[1mInfo: \u001b[22m\u001b[39mPrecompiling ScikitLearn [3646fa90-6ef7-5e7e-9f22-8aca16db6324]\n",
      "\u001b[33m\u001b[1m┌ \u001b[22m\u001b[39m\u001b[33m\u001b[1mWarning: \u001b[22m\u001b[39mModule Conda with build ID fafbfcfd-ecc7-1270-0000-00fb56951e2b is missing from the cache.\n",
      "\u001b[33m\u001b[1m│ \u001b[22m\u001b[39mThis may mean Conda [8f4d0f93-b110-5947-807f-2305c1781a2d] does not support precompilation but is imported by a module that does.\n",
      "\u001b[33m\u001b[1m└ \u001b[22m\u001b[39m\u001b[90m@ Base loading.jl:1758\u001b[39m\n",
      "\u001b[33m\u001b[1m┌ \u001b[22m\u001b[39m\u001b[33m\u001b[1mWarning: \u001b[22m\u001b[39mModule Conda with build ID fafbfcfd-ecc7-1270-0000-00fb56951e2b is missing from the cache.\n",
      "\u001b[33m\u001b[1m│ \u001b[22m\u001b[39mThis may mean Conda [8f4d0f93-b110-5947-807f-2305c1781a2d] does not support precompilation but is imported by a module that does.\n",
      "\u001b[33m\u001b[1m└ \u001b[22m\u001b[39m\u001b[90m@ Base loading.jl:1758\u001b[39m\n",
      "\u001b[36m\u001b[1m[ \u001b[22m\u001b[39m\u001b[36m\u001b[1mInfo: \u001b[22m\u001b[39mSkipping precompilation since __precompile__(false). Importing ScikitLearn [3646fa90-6ef7-5e7e-9f22-8aca16db6324].\n",
      "\u001b[36m\u001b[1m[ \u001b[22m\u001b[39m\u001b[36m\u001b[1mInfo: \u001b[22m\u001b[39mPrecompiling PyCall [438e738f-606a-5dbb-bf0a-cddfbfd45ab0]\n",
      "\u001b[33m\u001b[1m┌ \u001b[22m\u001b[39m\u001b[33m\u001b[1mWarning: \u001b[22m\u001b[39mModule Conda with build ID fafbfcfd-ecc7-1270-0000-00fb56951e2b is missing from the cache.\n",
      "\u001b[33m\u001b[1m│ \u001b[22m\u001b[39mThis may mean Conda [8f4d0f93-b110-5947-807f-2305c1781a2d] does not support precompilation but is imported by a module that does.\n",
      "\u001b[33m\u001b[1m└ \u001b[22m\u001b[39m\u001b[90m@ Base loading.jl:1758\u001b[39m\n",
      "\u001b[36m\u001b[1m[ \u001b[22m\u001b[39m\u001b[36m\u001b[1mInfo: \u001b[22m\u001b[39mSkipping precompilation since __precompile__(false). Importing PyCall [438e738f-606a-5dbb-bf0a-cddfbfd45ab0].\n",
      "\u001b[36m\u001b[1m[ \u001b[22m\u001b[39m\u001b[36m\u001b[1mInfo: \u001b[22m\u001b[39mmkl not found, proceeding to installing non-mkl versions of sci-kit learn via Conda\n",
      "\u001b[36m\u001b[1m[ \u001b[22m\u001b[39m\u001b[36m\u001b[1mInfo: \u001b[22m\u001b[39mRunning `conda install -y -c conda-forge 'scikit-learn>=1.2,<1.3'` in root environment\n"
     ]
    },
    {
     "name": "stdout",
     "output_type": "stream",
     "text": [
      "Collecting package metadata (current_repodata.json): ...working... done\n",
      "Solving environment: ...working... done\n",
      "\n",
      "## Package Plan ##\n",
      "\n",
      "  environment location: /Users/robertomora/.julia/conda/3/aarch64\n",
      "\n",
      "  added / updated specs:\n",
      "    - scikit-learn[version='>=1.2,<1.3']\n",
      "\n",
      "\n",
      "The following packages will be downloaded:\n",
      "\n",
      "    package                    |            build\n",
      "    ---------------------------|-----------------\n",
      "    joblib-1.2.0               |     pyhd8ed1ab_0         205 KB  conda-forge\n",
      "    platformdirs-3.5.1         |     pyhd8ed1ab_0          18 KB  conda-forge\n",
      "    pooch-1.7.0                |     pyha770c72_3          50 KB  conda-forge\n",
      "    scikit-learn-1.2.2         |  py310h02d4e2a_2         6.8 MB  conda-forge\n",
      "    scipy-1.10.1               |  py310h0975f3d_3        13.4 MB  conda-forge\n",
      "    threadpoolctl-3.1.0        |     pyh8a188c0_0          18 KB  conda-forge\n",
      "    typing-extensions-4.6.3    |       hd8ed1ab_0          10 KB  conda-forge\n",
      "    typing_extensions-4.6.3    |     pyha770c72_0          34 KB  conda-forge\n",
      "    ------------------------------------------------------------\n",
      "                                           Total:        20.5 MB\n",
      "\n",
      "The following NEW packages will be INSTALLED:\n",
      "\n",
      "  joblib             conda-forge/noarch::joblib-1.2.0-pyhd8ed1ab_0 \n",
      "  platformdirs       conda-forge/noarch::platformdirs-3.5.1-pyhd8ed1ab_0 \n",
      "  pooch              conda-forge/noarch::pooch-1.7.0-pyha770c72_3 \n",
      "  scikit-learn       conda-forge/osx-arm64::scikit-learn-1.2.2-py310h02d4e2a_2 \n",
      "  scipy              conda-forge/osx-arm64::scipy-1.10.1-py310h0975f3d_3 \n",
      "  threadpoolctl      conda-forge/noarch::threadpoolctl-3.1.0-pyh8a188c0_0 \n",
      "  typing-extensions  conda-forge/noarch::typing-extensions-4.6.3-hd8ed1ab_0 \n",
      "  typing_extensions  conda-forge/noarch::typing_extensions-4.6.3-pyha770c72_0 \n",
      "\n",
      "\n",
      "\n",
      "Downloading and Extracting Packages\n",
      "scikit-learn-1.2.2   | 6.8 MB    |                                                                                                                                                                                                                |   0% \n",
      "typing_extensions-4. | 34 KB     |                                                                                                                                                                                                                |   0% \u001b[A\n",
      "\n",
      "threadpoolctl-3.1.0  | 18 KB     |                                                                                                                                                                                                                |   0% \u001b[A\u001b[A\n",
      "\n",
      "\n",
      "platformdirs-3.5.1   | 18 KB     |                                                                                                                                                                                                                |   0% \u001b[A\u001b[A\u001b[A\n",
      "\n",
      "\n",
      "\n",
      "pooch-1.7.0          | 50 KB     |                                                                                                                                                                                                                |   0% \u001b[A\u001b[A\u001b[A\u001b[A\n",
      "\n",
      "\n",
      "\n",
      "\n",
      "scipy-1.10.1         | 13.4 MB   |                                                                                                                                                                                                                |   0% \u001b[A\u001b[A\u001b[A\u001b[A\u001b[A\n",
      "\n",
      "\n",
      "\n",
      "\n",
      "\n",
      "typing-extensions-4. | 10 KB     |                                                                                                                                                                                                                |   0% \u001b[A\u001b[A\u001b[A\u001b[A\u001b[A\u001b[A\n",
      "\n",
      "\n",
      "\n",
      "\n",
      "\n",
      "\n",
      "joblib-1.2.0         | 205 KB    |                                                                                                                                                                                                                |   0% \u001b[A\u001b[A\u001b[A\u001b[A\u001b[A\u001b[A\u001b[A\n",
      "\n",
      "\n",
      "\n",
      "scikit-learn-1.2.2   | 6.8 MB    | 4                                                                                                                                                                                                              |   0% \u001b[A\u001b[A\u001b[A\u001b[A\n",
      "\n",
      "threadpoolctl-3.1.0  | 18 KB     | ########################################################################################################################################################################################8                      |  90% \u001b[A\u001b[A\n",
      "\n",
      "\n",
      "platformdirs-3.5.1   | 18 KB     | ######################################################################################################################################################################################2                        |  88% \u001b[A\u001b[A\u001b[A\n",
      "\n",
      "threadpoolctl-3.1.0  | 18 KB     | ############################################################################################################################################################################################################## | 100% \u001b[A\u001b[A\n",
      "\n",
      "\n",
      "platformdirs-3.5.1   | 18 KB     | ############################################################################################################################################################################################################## | 100% \u001b[A\u001b[A\u001b[A\n",
      "typing_extensions-4. | 34 KB     | ################################################################################################6                                                                                                              |  47% \u001b[A\n",
      "typing_extensions-4. | 34 KB     | ############################################################################################################################################################################################################## | 100% \u001b[A\n",
      "\n",
      "\n",
      "\n",
      "pooch-1.7.0          | 50 KB     | ############################################################################################################################################################################################################## | 100% \u001b[A\u001b[A\u001b[A\u001b[A\n",
      "\n",
      "\n",
      "\n",
      "\n",
      "\n",
      "typing-extensions-4. | 10 KB     | ############################################################################################################################################################################################################## | 100% \u001b[A\u001b[A\u001b[A\u001b[A\u001b[A\u001b[A\n",
      "\n",
      "\n",
      "\n",
      "\n",
      "\n",
      "typing-extensions-4. | 10 KB     | ############################################################################################################################################################################################################## | 100% \u001b[A\u001b[A\u001b[A\u001b[A\u001b[A\u001b[A\n",
      "\n",
      "\n",
      "\n",
      "\n",
      "scikit-learn-1.2.2   | 6.8 MB    | #####2                                                                                                                                                                                                         |   3% \u001b[A\u001b[A\u001b[A\u001b[A\u001b[A\n",
      "\n",
      "\n",
      "\n",
      "\n",
      "\n",
      "\n",
      "joblib-1.2.0         | 205 KB    | ################                                                                                                                                                                                               |   8% \u001b[A\u001b[A\u001b[A\u001b[A\u001b[A\u001b[A\u001b[A\n",
      "\n",
      "\n",
      "\n",
      "\n",
      "scikit-learn-1.2.2   | 6.8 MB    | #####################4                                                                                                                                                                                         |  10% \u001b[A\u001b[A\u001b[A\u001b[A\u001b[A\n",
      "\n",
      "\n",
      "\n",
      "\n",
      "\n",
      "\n",
      "joblib-1.2.0         | 205 KB    | ############################################################################################################################################################################################################## | 100% \u001b[A\u001b[A\u001b[A\u001b[A\u001b[A\u001b[A\u001b[A\n",
      "\n",
      "\n",
      "\n",
      "\n",
      "\n",
      "\n",
      "joblib-1.2.0         | 205 KB    | ############################################################################################################################################################################################################## | 100% \u001b[A\u001b[A\u001b[A\u001b[A\u001b[A\u001b[A\u001b[A\n",
      "\n",
      "\n",
      "\n",
      "\n"
     ]
    },
    {
     "name": "stdout",
     "output_type": "stream",
     "text": [
      "scikit-learn-1.2.2   | 6.8 MB    | ###################################################9                                                                                                                                                           |  25% \u001b[A\u001b[A\u001b[A\u001b[A\u001b[A\n",
      "\n",
      "\n",
      "\n",
      "\n",
      "scikit-learn-1.2.2   | 6.8 MB    | ###################################################################################9                                                                                                                           |  41% \u001b[A\u001b[A\u001b[A\u001b[A\u001b[A\n",
      "\n",
      "\n",
      "\n",
      "\n",
      "scikit-learn-1.2.2   | 6.8 MB    | ####################################################################################################################3                                                                                          |  56% \u001b[A\u001b[A\u001b[A\u001b[A\u001b[A\n",
      "\n",
      "\n",
      "\n",
      "\n",
      "scikit-learn-1.2.2   | 6.8 MB    | #########################################################################################################################################################################################9                     |  90% \u001b[A\u001b[A\u001b[A\u001b[A\u001b[A\n",
      "\n",
      "\n",
      "\n",
      "\n",
      "scipy-1.10.1         | 13.4 MB   | ##################################3                                                                                                                                                                            |  17% \u001b[A\u001b[A\u001b[A\u001b[A\u001b[A\n",
      "\n",
      "\n",
      "\n",
      "\n",
      "scipy-1.10.1         | 13.4 MB   | ###########################################9                                                                                                                                                                   |  21% \u001b[A\u001b[A\u001b[A\u001b[A\u001b[A\n",
      "\n",
      "\n",
      "\n",
      "\n",
      "scipy-1.10.1         | 13.4 MB   | ##################################################9                                                                                                                                                            |  25% \u001b[A\u001b[A\u001b[A\u001b[A\u001b[A\n",
      "\n",
      "\n",
      "\n",
      "\n",
      "scipy-1.10.1         | 13.4 MB   | ##########################################################8                                                                                                                                                    |  29% \u001b[A\u001b[A\u001b[A\u001b[A\u001b[A\n",
      "\n",
      "\n",
      "\n",
      "\n",
      "scikit-learn-1.2.2   | 6.8 MB    | ############################################################################################################################################################################################################## | 100% \u001b[A\u001b[A\u001b[A\u001b[A\u001b[A\n",
      "\n",
      "\n",
      "\n",
      "\n",
      "scipy-1.10.1         | 13.4 MB   | ###########################################################################4                                                                                                                                   |  37% \u001b[A\u001b[A\u001b[A\u001b[A\u001b[A\n",
      "\n",
      "\n",
      "\n",
      "\n",
      "scipy-1.10.1         | 13.4 MB   | ####################################################################################3                                                                                                                          |  41% \u001b[A\u001b[A\u001b[A\u001b[A\u001b[A\n",
      "\n",
      "\n",
      "\n",
      "\n",
      "scipy-1.10.1         | 13.4 MB   | #############################################################################################9                                                                                                                 |  46% \u001b[A\u001b[A\u001b[A\u001b[A\u001b[A\n",
      "\n",
      "\n",
      "\n",
      "\n",
      "scipy-1.10.1         | 13.4 MB   | ########################################################################################################                                                                                                       |  50% \u001b[A\u001b[A\u001b[A\u001b[A\u001b[A\n",
      "\n",
      "\n",
      "\n",
      "\n",
      "scipy-1.10.1         | 13.4 MB   | ##################################################################################################################1                                                                                            |  55% \u001b[A\u001b[A\u001b[A\u001b[A\u001b[A\n",
      "\n",
      "\n",
      "\n",
      "\n",
      "scipy-1.10.1         | 13.4 MB   | #############################################################################################################################6                                                                                 |  61% \u001b[A\u001b[A\u001b[A\u001b[A\u001b[A\n",
      "\n",
      "\n",
      "\n",
      "\n",
      "scipy-1.10.1         | 13.4 MB   | #########################################################################################################################################1                                                                     |  67% \u001b[A\u001b[A\u001b[A\u001b[A\u001b[A\n",
      "\n",
      "\n",
      "\n",
      "\n",
      "scipy-1.10.1         | 13.4 MB   | ####################################################################################################################################################9                                                          |  72% \u001b[A\u001b[A\u001b[A\u001b[A\u001b[A\n",
      "\n",
      "\n",
      "\n",
      "\n",
      "scipy-1.10.1         | 13.4 MB   | ##################################################################################################################################################################4                                            |  79% \u001b[A\u001b[A\u001b[A\u001b[A\u001b[A\n",
      "\n",
      "\n",
      "\n",
      "\n",
      "scipy-1.10.1         | 13.4 MB   | ###############################################################################################################################################################################8                               |  85% \u001b[A\u001b[A\u001b[A\u001b[A\u001b[A\n",
      "\n",
      "\n",
      "\n",
      "\n",
      "scipy-1.10.1         | 13.4 MB   | ##############################################################################################################################################################################################2                |  92% \u001b[A\u001b[A\u001b[A\u001b[A\u001b[A\n",
      "\n",
      "\n",
      "\n",
      "\n",
      "scipy-1.10.1         | 13.4 MB   | #############################################################################################################################################################################################################6 | 100% \u001b[A\u001b[A\u001b[A\u001b[A\u001b[A\n",
      "\n",
      "\n",
      "\n",
      "\n",
      "                                                                                                                                                                                                                                                         \u001b[A\u001b[A\u001b[A\u001b[A\u001b[A\n",
      "                                                                                                                                                                                                                                                         \u001b[A\n",
      "\n",
      "                                                                                                                                                                                                                                                         \u001b[A\u001b[A\n",
      "\n",
      "\n",
      "                                                                                                                                                                                                                                                         \u001b[A\u001b[A\u001b[A\n",
      "\n",
      "\n",
      "\n",
      "                                                                                                                                                                                                                                                         \u001b[A\u001b[A\u001b[A\u001b[A\n",
      "\n",
      "\n",
      "\n",
      "\n",
      "                                                                                                                                                                                                                                                         \u001b[A\u001b[A\u001b[A\u001b[A\u001b[A\n",
      "\n",
      "\n",
      "\n",
      "\n",
      "\n",
      "                                                                                                                                                                                                                                                         \u001b[A\u001b[A\u001b[A\u001b[A\u001b[A\u001b[A\n",
      "\n",
      "\n",
      "\n",
      "\n",
      "\n",
      "\n",
      "                                                                                                                                                                                                                                                         \u001b[A\u001b[A\u001b[A\u001b[A\u001b[A\u001b[A\u001b[A\n",
      "Preparing transaction: ...working... done\n",
      "Verifying transaction: ...working... done\n",
      "Executing transaction: ...working... done\n"
     ]
    },
    {
     "data": {
      "text/plain": [
       "PyObject <class 'sklearn.preprocessing._data.MinMaxScaler'>"
      ]
     },
     "execution_count": 35,
     "metadata": {},
     "output_type": "execute_result"
    }
   ],
   "source": [
    "Pkg.add(\"ScikitLearn\")\n",
    "using ScikitLearn\n",
    "using DataFrames: DataFrame, missing\n",
    "@sk_import preprocessing: (LabelBinarizer, MinMaxScaler)"
   ]
  },
  {
   "cell_type": "code",
   "execution_count": 37,
   "id": "3f30139b",
   "metadata": {},
   "outputs": [
    {
     "name": "stderr",
     "output_type": "stream",
     "text": [
      "\u001b[32m\u001b[1m    Updating\u001b[22m\u001b[39m registry at `~/.julia/registries/General.toml`\n",
      "\u001b[32m\u001b[1m  No Changes\u001b[22m\u001b[39m to `~/.julia/environments/v1.9/Project.toml`\n",
      "\u001b[32m\u001b[1m  No Changes\u001b[22m\u001b[39m to `~/.julia/environments/v1.9/Manifest.toml`\n"
     ]
    }
   ],
   "source": [
    "Pkg.update()"
   ]
  },
  {
   "cell_type": "code",
   "execution_count": 40,
   "id": "24a9326f",
   "metadata": {},
   "outputs": [],
   "source": [
    "mapper = DataFrameMapper([\n",
    "                        (:sex, LabelBinarizer()),\n",
    "                        (:workclass, LabelBinarizer()),\n",
    "                        ([:age], MinMaxScaler())\n",
    "                        ]);"
   ]
  },
  {
   "cell_type": "code",
   "execution_count": 41,
   "id": "e426af1d",
   "metadata": {},
   "outputs": [
    {
     "data": {
      "text/plain": [
       "32560×10 Matrix{Float64}:\n",
       " 1.0  0.0  0.0  0.0  0.0  0.0  0.0  1.0  0.0  0.30137\n",
       " 1.0  0.0  0.0  0.0  0.0  0.0  1.0  0.0  0.0  0.452055\n",
       " 1.0  0.0  0.0  0.0  1.0  0.0  0.0  0.0  0.0  0.287671\n",
       " 1.0  0.0  0.0  0.0  1.0  0.0  0.0  0.0  0.0  0.493151\n",
       " 0.0  0.0  0.0  0.0  1.0  0.0  0.0  0.0  0.0  0.150685\n",
       " 0.0  0.0  0.0  0.0  1.0  0.0  0.0  0.0  0.0  0.273973\n",
       " 0.0  0.0  0.0  0.0  1.0  0.0  0.0  0.0  0.0  0.438356\n",
       " 1.0  0.0  0.0  0.0  0.0  0.0  1.0  0.0  0.0  0.479452\n",
       " 0.0  0.0  0.0  0.0  1.0  0.0  0.0  0.0  0.0  0.191781\n",
       " 1.0  0.0  0.0  0.0  1.0  0.0  0.0  0.0  0.0  0.342466\n",
       " 1.0  0.0  0.0  0.0  1.0  0.0  0.0  0.0  0.0  0.273973\n",
       " 1.0  0.0  0.0  0.0  0.0  0.0  0.0  1.0  0.0  0.178082\n",
       " 0.0  0.0  0.0  0.0  1.0  0.0  0.0  0.0  0.0  0.0821918\n",
       " ⋮                        ⋮                   \n",
       " 1.0  0.0  0.0  0.0  0.0  0.0  1.0  0.0  0.0  0.657534\n",
       " 0.0  0.0  0.0  0.0  0.0  0.0  0.0  1.0  0.0  0.356164\n",
       " 1.0  0.0  0.0  0.0  0.0  0.0  1.0  0.0  0.0  0.356164\n",
       " 1.0  0.0  0.0  0.0  1.0  0.0  0.0  0.0  0.0  0.205479\n",
       " 1.0  0.0  0.0  0.0  1.0  0.0  0.0  0.0  0.0  0.356164\n",
       " 1.0  0.0  0.0  0.0  1.0  0.0  0.0  0.0  0.0  0.205479\n",
       " 1.0  0.0  0.0  0.0  1.0  0.0  0.0  0.0  0.0  0.493151\n",
       " 1.0  0.0  0.0  0.0  1.0  0.0  0.0  0.0  0.0  0.0684932\n",
       " 0.0  0.0  0.0  0.0  1.0  0.0  0.0  0.0  0.0  0.136986\n",
       " 1.0  0.0  0.0  0.0  1.0  0.0  0.0  0.0  0.0  0.315068\n",
       " 0.0  0.0  0.0  0.0  1.0  0.0  0.0  0.0  0.0  0.561644\n",
       " 1.0  0.0  0.0  0.0  1.0  0.0  0.0  0.0  0.0  0.0684932"
      ]
     },
     "execution_count": 41,
     "metadata": {},
     "output_type": "execute_result"
    }
   ],
   "source": [
    "fit_transform!(mapper, copy(df))"
   ]
  },
  {
   "cell_type": "code",
   "execution_count": 42,
   "id": "0457c44f",
   "metadata": {},
   "outputs": [
    {
     "data": {
      "text/html": [
       "<div><div style = \"float: left;\"><span>DataFrameRow (15 columns)</span></div><div style = \"clear: both;\"></div></div><div class = \"data-frame\" style = \"overflow-x: scroll;\"><table class = \"data-frame\" style = \"margin-bottom: 6px;\"><thead><tr class = \"header\"><th class = \"rowLabel\" style = \"font-weight: bold; text-align: right;\">Row</th><th style = \"text-align: left;\">age</th><th style = \"text-align: left;\">workclass</th><th style = \"text-align: left;\">fnlwgt</th><th style = \"text-align: left;\">education</th><th style = \"text-align: left;\">education-num</th><th style = \"text-align: left;\">marital-status</th><th style = \"text-align: left;\">occupation</th><th style = \"text-align: left;\">relationship</th><th style = \"text-align: left;\">race</th><th style = \"text-align: left;\">sex</th><th style = \"text-align: left;\">capital-gain</th><th style = \"text-align: left;\">capital-loss</th><th style = \"text-align: left;\">hours-per-week</th><th style = \"text-align: left;\">native-country</th><th style = \"text-align: left;\">mas50</th></tr><tr class = \"subheader headerLastRow\"><th class = \"rowLabel\" style = \"font-weight: bold; text-align: right;\"></th><th title = \"Int64\" style = \"text-align: left;\">Int64</th><th title = \"AbstractString\" style = \"text-align: left;\">Abstract…</th><th title = \"Int64\" style = \"text-align: left;\">Int64</th><th title = \"String15\" style = \"text-align: left;\">String15</th><th title = \"Int64\" style = \"text-align: left;\">Int64</th><th title = \"String31\" style = \"text-align: left;\">String31</th><th title = \"AbstractString\" style = \"text-align: left;\">Abstract…</th><th title = \"String15\" style = \"text-align: left;\">String15</th><th title = \"String31\" style = \"text-align: left;\">String31</th><th title = \"String7\" style = \"text-align: left;\">String7</th><th title = \"Int64\" style = \"text-align: left;\">Int64</th><th title = \"Int64\" style = \"text-align: left;\">Int64</th><th title = \"Int64\" style = \"text-align: left;\">Int64</th><th title = \"AbstractString\" style = \"text-align: left;\">Abstract…</th><th title = \"String7\" style = \"text-align: left;\">String7</th></tr></thead><tbody><tr><td class = \"rowLabel\" style = \"font-weight: bold; text-align: right;\">1</td><td style = \"text-align: right;\">39</td><td style = \"text-align: left;\">State-gov</td><td style = \"text-align: right;\">77516</td><td style = \"text-align: left;\">Bachelors</td><td style = \"text-align: right;\">13</td><td style = \"text-align: left;\">Never-married</td><td style = \"text-align: left;\">Adm-clerical</td><td style = \"text-align: left;\">Not-in-family</td><td style = \"text-align: left;\">White</td><td style = \"text-align: left;\">Male</td><td style = \"text-align: right;\">2174</td><td style = \"text-align: right;\">0</td><td style = \"text-align: right;\">40</td><td style = \"text-align: left;\">United-States</td><td style = \"text-align: left;\">&lt;=50K</td></tr></tbody></table></div>"
      ],
      "text/latex": [
       "\\begin{tabular}{r|ccccccccccccccc}\n",
       "\t& age & workclass & fnlwgt & education & education-num & marital-status & occupation & relationship & race & sex & capital-gain & capital-loss & hours-per-week & native-country & mas50\\\\\n",
       "\t\\hline\n",
       "\t& Int64 & Abstract… & Int64 & String15 & Int64 & String31 & Abstract… & String15 & String31 & String7 & Int64 & Int64 & Int64 & Abstract… & String7\\\\\n",
       "\t\\hline\n",
       "\t1 & 39 & State-gov & 77516 & Bachelors & 13 & Never-married & Adm-clerical & Not-in-family & White & Male & 2174 & 0 & 40 & United-States & <=50K \\\\\n",
       "\\end{tabular}\n"
      ],
      "text/plain": [
       "\u001b[1mDataFrameRow\u001b[0m\n",
       "\u001b[1m Row \u001b[0m│\u001b[1m age   \u001b[0m\u001b[1m workclass \u001b[0m\u001b[1m fnlwgt \u001b[0m\u001b[1m education \u001b[0m\u001b[1m education-num \u001b[0m\u001b[1m marital-status \u001b[0m\u001b[1m occupation   \u001b[0m\u001b[1m relationship  \u001b[0m\u001b[1m race     \u001b[0m\u001b[1m sex     \u001b[0m\u001b[1m capital-gain \u001b[0m\u001b[1m capital-loss \u001b[0m\u001b[1m hours-per-week \u001b[0m\u001b[1m native-country \u001b[0m\u001b[1m mas50   \u001b[0m\n",
       "     │\u001b[90m Int64 \u001b[0m\u001b[90m Abstract… \u001b[0m\u001b[90m Int64  \u001b[0m\u001b[90m String15  \u001b[0m\u001b[90m Int64         \u001b[0m\u001b[90m String31       \u001b[0m\u001b[90m Abstract…    \u001b[0m\u001b[90m String15      \u001b[0m\u001b[90m String31 \u001b[0m\u001b[90m String7 \u001b[0m\u001b[90m Int64        \u001b[0m\u001b[90m Int64        \u001b[0m\u001b[90m Int64          \u001b[0m\u001b[90m Abstract…      \u001b[0m\u001b[90m String7 \u001b[0m\n",
       "─────┼─────────────────────────────────────────────────────────────────────────────────────────────────────────────────────────────────────────────────────────────────────────────────────────\n",
       "   1 │    39  State-gov   77516  Bachelors             13  Never-married   Adm-clerical  Not-in-family  White     Male             2174             0              40  United-States   <=50K"
      ]
     },
     "execution_count": 42,
     "metadata": {},
     "output_type": "execute_result"
    }
   ],
   "source": [
    "first(df)"
   ]
  },
  {
   "cell_type": "code",
   "execution_count": 43,
   "id": "00170c80",
   "metadata": {},
   "outputs": [
    {
     "data": {
      "text/plain": [
       "8-element Vector{AbstractString}:\n",
       " \"Federal-gov\"\n",
       " \"Local-gov\"\n",
       " \"Never-worked\"\n",
       " \"Private\"\n",
       " \"Self-emp-inc\"\n",
       " \"Self-emp-not-inc\"\n",
       " \"State-gov\"\n",
       " \"Without-pay\""
      ]
     },
     "execution_count": 43,
     "metadata": {},
     "output_type": "execute_result"
    }
   ],
   "source": [
    "sort(unique(df[!,:workclass]))"
   ]
  },
  {
   "cell_type": "code",
   "execution_count": null,
   "id": "976cb1a5",
   "metadata": {},
   "outputs": [],
   "source": []
  }
 ],
 "metadata": {
  "celltoolbar": "Raw Cell Format",
  "kernelspec": {
   "display_name": "Julia 1.9.0",
   "language": "julia",
   "name": "julia-1.9"
  },
  "language_info": {
   "file_extension": ".jl",
   "mimetype": "application/julia",
   "name": "julia",
   "version": "1.9.0"
  }
 },
 "nbformat": 4,
 "nbformat_minor": 5
}
