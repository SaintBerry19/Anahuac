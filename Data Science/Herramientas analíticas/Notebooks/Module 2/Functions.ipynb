{
 "cells": [
  {
   "cell_type": "markdown",
   "id": "d6e6dc3d",
   "metadata": {},
   "source": [
    "Funciones"
   ]
  },
  {
   "cell_type": "code",
   "execution_count": 2,
   "id": "46b921b6",
   "metadata": {},
   "outputs": [
    {
     "data": {
      "text/plain": [
       "area_circule (generic function with 1 method)"
      ]
     },
     "execution_count": 2,
     "metadata": {},
     "output_type": "execute_result"
    }
   ],
   "source": [
    "function area_circule(r)\n",
    "    area=pi*r^2\n",
    "    return area\n",
    "end"
   ]
  },
  {
   "cell_type": "code",
   "execution_count": 3,
   "id": "08ac4a7e",
   "metadata": {},
   "outputs": [
    {
     "data": {
      "text/plain": [
       "12.566370614359172"
      ]
     },
     "execution_count": 3,
     "metadata": {},
     "output_type": "execute_result"
    }
   ],
   "source": [
    "area_circule(2)"
   ]
  },
  {
   "cell_type": "code",
   "execution_count": 4,
   "id": "905368a4",
   "metadata": {},
   "outputs": [
    {
     "data": {
      "text/plain": [
       "area_circule_short (generic function with 1 method)"
      ]
     },
     "execution_count": 4,
     "metadata": {},
     "output_type": "execute_result"
    }
   ],
   "source": [
    "#modo abreviado\n",
    "area_circule_short(r)=pi*r^2"
   ]
  },
  {
   "cell_type": "code",
   "execution_count": 5,
   "id": "196706d7",
   "metadata": {},
   "outputs": [
    {
     "data": {
      "text/plain": [
       "12.566370614359172"
      ]
     },
     "execution_count": 5,
     "metadata": {},
     "output_type": "execute_result"
    }
   ],
   "source": [
    "area_circule_short(2)"
   ]
  },
  {
   "cell_type": "code",
   "execution_count": 6,
   "id": "650d58ba",
   "metadata": {},
   "outputs": [
    {
     "data": {
      "text/plain": [
       "hipotenusa (generic function with 1 method)"
      ]
     },
     "execution_count": 6,
     "metadata": {},
     "output_type": "execute_result"
    }
   ],
   "source": [
    "function hipotenusa(a::Number,b::Number)\n",
    "    h=sqrt(a^2+b^2)\n",
    "    return h\n",
    "end"
   ]
  },
  {
   "cell_type": "code",
   "execution_count": 8,
   "id": "b31f756c",
   "metadata": {},
   "outputs": [
    {
     "data": {
      "text/plain": [
       "hipotenusa (generic function with 2 methods)"
      ]
     },
     "execution_count": 8,
     "metadata": {},
     "output_type": "execute_result"
    }
   ],
   "source": [
    "function hipotenusa(a::String,b::String)\n",
    "    respuesta=\"No es posible calcularlo!\"\n",
    "    return respuesta\n",
    "end"
   ]
  },
  {
   "cell_type": "code",
   "execution_count": 9,
   "id": "04a2d5cd",
   "metadata": {},
   "outputs": [
    {
     "data": {
      "text/plain": [
       "3.605551275463989"
      ]
     },
     "execution_count": 9,
     "metadata": {},
     "output_type": "execute_result"
    }
   ],
   "source": [
    "hipotenusa(2,3)"
   ]
  },
  {
   "cell_type": "code",
   "execution_count": 10,
   "id": "0f7ac5d1",
   "metadata": {},
   "outputs": [
    {
     "data": {
      "text/plain": [
       "\"No es posible calcularlo!\""
      ]
     },
     "execution_count": 10,
     "metadata": {},
     "output_type": "execute_result"
    }
   ],
   "source": [
    "hipotenusa(\"hola\",\"amigo\")"
   ]
  },
  {
   "cell_type": "code",
   "execution_count": 11,
   "id": "b981d251",
   "metadata": {},
   "outputs": [
    {
     "data": {
      "text/plain": [
       "iva (generic function with 2 methods)"
      ]
     },
     "execution_count": 11,
     "metadata": {},
     "output_type": "execute_result"
    }
   ],
   "source": [
    "#Parametros por defecto\n",
    "function iva(subtotal,iva=0.16)\n",
    "    return subtotal*iva\n",
    "end"
   ]
  },
  {
   "cell_type": "code",
   "execution_count": 12,
   "id": "2ae61a03",
   "metadata": {},
   "outputs": [
    {
     "data": {
      "text/plain": [
       "16.0"
      ]
     },
     "execution_count": 12,
     "metadata": {},
     "output_type": "execute_result"
    }
   ],
   "source": [
    "iva(100,0.16)"
   ]
  },
  {
   "cell_type": "code",
   "execution_count": 13,
   "id": "e710d019",
   "metadata": {},
   "outputs": [
    {
     "data": {
      "text/plain": [
       "16.0"
      ]
     },
     "execution_count": 13,
     "metadata": {},
     "output_type": "execute_result"
    }
   ],
   "source": [
    "iva(100)"
   ]
  },
  {
   "cell_type": "code",
   "execution_count": 14,
   "id": "c26c8276",
   "metadata": {},
   "outputs": [
    {
     "data": {
      "text/plain": [
       "32.0"
      ]
     },
     "execution_count": 14,
     "metadata": {},
     "output_type": "execute_result"
    }
   ],
   "source": [
    "iva(200)"
   ]
  },
  {
   "cell_type": "code",
   "execution_count": 15,
   "id": "158a113d",
   "metadata": {},
   "outputs": [
    {
     "data": {
      "text/plain": [
       "10.0"
      ]
     },
     "execution_count": 15,
     "metadata": {},
     "output_type": "execute_result"
    }
   ],
   "source": [
    "iva(100,.10)"
   ]
  },
  {
   "cell_type": "code",
   "execution_count": null,
   "id": "9a26f0ba",
   "metadata": {},
   "outputs": [],
   "source": []
  }
 ],
 "metadata": {
  "kernelspec": {
   "display_name": "Julia 1.9.0",
   "language": "julia",
   "name": "julia-1.9"
  },
  "language_info": {
   "file_extension": ".jl",
   "mimetype": "application/julia",
   "name": "julia",
   "version": "1.9.0"
  }
 },
 "nbformat": 4,
 "nbformat_minor": 5
}
