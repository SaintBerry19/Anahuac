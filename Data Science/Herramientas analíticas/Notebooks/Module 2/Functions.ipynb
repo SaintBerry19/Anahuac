{
 "cells": [
  {
   "cell_type": "markdown",
   "id": "d6e6dc3d",
   "metadata": {},
   "source": [
    "Funciones"
   ]
  },
  {
   "cell_type": "code",
   "execution_count": 1,
   "id": "46b921b6",
   "metadata": {},
   "outputs": [
    {
     "data": {
      "text/plain": [
       "area_circule (generic function with 1 method)"
      ]
     },
     "execution_count": 1,
     "metadata": {},
     "output_type": "execute_result"
    }
   ],
   "source": [
    "function area_circule(r)\n",
    "    area=pi*r^2\n",
    "    return area\n",
    "end"
   ]
  },
  {
   "cell_type": "code",
   "execution_count": 2,
   "id": "08ac4a7e",
   "metadata": {},
   "outputs": [
    {
     "data": {
      "text/plain": [
       "12.566370614359172"
      ]
     },
     "execution_count": 2,
     "metadata": {},
     "output_type": "execute_result"
    }
   ],
   "source": [
    "area_circule(2)"
   ]
  },
  {
   "cell_type": "code",
   "execution_count": 3,
   "id": "905368a4",
   "metadata": {},
   "outputs": [
    {
     "data": {
      "text/plain": [
       "area_circule_short (generic function with 1 method)"
      ]
     },
     "execution_count": 3,
     "metadata": {},
     "output_type": "execute_result"
    }
   ],
   "source": [
    "#modo abreviado\n",
    "area_circule_short(r)=pi*r^2"
   ]
  },
  {
   "cell_type": "code",
   "execution_count": 4,
   "id": "196706d7",
   "metadata": {},
   "outputs": [
    {
     "data": {
      "text/plain": [
       "12.566370614359172"
      ]
     },
     "execution_count": 4,
     "metadata": {},
     "output_type": "execute_result"
    }
   ],
   "source": [
    "area_circule_short(2)"
   ]
  },
  {
   "cell_type": "code",
   "execution_count": 5,
   "id": "650d58ba",
   "metadata": {},
   "outputs": [
    {
     "data": {
      "text/plain": [
       "hipotenusa (generic function with 1 method)"
      ]
     },
     "execution_count": 5,
     "metadata": {},
     "output_type": "execute_result"
    }
   ],
   "source": [
    "function hipotenusa(a::Number,b::Number)\n",
    "    h=sqrt(a^2+b^2)\n",
    "    return h\n",
    "end"
   ]
  },
  {
   "cell_type": "code",
   "execution_count": 6,
   "id": "b31f756c",
   "metadata": {},
   "outputs": [
    {
     "data": {
      "text/plain": [
       "hipotenusa (generic function with 2 methods)"
      ]
     },
     "execution_count": 6,
     "metadata": {},
     "output_type": "execute_result"
    }
   ],
   "source": [
    "function hipotenusa(a::String,b::String)\n",
    "    respuesta=\"No es posible calcularlo!\"\n",
    "    return respuesta\n",
    "end"
   ]
  },
  {
   "cell_type": "code",
   "execution_count": 7,
   "id": "04a2d5cd",
   "metadata": {},
   "outputs": [
    {
     "data": {
      "text/plain": [
       "3.605551275463989"
      ]
     },
     "execution_count": 7,
     "metadata": {},
     "output_type": "execute_result"
    }
   ],
   "source": [
    "hipotenusa(2,3)"
   ]
  },
  {
   "cell_type": "code",
   "execution_count": 8,
   "id": "0f7ac5d1",
   "metadata": {},
   "outputs": [
    {
     "data": {
      "text/plain": [
       "\"No es posible calcularlo!\""
      ]
     },
     "execution_count": 8,
     "metadata": {},
     "output_type": "execute_result"
    }
   ],
   "source": [
    "hipotenusa(\"hola\",\"amigo\")"
   ]
  },
  {
   "cell_type": "code",
   "execution_count": 9,
   "id": "b981d251",
   "metadata": {},
   "outputs": [
    {
     "data": {
      "text/plain": [
       "iva (generic function with 2 methods)"
      ]
     },
     "execution_count": 9,
     "metadata": {},
     "output_type": "execute_result"
    }
   ],
   "source": [
    "#Parametros por defecto\n",
    "function iva(subtotal,iva=0.16)\n",
    "    return subtotal*iva\n",
    "end"
   ]
  },
  {
   "cell_type": "code",
   "execution_count": 10,
   "id": "2ae61a03",
   "metadata": {},
   "outputs": [
    {
     "data": {
      "text/plain": [
       "16.0"
      ]
     },
     "execution_count": 10,
     "metadata": {},
     "output_type": "execute_result"
    }
   ],
   "source": [
    "iva(100,0.16)"
   ]
  },
  {
   "cell_type": "code",
   "execution_count": 11,
   "id": "e710d019",
   "metadata": {},
   "outputs": [
    {
     "data": {
      "text/plain": [
       "16.0"
      ]
     },
     "execution_count": 11,
     "metadata": {},
     "output_type": "execute_result"
    }
   ],
   "source": [
    "iva(100)"
   ]
  },
  {
   "cell_type": "code",
   "execution_count": 12,
   "id": "c26c8276",
   "metadata": {},
   "outputs": [
    {
     "data": {
      "text/plain": [
       "32.0"
      ]
     },
     "execution_count": 12,
     "metadata": {},
     "output_type": "execute_result"
    }
   ],
   "source": [
    "iva(200)"
   ]
  },
  {
   "cell_type": "code",
   "execution_count": 13,
   "id": "158a113d",
   "metadata": {},
   "outputs": [
    {
     "data": {
      "text/plain": [
       "10.0"
      ]
     },
     "execution_count": 13,
     "metadata": {},
     "output_type": "execute_result"
    }
   ],
   "source": [
    "iva(100,.10)"
   ]
  },
  {
   "cell_type": "code",
   "execution_count": 14,
   "id": "9a26f0ba",
   "metadata": {},
   "outputs": [
    {
     "data": {
      "text/plain": [
       "propiedadesCirculo (generic function with 1 method)"
      ]
     },
     "execution_count": 14,
     "metadata": {},
     "output_type": "execute_result"
    }
   ],
   "source": [
    "function propiedadesCirculo(radio)\n",
    "    area=pi*radio^2\n",
    "    perimetro=pi*radio*2\n",
    "    return(area,perimetro)\n",
    "end"
   ]
  },
  {
   "cell_type": "code",
   "execution_count": 15,
   "id": "f81bf8ed",
   "metadata": {},
   "outputs": [
    {
     "data": {
      "text/plain": [
       "(28.274333882308138, 18.84955592153876)"
      ]
     },
     "execution_count": 15,
     "metadata": {},
     "output_type": "execute_result"
    }
   ],
   "source": [
    "propiedadesCirculo(3)"
   ]
  },
  {
   "cell_type": "code",
   "execution_count": 18,
   "id": "d160c5dc",
   "metadata": {},
   "outputs": [
    {
     "data": {
      "text/plain": [
       "tipo (generic function with 5 methods)"
      ]
     },
     "execution_count": 18,
     "metadata": {},
     "output_type": "execute_result"
    }
   ],
   "source": [
    "#Multiple Dispatch\n",
    "tipo(x::String)=\"Tipo String\"\n",
    "tipo(x::Int)=\"Tipo Entero\"\n",
    "tipo(x::Float64)=\"Tipo Flotante\"\n",
    "tipo(x::Bool)=\"Tipo Booleano\"\n",
    "tipo(x::Complex)=\"Tipo Complejo\""
   ]
  },
  {
   "cell_type": "code",
   "execution_count": 19,
   "id": "0bbec56d",
   "metadata": {},
   "outputs": [
    {
     "data": {
      "text/plain": [
       "\"Tipo Complejo\""
      ]
     },
     "execution_count": 19,
     "metadata": {},
     "output_type": "execute_result"
    }
   ],
   "source": [
    "tipo(4+2im)"
   ]
  },
  {
   "cell_type": "code",
   "execution_count": 2,
   "id": "e847285c",
   "metadata": {},
   "outputs": [
    {
     "data": {
      "text/plain": [
       "fibonnaci (generic function with 1 method)"
      ]
     },
     "execution_count": 2,
     "metadata": {},
     "output_type": "execute_result"
    }
   ],
   "source": [
    "#Recursividad\n",
    "function fibonnaci(n)\n",
    "    if (n==1||n==2)\n",
    "        return 1\n",
    "    elseif(n==0)\n",
    "        return 0\n",
    "    else \n",
    "        return (fibonnaci(n-1)+fibonnaci(n-2))\n",
    "    end\n",
    "end"
   ]
  },
  {
   "cell_type": "code",
   "execution_count": 4,
   "id": "8a3ff785",
   "metadata": {},
   "outputs": [
    {
     "data": {
      "text/plain": [
       "102334155"
      ]
     },
     "execution_count": 4,
     "metadata": {},
     "output_type": "execute_result"
    }
   ],
   "source": [
    "fibonnaci(40)"
   ]
  }
 ],
 "metadata": {
  "kernelspec": {
   "display_name": "Julia 1.9.0",
   "language": "julia",
   "name": "julia-1.9"
  },
  "language_info": {
   "file_extension": ".jl",
   "mimetype": "application/julia",
   "name": "julia",
   "version": "1.9.0"
  }
 },
 "nbformat": 4,
 "nbformat_minor": 5
}
