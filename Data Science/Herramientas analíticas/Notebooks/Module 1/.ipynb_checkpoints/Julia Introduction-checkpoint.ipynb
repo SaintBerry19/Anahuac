{
 "cells": [
  {
   "cell_type": "markdown",
   "id": "64736c5c",
   "metadata": {},
   "source": [
    "Strings"
   ]
  },
  {
   "cell_type": "code",
   "execution_count": 51,
   "id": "8b66e187",
   "metadata": {},
   "outputs": [
    {
     "name": "stdout",
     "output_type": "stream",
     "text": [
      "My name is Roberto, this is my first Julia Notebook\n"
     ]
    }
   ],
   "source": [
    "println(\"My name is Roberto, this is my first Julia Notebook\")"
   ]
  },
  {
   "cell_type": "code",
   "execution_count": 52,
   "id": "f8a89d67",
   "metadata": {},
   "outputs": [
    {
     "name": "stdout",
     "output_type": "stream",
     "text": [
      "My name is Roberto\n"
     ]
    }
   ],
   "source": [
    "name=\"Roberto\"\n",
    "println(\"My name is $name\")"
   ]
  },
  {
   "cell_type": "code",
   "execution_count": 53,
   "id": "0d797c2c",
   "metadata": {},
   "outputs": [
    {
     "data": {
      "text/plain": [
       "\"Roberto is cool\""
      ]
     },
     "execution_count": 53,
     "metadata": {},
     "output_type": "execute_result"
    }
   ],
   "source": [
    "string1=\"Roberto\"\n",
    "string2=\"is cool\"\n",
    "string(string1,\" \",string2)"
   ]
  },
  {
   "cell_type": "code",
   "execution_count": 54,
   "id": "4dbfab2a",
   "metadata": {},
   "outputs": [
    {
     "data": {
      "text/plain": [
       "\"Roberto is cool\""
      ]
     },
     "execution_count": 54,
     "metadata": {},
     "output_type": "execute_result"
    }
   ],
   "source": [
    "string1*\" \"*string2"
   ]
  },
  {
   "cell_type": "markdown",
   "id": "0dfc5962",
   "metadata": {},
   "source": [
    "arrays, tuples, matrix"
   ]
  },
  {
   "cell_type": "code",
   "execution_count": 55,
   "id": "10606b83",
   "metadata": {},
   "outputs": [
    {
     "data": {
      "text/plain": [
       "(1.2, \"Roberto\", \"is cool\", \"Roberto\", 33.5)"
      ]
     },
     "execution_count": 55,
     "metadata": {},
     "output_type": "execute_result"
    }
   ],
   "source": [
    "tuplas=(1.2,string1,string2,name,33.5)"
   ]
  },
  {
   "cell_type": "code",
   "execution_count": 56,
   "id": "c9fe69b1",
   "metadata": {},
   "outputs": [
    {
     "ename": "LoadError",
     "evalue": "TypeError: in Type{...} expression, expected UnionAll, got a value of type Tuple{Float64, String, String, String, Float64}",
     "output_type": "error",
     "traceback": [
      "TypeError: in Type{...} expression, expected UnionAll, got a value of type Tuple{Float64, String, String, String, Float64}",
      "",
      "Stacktrace:",
      " [1] top-level scope",
      "   @ In[56]:1"
     ]
    }
   ],
   "source": [
    "tuplas{1}"
   ]
  },
  {
   "cell_type": "code",
   "execution_count": 11,
   "id": "26f1b27d",
   "metadata": {},
   "outputs": [
    {
     "data": {
      "text/plain": [
       "Tuple{Float64, String, String, String, Float64}"
      ]
     },
     "execution_count": 11,
     "metadata": {},
     "output_type": "execute_result"
    }
   ],
   "source": [
    "typeof(tuplas)"
   ]
  },
  {
   "cell_type": "code",
   "execution_count": 12,
   "id": "9d376314",
   "metadata": {},
   "outputs": [
    {
     "data": {
      "text/plain": [
       "(1, 2, 3)"
      ]
     },
     "execution_count": 12,
     "metadata": {},
     "output_type": "execute_result"
    }
   ],
   "source": [
    "a,b,c=(1,2,3)"
   ]
  },
  {
   "cell_type": "code",
   "execution_count": 13,
   "id": "8f1bd144",
   "metadata": {},
   "outputs": [
    {
     "data": {
      "text/plain": [
       "1"
      ]
     },
     "execution_count": 13,
     "metadata": {},
     "output_type": "execute_result"
    }
   ],
   "source": [
    "a"
   ]
  },
  {
   "cell_type": "code",
   "execution_count": 16,
   "id": "1a4f3dcd",
   "metadata": {},
   "outputs": [
    {
     "data": {
      "text/plain": [
       "5-element Vector{Int64}:\n",
       " 1\n",
       " 2\n",
       " 3\n",
       " 4\n",
       " 5"
      ]
     },
     "execution_count": 16,
     "metadata": {},
     "output_type": "execute_result"
    }
   ],
   "source": [
    "lista=[1,2,3,4,5]"
   ]
  },
  {
   "cell_type": "code",
   "execution_count": 22,
   "id": "ee6ebc57",
   "metadata": {},
   "outputs": [
    {
     "data": {
      "text/plain": [
       "2×3 Matrix{Int64}:\n",
       " 1  2  3\n",
       " 3  4  5"
      ]
     },
     "execution_count": 22,
     "metadata": {},
     "output_type": "execute_result"
    }
   ],
   "source": [
    "matriz=[1 2 3; 3 4 5]"
   ]
  },
  {
   "cell_type": "code",
   "execution_count": 23,
   "id": "65b787f5",
   "metadata": {},
   "outputs": [
    {
     "data": {
      "text/plain": [
       "2×3 Matrix{Int64}:\n",
       " 4  5  6\n",
       " 9  0  9"
      ]
     },
     "execution_count": 23,
     "metadata": {},
     "output_type": "execute_result"
    }
   ],
   "source": [
    "matriz2=[4 5 6; 9 0 9]"
   ]
  },
  {
   "cell_type": "code",
   "execution_count": 24,
   "id": "a10ce121",
   "metadata": {},
   "outputs": [
    {
     "data": {
      "text/plain": [
       "2×3 Matrix{Int64}:\n",
       "  5  7   9\n",
       " 12  4  14"
      ]
     },
     "execution_count": 24,
     "metadata": {},
     "output_type": "execute_result"
    }
   ],
   "source": [
    "matriz+matriz2"
   ]
  },
  {
   "cell_type": "code",
   "execution_count": 25,
   "id": "71f15795",
   "metadata": {},
   "outputs": [
    {
     "data": {
      "text/plain": [
       "3×3 Matrix{Int64}:\n",
       " 4  5  6\n",
       " 9  0  9\n",
       " 4  5  6"
      ]
     },
     "execution_count": 25,
     "metadata": {},
     "output_type": "execute_result"
    }
   ],
   "source": [
    "matriz3=[4 5 6; 9 0 9; 4 5 6]"
   ]
  },
  {
   "cell_type": "code",
   "execution_count": 26,
   "id": "772ed9e6",
   "metadata": {},
   "outputs": [
    {
     "data": {
      "text/plain": [
       "2×3 Matrix{Int64}:\n",
       " 34  20  42\n",
       " 68  40  84"
      ]
     },
     "execution_count": 26,
     "metadata": {},
     "output_type": "execute_result"
    }
   ],
   "source": [
    "matriz*matriz3"
   ]
  },
  {
   "cell_type": "code",
   "execution_count": 27,
   "id": "ea5a2360",
   "metadata": {},
   "outputs": [
    {
     "data": {
      "text/plain": [
       "6"
      ]
     },
     "execution_count": 27,
     "metadata": {},
     "output_type": "execute_result"
    }
   ],
   "source": [
    "length(matriz)"
   ]
  },
  {
   "cell_type": "code",
   "execution_count": 28,
   "id": "dee4ebbb",
   "metadata": {},
   "outputs": [
    {
     "data": {
      "text/plain": [
       "(2, 3)"
      ]
     },
     "execution_count": 28,
     "metadata": {},
     "output_type": "execute_result"
    }
   ],
   "source": [
    "size(matriz)"
   ]
  },
  {
   "cell_type": "code",
   "execution_count": 29,
   "id": "0470757b",
   "metadata": {},
   "outputs": [
    {
     "data": {
      "text/plain": [
       "2"
      ]
     },
     "execution_count": 29,
     "metadata": {},
     "output_type": "execute_result"
    }
   ],
   "source": [
    "ndims(matriz)"
   ]
  },
  {
   "cell_type": "code",
   "execution_count": 30,
   "id": "b09da091",
   "metadata": {},
   "outputs": [
    {
     "data": {
      "text/plain": [
       "3-element Vector{Int64}:\n",
       " 1\n",
       " 2\n",
       " 3"
      ]
     },
     "execution_count": 30,
     "metadata": {},
     "output_type": "execute_result"
    }
   ],
   "source": [
    "matriz[1,:]"
   ]
  },
  {
   "cell_type": "code",
   "execution_count": 31,
   "id": "e14b49ef",
   "metadata": {},
   "outputs": [
    {
     "data": {
      "text/plain": [
       "2×3 Matrix{Int64}:\n",
       " 4  5  6\n",
       " 9  0  9"
      ]
     },
     "execution_count": 31,
     "metadata": {},
     "output_type": "execute_result"
    }
   ],
   "source": [
    "matriz3[1:2,:]"
   ]
  },
  {
   "cell_type": "code",
   "execution_count": 34,
   "id": "8281517c",
   "metadata": {},
   "outputs": [
    {
     "data": {
      "text/plain": [
       "3-element Vector{Int64}:\n",
       " 5\n",
       " 0\n",
       " 5"
      ]
     },
     "execution_count": 34,
     "metadata": {},
     "output_type": "execute_result"
    }
   ],
   "source": [
    "matriz3[:,2]"
   ]
  },
  {
   "cell_type": "markdown",
   "id": "fea13b26",
   "metadata": {},
   "source": [
    "dictionaries"
   ]
  },
  {
   "cell_type": "code",
   "execution_count": 45,
   "id": "53275ec5",
   "metadata": {},
   "outputs": [
    {
     "data": {
      "text/plain": [
       "Dict{String, Int64} with 3 entries:\n",
       "  \"fabiola\" => 1998\n",
       "  \"josema\"  => 2002\n",
       "  \"roberto\" => 1995"
      ]
     },
     "execution_count": 45,
     "metadata": {},
     "output_type": "execute_result"
    }
   ],
   "source": [
    "diccionario=Dict(\"roberto\"=>1995,\"fabiola\"=>1998,\"josema\"=>2002)"
   ]
  },
  {
   "cell_type": "code",
   "execution_count": 45,
   "id": "f9195f61",
   "metadata": {},
   "outputs": [
    {
     "data": {
      "text/plain": [
       "1995"
      ]
     },
     "execution_count": 45,
     "metadata": {},
     "output_type": "execute_result"
    }
   ],
   "source": [
    "diccionario[\"roberto\"]"
   ]
  },
  {
   "cell_type": "code",
   "execution_count": 46,
   "id": "509ea48a",
   "metadata": {},
   "outputs": [
    {
     "data": {
      "text/plain": [
       "1970"
      ]
     },
     "execution_count": 46,
     "metadata": {},
     "output_type": "execute_result"
    }
   ],
   "source": [
    "diccionario[\"esperanza\"]=1970"
   ]
  },
  {
   "cell_type": "code",
   "execution_count": 47,
   "id": "dab3f730",
   "metadata": {},
   "outputs": [
    {
     "data": {
      "text/plain": [
       "1970"
      ]
     },
     "execution_count": 47,
     "metadata": {},
     "output_type": "execute_result"
    }
   ],
   "source": [
    "diccionario[\"esperanza\"]"
   ]
  },
  {
   "cell_type": "code",
   "execution_count": 49,
   "id": "0af86b1c",
   "metadata": {},
   "outputs": [
    {
     "data": {
      "text/plain": [
       "false"
      ]
     },
     "execution_count": 49,
     "metadata": {},
     "output_type": "execute_result"
    }
   ],
   "source": [
    "haskey(diccionario,\"robertomora\")"
   ]
  },
  {
   "cell_type": "markdown",
   "id": "da73c006",
   "metadata": {},
   "source": [
    "Flow Control"
   ]
  },
  {
   "cell_type": "code",
   "execution_count": 1,
   "id": "cd764d4a",
   "metadata": {},
   "outputs": [
    {
     "data": {
      "text/plain": [
       "103"
      ]
     },
     "execution_count": 1,
     "metadata": {},
     "output_type": "execute_result"
    }
   ],
   "source": [
    "#Expresiones compuestas\n",
    "z= begin\n",
    "    x=100\n",
    "    y=3\n",
    "    x+y\n",
    "end"
   ]
  },
  {
   "cell_type": "code",
   "execution_count": 10,
   "id": "389c13ec",
   "metadata": {},
   "outputs": [
    {
     "data": {
      "text/plain": [
       "200"
      ]
     },
     "execution_count": 10,
     "metadata": {},
     "output_type": "execute_result"
    }
   ],
   "source": [
    "z=(x=100;y=100;x+y)"
   ]
  },
  {
   "cell_type": "code",
   "execution_count": 11,
   "id": "deb67ba1",
   "metadata": {},
   "outputs": [],
   "source": [
    "#if statement\n",
    "if x>y\n",
    "    println(\"x es mayor que y\")\n",
    "end\n"
   ]
  },
  {
   "cell_type": "code",
   "execution_count": 12,
   "id": "81cd74da",
   "metadata": {},
   "outputs": [
    {
     "name": "stdout",
     "output_type": "stream",
     "text": [
      "x es igual que y\n"
     ]
    }
   ],
   "source": [
    "if x<y\n",
    "    println(\"x es menor que y\")\n",
    "elseif x>y\n",
    "    println(\"x es mayor que y\")\n",
    "else\n",
    "    println(\"x es igual que y\")\n",
    "end\n"
   ]
  },
  {
   "cell_type": "code",
   "execution_count": 13,
   "id": "ad48c429",
   "metadata": {},
   "outputs": [
    {
     "name": "stdout",
     "output_type": "stream",
     "text": [
      "x es igual que y\n"
     ]
    }
   ],
   "source": [
    "println(x < y ? \"x es menor que y\" : (x > y ? \"x es mayor que y\" : \"x es igual que y\"))"
   ]
  },
  {
   "cell_type": "code",
   "execution_count": 14,
   "id": "09c08c4a",
   "metadata": {},
   "outputs": [
    {
     "name": "stdout",
     "output_type": "stream",
     "text": [
      "0\n",
      "1\n",
      "2\n",
      "3\n",
      "4\n",
      "5\n"
     ]
    }
   ],
   "source": [
    "#while\n",
    "i=0\n",
    "while i <=5\n",
    "    println(i)\n",
    "    i+=1\n",
    "end\n"
   ]
  },
  {
   "cell_type": "code",
   "execution_count": 15,
   "id": "0866e827",
   "metadata": {},
   "outputs": [
    {
     "name": "stdout",
     "output_type": "stream",
     "text": [
      "1\n",
      "2\n",
      "3\n",
      "4\n",
      "5\n"
     ]
    }
   ],
   "source": [
    "#for\n",
    "for i = 1:5\n",
    "    println(i)\n",
    "end\n"
   ]
  },
  {
   "cell_type": "code",
   "execution_count": 17,
   "id": "83c85a40",
   "metadata": {},
   "outputs": [
    {
     "name": "stdout",
     "output_type": "stream",
     "text": [
      "2\n",
      "8\n",
      "6\n"
     ]
    }
   ],
   "source": [
    "for i = [1,4,3]\n",
    "    println(i*2)\n",
    "end"
   ]
  },
  {
   "cell_type": "code",
   "execution_count": 18,
   "id": "ba123f1d",
   "metadata": {},
   "outputs": [
    {
     "data": {
      "text/plain": [
       "8-element Vector{Int64}:\n",
       " 1\n",
       " 2\n",
       " 3\n",
       " 4\n",
       " 5\n",
       " 6\n",
       " 7\n",
       " 8"
      ]
     },
     "execution_count": 18,
     "metadata": {},
     "output_type": "execute_result"
    }
   ],
   "source": [
    "array=[1,2,3,4,5,6,7,8]"
   ]
  },
  {
   "cell_type": "code",
   "execution_count": 19,
   "id": "b0c353b6",
   "metadata": {},
   "outputs": [
    {
     "data": {
      "text/plain": [
       "8-element Vector{Int64}:\n",
       "  1\n",
       "  4\n",
       "  9\n",
       " 16\n",
       " 25\n",
       " 36\n",
       " 49\n",
       " 64"
      ]
     },
     "execution_count": 19,
     "metadata": {},
     "output_type": "execute_result"
    }
   ],
   "source": [
    "res=[i^2 for i in array]"
   ]
  },
  {
   "cell_type": "code",
   "execution_count": 20,
   "id": "9a05035e",
   "metadata": {},
   "outputs": [
    {
     "data": {
      "text/plain": [
       "3-element Vector{String}:\n",
       " \"roberto\"\n",
       " \"mora\"\n",
       " \"balderas\""
      ]
     },
     "execution_count": 20,
     "metadata": {},
     "output_type": "execute_result"
    }
   ],
   "source": [
    "array2 = [\"roberto\",\"mora\",\"balderas\"]"
   ]
  },
  {
   "cell_type": "code",
   "execution_count": 21,
   "id": "2c838ef3",
   "metadata": {},
   "outputs": [
    {
     "data": {
      "text/plain": [
       "3-element Vector{String}:\n",
       " \"roberto\"\n",
       " \"mora\"\n",
       " \"balderas\""
      ]
     },
     "execution_count": 21,
     "metadata": {},
     "output_type": "execute_result"
    }
   ],
   "source": [
    "res=[i for i in array2]"
   ]
  },
  {
   "cell_type": "code",
   "execution_count": null,
   "id": "f57d9cfa",
   "metadata": {},
   "outputs": [],
   "source": []
  }
 ],
 "metadata": {
  "kernelspec": {
   "display_name": "Julia 1.9.0",
   "language": "julia",
   "name": "julia-1.9"
  },
  "language_info": {
   "file_extension": ".jl",
   "mimetype": "application/julia",
   "name": "julia",
   "version": "1.9.0"
  }
 },
 "nbformat": 4,
 "nbformat_minor": 5
}
