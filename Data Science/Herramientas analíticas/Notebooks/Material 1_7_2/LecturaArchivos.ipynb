{
 "cells": [
  {
   "cell_type": "code",
   "execution_count": 2,
   "metadata": {},
   "outputs": [],
   "source": [
    "using DataFrames"
   ]
  },
  {
   "cell_type": "code",
   "execution_count": 3,
   "metadata": {},
   "outputs": [
    {
     "data": {
      "text/html": [
       "<div class=\"data-frame\"><p>5 rows × 17 columns (omitted printing of 8 columns)</p><table class=\"data-frame\"><thead><tr><th></th><th>age</th><th>job</th><th>marital</th><th>education</th><th>default</th><th>balance</th><th>housing</th><th>loan</th><th>contact</th></tr><tr><th></th><th title=\"Int64\">Int64</th><th title=\"String15\">String15</th><th title=\"String15\">String15</th><th title=\"String15\">String15</th><th title=\"String3\">String3</th><th title=\"Int64\">Int64</th><th title=\"String3\">String3</th><th title=\"String3\">String3</th><th title=\"String15\">String15</th></tr></thead><tbody><tr><th>1</th><td>58</td><td>management</td><td>married</td><td>tertiary</td><td>no</td><td>2143</td><td>yes</td><td>no</td><td>unknown</td></tr><tr><th>2</th><td>44</td><td>technician</td><td>single</td><td>secondary</td><td>no</td><td>29</td><td>yes</td><td>no</td><td>unknown</td></tr><tr><th>3</th><td>33</td><td>entrepreneur</td><td>married</td><td>secondary</td><td>no</td><td>2</td><td>yes</td><td>yes</td><td>unknown</td></tr><tr><th>4</th><td>47</td><td>blue-collar</td><td>married</td><td>unknown</td><td>no</td><td>1506</td><td>yes</td><td>no</td><td>unknown</td></tr><tr><th>5</th><td>33</td><td>unknown</td><td>single</td><td>unknown</td><td>no</td><td>1</td><td>no</td><td>no</td><td>unknown</td></tr></tbody></table></div>"
      ],
      "text/latex": [
       "\\begin{tabular}{r|cccccccccc}\n",
       "\t& age & job & marital & education & default & balance & housing & loan & contact & \\\\\n",
       "\t\\hline\n",
       "\t& Int64 & String15 & String15 & String15 & String3 & Int64 & String3 & String3 & String15 & \\\\\n",
       "\t\\hline\n",
       "\t1 & 58 & management & married & tertiary & no & 2143 & yes & no & unknown & $\\dots$ \\\\\n",
       "\t2 & 44 & technician & single & secondary & no & 29 & yes & no & unknown & $\\dots$ \\\\\n",
       "\t3 & 33 & entrepreneur & married & secondary & no & 2 & yes & yes & unknown & $\\dots$ \\\\\n",
       "\t4 & 47 & blue-collar & married & unknown & no & 1506 & yes & no & unknown & $\\dots$ \\\\\n",
       "\t5 & 33 & unknown & single & unknown & no & 1 & no & no & unknown & $\\dots$ \\\\\n",
       "\\end{tabular}\n"
      ],
      "text/plain": [
       "\u001b[1m5×17 DataFrame\u001b[0m\n",
       "\u001b[1m Row \u001b[0m│\u001b[1m age   \u001b[0m\u001b[1m job          \u001b[0m\u001b[1m marital  \u001b[0m\u001b[1m education \u001b[0m\u001b[1m default \u001b[0m\u001b[1m balance \u001b[0m\u001b[1m housing \u001b[0m\u001b[1m lo\u001b[0m ⋯\n",
       "\u001b[1m     \u001b[0m│\u001b[90m Int64 \u001b[0m\u001b[90m String15     \u001b[0m\u001b[90m String15 \u001b[0m\u001b[90m String15  \u001b[0m\u001b[90m String3 \u001b[0m\u001b[90m Int64   \u001b[0m\u001b[90m String3 \u001b[0m\u001b[90m St\u001b[0m ⋯\n",
       "─────┼──────────────────────────────────────────────────────────────────────────\n",
       "   1 │    58  management    married   tertiary   no          2143  yes      no ⋯\n",
       "   2 │    44  technician    single    secondary  no            29  yes      no\n",
       "   3 │    33  entrepreneur  married   secondary  no             2  yes      ye\n",
       "   4 │    47  blue-collar   married   unknown    no          1506  yes      no\n",
       "   5 │    33  unknown       single    unknown    no             1  no       no ⋯\n",
       "\u001b[36m                                                              10 columns omitted\u001b[0m"
      ]
     },
     "execution_count": 3,
     "metadata": {},
     "output_type": "execute_result"
    }
   ],
   "source": [
    "using CSV\n",
    "\n",
    "df = DataFrame(CSV.File(\"bank-full.csv\"))\n",
    "first(df, 5)"
   ]
  },
  {
   "cell_type": "code",
   "execution_count": 9,
   "metadata": {},
   "outputs": [
    {
     "data": {
      "text/html": [
       "<div class=\"data-frame\"><p>45,211 rows × 17 columns (omitted printing of 8 columns)</p><table class=\"data-frame\"><thead><tr><th></th><th>age</th><th>job</th><th>marital</th><th>education</th><th>default</th><th>balance</th><th>housing</th><th>loan</th><th>contact</th></tr><tr><th></th><th title=\"Int64\">Int64</th><th title=\"String15\">String15</th><th title=\"String15\">String15</th><th title=\"String15\">String15</th><th title=\"String3\">String3</th><th title=\"Int64\">Int64</th><th title=\"String3\">String3</th><th title=\"String3\">String3</th><th title=\"String15\">String15</th></tr></thead><tbody><tr><th>1</th><td>58</td><td>management</td><td>married</td><td>tertiary</td><td>no</td><td>2143</td><td>yes</td><td>no</td><td>unknown</td></tr><tr><th>2</th><td>44</td><td>technician</td><td>single</td><td>secondary</td><td>no</td><td>29</td><td>yes</td><td>no</td><td>unknown</td></tr><tr><th>3</th><td>33</td><td>entrepreneur</td><td>married</td><td>secondary</td><td>no</td><td>2</td><td>yes</td><td>yes</td><td>unknown</td></tr><tr><th>4</th><td>47</td><td>blue-collar</td><td>married</td><td>unknown</td><td>no</td><td>1506</td><td>yes</td><td>no</td><td>unknown</td></tr><tr><th>5</th><td>33</td><td>unknown</td><td>single</td><td>unknown</td><td>no</td><td>1</td><td>no</td><td>no</td><td>unknown</td></tr><tr><th>6</th><td>35</td><td>management</td><td>married</td><td>tertiary</td><td>no</td><td>231</td><td>yes</td><td>no</td><td>unknown</td></tr><tr><th>7</th><td>28</td><td>management</td><td>single</td><td>tertiary</td><td>no</td><td>447</td><td>yes</td><td>yes</td><td>unknown</td></tr><tr><th>8</th><td>42</td><td>entrepreneur</td><td>divorced</td><td>tertiary</td><td>yes</td><td>2</td><td>yes</td><td>no</td><td>unknown</td></tr><tr><th>9</th><td>58</td><td>retired</td><td>married</td><td>primary</td><td>no</td><td>121</td><td>yes</td><td>no</td><td>unknown</td></tr><tr><th>10</th><td>43</td><td>technician</td><td>single</td><td>secondary</td><td>no</td><td>593</td><td>yes</td><td>no</td><td>unknown</td></tr><tr><th>11</th><td>41</td><td>admin.</td><td>divorced</td><td>secondary</td><td>no</td><td>270</td><td>yes</td><td>no</td><td>unknown</td></tr><tr><th>12</th><td>29</td><td>admin.</td><td>single</td><td>secondary</td><td>no</td><td>390</td><td>yes</td><td>no</td><td>unknown</td></tr><tr><th>13</th><td>53</td><td>technician</td><td>married</td><td>secondary</td><td>no</td><td>6</td><td>yes</td><td>no</td><td>unknown</td></tr><tr><th>14</th><td>58</td><td>technician</td><td>married</td><td>unknown</td><td>no</td><td>71</td><td>yes</td><td>no</td><td>unknown</td></tr><tr><th>15</th><td>57</td><td>services</td><td>married</td><td>secondary</td><td>no</td><td>162</td><td>yes</td><td>no</td><td>unknown</td></tr><tr><th>16</th><td>51</td><td>retired</td><td>married</td><td>primary</td><td>no</td><td>229</td><td>yes</td><td>no</td><td>unknown</td></tr><tr><th>17</th><td>45</td><td>admin.</td><td>single</td><td>unknown</td><td>no</td><td>13</td><td>yes</td><td>no</td><td>unknown</td></tr><tr><th>18</th><td>57</td><td>blue-collar</td><td>married</td><td>primary</td><td>no</td><td>52</td><td>yes</td><td>no</td><td>unknown</td></tr><tr><th>19</th><td>60</td><td>retired</td><td>married</td><td>primary</td><td>no</td><td>60</td><td>yes</td><td>no</td><td>unknown</td></tr><tr><th>20</th><td>33</td><td>services</td><td>married</td><td>secondary</td><td>no</td><td>0</td><td>yes</td><td>no</td><td>unknown</td></tr><tr><th>21</th><td>28</td><td>blue-collar</td><td>married</td><td>secondary</td><td>no</td><td>723</td><td>yes</td><td>yes</td><td>unknown</td></tr><tr><th>22</th><td>56</td><td>management</td><td>married</td><td>tertiary</td><td>no</td><td>779</td><td>yes</td><td>no</td><td>unknown</td></tr><tr><th>23</th><td>32</td><td>blue-collar</td><td>single</td><td>primary</td><td>no</td><td>23</td><td>yes</td><td>yes</td><td>unknown</td></tr><tr><th>24</th><td>25</td><td>services</td><td>married</td><td>secondary</td><td>no</td><td>50</td><td>yes</td><td>no</td><td>unknown</td></tr><tr><th>25</th><td>40</td><td>retired</td><td>married</td><td>primary</td><td>no</td><td>0</td><td>yes</td><td>yes</td><td>unknown</td></tr><tr><th>26</th><td>44</td><td>admin.</td><td>married</td><td>secondary</td><td>no</td><td>-372</td><td>yes</td><td>no</td><td>unknown</td></tr><tr><th>27</th><td>39</td><td>management</td><td>single</td><td>tertiary</td><td>no</td><td>255</td><td>yes</td><td>no</td><td>unknown</td></tr><tr><th>28</th><td>52</td><td>entrepreneur</td><td>married</td><td>secondary</td><td>no</td><td>113</td><td>yes</td><td>yes</td><td>unknown</td></tr><tr><th>29</th><td>46</td><td>management</td><td>single</td><td>secondary</td><td>no</td><td>-246</td><td>yes</td><td>no</td><td>unknown</td></tr><tr><th>30</th><td>36</td><td>technician</td><td>single</td><td>secondary</td><td>no</td><td>265</td><td>yes</td><td>yes</td><td>unknown</td></tr><tr><th>&vellip;</th><td>&vellip;</td><td>&vellip;</td><td>&vellip;</td><td>&vellip;</td><td>&vellip;</td><td>&vellip;</td><td>&vellip;</td><td>&vellip;</td><td>&vellip;</td></tr></tbody></table></div>"
      ],
      "text/latex": [
       "\\begin{tabular}{r|cccccccccc}\n",
       "\t& age & job & marital & education & default & balance & housing & loan & contact & \\\\\n",
       "\t\\hline\n",
       "\t& Int64 & String15 & String15 & String15 & String3 & Int64 & String3 & String3 & String15 & \\\\\n",
       "\t\\hline\n",
       "\t1 & 58 & management & married & tertiary & no & 2143 & yes & no & unknown & $\\dots$ \\\\\n",
       "\t2 & 44 & technician & single & secondary & no & 29 & yes & no & unknown & $\\dots$ \\\\\n",
       "\t3 & 33 & entrepreneur & married & secondary & no & 2 & yes & yes & unknown & $\\dots$ \\\\\n",
       "\t4 & 47 & blue-collar & married & unknown & no & 1506 & yes & no & unknown & $\\dots$ \\\\\n",
       "\t5 & 33 & unknown & single & unknown & no & 1 & no & no & unknown & $\\dots$ \\\\\n",
       "\t6 & 35 & management & married & tertiary & no & 231 & yes & no & unknown & $\\dots$ \\\\\n",
       "\t7 & 28 & management & single & tertiary & no & 447 & yes & yes & unknown & $\\dots$ \\\\\n",
       "\t8 & 42 & entrepreneur & divorced & tertiary & yes & 2 & yes & no & unknown & $\\dots$ \\\\\n",
       "\t9 & 58 & retired & married & primary & no & 121 & yes & no & unknown & $\\dots$ \\\\\n",
       "\t10 & 43 & technician & single & secondary & no & 593 & yes & no & unknown & $\\dots$ \\\\\n",
       "\t11 & 41 & admin. & divorced & secondary & no & 270 & yes & no & unknown & $\\dots$ \\\\\n",
       "\t12 & 29 & admin. & single & secondary & no & 390 & yes & no & unknown & $\\dots$ \\\\\n",
       "\t13 & 53 & technician & married & secondary & no & 6 & yes & no & unknown & $\\dots$ \\\\\n",
       "\t14 & 58 & technician & married & unknown & no & 71 & yes & no & unknown & $\\dots$ \\\\\n",
       "\t15 & 57 & services & married & secondary & no & 162 & yes & no & unknown & $\\dots$ \\\\\n",
       "\t16 & 51 & retired & married & primary & no & 229 & yes & no & unknown & $\\dots$ \\\\\n",
       "\t17 & 45 & admin. & single & unknown & no & 13 & yes & no & unknown & $\\dots$ \\\\\n",
       "\t18 & 57 & blue-collar & married & primary & no & 52 & yes & no & unknown & $\\dots$ \\\\\n",
       "\t19 & 60 & retired & married & primary & no & 60 & yes & no & unknown & $\\dots$ \\\\\n",
       "\t20 & 33 & services & married & secondary & no & 0 & yes & no & unknown & $\\dots$ \\\\\n",
       "\t21 & 28 & blue-collar & married & secondary & no & 723 & yes & yes & unknown & $\\dots$ \\\\\n",
       "\t22 & 56 & management & married & tertiary & no & 779 & yes & no & unknown & $\\dots$ \\\\\n",
       "\t23 & 32 & blue-collar & single & primary & no & 23 & yes & yes & unknown & $\\dots$ \\\\\n",
       "\t24 & 25 & services & married & secondary & no & 50 & yes & no & unknown & $\\dots$ \\\\\n",
       "\t25 & 40 & retired & married & primary & no & 0 & yes & yes & unknown & $\\dots$ \\\\\n",
       "\t26 & 44 & admin. & married & secondary & no & -372 & yes & no & unknown & $\\dots$ \\\\\n",
       "\t27 & 39 & management & single & tertiary & no & 255 & yes & no & unknown & $\\dots$ \\\\\n",
       "\t28 & 52 & entrepreneur & married & secondary & no & 113 & yes & yes & unknown & $\\dots$ \\\\\n",
       "\t29 & 46 & management & single & secondary & no & -246 & yes & no & unknown & $\\dots$ \\\\\n",
       "\t30 & 36 & technician & single & secondary & no & 265 & yes & yes & unknown & $\\dots$ \\\\\n",
       "\t$\\dots$ & $\\dots$ & $\\dots$ & $\\dots$ & $\\dots$ & $\\dots$ & $\\dots$ & $\\dots$ & $\\dots$ & $\\dots$ &  \\\\\n",
       "\\end{tabular}\n"
      ],
      "text/plain": [
       "\u001b[1m45211×17 DataFrame\u001b[0m\n",
       "\u001b[1m   Row \u001b[0m│\u001b[1m age   \u001b[0m\u001b[1m job          \u001b[0m\u001b[1m marital  \u001b[0m\u001b[1m education \u001b[0m\u001b[1m default \u001b[0m\u001b[1m balance \u001b[0m\u001b[1m housing \u001b[0m\u001b[1m \u001b[0m ⋯\n",
       "\u001b[1m       \u001b[0m│\u001b[90m Int64 \u001b[0m\u001b[90m String15     \u001b[0m\u001b[90m String15 \u001b[0m\u001b[90m String15  \u001b[0m\u001b[90m String3 \u001b[0m\u001b[90m Int64   \u001b[0m\u001b[90m String3 \u001b[0m\u001b[90m \u001b[0m ⋯\n",
       "───────┼────────────────────────────────────────────────────────────────────────\n",
       "     1 │    58  management    married   tertiary   no          2143  yes       ⋯\n",
       "     2 │    44  technician    single    secondary  no            29  yes\n",
       "     3 │    33  entrepreneur  married   secondary  no             2  yes\n",
       "     4 │    47  blue-collar   married   unknown    no          1506  yes\n",
       "     5 │    33  unknown       single    unknown    no             1  no        ⋯\n",
       "     6 │    35  management    married   tertiary   no           231  yes\n",
       "     7 │    28  management    single    tertiary   no           447  yes\n",
       "     8 │    42  entrepreneur  divorced  tertiary   yes            2  yes\n",
       "     9 │    58  retired       married   primary    no           121  yes       ⋯\n",
       "    10 │    43  technician    single    secondary  no           593  yes\n",
       "    11 │    41  admin.        divorced  secondary  no           270  yes\n",
       "   ⋮   │   ⋮         ⋮           ⋮          ⋮         ⋮        ⋮        ⋮      ⋱\n",
       " 45202 │    53  management    married   tertiary   no           583  no\n",
       " 45203 │    34  admin.        single    secondary  no           557  no        ⋯\n",
       " 45204 │    23  student       single    tertiary   no           113  no\n",
       " 45205 │    73  retired       married   secondary  no          2850  no\n",
       " 45206 │    25  technician    single    secondary  no           505  no\n",
       " 45207 │    51  technician    married   tertiary   no           825  no        ⋯\n",
       " 45208 │    71  retired       divorced  primary    no          1729  no\n",
       " 45209 │    72  retired       married   secondary  no          5715  no\n",
       " 45210 │    57  blue-collar   married   secondary  no           668  no\n",
       " 45211 │    37  entrepreneur  married   secondary  no          2971  no        ⋯\n",
       "\u001b[36m                                               10 columns and 45190 rows omitted\u001b[0m"
      ]
     },
     "execution_count": 9,
     "metadata": {},
     "output_type": "execute_result"
    }
   ],
   "source": [
    "df"
   ]
  },
  {
   "cell_type": "code",
   "execution_count": 10,
   "metadata": {},
   "outputs": [
    {
     "data": {
      "text/html": [
       "<div class=\"data-frame\"><p>45,211 rows × 17 columns (omitted printing of 8 columns)</p><table class=\"data-frame\"><thead><tr><th></th><th>age</th><th>job</th><th>marital</th><th>education</th><th>default</th><th>balance</th><th>housing</th><th>loan</th><th>contact</th></tr><tr><th></th><th title=\"Int64\">Int64</th><th title=\"String15\">String15</th><th title=\"String15\">String15</th><th title=\"String15\">String15</th><th title=\"String3\">String3</th><th title=\"Int64\">Int64</th><th title=\"String3\">String3</th><th title=\"String3\">String3</th><th title=\"String15\">String15</th></tr></thead><tbody><tr><th>1</th><td>58</td><td>management</td><td>married</td><td>tertiary</td><td>no</td><td>2143</td><td>yes</td><td>no</td><td>unknown</td></tr><tr><th>2</th><td>44</td><td>technician</td><td>single</td><td>secondary</td><td>no</td><td>29</td><td>yes</td><td>no</td><td>unknown</td></tr><tr><th>3</th><td>33</td><td>entrepreneur</td><td>married</td><td>secondary</td><td>no</td><td>2</td><td>yes</td><td>yes</td><td>unknown</td></tr><tr><th>4</th><td>47</td><td>blue-collar</td><td>married</td><td>unknown</td><td>no</td><td>1506</td><td>yes</td><td>no</td><td>unknown</td></tr><tr><th>5</th><td>33</td><td>unknown</td><td>single</td><td>unknown</td><td>no</td><td>1</td><td>no</td><td>no</td><td>unknown</td></tr><tr><th>6</th><td>35</td><td>management</td><td>married</td><td>tertiary</td><td>no</td><td>231</td><td>yes</td><td>no</td><td>unknown</td></tr><tr><th>7</th><td>28</td><td>management</td><td>single</td><td>tertiary</td><td>no</td><td>447</td><td>yes</td><td>yes</td><td>unknown</td></tr><tr><th>8</th><td>42</td><td>entrepreneur</td><td>divorced</td><td>tertiary</td><td>yes</td><td>2</td><td>yes</td><td>no</td><td>unknown</td></tr><tr><th>9</th><td>58</td><td>retired</td><td>married</td><td>primary</td><td>no</td><td>121</td><td>yes</td><td>no</td><td>unknown</td></tr><tr><th>10</th><td>43</td><td>technician</td><td>single</td><td>secondary</td><td>no</td><td>593</td><td>yes</td><td>no</td><td>unknown</td></tr><tr><th>11</th><td>41</td><td>admin.</td><td>divorced</td><td>secondary</td><td>no</td><td>270</td><td>yes</td><td>no</td><td>unknown</td></tr><tr><th>12</th><td>29</td><td>admin.</td><td>single</td><td>secondary</td><td>no</td><td>390</td><td>yes</td><td>no</td><td>unknown</td></tr><tr><th>13</th><td>53</td><td>technician</td><td>married</td><td>secondary</td><td>no</td><td>6</td><td>yes</td><td>no</td><td>unknown</td></tr><tr><th>14</th><td>58</td><td>technician</td><td>married</td><td>unknown</td><td>no</td><td>71</td><td>yes</td><td>no</td><td>unknown</td></tr><tr><th>15</th><td>57</td><td>services</td><td>married</td><td>secondary</td><td>no</td><td>162</td><td>yes</td><td>no</td><td>unknown</td></tr><tr><th>16</th><td>51</td><td>retired</td><td>married</td><td>primary</td><td>no</td><td>229</td><td>yes</td><td>no</td><td>unknown</td></tr><tr><th>17</th><td>45</td><td>admin.</td><td>single</td><td>unknown</td><td>no</td><td>13</td><td>yes</td><td>no</td><td>unknown</td></tr><tr><th>18</th><td>57</td><td>blue-collar</td><td>married</td><td>primary</td><td>no</td><td>52</td><td>yes</td><td>no</td><td>unknown</td></tr><tr><th>19</th><td>60</td><td>retired</td><td>married</td><td>primary</td><td>no</td><td>60</td><td>yes</td><td>no</td><td>unknown</td></tr><tr><th>20</th><td>33</td><td>services</td><td>married</td><td>secondary</td><td>no</td><td>0</td><td>yes</td><td>no</td><td>unknown</td></tr><tr><th>21</th><td>28</td><td>blue-collar</td><td>married</td><td>secondary</td><td>no</td><td>723</td><td>yes</td><td>yes</td><td>unknown</td></tr><tr><th>22</th><td>56</td><td>management</td><td>married</td><td>tertiary</td><td>no</td><td>779</td><td>yes</td><td>no</td><td>unknown</td></tr><tr><th>23</th><td>32</td><td>blue-collar</td><td>single</td><td>primary</td><td>no</td><td>23</td><td>yes</td><td>yes</td><td>unknown</td></tr><tr><th>24</th><td>25</td><td>services</td><td>married</td><td>secondary</td><td>no</td><td>50</td><td>yes</td><td>no</td><td>unknown</td></tr><tr><th>25</th><td>40</td><td>retired</td><td>married</td><td>primary</td><td>no</td><td>0</td><td>yes</td><td>yes</td><td>unknown</td></tr><tr><th>26</th><td>44</td><td>admin.</td><td>married</td><td>secondary</td><td>no</td><td>-372</td><td>yes</td><td>no</td><td>unknown</td></tr><tr><th>27</th><td>39</td><td>management</td><td>single</td><td>tertiary</td><td>no</td><td>255</td><td>yes</td><td>no</td><td>unknown</td></tr><tr><th>28</th><td>52</td><td>entrepreneur</td><td>married</td><td>secondary</td><td>no</td><td>113</td><td>yes</td><td>yes</td><td>unknown</td></tr><tr><th>29</th><td>46</td><td>management</td><td>single</td><td>secondary</td><td>no</td><td>-246</td><td>yes</td><td>no</td><td>unknown</td></tr><tr><th>30</th><td>36</td><td>technician</td><td>single</td><td>secondary</td><td>no</td><td>265</td><td>yes</td><td>yes</td><td>unknown</td></tr><tr><th>&vellip;</th><td>&vellip;</td><td>&vellip;</td><td>&vellip;</td><td>&vellip;</td><td>&vellip;</td><td>&vellip;</td><td>&vellip;</td><td>&vellip;</td><td>&vellip;</td></tr></tbody></table></div>"
      ],
      "text/latex": [
       "\\begin{tabular}{r|cccccccccc}\n",
       "\t& age & job & marital & education & default & balance & housing & loan & contact & \\\\\n",
       "\t\\hline\n",
       "\t& Int64 & String15 & String15 & String15 & String3 & Int64 & String3 & String3 & String15 & \\\\\n",
       "\t\\hline\n",
       "\t1 & 58 & management & married & tertiary & no & 2143 & yes & no & unknown & $\\dots$ \\\\\n",
       "\t2 & 44 & technician & single & secondary & no & 29 & yes & no & unknown & $\\dots$ \\\\\n",
       "\t3 & 33 & entrepreneur & married & secondary & no & 2 & yes & yes & unknown & $\\dots$ \\\\\n",
       "\t4 & 47 & blue-collar & married & unknown & no & 1506 & yes & no & unknown & $\\dots$ \\\\\n",
       "\t5 & 33 & unknown & single & unknown & no & 1 & no & no & unknown & $\\dots$ \\\\\n",
       "\t6 & 35 & management & married & tertiary & no & 231 & yes & no & unknown & $\\dots$ \\\\\n",
       "\t7 & 28 & management & single & tertiary & no & 447 & yes & yes & unknown & $\\dots$ \\\\\n",
       "\t8 & 42 & entrepreneur & divorced & tertiary & yes & 2 & yes & no & unknown & $\\dots$ \\\\\n",
       "\t9 & 58 & retired & married & primary & no & 121 & yes & no & unknown & $\\dots$ \\\\\n",
       "\t10 & 43 & technician & single & secondary & no & 593 & yes & no & unknown & $\\dots$ \\\\\n",
       "\t11 & 41 & admin. & divorced & secondary & no & 270 & yes & no & unknown & $\\dots$ \\\\\n",
       "\t12 & 29 & admin. & single & secondary & no & 390 & yes & no & unknown & $\\dots$ \\\\\n",
       "\t13 & 53 & technician & married & secondary & no & 6 & yes & no & unknown & $\\dots$ \\\\\n",
       "\t14 & 58 & technician & married & unknown & no & 71 & yes & no & unknown & $\\dots$ \\\\\n",
       "\t15 & 57 & services & married & secondary & no & 162 & yes & no & unknown & $\\dots$ \\\\\n",
       "\t16 & 51 & retired & married & primary & no & 229 & yes & no & unknown & $\\dots$ \\\\\n",
       "\t17 & 45 & admin. & single & unknown & no & 13 & yes & no & unknown & $\\dots$ \\\\\n",
       "\t18 & 57 & blue-collar & married & primary & no & 52 & yes & no & unknown & $\\dots$ \\\\\n",
       "\t19 & 60 & retired & married & primary & no & 60 & yes & no & unknown & $\\dots$ \\\\\n",
       "\t20 & 33 & services & married & secondary & no & 0 & yes & no & unknown & $\\dots$ \\\\\n",
       "\t21 & 28 & blue-collar & married & secondary & no & 723 & yes & yes & unknown & $\\dots$ \\\\\n",
       "\t22 & 56 & management & married & tertiary & no & 779 & yes & no & unknown & $\\dots$ \\\\\n",
       "\t23 & 32 & blue-collar & single & primary & no & 23 & yes & yes & unknown & $\\dots$ \\\\\n",
       "\t24 & 25 & services & married & secondary & no & 50 & yes & no & unknown & $\\dots$ \\\\\n",
       "\t25 & 40 & retired & married & primary & no & 0 & yes & yes & unknown & $\\dots$ \\\\\n",
       "\t26 & 44 & admin. & married & secondary & no & -372 & yes & no & unknown & $\\dots$ \\\\\n",
       "\t27 & 39 & management & single & tertiary & no & 255 & yes & no & unknown & $\\dots$ \\\\\n",
       "\t28 & 52 & entrepreneur & married & secondary & no & 113 & yes & yes & unknown & $\\dots$ \\\\\n",
       "\t29 & 46 & management & single & secondary & no & -246 & yes & no & unknown & $\\dots$ \\\\\n",
       "\t30 & 36 & technician & single & secondary & no & 265 & yes & yes & unknown & $\\dots$ \\\\\n",
       "\t$\\dots$ & $\\dots$ & $\\dots$ & $\\dots$ & $\\dots$ & $\\dots$ & $\\dots$ & $\\dots$ & $\\dots$ & $\\dots$ &  \\\\\n",
       "\\end{tabular}\n"
      ],
      "text/plain": [
       "\u001b[1m45211×17 DataFrame\u001b[0m\n",
       "\u001b[1m   Row \u001b[0m│\u001b[1m age   \u001b[0m\u001b[1m job          \u001b[0m\u001b[1m marital  \u001b[0m\u001b[1m education \u001b[0m\u001b[1m default \u001b[0m\u001b[1m balance \u001b[0m\u001b[1m housing \u001b[0m\u001b[1m \u001b[0m ⋯\n",
       "\u001b[1m       \u001b[0m│\u001b[90m Int64 \u001b[0m\u001b[90m String15     \u001b[0m\u001b[90m String15 \u001b[0m\u001b[90m String15  \u001b[0m\u001b[90m String3 \u001b[0m\u001b[90m Int64   \u001b[0m\u001b[90m String3 \u001b[0m\u001b[90m \u001b[0m ⋯\n",
       "───────┼────────────────────────────────────────────────────────────────────────\n",
       "     1 │    58  management    married   tertiary   no          2143  yes       ⋯\n",
       "     2 │    44  technician    single    secondary  no            29  yes\n",
       "     3 │    33  entrepreneur  married   secondary  no             2  yes\n",
       "     4 │    47  blue-collar   married   unknown    no          1506  yes\n",
       "     5 │    33  unknown       single    unknown    no             1  no        ⋯\n",
       "     6 │    35  management    married   tertiary   no           231  yes\n",
       "     7 │    28  management    single    tertiary   no           447  yes\n",
       "     8 │    42  entrepreneur  divorced  tertiary   yes            2  yes\n",
       "     9 │    58  retired       married   primary    no           121  yes       ⋯\n",
       "    10 │    43  technician    single    secondary  no           593  yes\n",
       "    11 │    41  admin.        divorced  secondary  no           270  yes\n",
       "   ⋮   │   ⋮         ⋮           ⋮          ⋮         ⋮        ⋮        ⋮      ⋱\n",
       " 45202 │    53  management    married   tertiary   no           583  no\n",
       " 45203 │    34  admin.        single    secondary  no           557  no        ⋯\n",
       " 45204 │    23  student       single    tertiary   no           113  no\n",
       " 45205 │    73  retired       married   secondary  no          2850  no\n",
       " 45206 │    25  technician    single    secondary  no           505  no\n",
       " 45207 │    51  technician    married   tertiary   no           825  no        ⋯\n",
       " 45208 │    71  retired       divorced  primary    no          1729  no\n",
       " 45209 │    72  retired       married   secondary  no          5715  no\n",
       " 45210 │    57  blue-collar   married   secondary  no           668  no\n",
       " 45211 │    37  entrepreneur  married   secondary  no          2971  no        ⋯\n",
       "\u001b[36m                                               10 columns and 45190 rows omitted\u001b[0m"
      ]
     },
     "execution_count": 10,
     "metadata": {},
     "output_type": "execute_result"
    }
   ],
   "source": [
    "dropmissing(df)"
   ]
  },
  {
   "cell_type": "code",
   "execution_count": null,
   "metadata": {},
   "outputs": [],
   "source": []
  }
 ],
 "metadata": {
  "kernelspec": {
   "display_name": "Julia 1.7.2",
   "language": "julia",
   "name": "julia-1.7"
  },
  "language_info": {
   "file_extension": ".jl",
   "mimetype": "application/julia",
   "name": "julia",
   "version": "1.7.2"
  }
 },
 "nbformat": 4,
 "nbformat_minor": 4
}
