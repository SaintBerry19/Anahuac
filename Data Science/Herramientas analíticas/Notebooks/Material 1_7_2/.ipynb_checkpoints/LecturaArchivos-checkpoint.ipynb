{
 "cells": [
  {
   "cell_type": "code",
   "execution_count": 1,
   "metadata": {},
   "outputs": [],
   "source": [
    "using DataFrames"
   ]
  },
  {
   "cell_type": "code",
   "execution_count": 6,
   "metadata": {},
   "outputs": [
    {
     "data": {
      "text/html": [
       "<div class=\"data-frame\"><p>5 rows × 17 columns (omitted printing of 8 columns)</p><table class=\"data-frame\"><thead><tr><th></th><th>age</th><th>job</th><th>marital</th><th>education</th><th>default</th><th>balance</th><th>housing</th><th>loan</th><th>contact</th></tr><tr><th></th><th title=\"Int64\">Int64</th><th title=\"String15\">String15</th><th title=\"String15\">String15</th><th title=\"String15\">String15</th><th title=\"String3\">String3</th><th title=\"Int64\">Int64</th><th title=\"String3\">String3</th><th title=\"String3\">String3</th><th title=\"String15\">String15</th></tr></thead><tbody><tr><th>1</th><td>58</td><td>management</td><td>married</td><td>tertiary</td><td>no</td><td>2143</td><td>yes</td><td>no</td><td>unknown</td></tr><tr><th>2</th><td>44</td><td>technician</td><td>single</td><td>secondary</td><td>no</td><td>29</td><td>yes</td><td>no</td><td>unknown</td></tr><tr><th>3</th><td>33</td><td>entrepreneur</td><td>married</td><td>secondary</td><td>no</td><td>2</td><td>yes</td><td>yes</td><td>unknown</td></tr><tr><th>4</th><td>47</td><td>blue-collar</td><td>married</td><td>unknown</td><td>no</td><td>1506</td><td>yes</td><td>no</td><td>unknown</td></tr><tr><th>5</th><td>33</td><td>unknown</td><td>single</td><td>unknown</td><td>no</td><td>1</td><td>no</td><td>no</td><td>unknown</td></tr></tbody></table></div>"
      ],
      "text/latex": [
       "\\begin{tabular}{r|cccccccccc}\n",
       "\t& age & job & marital & education & default & balance & housing & loan & contact & \\\\\n",
       "\t\\hline\n",
       "\t& Int64 & String15 & String15 & String15 & String3 & Int64 & String3 & String3 & String15 & \\\\\n",
       "\t\\hline\n",
       "\t1 & 58 & management & married & tertiary & no & 2143 & yes & no & unknown & $\\dots$ \\\\\n",
       "\t2 & 44 & technician & single & secondary & no & 29 & yes & no & unknown & $\\dots$ \\\\\n",
       "\t3 & 33 & entrepreneur & married & secondary & no & 2 & yes & yes & unknown & $\\dots$ \\\\\n",
       "\t4 & 47 & blue-collar & married & unknown & no & 1506 & yes & no & unknown & $\\dots$ \\\\\n",
       "\t5 & 33 & unknown & single & unknown & no & 1 & no & no & unknown & $\\dots$ \\\\\n",
       "\\end{tabular}\n"
      ],
      "text/plain": [
       "\u001b[1m5×17 DataFrame\u001b[0m\n",
       "\u001b[1m Row \u001b[0m│\u001b[1m age   \u001b[0m\u001b[1m job          \u001b[0m\u001b[1m marital  \u001b[0m\u001b[1m education \u001b[0m\u001b[1m default \u001b[0m\u001b[1m balance \u001b[0m\u001b[1m housing \u001b[0m\u001b[1m lo\u001b[0m ⋯\n",
       "\u001b[1m     \u001b[0m│\u001b[90m Int64 \u001b[0m\u001b[90m String15     \u001b[0m\u001b[90m String15 \u001b[0m\u001b[90m String15  \u001b[0m\u001b[90m String3 \u001b[0m\u001b[90m Int64   \u001b[0m\u001b[90m String3 \u001b[0m\u001b[90m St\u001b[0m ⋯\n",
       "─────┼──────────────────────────────────────────────────────────────────────────\n",
       "   1 │    58  management    married   tertiary   no          2143  yes      no ⋯\n",
       "   2 │    44  technician    single    secondary  no            29  yes      no\n",
       "   3 │    33  entrepreneur  married   secondary  no             2  yes      ye\n",
       "   4 │    47  blue-collar   married   unknown    no          1506  yes      no\n",
       "   5 │    33  unknown       single    unknown    no             1  no       no ⋯\n",
       "\u001b[36m                                                              10 columns omitted\u001b[0m"
      ]
     },
     "execution_count": 6,
     "metadata": {},
     "output_type": "execute_result"
    }
   ],
   "source": [
    "using CSV\n",
    "\n",
    "df = DataFrame(CSV.File(\"bank-full.csv\"))\n",
    "first(df, 5)"
   ]
  },
  {
   "cell_type": "code",
   "execution_count": null,
   "metadata": {},
   "outputs": [],
   "source": [
    "df"
   ]
  }
 ],
 "metadata": {
  "kernelspec": {
   "display_name": "Julia 1.7.2",
   "language": "julia",
   "name": "julia-1.7"
  },
  "language_info": {
   "file_extension": ".jl",
   "mimetype": "application/julia",
   "name": "julia",
   "version": "1.7.2"
  }
 },
 "nbformat": 4,
 "nbformat_minor": 4
}
