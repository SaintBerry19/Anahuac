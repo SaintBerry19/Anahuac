{
 "cells": [
  {
   "cell_type": "markdown",
   "metadata": {},
   "source": [
    "# Regresión\n",
    "\n",
    "## Lectura de datos"
   ]
  },
  {
   "cell_type": "code",
   "execution_count": 1,
   "metadata": {},
   "outputs": [],
   "source": [
    "ENV[\"COLUMNS\"] = 1000;\n",
    "using CSV, DataFrames, ScikitLearn"
   ]
  },
  {
   "cell_type": "code",
   "execution_count": 2,
   "metadata": {},
   "outputs": [
    {
     "data": {
      "text/html": [
       "<div class=\"data-frame\"><p>5 rows × 7 columns</p><table class=\"data-frame\"><thead><tr><th></th><th>Species</th><th>Weight</th><th>Length1</th><th>Length2</th><th>Length3</th><th>Height</th><th>Width</th></tr><tr><th></th><th title=\"String15\">String15</th><th title=\"Float64\">Float64</th><th title=\"Float64\">Float64</th><th title=\"Float64\">Float64</th><th title=\"Float64\">Float64</th><th title=\"Float64\">Float64</th><th title=\"Float64\">Float64</th></tr></thead><tbody><tr><th>1</th><td>Bream</td><td>242.0</td><td>23.2</td><td>25.4</td><td>30.0</td><td>11.52</td><td>4.02</td></tr><tr><th>2</th><td>Bream</td><td>290.0</td><td>24.0</td><td>26.3</td><td>31.2</td><td>12.48</td><td>4.3056</td></tr><tr><th>3</th><td>Bream</td><td>340.0</td><td>23.9</td><td>26.5</td><td>31.1</td><td>12.3778</td><td>4.6961</td></tr><tr><th>4</th><td>Bream</td><td>363.0</td><td>26.3</td><td>29.0</td><td>33.5</td><td>12.73</td><td>4.4555</td></tr><tr><th>5</th><td>Bream</td><td>430.0</td><td>26.5</td><td>29.0</td><td>34.0</td><td>12.444</td><td>5.134</td></tr></tbody></table></div>"
      ],
      "text/latex": [
       "\\begin{tabular}{r|ccccccc}\n",
       "\t& Species & Weight & Length1 & Length2 & Length3 & Height & Width\\\\\n",
       "\t\\hline\n",
       "\t& String15 & Float64 & Float64 & Float64 & Float64 & Float64 & Float64\\\\\n",
       "\t\\hline\n",
       "\t1 & Bream & 242.0 & 23.2 & 25.4 & 30.0 & 11.52 & 4.02 \\\\\n",
       "\t2 & Bream & 290.0 & 24.0 & 26.3 & 31.2 & 12.48 & 4.3056 \\\\\n",
       "\t3 & Bream & 340.0 & 23.9 & 26.5 & 31.1 & 12.3778 & 4.6961 \\\\\n",
       "\t4 & Bream & 363.0 & 26.3 & 29.0 & 33.5 & 12.73 & 4.4555 \\\\\n",
       "\t5 & Bream & 430.0 & 26.5 & 29.0 & 34.0 & 12.444 & 5.134 \\\\\n",
       "\\end{tabular}\n"
      ],
      "text/plain": [
       "\u001b[1m5×7 DataFrame\u001b[0m\n",
       "\u001b[1m Row \u001b[0m│\u001b[1m Species  \u001b[0m\u001b[1m Weight  \u001b[0m\u001b[1m Length1 \u001b[0m\u001b[1m Length2 \u001b[0m\u001b[1m Length3 \u001b[0m\u001b[1m Height  \u001b[0m\u001b[1m Width   \u001b[0m\n",
       "\u001b[1m     \u001b[0m│\u001b[90m String15 \u001b[0m\u001b[90m Float64 \u001b[0m\u001b[90m Float64 \u001b[0m\u001b[90m Float64 \u001b[0m\u001b[90m Float64 \u001b[0m\u001b[90m Float64 \u001b[0m\u001b[90m Float64 \u001b[0m\n",
       "─────┼────────────────────────────────────────────────────────────────\n",
       "   1 │ Bream       242.0     23.2     25.4     30.0  11.52     4.02\n",
       "   2 │ Bream       290.0     24.0     26.3     31.2  12.48     4.3056\n",
       "   3 │ Bream       340.0     23.9     26.5     31.1  12.3778   4.6961\n",
       "   4 │ Bream       363.0     26.3     29.0     33.5  12.73     4.4555\n",
       "   5 │ Bream       430.0     26.5     29.0     34.0  12.444    5.134"
      ]
     },
     "execution_count": 2,
     "metadata": {},
     "output_type": "execute_result"
    }
   ],
   "source": [
    "# https://www.kaggle.com/aungpyaeap/fish-market\n",
    "df = DataFrame(CSV.File(\"fish.csv\"))\n",
    "first(df,5)"
   ]
  },
  {
   "cell_type": "markdown",
   "metadata": {},
   "source": [
    "- Species species name of fish\n",
    "- Weight weight of fish in Gram g\n",
    "- Length1 vertical length in cm\n",
    "- Length2 diagonal length in cm\n",
    "- Length3 cross length in cm\n",
    "- Height height in cm\n",
    "- Width diagonal width in cm"
   ]
  },
  {
   "cell_type": "code",
   "execution_count": 3,
   "metadata": {},
   "outputs": [
    {
     "data": {
      "text/plain": [
       "159"
      ]
     },
     "execution_count": 3,
     "metadata": {},
     "output_type": "execute_result"
    }
   ],
   "source": [
    "nrow(df)"
   ]
  },
  {
   "cell_type": "markdown",
   "metadata": {},
   "source": [
    "## Tratamiento de los datos"
   ]
  },
  {
   "cell_type": "code",
   "execution_count": 4,
   "metadata": {},
   "outputs": [
    {
     "data": {
      "text/plain": [
       "159×13 Matrix{Float64}:\n",
       " 1.0  0.0  0.0  0.0  0.0  0.0  0.0  0.304854   0.309091   0.358108   0.568334   0.418978   0.146667\n",
       " 1.0  0.0  0.0  0.0  0.0  0.0  0.0  0.320388   0.325455   0.378378   0.624055   0.459235   0.175758\n",
       " 1.0  0.0  0.0  0.0  0.0  0.0  0.0  0.318447   0.329091   0.376689   0.618123   0.514279   0.206061\n",
       " 1.0  0.0  0.0  0.0  0.0  0.0  0.0  0.365049   0.374545   0.41723    0.638566   0.480365   0.22\n",
       " 1.0  0.0  0.0  0.0  0.0  0.0  0.0  0.368932   0.374545   0.425676   0.621966   0.576004   0.260606\n",
       " 1.0  0.0  0.0  0.0  0.0  0.0  0.0  0.374757   0.387273   0.4375     0.689203   0.546882   0.272727\n",
       " 1.0  0.0  0.0  0.0  0.0  0.0  0.0  0.374757   0.387273   0.434122   0.722699   0.596372   0.30303\n",
       " 1.0  0.0  0.0  0.0  0.0  0.0  0.0  0.390291   0.392727   0.442568   0.635084   0.513419   0.236364\n",
       " 1.0  0.0  0.0  0.0  0.0  0.0  0.0  0.390291   0.392727   0.444257   0.712565   0.535098   0.272727\n",
       " 1.0  0.0  0.0  0.0  0.0  0.0  0.0  0.407767   0.405455   0.462838   0.725433   0.551393   0.30303\n",
       " 1.0  0.0  0.0  0.0  0.0  0.0  0.0  0.405825   0.410909   0.462838   0.727534   0.571803   0.287879\n",
       " 1.0  0.0  0.0  0.0  0.0  0.0  0.0  0.41165    0.410909   0.462838   0.733838   0.530982   0.30303\n",
       " 1.0  0.0  0.0  0.0  0.0  0.0  0.0  0.419417   0.42       0.466216   0.698304   0.468031   0.30303\n",
       " ⋮                        ⋮                                          ⋮                     \n",
       " 0.0  0.0  0.0  0.0  0.0  1.0  0.0  0.0504854  0.04       0.0472973  0.0        0.0142084  0.00424242\n",
       " 0.0  0.0  0.0  0.0  0.0  1.0  0.0  0.0563107  0.0472727  0.0540541  0.0271409  0.0468539  0.00587879\n",
       " 0.0  0.0  0.0  0.0  0.0  1.0  0.0  0.0621359  0.0509091  0.0608108  0.0205937  0.0323636  0.00593939\n",
       " 0.0  0.0  0.0  0.0  0.0  1.0  0.0  0.0640777  0.0527273  0.0641892  0.0144991  0.0334912  0.00527273\n",
       " 0.0  0.0  0.0  0.0  0.0  1.0  0.0  0.0737864  0.0618182  0.0726351  0.0281799  0.0332939  0.00606061\n",
       " 0.0  0.0  0.0  0.0  0.0  1.0  0.0  0.0737864  0.0618182  0.0726351  0.0281799  0.0166751  0.006\n",
       " 0.0  0.0  0.0  0.0  0.0  1.0  0.0  0.0757282  0.0654545  0.0743243  0.0276285  0.0142084  0.00593939\n",
       " 0.0  0.0  0.0  0.0  0.0  1.0  0.0  0.0776699  0.0690909  0.0777027  0.0210116  0.0487709  0.00739394\n",
       " 0.0  0.0  0.0  0.0  0.0  1.0  0.0  0.0815534  0.0727273  0.0793919  0.040723   0.0312077  0.00812121\n",
       " 0.0  0.0  0.0  0.0  0.0  1.0  0.0  0.0893204  0.0836364  0.0844595  0.0318424  0.0293471  0.00739394\n",
       " 0.0  0.0  0.0  0.0  0.0  1.0  0.0  0.11068    0.107273   0.108108   0.0664244  0.143719   0.0119394\n",
       " 0.0  0.0  0.0  0.0  0.0  1.0  0.0  0.12233    0.12       0.125      0.0698722  0.117219   0.0120606"
      ]
     },
     "execution_count": 4,
     "metadata": {},
     "output_type": "execute_result"
    }
   ],
   "source": [
    "@sk_import preprocessing: (LabelBinarizer, MinMaxScaler)\n",
    "\n",
    "mapper = DataFrameMapper([\n",
    "                        (:Species, LabelBinarizer()),\n",
    "                        ([:Length1], MinMaxScaler()),\n",
    "                        ([:Length2], MinMaxScaler()),\n",
    "                        ([:Length3], MinMaxScaler()),\n",
    "                        ([:Height], MinMaxScaler()),\n",
    "                        ([:Width], MinMaxScaler()),\n",
    "                        ([:Weight], MinMaxScaler())\n",
    "                        ]);\n",
    "\n",
    "df_ = fit_transform!(mapper, copy(df))"
   ]
  },
  {
   "cell_type": "code",
   "execution_count": 5,
   "metadata": {},
   "outputs": [
    {
     "data": {
      "text/plain": [
       "13-element Vector{String}:\n",
       " \"Bream\"\n",
       " \"Parkki\"\n",
       " \"Perch\"\n",
       " \"Pike\"\n",
       " \"Roach\"\n",
       " \"Smelt\"\n",
       " \"Whitefish\"\n",
       " \"Length1\"\n",
       " \"Length2\"\n",
       " \"Length3\"\n",
       " \"Height\"\n",
       " \"Width\"\n",
       " \"Weight\""
      ]
     },
     "execution_count": 5,
     "metadata": {},
     "output_type": "execute_result"
    }
   ],
   "source": [
    "columns = \n",
    "[\n",
    "    sort(unique(df[!,:Species]))[1:end];\n",
    "    \"Length1\";\n",
    "    \"Length2\";\n",
    "    \"Length3\";\n",
    "    \"Height\";\n",
    "    \"Width\";\n",
    "    \"Weight\"\n",
    "]"
   ]
  },
  {
   "cell_type": "code",
   "execution_count": 6,
   "metadata": {},
   "outputs": [
    {
     "data": {
      "text/html": [
       "<div class=\"data-frame\"><p>159 rows × 13 columns</p><table class=\"data-frame\"><thead><tr><th></th><th>Bream</th><th>Parkki</th><th>Perch</th><th>Pike</th><th>Roach</th><th>Smelt</th><th>Whitefish</th><th>Length1</th><th>Length2</th><th>Length3</th><th>Height</th><th>Width</th><th>Weight</th></tr><tr><th></th><th title=\"Float64\">Float64</th><th title=\"Float64\">Float64</th><th title=\"Float64\">Float64</th><th title=\"Float64\">Float64</th><th title=\"Float64\">Float64</th><th title=\"Float64\">Float64</th><th title=\"Float64\">Float64</th><th title=\"Float64\">Float64</th><th title=\"Float64\">Float64</th><th title=\"Float64\">Float64</th><th title=\"Float64\">Float64</th><th title=\"Float64\">Float64</th><th title=\"Float64\">Float64</th></tr></thead><tbody><tr><th>1</th><td>1.0</td><td>0.0</td><td>0.0</td><td>0.0</td><td>0.0</td><td>0.0</td><td>0.0</td><td>0.304854</td><td>0.309091</td><td>0.358108</td><td>0.568334</td><td>0.418978</td><td>0.146667</td></tr><tr><th>2</th><td>1.0</td><td>0.0</td><td>0.0</td><td>0.0</td><td>0.0</td><td>0.0</td><td>0.0</td><td>0.320388</td><td>0.325455</td><td>0.378378</td><td>0.624055</td><td>0.459235</td><td>0.175758</td></tr><tr><th>3</th><td>1.0</td><td>0.0</td><td>0.0</td><td>0.0</td><td>0.0</td><td>0.0</td><td>0.0</td><td>0.318447</td><td>0.329091</td><td>0.376689</td><td>0.618123</td><td>0.514279</td><td>0.206061</td></tr><tr><th>4</th><td>1.0</td><td>0.0</td><td>0.0</td><td>0.0</td><td>0.0</td><td>0.0</td><td>0.0</td><td>0.365049</td><td>0.374545</td><td>0.41723</td><td>0.638566</td><td>0.480365</td><td>0.22</td></tr><tr><th>5</th><td>1.0</td><td>0.0</td><td>0.0</td><td>0.0</td><td>0.0</td><td>0.0</td><td>0.0</td><td>0.368932</td><td>0.374545</td><td>0.425676</td><td>0.621966</td><td>0.576004</td><td>0.260606</td></tr><tr><th>6</th><td>1.0</td><td>0.0</td><td>0.0</td><td>0.0</td><td>0.0</td><td>0.0</td><td>0.0</td><td>0.374757</td><td>0.387273</td><td>0.4375</td><td>0.689203</td><td>0.546882</td><td>0.272727</td></tr><tr><th>7</th><td>1.0</td><td>0.0</td><td>0.0</td><td>0.0</td><td>0.0</td><td>0.0</td><td>0.0</td><td>0.374757</td><td>0.387273</td><td>0.434122</td><td>0.722699</td><td>0.596372</td><td>0.30303</td></tr><tr><th>8</th><td>1.0</td><td>0.0</td><td>0.0</td><td>0.0</td><td>0.0</td><td>0.0</td><td>0.0</td><td>0.390291</td><td>0.392727</td><td>0.442568</td><td>0.635084</td><td>0.513419</td><td>0.236364</td></tr><tr><th>9</th><td>1.0</td><td>0.0</td><td>0.0</td><td>0.0</td><td>0.0</td><td>0.0</td><td>0.0</td><td>0.390291</td><td>0.392727</td><td>0.444257</td><td>0.712565</td><td>0.535098</td><td>0.272727</td></tr><tr><th>10</th><td>1.0</td><td>0.0</td><td>0.0</td><td>0.0</td><td>0.0</td><td>0.0</td><td>0.0</td><td>0.407767</td><td>0.405455</td><td>0.462838</td><td>0.725433</td><td>0.551393</td><td>0.30303</td></tr><tr><th>11</th><td>1.0</td><td>0.0</td><td>0.0</td><td>0.0</td><td>0.0</td><td>0.0</td><td>0.0</td><td>0.405825</td><td>0.410909</td><td>0.462838</td><td>0.727534</td><td>0.571803</td><td>0.287879</td></tr><tr><th>12</th><td>1.0</td><td>0.0</td><td>0.0</td><td>0.0</td><td>0.0</td><td>0.0</td><td>0.0</td><td>0.41165</td><td>0.410909</td><td>0.462838</td><td>0.733838</td><td>0.530982</td><td>0.30303</td></tr><tr><th>13</th><td>1.0</td><td>0.0</td><td>0.0</td><td>0.0</td><td>0.0</td><td>0.0</td><td>0.0</td><td>0.419417</td><td>0.42</td><td>0.466216</td><td>0.698304</td><td>0.468031</td><td>0.30303</td></tr><tr><th>14</th><td>1.0</td><td>0.0</td><td>0.0</td><td>0.0</td><td>0.0</td><td>0.0</td><td>0.0</td><td>0.427184</td><td>0.429091</td><td>0.481419</td><td>0.707225</td><td>0.567377</td><td>0.206061</td></tr><tr><th>15</th><td>1.0</td><td>0.0</td><td>0.0</td><td>0.0</td><td>0.0</td><td>0.0</td><td>0.0</td><td>0.425243</td><td>0.429091</td><td>0.47973</td><td>0.767677</td><td>0.581191</td><td>0.363636</td></tr><tr><th>16</th><td>1.0</td><td>0.0</td><td>0.0</td><td>0.0</td><td>0.0</td><td>0.0</td><td>0.0</td><td>0.425243</td><td>0.429091</td><td>0.47973</td><td>0.795747</td><td>0.63887</td><td>0.363636</td></tr><tr><th>17</th><td>1.0</td><td>0.0</td><td>0.0</td><td>0.0</td><td>0.0</td><td>0.0</td><td>0.0</td><td>0.44466</td><td>0.447273</td><td>0.498311</td><td>0.762221</td><td>0.597344</td><td>0.424242</td></tr><tr><th>18</th><td>1.0</td><td>0.0</td><td>0.0</td><td>0.0</td><td>0.0</td><td>0.0</td><td>0.0</td><td>0.44466</td><td>0.447273</td><td>0.501689</td><td>0.766725</td><td>0.584954</td><td>0.424242</td></tr><tr><th>19</th><td>1.0</td><td>0.0</td><td>0.0</td><td>0.0</td><td>0.0</td><td>0.0</td><td>0.0</td><td>0.454369</td><td>0.456364</td><td>0.503378</td><td>0.807065</td><td>0.575975</td><td>0.369697</td></tr><tr><th>20</th><td>1.0</td><td>0.0</td><td>0.0</td><td>0.0</td><td>0.0</td><td>0.0</td><td>0.0</td><td>0.456311</td><td>0.456364</td><td>0.505068</td><td>0.739782</td><td>0.659675</td><td>0.393939</td></tr><tr><th>21</th><td>1.0</td><td>0.0</td><td>0.0</td><td>0.0</td><td>0.0</td><td>0.0</td><td>0.0</td><td>0.462136</td><td>0.465455</td><td>0.518581</td><td>0.777782</td><td>0.63739</td><td>0.348485</td></tr><tr><th>22</th><td>1.0</td><td>0.0</td><td>0.0</td><td>0.0</td><td>0.0</td><td>0.0</td><td>0.0</td><td>0.464078</td><td>0.465455</td><td>0.513514</td><td>0.827995</td><td>0.609326</td><td>0.415152</td></tr><tr><th>23</th><td>1.0</td><td>0.0</td><td>0.0</td><td>0.0</td><td>0.0</td><td>0.0</td><td>0.0</td><td>0.466019</td><td>0.474545</td><td>0.521959</td><td>0.800663</td><td>0.596597</td><td>0.375758</td></tr><tr><th>24</th><td>1.0</td><td>0.0</td><td>0.0</td><td>0.0</td><td>0.0</td><td>0.0</td><td>0.0</td><td>0.471845</td><td>0.483636</td><td>0.537162</td><td>0.797523</td><td>0.716481</td><td>0.412121</td></tr><tr><th>25</th><td>1.0</td><td>0.0</td><td>0.0</td><td>0.0</td><td>0.0</td><td>0.0</td><td>0.0</td><td>0.473786</td><td>0.483636</td><td>0.535473</td><td>0.842326</td><td>0.640139</td><td>0.424242</td></tr><tr><th>26</th><td>1.0</td><td>0.0</td><td>0.0</td><td>0.0</td><td>0.0</td><td>0.0</td><td>0.0</td><td>0.471845</td><td>0.483636</td><td>0.54223</td><td>0.849262</td><td>0.705571</td><td>0.439394</td></tr><tr><th>27</th><td>1.0</td><td>0.0</td><td>0.0</td><td>0.0</td><td>0.0</td><td>0.0</td><td>0.0</td><td>0.475728</td><td>0.483636</td><td>0.537162</td><td>0.849367</td><td>0.710758</td><td>0.436364</td></tr><tr><th>28</th><td>1.0</td><td>0.0</td><td>0.0</td><td>0.0</td><td>0.0</td><td>0.0</td><td>0.0</td><td>0.48932</td><td>0.501818</td><td>0.552365</td><td>0.858375</td><td>0.67714</td><td>0.432727</td></tr><tr><th>29</th><td>1.0</td><td>0.0</td><td>0.0</td><td>0.0</td><td>0.0</td><td>0.0</td><td>0.0</td><td>0.491262</td><td>0.501818</td><td>0.554054</td><td>0.880002</td><td>0.726037</td><td>0.515152</td></tr><tr><th>30</th><td>1.0</td><td>0.0</td><td>0.0</td><td>0.0</td><td>0.0</td><td>0.0</td><td>0.0</td><td>0.504854</td><td>0.52</td><td>0.570946</td><td>1.0</td><td>0.783068</td><td>0.606061</td></tr><tr><th>&vellip;</th><td>&vellip;</td><td>&vellip;</td><td>&vellip;</td><td>&vellip;</td><td>&vellip;</td><td>&vellip;</td><td>&vellip;</td><td>&vellip;</td><td>&vellip;</td><td>&vellip;</td><td>&vellip;</td><td>&vellip;</td><td>&vellip;</td></tr></tbody></table></div>"
      ],
      "text/latex": [
       "\\begin{tabular}{r|ccccccccccccc}\n",
       "\t& Bream & Parkki & Perch & Pike & Roach & Smelt & Whitefish & Length1 & Length2 & Length3 & Height & Width & Weight\\\\\n",
       "\t\\hline\n",
       "\t& Float64 & Float64 & Float64 & Float64 & Float64 & Float64 & Float64 & Float64 & Float64 & Float64 & Float64 & Float64 & Float64\\\\\n",
       "\t\\hline\n",
       "\t1 & 1.0 & 0.0 & 0.0 & 0.0 & 0.0 & 0.0 & 0.0 & 0.304854 & 0.309091 & 0.358108 & 0.568334 & 0.418978 & 0.146667 \\\\\n",
       "\t2 & 1.0 & 0.0 & 0.0 & 0.0 & 0.0 & 0.0 & 0.0 & 0.320388 & 0.325455 & 0.378378 & 0.624055 & 0.459235 & 0.175758 \\\\\n",
       "\t3 & 1.0 & 0.0 & 0.0 & 0.0 & 0.0 & 0.0 & 0.0 & 0.318447 & 0.329091 & 0.376689 & 0.618123 & 0.514279 & 0.206061 \\\\\n",
       "\t4 & 1.0 & 0.0 & 0.0 & 0.0 & 0.0 & 0.0 & 0.0 & 0.365049 & 0.374545 & 0.41723 & 0.638566 & 0.480365 & 0.22 \\\\\n",
       "\t5 & 1.0 & 0.0 & 0.0 & 0.0 & 0.0 & 0.0 & 0.0 & 0.368932 & 0.374545 & 0.425676 & 0.621966 & 0.576004 & 0.260606 \\\\\n",
       "\t6 & 1.0 & 0.0 & 0.0 & 0.0 & 0.0 & 0.0 & 0.0 & 0.374757 & 0.387273 & 0.4375 & 0.689203 & 0.546882 & 0.272727 \\\\\n",
       "\t7 & 1.0 & 0.0 & 0.0 & 0.0 & 0.0 & 0.0 & 0.0 & 0.374757 & 0.387273 & 0.434122 & 0.722699 & 0.596372 & 0.30303 \\\\\n",
       "\t8 & 1.0 & 0.0 & 0.0 & 0.0 & 0.0 & 0.0 & 0.0 & 0.390291 & 0.392727 & 0.442568 & 0.635084 & 0.513419 & 0.236364 \\\\\n",
       "\t9 & 1.0 & 0.0 & 0.0 & 0.0 & 0.0 & 0.0 & 0.0 & 0.390291 & 0.392727 & 0.444257 & 0.712565 & 0.535098 & 0.272727 \\\\\n",
       "\t10 & 1.0 & 0.0 & 0.0 & 0.0 & 0.0 & 0.0 & 0.0 & 0.407767 & 0.405455 & 0.462838 & 0.725433 & 0.551393 & 0.30303 \\\\\n",
       "\t11 & 1.0 & 0.0 & 0.0 & 0.0 & 0.0 & 0.0 & 0.0 & 0.405825 & 0.410909 & 0.462838 & 0.727534 & 0.571803 & 0.287879 \\\\\n",
       "\t12 & 1.0 & 0.0 & 0.0 & 0.0 & 0.0 & 0.0 & 0.0 & 0.41165 & 0.410909 & 0.462838 & 0.733838 & 0.530982 & 0.30303 \\\\\n",
       "\t13 & 1.0 & 0.0 & 0.0 & 0.0 & 0.0 & 0.0 & 0.0 & 0.419417 & 0.42 & 0.466216 & 0.698304 & 0.468031 & 0.30303 \\\\\n",
       "\t14 & 1.0 & 0.0 & 0.0 & 0.0 & 0.0 & 0.0 & 0.0 & 0.427184 & 0.429091 & 0.481419 & 0.707225 & 0.567377 & 0.206061 \\\\\n",
       "\t15 & 1.0 & 0.0 & 0.0 & 0.0 & 0.0 & 0.0 & 0.0 & 0.425243 & 0.429091 & 0.47973 & 0.767677 & 0.581191 & 0.363636 \\\\\n",
       "\t16 & 1.0 & 0.0 & 0.0 & 0.0 & 0.0 & 0.0 & 0.0 & 0.425243 & 0.429091 & 0.47973 & 0.795747 & 0.63887 & 0.363636 \\\\\n",
       "\t17 & 1.0 & 0.0 & 0.0 & 0.0 & 0.0 & 0.0 & 0.0 & 0.44466 & 0.447273 & 0.498311 & 0.762221 & 0.597344 & 0.424242 \\\\\n",
       "\t18 & 1.0 & 0.0 & 0.0 & 0.0 & 0.0 & 0.0 & 0.0 & 0.44466 & 0.447273 & 0.501689 & 0.766725 & 0.584954 & 0.424242 \\\\\n",
       "\t19 & 1.0 & 0.0 & 0.0 & 0.0 & 0.0 & 0.0 & 0.0 & 0.454369 & 0.456364 & 0.503378 & 0.807065 & 0.575975 & 0.369697 \\\\\n",
       "\t20 & 1.0 & 0.0 & 0.0 & 0.0 & 0.0 & 0.0 & 0.0 & 0.456311 & 0.456364 & 0.505068 & 0.739782 & 0.659675 & 0.393939 \\\\\n",
       "\t21 & 1.0 & 0.0 & 0.0 & 0.0 & 0.0 & 0.0 & 0.0 & 0.462136 & 0.465455 & 0.518581 & 0.777782 & 0.63739 & 0.348485 \\\\\n",
       "\t22 & 1.0 & 0.0 & 0.0 & 0.0 & 0.0 & 0.0 & 0.0 & 0.464078 & 0.465455 & 0.513514 & 0.827995 & 0.609326 & 0.415152 \\\\\n",
       "\t23 & 1.0 & 0.0 & 0.0 & 0.0 & 0.0 & 0.0 & 0.0 & 0.466019 & 0.474545 & 0.521959 & 0.800663 & 0.596597 & 0.375758 \\\\\n",
       "\t24 & 1.0 & 0.0 & 0.0 & 0.0 & 0.0 & 0.0 & 0.0 & 0.471845 & 0.483636 & 0.537162 & 0.797523 & 0.716481 & 0.412121 \\\\\n",
       "\t25 & 1.0 & 0.0 & 0.0 & 0.0 & 0.0 & 0.0 & 0.0 & 0.473786 & 0.483636 & 0.535473 & 0.842326 & 0.640139 & 0.424242 \\\\\n",
       "\t26 & 1.0 & 0.0 & 0.0 & 0.0 & 0.0 & 0.0 & 0.0 & 0.471845 & 0.483636 & 0.54223 & 0.849262 & 0.705571 & 0.439394 \\\\\n",
       "\t27 & 1.0 & 0.0 & 0.0 & 0.0 & 0.0 & 0.0 & 0.0 & 0.475728 & 0.483636 & 0.537162 & 0.849367 & 0.710758 & 0.436364 \\\\\n",
       "\t28 & 1.0 & 0.0 & 0.0 & 0.0 & 0.0 & 0.0 & 0.0 & 0.48932 & 0.501818 & 0.552365 & 0.858375 & 0.67714 & 0.432727 \\\\\n",
       "\t29 & 1.0 & 0.0 & 0.0 & 0.0 & 0.0 & 0.0 & 0.0 & 0.491262 & 0.501818 & 0.554054 & 0.880002 & 0.726037 & 0.515152 \\\\\n",
       "\t30 & 1.0 & 0.0 & 0.0 & 0.0 & 0.0 & 0.0 & 0.0 & 0.504854 & 0.52 & 0.570946 & 1.0 & 0.783068 & 0.606061 \\\\\n",
       "\t$\\dots$ & $\\dots$ & $\\dots$ & $\\dots$ & $\\dots$ & $\\dots$ & $\\dots$ & $\\dots$ & $\\dots$ & $\\dots$ & $\\dots$ & $\\dots$ & $\\dots$ & $\\dots$ \\\\\n",
       "\\end{tabular}\n"
      ],
      "text/plain": [
       "\u001b[1m159×13 DataFrame\u001b[0m\n",
       "\u001b[1m Row \u001b[0m│\u001b[1m Bream   \u001b[0m\u001b[1m Parkki  \u001b[0m\u001b[1m Perch   \u001b[0m\u001b[1m Pike    \u001b[0m\u001b[1m Roach   \u001b[0m\u001b[1m Smelt   \u001b[0m\u001b[1m Whitefish \u001b[0m\u001b[1m Length1   \u001b[0m\u001b[1m Length2   \u001b[0m\u001b[1m Length3   \u001b[0m\u001b[1m Height      \u001b[0m\u001b[1m Width     \u001b[0m\u001b[1m Weight     \u001b[0m\n",
       "\u001b[1m     \u001b[0m│\u001b[90m Float64 \u001b[0m\u001b[90m Float64 \u001b[0m\u001b[90m Float64 \u001b[0m\u001b[90m Float64 \u001b[0m\u001b[90m Float64 \u001b[0m\u001b[90m Float64 \u001b[0m\u001b[90m Float64   \u001b[0m\u001b[90m Float64   \u001b[0m\u001b[90m Float64   \u001b[0m\u001b[90m Float64   \u001b[0m\u001b[90m Float64     \u001b[0m\u001b[90m Float64   \u001b[0m\u001b[90m Float64    \u001b[0m\n",
       "─────┼──────────────────────────────────────────────────────────────────────────────────────────────────────────────────────────────────────\n",
       "   1 │     1.0      0.0      0.0      0.0      0.0      0.0        0.0  0.304854   0.309091   0.358108   0.568334     0.418978   0.146667\n",
       "   2 │     1.0      0.0      0.0      0.0      0.0      0.0        0.0  0.320388   0.325455   0.378378   0.624055     0.459235   0.175758\n",
       "   3 │     1.0      0.0      0.0      0.0      0.0      0.0        0.0  0.318447   0.329091   0.376689   0.618123     0.514279   0.206061\n",
       "   4 │     1.0      0.0      0.0      0.0      0.0      0.0        0.0  0.365049   0.374545   0.41723    0.638566     0.480365   0.22\n",
       "   5 │     1.0      0.0      0.0      0.0      0.0      0.0        0.0  0.368932   0.374545   0.425676   0.621966     0.576004   0.260606\n",
       "   6 │     1.0      0.0      0.0      0.0      0.0      0.0        0.0  0.374757   0.387273   0.4375     0.689203     0.546882   0.272727\n",
       "   7 │     1.0      0.0      0.0      0.0      0.0      0.0        0.0  0.374757   0.387273   0.434122   0.722699     0.596372   0.30303\n",
       "   8 │     1.0      0.0      0.0      0.0      0.0      0.0        0.0  0.390291   0.392727   0.442568   0.635084     0.513419   0.236364\n",
       "   9 │     1.0      0.0      0.0      0.0      0.0      0.0        0.0  0.390291   0.392727   0.444257   0.712565     0.535098   0.272727\n",
       "  10 │     1.0      0.0      0.0      0.0      0.0      0.0        0.0  0.407767   0.405455   0.462838   0.725433     0.551393   0.30303\n",
       "  11 │     1.0      0.0      0.0      0.0      0.0      0.0        0.0  0.405825   0.410909   0.462838   0.727534     0.571803   0.287879\n",
       "  ⋮  │    ⋮        ⋮        ⋮        ⋮        ⋮        ⋮         ⋮          ⋮          ⋮          ⋮           ⋮           ⋮          ⋮\n",
       " 150 │     0.0      0.0      0.0      0.0      0.0      1.0        0.0  0.0621359  0.0509091  0.0608108  0.0205937    0.0323636  0.00593939\n",
       " 151 │     0.0      0.0      0.0      0.0      0.0      1.0        0.0  0.0640777  0.0527273  0.0641892  0.0144991    0.0334912  0.00527273\n",
       " 152 │     0.0      0.0      0.0      0.0      0.0      1.0        0.0  0.0737864  0.0618182  0.0726351  0.0281799    0.0332939  0.00606061\n",
       " 153 │     0.0      0.0      0.0      0.0      0.0      1.0        0.0  0.0737864  0.0618182  0.0726351  0.0281799    0.0166751  0.006\n",
       " 154 │     0.0      0.0      0.0      0.0      0.0      1.0        0.0  0.0757282  0.0654545  0.0743243  0.0276285    0.0142084  0.00593939\n",
       " 155 │     0.0      0.0      0.0      0.0      0.0      1.0        0.0  0.0776699  0.0690909  0.0777027  0.0210116    0.0487709  0.00739394\n",
       " 156 │     0.0      0.0      0.0      0.0      0.0      1.0        0.0  0.0815534  0.0727273  0.0793919  0.040723     0.0312077  0.00812121\n",
       " 157 │     0.0      0.0      0.0      0.0      0.0      1.0        0.0  0.0893204  0.0836364  0.0844595  0.0318424    0.0293471  0.00739394\n",
       " 158 │     0.0      0.0      0.0      0.0      0.0      1.0        0.0  0.11068    0.107273   0.108108   0.0664244    0.143719   0.0119394\n",
       " 159 │     0.0      0.0      0.0      0.0      0.0      1.0        0.0  0.12233    0.12       0.125      0.0698722    0.117219   0.0120606\n",
       "\u001b[36m                                                                                                                            138 rows omitted\u001b[0m"
      ]
     },
     "execution_count": 6,
     "metadata": {},
     "output_type": "execute_result"
    }
   ],
   "source": [
    "df_ = DataFrame(df_, :auto)\n",
    "rename!(df_, Symbol.(columns))"
   ]
  },
  {
   "cell_type": "code",
   "execution_count": 7,
   "metadata": {},
   "outputs": [],
   "source": [
    "using StatsBase\n",
    "df_ = df_[StatsBase.sample(1:nrow(df_), nrow(df_),replace=false), :];\n",
    "\n",
    "X = df_[:,Not(:Weight)]\n",
    "Y = df_[:,:Weight]\n",
    ";"
   ]
  },
  {
   "cell_type": "markdown",
   "metadata": {},
   "source": [
    "## Creando nuestro modelo"
   ]
  },
  {
   "cell_type": "code",
   "execution_count": 16,
   "metadata": {},
   "outputs": [],
   "source": [
    "using ScikitLearn\n",
    "using DecisionTree\n",
    "using ScikitLearn: fit!"
   ]
  },
  {
   "cell_type": "code",
   "execution_count": 17,
   "metadata": {},
   "outputs": [
    {
     "data": {
      "text/plain": [
       "159-element Vector{Float64}:\n",
       " 0.10909090909090909\n",
       " 0.42424242424242425\n",
       " 0.09757575757575758\n",
       " 0.024242424242424242\n",
       " 0.5606060606060606\n",
       " 0.07878787878787878\n",
       " 0.5151515151515151\n",
       " 0.04727272727272727\n",
       " 0.06060606060606061\n",
       " 0.0696969696969697\n",
       " 0.4121212121212121\n",
       " 0.509090909090909\n",
       " 0.6060606060606061\n",
       " ⋮\n",
       " 0.07575757575757576\n",
       " 0.6151515151515151\n",
       " 0.4393939393939394\n",
       " 0.08787878787878788\n",
       " 0.20606060606060606\n",
       " 0.07878787878787878\n",
       " 0.2878787878787879\n",
       " 0.005272727272727273\n",
       " 0.008121212121212121\n",
       " 0.00593939393939394\n",
       " 0.2727272727272727\n",
       " 0.6060606060606061"
      ]
     },
     "execution_count": 17,
     "metadata": {},
     "output_type": "execute_result"
    }
   ],
   "source": [
    "X = float.(X)\n",
    "X = Matrix(X)\n",
    "Y = float.(Y)"
   ]
  },
  {
   "cell_type": "code",
   "execution_count": 18,
   "metadata": {},
   "outputs": [
    {
     "data": {
      "text/plain": [
       "DecisionTreeRegressor\n",
       "max_depth:                3\n",
       "min_samples_leaf:         5\n",
       "min_samples_split:        2\n",
       "min_purity_increase:      0.0\n",
       "pruning_purity_threshold: 1.0\n",
       "n_subfeatures:            0\n",
       "root:                     Decision Tree\n",
       "Leaves: 8\n",
       "Depth:  3"
      ]
     },
     "execution_count": 18,
     "metadata": {},
     "output_type": "execute_result"
    }
   ],
   "source": [
    "model = DecisionTreeRegressor(max_depth=3)\n",
    "fit!(model, X, Y)"
   ]
  },
  {
   "cell_type": "code",
   "execution_count": 19,
   "metadata": {},
   "outputs": [
    {
     "name": "stdout",
     "output_type": "stream",
     "text": [
      "Feature 12, Threshold 0.5788297812359045\n",
      "L-> Feature 10, Threshold 0.3234797297297297\n",
      "    L-> Feature 10, Threshold 0.21030405405405403\n",
      "        L-> 0.023755555555555554 : 0/30\n",
      "        R-> 0.08705516705516707 : 0/39\n",
      "    R-> Feature 10, Threshold 0.4408783783783783\n",
      "        L-> 0.17793388429752066 : 0/22\n",
      "        R-> 0.2697979797979798 : 0/18\n",
      "R-> Feature 10, Threshold 0.5667229729729729\n",
      "    L-> Feature 10, Threshold 0.48057432432432423\n",
      "        L-> 0.3203463203463203 : 0/7\n",
      "        R-> 0.4395041322314049 : 0/22\n",
      "    R-> Feature 8, Threshold 0.758252427184466\n",
      "        L-> 0.584469696969697 : 0/16\n",
      "        R-> 0.8484848484848486 : 0/5\n"
     ]
    }
   ],
   "source": [
    "print_tree(model)"
   ]
  },
  {
   "cell_type": "code",
   "execution_count": 20,
   "metadata": {},
   "outputs": [
    {
     "name": "stdout",
     "output_type": "stream",
     "text": [
      "Length3"
     ]
    }
   ],
   "source": [
    "var = 10\n",
    "print(columns[var])"
   ]
  },
  {
   "cell_type": "code",
   "execution_count": 21,
   "metadata": {},
   "outputs": [
    {
     "data": {
      "text/plain": [
       "([:Weight], PyObject MinMaxScaler(copy=True, feature_range=(0, 1)))"
      ]
     },
     "execution_count": 21,
     "metadata": {},
     "output_type": "execute_result"
    }
   ],
   "source": [
    "mapper.features[end]"
   ]
  },
  {
   "cell_type": "code",
   "execution_count": 22,
   "metadata": {},
   "outputs": [],
   "source": [
    "Y_hat = ScikitLearn.predict(model, X)\n",
    "#Denormalizar\n",
    "Y_gt = permutedims(mapper.features[end][2].inverse_transform([Y]))\n",
    "Y_hat = permutedims(mapper.features[end][2].inverse_transform([Y_hat]));"
   ]
  },
  {
   "cell_type": "code",
   "execution_count": 24,
   "metadata": {},
   "outputs": [
    {
     "data": {
      "text/plain": [
       "77.51082615478805"
      ]
     },
     "execution_count": 24,
     "metadata": {},
     "output_type": "execute_result"
    }
   ],
   "source": [
    "# using Pkg; Pkg.add(\"Distances\")\n",
    "using Distances\n",
    "Distances.rmsd(Y_gt,Y_hat)"
   ]
  },
  {
   "cell_type": "code",
   "execution_count": null,
   "metadata": {},
   "outputs": [],
   "source": []
  },
  {
   "cell_type": "code",
   "execution_count": null,
   "metadata": {},
   "outputs": [],
   "source": []
  }
 ],
 "metadata": {
  "kernelspec": {
   "display_name": "Julia 1.7.2",
   "language": "julia",
   "name": "julia-1.7"
  },
  "language_info": {
   "file_extension": ".jl",
   "mimetype": "application/julia",
   "name": "julia",
   "version": "1.7.2"
  }
 },
 "nbformat": 4,
 "nbformat_minor": 4
}
