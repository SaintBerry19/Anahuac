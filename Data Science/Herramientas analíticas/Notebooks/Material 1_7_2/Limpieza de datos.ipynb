{
 "cells": [
  {
   "cell_type": "code",
   "execution_count": 1,
   "metadata": {},
   "outputs": [],
   "source": [
    "# https://archive.ics.uci.edu/ml/datasets/adult (Anteriormente http://mlr.cs.umass.edu/ml/datasets/Adult)\n",
    "using DataFrames\n",
    "using CSV\n",
    "ENV[\"COLUMNS\"] = 250;"
   ]
  },
  {
   "cell_type": "code",
   "execution_count": 2,
   "metadata": {},
   "outputs": [],
   "source": [
    "colum_names = [\"age\",\"workclass\",\"fnlwgt\",\"education\",\"education-num\",\"marital-status\",\"occupation\",\"relationship\",\"race\",\"sex\",\"capital-gain\",\"capital-loss\",\"hours-per-week\",\"native-country\", \"mas50\"]\n",
    "colum_names = [\"age\",\"workclass\",\"fnlwgt\",\"education\",\"educationnum\",\"maritalstatus\",\"occupation\",\"relationship\",\"race\",\"sex\",\"capitalgain\",\"capitalloss\",\"hoursperweek\",\"nativecountry\", \"mas50\"]\n",
    ";"
   ]
  },
  {
   "cell_type": "code",
   "execution_count": 3,
   "metadata": {},
   "outputs": [
    {
     "data": {
      "text/html": [
       "<div class=\"data-frame\"><p>5 rows × 15 columns</p><table class=\"data-frame\"><thead><tr><th></th><th>age</th><th>workclass</th><th>fnlwgt</th><th>education</th><th>educationnum</th><th>maritalstatus</th><th>occupation</th><th>relationship</th><th>race</th><th>sex</th><th>capitalgain</th><th>capitalloss</th><th>hoursperweek</th><th>nativecountry</th><th>mas50</th></tr><tr><th></th><th title=\"Int64\">Int64</th><th title=\"Union{Missing, String31}\">String31?</th><th title=\"Int64\">Int64</th><th title=\"String15\">String15</th><th title=\"Int64\">Int64</th><th title=\"String31\">String31</th><th title=\"Union{Missing, String31}\">String31?</th><th title=\"String15\">String15</th><th title=\"String31\">String31</th><th title=\"String7\">String7</th><th title=\"Int64\">Int64</th><th title=\"Int64\">Int64</th><th title=\"Int64\">Int64</th><th title=\"Union{Missing, String31}\">String31?</th><th title=\"String7\">String7</th></tr></thead><tbody><tr><th>1</th><td>39</td><td>State-gov</td><td>77516</td><td>Bachelors</td><td>13</td><td>Never-married</td><td>Adm-clerical</td><td>Not-in-family</td><td>White</td><td>Male</td><td>2174</td><td>0</td><td>40</td><td>United-States</td><td>&lt;=50K</td></tr><tr><th>2</th><td>50</td><td>Self-emp-not-inc</td><td>83311</td><td>Bachelors</td><td>13</td><td>Married-civ-spouse</td><td>Exec-managerial</td><td>Husband</td><td>White</td><td>male</td><td>0</td><td>0</td><td>13</td><td>United-States</td><td>&lt;=50K</td></tr><tr><th>3</th><td>38</td><td>Private</td><td>215646</td><td>HS-grad</td><td>9</td><td>Divorced</td><td>Handlers-cleaners</td><td>Not-in-family</td><td>White</td><td>Male</td><td>0</td><td>0</td><td>40</td><td>United-States</td><td>&lt;=50K</td></tr><tr><th>4</th><td>53</td><td>Private</td><td>234721</td><td>11th</td><td>7</td><td>Married-civ-spouse</td><td>Handlers-cleaners</td><td>Husband</td><td>Black</td><td>male</td><td>0</td><td>0</td><td>40</td><td>United-States</td><td>&lt;=50K</td></tr><tr><th>5</th><td>28</td><td>Private</td><td>338409</td><td>Bachelors</td><td>13</td><td>Married-civ-spouse</td><td>Prof-specialty</td><td>Wife</td><td>Black</td><td>Female</td><td>0</td><td>0</td><td>40</td><td>Cuba</td><td>&lt;=50K</td></tr></tbody></table></div>"
      ],
      "text/latex": [
       "\\begin{tabular}{r|ccccccccccccccc}\n",
       "\t& age & workclass & fnlwgt & education & educationnum & maritalstatus & occupation & relationship & race & sex & capitalgain & capitalloss & hoursperweek & nativecountry & mas50\\\\\n",
       "\t\\hline\n",
       "\t& Int64 & String31? & Int64 & String15 & Int64 & String31 & String31? & String15 & String31 & String7 & Int64 & Int64 & Int64 & String31? & String7\\\\\n",
       "\t\\hline\n",
       "\t1 & 39 & State-gov & 77516 & Bachelors & 13 & Never-married & Adm-clerical & Not-in-family & White & Male & 2174 & 0 & 40 & United-States & <=50K \\\\\n",
       "\t2 & 50 & Self-emp-not-inc & 83311 & Bachelors & 13 & Married-civ-spouse & Exec-managerial & Husband & White & male & 0 & 0 & 13 & United-States & <=50K \\\\\n",
       "\t3 & 38 & Private & 215646 & HS-grad & 9 & Divorced & Handlers-cleaners & Not-in-family & White & Male & 0 & 0 & 40 & United-States & <=50K \\\\\n",
       "\t4 & 53 & Private & 234721 & 11th & 7 & Married-civ-spouse & Handlers-cleaners & Husband & Black & male & 0 & 0 & 40 & United-States & <=50K \\\\\n",
       "\t5 & 28 & Private & 338409 & Bachelors & 13 & Married-civ-spouse & Prof-specialty & Wife & Black & Female & 0 & 0 & 40 & Cuba & <=50K \\\\\n",
       "\\end{tabular}\n"
      ],
      "text/plain": [
       "\u001b[1m5×15 DataFrame\u001b[0m\n",
       "\u001b[1m Row \u001b[0m│\u001b[1m age   \u001b[0m\u001b[1m workclass        \u001b[0m\u001b[1m fnlwgt \u001b[0m\u001b[1m education \u001b[0m\u001b[1m educationnum \u001b[0m\u001b[1m maritalstatus      \u001b[0m\u001b[1m occupation        \u001b[0m\u001b[1m relationship  \u001b[0m\u001b[1m race     \u001b[0m\u001b[1m sex     \u001b[0m\u001b[1m capitalgain \u001b[0m\u001b[1m capitalloss \u001b[0m\u001b[1m hoursperweek \u001b[0m\u001b[1m nativecountry \u001b[0m\u001b[1m mas50   \u001b[0m\n",
       "\u001b[1m     \u001b[0m│\u001b[90m Int64 \u001b[0m\u001b[90m String31?        \u001b[0m\u001b[90m Int64  \u001b[0m\u001b[90m String15  \u001b[0m\u001b[90m Int64        \u001b[0m\u001b[90m String31           \u001b[0m\u001b[90m String31?         \u001b[0m\u001b[90m String15      \u001b[0m\u001b[90m String31 \u001b[0m\u001b[90m String7 \u001b[0m\u001b[90m Int64       \u001b[0m\u001b[90m Int64       \u001b[0m\u001b[90m Int64        \u001b[0m\u001b[90m String31?     \u001b[0m\u001b[90m String7 \u001b[0m\n",
       "─────┼───────────────────────────────────────────────────────────────────────────────────────────────────────────────────────────────────────────────────────────────────────────────────────────────────\n",
       "   1 │    39  State-gov          77516  Bachelors            13  Never-married       Adm-clerical       Not-in-family  White     Male            2174            0            40  United-States  <=50K\n",
       "   2 │    50  Self-emp-not-inc   83311  Bachelors            13  Married-civ-spouse  Exec-managerial    Husband        White     male               0            0            13  United-States  <=50K\n",
       "   3 │    38  Private           215646  HS-grad               9  Divorced            Handlers-cleaners  Not-in-family  White     Male               0            0            40  United-States  <=50K\n",
       "   4 │    53  Private           234721  11th                  7  Married-civ-spouse  Handlers-cleaners  Husband        Black     male               0            0            40  United-States  <=50K\n",
       "   5 │    28  Private           338409  Bachelors            13  Married-civ-spouse  Prof-specialty     Wife           Black     Female             0            0            40  Cuba           <=50K"
      ]
     },
     "execution_count": 3,
     "metadata": {},
     "output_type": "execute_result"
    }
   ],
   "source": [
    "# df = DataFrame(CSV.File(\"adult.data.txt\"))\n",
    "# df = DataFrame(CSV.File(\"adult.data.txt\", header = false))\n",
    "# missingstrings=[\"NA\", \"na\", \"n/a\", \"missing\"]\n",
    "\n",
    "# df = DataFrame(CSV.File(\"adult.data.txt\", \n",
    "#         header = false,\n",
    "#         missingstrings=[\"NA\", \"na\", \"n/a\", \"missing\", \"?\"],\n",
    "#         delim=\", \"))\n",
    "\n",
    "df = DataFrame(CSV.File(\"adult.data.txt\", \n",
    "        header = colum_names,\n",
    "        missingstring=[\"NA\", \"na\", \"n/a\", \"missing\", \"?\"],\n",
    "        delim=\", \"))\n",
    "\n",
    "\n",
    "\n",
    "\n",
    "\n",
    "\n",
    "\n",
    "first(df, 5)\n"
   ]
  },
  {
   "cell_type": "code",
   "execution_count": 4,
   "metadata": {},
   "outputs": [
    {
     "data": {
      "text/plain": [
       "\"32561×15 DataFrame\""
      ]
     },
     "execution_count": 4,
     "metadata": {},
     "output_type": "execute_result"
    }
   ],
   "source": [
    "summary(df)"
   ]
  },
  {
   "cell_type": "code",
   "execution_count": 5,
   "metadata": {},
   "outputs": [
    {
     "data": {
      "text/plain": [
       "15-element Vector{String}:\n",
       " \"age\"\n",
       " \"workclass\"\n",
       " \"fnlwgt\"\n",
       " \"education\"\n",
       " \"educationnum\"\n",
       " \"maritalstatus\"\n",
       " \"occupation\"\n",
       " \"relationship\"\n",
       " \"race\"\n",
       " \"sex\"\n",
       " \"capitalgain\"\n",
       " \"capitalloss\"\n",
       " \"hoursperweek\"\n",
       " \"nativecountry\"\n",
       " \"mas50\""
      ]
     },
     "execution_count": 5,
     "metadata": {},
     "output_type": "execute_result"
    }
   ],
   "source": [
    "names(df)"
   ]
  },
  {
   "cell_type": "code",
   "execution_count": 6,
   "metadata": {},
   "outputs": [
    {
     "data": {
      "text/plain": [
       "32561"
      ]
     },
     "execution_count": 6,
     "metadata": {},
     "output_type": "execute_result"
    }
   ],
   "source": [
    "nrow(df)"
   ]
  },
  {
   "cell_type": "code",
   "execution_count": 7,
   "metadata": {},
   "outputs": [
    {
     "data": {
      "text/html": [
       "<p>DataFrameRow (15 columns)</p><div class=\"data-frame\"><table class=\"data-frame\"><thead><tr><th></th><th>age</th><th>workclass</th><th>fnlwgt</th><th>education</th><th>educationnum</th><th>maritalstatus</th><th>occupation</th><th>relationship</th><th>race</th><th>sex</th><th>capitalgain</th><th>capitalloss</th><th>hoursperweek</th><th>nativecountry</th><th>mas50</th></tr><tr><th></th><th title=\"Int64\">Int64</th><th title=\"Union{Missing, String31}\">String31?</th><th title=\"Int64\">Int64</th><th title=\"String15\">String15</th><th title=\"Int64\">Int64</th><th title=\"String31\">String31</th><th title=\"Union{Missing, String31}\">String31?</th><th title=\"String15\">String15</th><th title=\"String31\">String31</th><th title=\"String7\">String7</th><th title=\"Int64\">Int64</th><th title=\"Int64\">Int64</th><th title=\"Int64\">Int64</th><th title=\"Union{Missing, String31}\">String31?</th><th title=\"String7\">String7</th></tr></thead><tbody><tr><th>32561</th><td>52</td><td>Self-emp-inc</td><td>287927</td><td>HS-grad</td><td>9</td><td>Married-civ-spouse</td><td>Exec-managerial</td><td>Wife</td><td>White</td><td>Female</td><td>15024</td><td>0</td><td>40</td><td>United-States</td><td>&gt;50K</td></tr></tbody></table></div>"
      ],
      "text/latex": [
       "\\begin{tabular}{r|ccccccccccccccc}\n",
       "\t& age & workclass & fnlwgt & education & educationnum & maritalstatus & occupation & relationship & race & sex & capitalgain & capitalloss & hoursperweek & nativecountry & mas50\\\\\n",
       "\t\\hline\n",
       "\t& Int64 & String31? & Int64 & String15 & Int64 & String31 & String31? & String15 & String31 & String7 & Int64 & Int64 & Int64 & String31? & String7\\\\\n",
       "\t\\hline\n",
       "\t32561 & 52 & Self-emp-inc & 287927 & HS-grad & 9 & Married-civ-spouse & Exec-managerial & Wife & White & Female & 15024 & 0 & 40 & United-States & >50K \\\\\n",
       "\\end{tabular}\n"
      ],
      "text/plain": [
       "\u001b[1mDataFrameRow\u001b[0m\n",
       "\u001b[1m   Row \u001b[0m│\u001b[1m age   \u001b[0m\u001b[1m workclass    \u001b[0m\u001b[1m fnlwgt \u001b[0m\u001b[1m education \u001b[0m\u001b[1m educationnum \u001b[0m\u001b[1m maritalstatus      \u001b[0m\u001b[1m occupation      \u001b[0m\u001b[1m relationship \u001b[0m\u001b[1m race     \u001b[0m\u001b[1m sex     \u001b[0m\u001b[1m capitalgain \u001b[0m\u001b[1m capitalloss \u001b[0m\u001b[1m hoursperweek \u001b[0m\u001b[1m nativecountry \u001b[0m\u001b[1m mas50   \u001b[0m\n",
       "\u001b[1m       \u001b[0m│\u001b[90m Int64 \u001b[0m\u001b[90m String31?    \u001b[0m\u001b[90m Int64  \u001b[0m\u001b[90m String15  \u001b[0m\u001b[90m Int64        \u001b[0m\u001b[90m String31           \u001b[0m\u001b[90m String31?       \u001b[0m\u001b[90m String15     \u001b[0m\u001b[90m String31 \u001b[0m\u001b[90m String7 \u001b[0m\u001b[90m Int64       \u001b[0m\u001b[90m Int64       \u001b[0m\u001b[90m Int64        \u001b[0m\u001b[90m String31?     \u001b[0m\u001b[90m String7 \u001b[0m\n",
       "───────┼────────────────────────────────────────────────────────────────────────────────────────────────────────────────────────────────────────────────────────────────────────────────────────────\n",
       " 32561 │    52  Self-emp-inc  287927  HS-grad               9  Married-civ-spouse  Exec-managerial  Wife          White     Female         15024            0            40  United-States  >50K"
      ]
     },
     "execution_count": 7,
     "metadata": {},
     "output_type": "execute_result"
    }
   ],
   "source": [
    "last(df)"
   ]
  },
  {
   "cell_type": "code",
   "execution_count": 8,
   "metadata": {},
   "outputs": [
    {
     "data": {
      "text/html": [
       "<p>DataFrameRow (15 columns)</p><div class=\"data-frame\"><table class=\"data-frame\"><thead><tr><th></th><th>age</th><th>workclass</th><th>fnlwgt</th><th>education</th><th>educationnum</th><th>maritalstatus</th><th>occupation</th><th>relationship</th><th>race</th><th>sex</th><th>capitalgain</th><th>capitalloss</th><th>hoursperweek</th><th>nativecountry</th><th>mas50</th></tr><tr><th></th><th title=\"Int64\">Int64</th><th title=\"Union{Missing, String31}\">String31?</th><th title=\"Int64\">Int64</th><th title=\"String15\">String15</th><th title=\"Int64\">Int64</th><th title=\"String31\">String31</th><th title=\"Union{Missing, String31}\">String31?</th><th title=\"String15\">String15</th><th title=\"String31\">String31</th><th title=\"String7\">String7</th><th title=\"Int64\">Int64</th><th title=\"Int64\">Int64</th><th title=\"Int64\">Int64</th><th title=\"Union{Missing, String31}\">String31?</th><th title=\"String7\">String7</th></tr></thead><tbody><tr><th>32560</th><td>22</td><td>Private</td><td>201490</td><td>HS-grad</td><td>9</td><td>Never-married</td><td>Adm-clerical</td><td>Own-child</td><td>White</td><td>Male</td><td>0</td><td>0</td><td>20</td><td>United-States</td><td>&lt;=50K</td></tr></tbody></table></div>"
      ],
      "text/latex": [
       "\\begin{tabular}{r|ccccccccccccccc}\n",
       "\t& age & workclass & fnlwgt & education & educationnum & maritalstatus & occupation & relationship & race & sex & capitalgain & capitalloss & hoursperweek & nativecountry & mas50\\\\\n",
       "\t\\hline\n",
       "\t& Int64 & String31? & Int64 & String15 & Int64 & String31 & String31? & String15 & String31 & String7 & Int64 & Int64 & Int64 & String31? & String7\\\\\n",
       "\t\\hline\n",
       "\t32560 & 22 & Private & 201490 & HS-grad & 9 & Never-married & Adm-clerical & Own-child & White & Male & 0 & 0 & 20 & United-States & <=50K \\\\\n",
       "\\end{tabular}\n"
      ],
      "text/plain": [
       "\u001b[1mDataFrameRow\u001b[0m\n",
       "\u001b[1m   Row \u001b[0m│\u001b[1m age   \u001b[0m\u001b[1m workclass \u001b[0m\u001b[1m fnlwgt \u001b[0m\u001b[1m education \u001b[0m\u001b[1m educationnum \u001b[0m\u001b[1m maritalstatus \u001b[0m\u001b[1m occupation   \u001b[0m\u001b[1m relationship \u001b[0m\u001b[1m race     \u001b[0m\u001b[1m sex     \u001b[0m\u001b[1m capitalgain \u001b[0m\u001b[1m capitalloss \u001b[0m\u001b[1m hoursperweek \u001b[0m\u001b[1m nativecountry \u001b[0m\u001b[1m mas50   \u001b[0m\n",
       "\u001b[1m       \u001b[0m│\u001b[90m Int64 \u001b[0m\u001b[90m String31? \u001b[0m\u001b[90m Int64  \u001b[0m\u001b[90m String15  \u001b[0m\u001b[90m Int64        \u001b[0m\u001b[90m String31      \u001b[0m\u001b[90m String31?    \u001b[0m\u001b[90m String15     \u001b[0m\u001b[90m String31 \u001b[0m\u001b[90m String7 \u001b[0m\u001b[90m Int64       \u001b[0m\u001b[90m Int64       \u001b[0m\u001b[90m Int64        \u001b[0m\u001b[90m String31?     \u001b[0m\u001b[90m String7 \u001b[0m\n",
       "───────┼─────────────────────────────────────────────────────────────────────────────────────────────────────────────────────────────────────────────────────────────────────────────────\n",
       " 32560 │    22  Private    201490  HS-grad               9  Never-married  Adm-clerical  Own-child     White     Male               0            0            20  United-States  <=50K"
      ]
     },
     "execution_count": 8,
     "metadata": {},
     "output_type": "execute_result"
    }
   ],
   "source": [
    "delete!(df,32561)\n",
    "last(df)"
   ]
  },
  {
   "cell_type": "markdown",
   "metadata": {},
   "source": [
    "# Tipos de datos"
   ]
  },
  {
   "cell_type": "code",
   "execution_count": 9,
   "metadata": {},
   "outputs": [
    {
     "data": {
      "text/html": [
       "<div class=\"data-frame\"><p>5 rows × 15 columns</p><table class=\"data-frame\"><thead><tr><th></th><th>age</th><th>workclass</th><th>fnlwgt</th><th>education</th><th>educationnum</th><th>maritalstatus</th><th>occupation</th><th>relationship</th><th>race</th><th>sex</th><th>capitalgain</th><th>capitalloss</th><th>hoursperweek</th><th>nativecountry</th><th>mas50</th></tr><tr><th></th><th title=\"Int64\">Int64</th><th title=\"Union{Missing, String31}\">String31?</th><th title=\"Int64\">Int64</th><th title=\"String15\">String15</th><th title=\"Int64\">Int64</th><th title=\"String31\">String31</th><th title=\"Union{Missing, String31}\">String31?</th><th title=\"String15\">String15</th><th title=\"String31\">String31</th><th title=\"String7\">String7</th><th title=\"Int64\">Int64</th><th title=\"Int64\">Int64</th><th title=\"Int64\">Int64</th><th title=\"Union{Missing, String31}\">String31?</th><th title=\"String7\">String7</th></tr></thead><tbody><tr><th>1</th><td>39</td><td>State-gov</td><td>77516</td><td>Bachelors</td><td>13</td><td>Never-married</td><td>Adm-clerical</td><td>Not-in-family</td><td>White</td><td>Male</td><td>2174</td><td>0</td><td>40</td><td>United-States</td><td>&lt;=50K</td></tr><tr><th>2</th><td>50</td><td>Self-emp-not-inc</td><td>83311</td><td>Bachelors</td><td>13</td><td>Married-civ-spouse</td><td>Exec-managerial</td><td>Husband</td><td>White</td><td>male</td><td>0</td><td>0</td><td>13</td><td>United-States</td><td>&lt;=50K</td></tr><tr><th>3</th><td>38</td><td>Private</td><td>215646</td><td>HS-grad</td><td>9</td><td>Divorced</td><td>Handlers-cleaners</td><td>Not-in-family</td><td>White</td><td>Male</td><td>0</td><td>0</td><td>40</td><td>United-States</td><td>&lt;=50K</td></tr><tr><th>4</th><td>53</td><td>Private</td><td>234721</td><td>11th</td><td>7</td><td>Married-civ-spouse</td><td>Handlers-cleaners</td><td>Husband</td><td>Black</td><td>male</td><td>0</td><td>0</td><td>40</td><td>United-States</td><td>&lt;=50K</td></tr><tr><th>5</th><td>28</td><td>Private</td><td>338409</td><td>Bachelors</td><td>13</td><td>Married-civ-spouse</td><td>Prof-specialty</td><td>Wife</td><td>Black</td><td>Female</td><td>0</td><td>0</td><td>40</td><td>Cuba</td><td>&lt;=50K</td></tr></tbody></table></div>"
      ],
      "text/latex": [
       "\\begin{tabular}{r|ccccccccccccccc}\n",
       "\t& age & workclass & fnlwgt & education & educationnum & maritalstatus & occupation & relationship & race & sex & capitalgain & capitalloss & hoursperweek & nativecountry & mas50\\\\\n",
       "\t\\hline\n",
       "\t& Int64 & String31? & Int64 & String15 & Int64 & String31 & String31? & String15 & String31 & String7 & Int64 & Int64 & Int64 & String31? & String7\\\\\n",
       "\t\\hline\n",
       "\t1 & 39 & State-gov & 77516 & Bachelors & 13 & Never-married & Adm-clerical & Not-in-family & White & Male & 2174 & 0 & 40 & United-States & <=50K \\\\\n",
       "\t2 & 50 & Self-emp-not-inc & 83311 & Bachelors & 13 & Married-civ-spouse & Exec-managerial & Husband & White & male & 0 & 0 & 13 & United-States & <=50K \\\\\n",
       "\t3 & 38 & Private & 215646 & HS-grad & 9 & Divorced & Handlers-cleaners & Not-in-family & White & Male & 0 & 0 & 40 & United-States & <=50K \\\\\n",
       "\t4 & 53 & Private & 234721 & 11th & 7 & Married-civ-spouse & Handlers-cleaners & Husband & Black & male & 0 & 0 & 40 & United-States & <=50K \\\\\n",
       "\t5 & 28 & Private & 338409 & Bachelors & 13 & Married-civ-spouse & Prof-specialty & Wife & Black & Female & 0 & 0 & 40 & Cuba & <=50K \\\\\n",
       "\\end{tabular}\n"
      ],
      "text/plain": [
       "\u001b[1m5×15 DataFrame\u001b[0m\n",
       "\u001b[1m Row \u001b[0m│\u001b[1m age   \u001b[0m\u001b[1m workclass        \u001b[0m\u001b[1m fnlwgt \u001b[0m\u001b[1m education \u001b[0m\u001b[1m educationnum \u001b[0m\u001b[1m maritalstatus      \u001b[0m\u001b[1m occupation        \u001b[0m\u001b[1m relationship  \u001b[0m\u001b[1m race     \u001b[0m\u001b[1m sex     \u001b[0m\u001b[1m capitalgain \u001b[0m\u001b[1m capitalloss \u001b[0m\u001b[1m hoursperweek \u001b[0m\u001b[1m nativecountry \u001b[0m\u001b[1m mas50   \u001b[0m\n",
       "\u001b[1m     \u001b[0m│\u001b[90m Int64 \u001b[0m\u001b[90m String31?        \u001b[0m\u001b[90m Int64  \u001b[0m\u001b[90m String15  \u001b[0m\u001b[90m Int64        \u001b[0m\u001b[90m String31           \u001b[0m\u001b[90m String31?         \u001b[0m\u001b[90m String15      \u001b[0m\u001b[90m String31 \u001b[0m\u001b[90m String7 \u001b[0m\u001b[90m Int64       \u001b[0m\u001b[90m Int64       \u001b[0m\u001b[90m Int64        \u001b[0m\u001b[90m String31?     \u001b[0m\u001b[90m String7 \u001b[0m\n",
       "─────┼───────────────────────────────────────────────────────────────────────────────────────────────────────────────────────────────────────────────────────────────────────────────────────────────────\n",
       "   1 │    39  State-gov          77516  Bachelors            13  Never-married       Adm-clerical       Not-in-family  White     Male            2174            0            40  United-States  <=50K\n",
       "   2 │    50  Self-emp-not-inc   83311  Bachelors            13  Married-civ-spouse  Exec-managerial    Husband        White     male               0            0            13  United-States  <=50K\n",
       "   3 │    38  Private           215646  HS-grad               9  Divorced            Handlers-cleaners  Not-in-family  White     Male               0            0            40  United-States  <=50K\n",
       "   4 │    53  Private           234721  11th                  7  Married-civ-spouse  Handlers-cleaners  Husband        Black     male               0            0            40  United-States  <=50K\n",
       "   5 │    28  Private           338409  Bachelors            13  Married-civ-spouse  Prof-specialty     Wife           Black     Female             0            0            40  Cuba           <=50K"
      ]
     },
     "execution_count": 9,
     "metadata": {},
     "output_type": "execute_result"
    }
   ],
   "source": [
    "first(df,5)"
   ]
  },
  {
   "cell_type": "code",
   "execution_count": 10,
   "metadata": {},
   "outputs": [
    {
     "name": "stdout",
     "output_type": "stream",
     "text": [
      "(\"age\", Int64)\n",
      "(\"workclass\", Union{Missing, String31})\n",
      "(\"fnlwgt\", Int64)\n",
      "(\"education\", String15)\n",
      "(\"educationnum\", Int64)\n",
      "(\"maritalstatus\", String31)\n",
      "(\"occupation\", Union{Missing, String31})\n",
      "(\"relationship\", String15)\n",
      "(\"race\", String31)\n",
      "(\"sex\", String7)\n",
      "(\"capitalgain\", Int64)\n",
      "(\"capitalloss\", Int64)\n",
      "(\"hoursperweek\", Int64)\n",
      "(\"nativecountry\", Union{Missing, String31})\n",
      "(\"mas50\", String7)\n"
     ]
    }
   ],
   "source": [
    "for i in zip(names(df), eltype.(eachcol(df)))\n",
    "    println(i)\n",
    "end"
   ]
  },
  {
   "cell_type": "code",
   "execution_count": 11,
   "metadata": {},
   "outputs": [
    {
     "data": {
      "text/plain": [
       "32560-element Vector{Int64}:\n",
       " 39\n",
       " 50\n",
       " 38\n",
       " 53\n",
       " 28\n",
       " 37\n",
       " 49\n",
       " 52\n",
       " 31\n",
       " 42\n",
       " 37\n",
       " 30\n",
       " 23\n",
       "  ⋮\n",
       " 65\n",
       " 43\n",
       " 43\n",
       " 32\n",
       " 43\n",
       " 32\n",
       " 53\n",
       " 22\n",
       " 27\n",
       " 40\n",
       " 58\n",
       " 22"
      ]
     },
     "execution_count": 11,
     "metadata": {},
     "output_type": "execute_result"
    }
   ],
   "source": [
    "#Se ha mejorado la detección del tipo de datos.\n",
    "df[!,:age] = convert.(Int,df[!,:age])"
   ]
  },
  {
   "cell_type": "code",
   "execution_count": 12,
   "metadata": {},
   "outputs": [
    {
     "name": "stdout",
     "output_type": "stream",
     "text": [
      "(\"age\", Int64)\n",
      "(\"workclass\", Union{Missing, String31})\n",
      "(\"fnlwgt\", Int64)\n",
      "(\"education\", String15)\n",
      "(\"educationnum\", Int64)\n",
      "(\"maritalstatus\", String31)\n",
      "(\"occupation\", Union{Missing, String31})\n",
      "(\"relationship\", String15)\n",
      "(\"race\", String31)\n",
      "(\"sex\", String7)\n",
      "(\"capitalgain\", Int64)\n",
      "(\"capitalloss\", Int64)\n",
      "(\"hoursperweek\", Int64)\n",
      "(\"nativecountry\", Union{Missing, String31})\n",
      "(\"mas50\", String7)\n"
     ]
    }
   ],
   "source": [
    "for i in zip(names(df), eltype.(eachcol(df)))\n",
    "    println(i)\n",
    "end"
   ]
  },
  {
   "cell_type": "code",
   "execution_count": 13,
   "metadata": {},
   "outputs": [
    {
     "name": "stdout",
     "output_type": "stream",
     "text": [
      "(\"age\", Int64)\n",
      "(\"workclass\", Union{Missing, String31})\n",
      "(\"fnlwgt\", Int64)\n",
      "(\"education\", String15)\n",
      "(\"educationnum\", Int64)\n",
      "(\"maritalstatus\", String31)\n",
      "(\"occupation\", Union{Missing, String31})\n",
      "(\"relationship\", String15)\n",
      "(\"race\", String31)\n",
      "(\"sex\", String7)\n",
      "(\"capitalgain\", Int64)\n",
      "(\"capitalloss\", Int64)\n",
      "(\"hoursperweek\", Int64)\n",
      "(\"nativecountry\", Union{Missing, String31})\n",
      "(\"mas50\", String7)\n"
     ]
    }
   ],
   "source": [
    "disallowmissing!(df, error=false);\n",
    "for i in zip(names(df), eltype.(eachcol(df)))\n",
    "    println(i)\n",
    "end"
   ]
  },
  {
   "cell_type": "markdown",
   "metadata": {},
   "source": [
    "# Multiples representaciones\n",
    "\n",
    "Diferencias en capitalización, espaciado, genero puede causar errores."
   ]
  },
  {
   "cell_type": "code",
   "execution_count": 14,
   "metadata": {},
   "outputs": [
    {
     "data": {
      "text/plain": [
       "7-element Vector{String7}:\n",
       " \"Male\"\n",
       " \"male\"\n",
       " \"Female\"\n",
       " \"Femle\"\n",
       " \"Mal\"\n",
       " \"female\"\n",
       " \"Man\""
      ]
     },
     "execution_count": 14,
     "metadata": {},
     "output_type": "execute_result"
    }
   ],
   "source": [
    "unique(df.sex)"
   ]
  },
  {
   "cell_type": "code",
   "execution_count": 15,
   "metadata": {},
   "outputs": [
    {
     "data": {
      "text/plain": [
       "1-element view(::PooledArrays.PooledVector{String7, UInt32, Vector{UInt32}}, [15]) with eltype String7:\n",
       " \"Male\""
      ]
     },
     "execution_count": 15,
     "metadata": {},
     "output_type": "execute_result"
    }
   ],
   "source": [
    "df[(df[!,:sex] .== \"male\"),:sex].=\"Male\"\n",
    "df[(df[!,:sex] .== \"Femle\"),:sex].=\"Female\"\n",
    "df[(df[!,:sex] .== \"Femle\"),:sex].=\"Female\"\n",
    "df[(df[!,:sex] .== \"Mal\"),:sex].=\"Male\"\n",
    "df[(df[!,:sex] .== \"female\"),:sex].=\"Female\"\n",
    "df[(df[!,:sex] .== \"Man\"),:sex].=\"Male\""
   ]
  },
  {
   "cell_type": "markdown",
   "metadata": {},
   "source": [
    "# Datos Faltantes"
   ]
  },
  {
   "cell_type": "markdown",
   "metadata": {},
   "source": [
    "## Eliminar filas con datos faltantes"
   ]
  },
  {
   "cell_type": "code",
   "execution_count": 16,
   "metadata": {},
   "outputs": [
    {
     "data": {
      "text/html": [
       "<div class=\"data-frame\"><p>30,161 rows × 15 columns</p><table class=\"data-frame\"><thead><tr><th></th><th>age</th><th>workclass</th><th>fnlwgt</th><th>education</th><th>educationnum</th><th>maritalstatus</th><th>occupation</th><th>relationship</th><th>race</th><th>sex</th><th>capitalgain</th><th>capitalloss</th><th>hoursperweek</th><th>nativecountry</th><th>mas50</th></tr><tr><th></th><th title=\"Int64\">Int64</th><th title=\"Union{Missing, String31}\">String31?</th><th title=\"Int64\">Int64</th><th title=\"String15\">String15</th><th title=\"Int64\">Int64</th><th title=\"String31\">String31</th><th title=\"Union{Missing, String31}\">String31?</th><th title=\"String15\">String15</th><th title=\"String31\">String31</th><th title=\"String7\">String7</th><th title=\"Int64\">Int64</th><th title=\"Int64\">Int64</th><th title=\"Int64\">Int64</th><th title=\"Union{Missing, String31}\">String31?</th><th title=\"String7\">String7</th></tr></thead><tbody><tr><th>1</th><td>39</td><td>State-gov</td><td>77516</td><td>Bachelors</td><td>13</td><td>Never-married</td><td>Adm-clerical</td><td>Not-in-family</td><td>White</td><td>Male</td><td>2174</td><td>0</td><td>40</td><td>United-States</td><td>&lt;=50K</td></tr><tr><th>2</th><td>50</td><td>Self-emp-not-inc</td><td>83311</td><td>Bachelors</td><td>13</td><td>Married-civ-spouse</td><td>Exec-managerial</td><td>Husband</td><td>White</td><td>Male</td><td>0</td><td>0</td><td>13</td><td>United-States</td><td>&lt;=50K</td></tr><tr><th>3</th><td>38</td><td>Private</td><td>215646</td><td>HS-grad</td><td>9</td><td>Divorced</td><td>Handlers-cleaners</td><td>Not-in-family</td><td>White</td><td>Male</td><td>0</td><td>0</td><td>40</td><td>United-States</td><td>&lt;=50K</td></tr><tr><th>4</th><td>53</td><td>Private</td><td>234721</td><td>11th</td><td>7</td><td>Married-civ-spouse</td><td>Handlers-cleaners</td><td>Husband</td><td>Black</td><td>Male</td><td>0</td><td>0</td><td>40</td><td>United-States</td><td>&lt;=50K</td></tr><tr><th>5</th><td>28</td><td>Private</td><td>338409</td><td>Bachelors</td><td>13</td><td>Married-civ-spouse</td><td>Prof-specialty</td><td>Wife</td><td>Black</td><td>Female</td><td>0</td><td>0</td><td>40</td><td>Cuba</td><td>&lt;=50K</td></tr><tr><th>6</th><td>37</td><td>Private</td><td>284582</td><td>Masters</td><td>14</td><td>Married-civ-spouse</td><td>Exec-managerial</td><td>Wife</td><td>White</td><td>Female</td><td>0</td><td>0</td><td>40</td><td>United-States</td><td>&lt;=50K</td></tr><tr><th>7</th><td>49</td><td>Private</td><td>160187</td><td>9th</td><td>5</td><td>Married-spouse-absent</td><td>Other-service</td><td>Not-in-family</td><td>Black</td><td>Female</td><td>0</td><td>0</td><td>16</td><td>Jamaica</td><td>&lt;=50K</td></tr><tr><th>8</th><td>52</td><td>Self-emp-not-inc</td><td>209642</td><td>HS-grad</td><td>9</td><td>Married-civ-spouse</td><td>Exec-managerial</td><td>Husband</td><td>White</td><td>Male</td><td>0</td><td>0</td><td>45</td><td>United-States</td><td>&gt;50K</td></tr><tr><th>9</th><td>31</td><td>Private</td><td>45781</td><td>Masters</td><td>14</td><td>Never-married</td><td>Prof-specialty</td><td>Not-in-family</td><td>White</td><td>Female</td><td>14084</td><td>0</td><td>50</td><td>United-States</td><td>&gt;50K</td></tr><tr><th>10</th><td>42</td><td>Private</td><td>159449</td><td>Bachelors</td><td>13</td><td>Married-civ-spouse</td><td>Exec-managerial</td><td>Husband</td><td>White</td><td>Male</td><td>5178</td><td>0</td><td>40</td><td>United-States</td><td>&gt;50K</td></tr><tr><th>11</th><td>37</td><td>Private</td><td>280464</td><td>Some-college</td><td>10</td><td>Married-civ-spouse</td><td>Exec-managerial</td><td>Husband</td><td>Black</td><td>Male</td><td>0</td><td>0</td><td>80</td><td>United-States</td><td>&gt;50K</td></tr><tr><th>12</th><td>30</td><td>State-gov</td><td>141297</td><td>Bachelors</td><td>13</td><td>Married-civ-spouse</td><td>Prof-specialty</td><td>Husband</td><td>Asian-Pac-Islander</td><td>Male</td><td>0</td><td>0</td><td>40</td><td>India</td><td>&gt;50K</td></tr><tr><th>13</th><td>23</td><td>Private</td><td>122272</td><td>Bachelors</td><td>13</td><td>Never-married</td><td>Adm-clerical</td><td>Own-child</td><td>White</td><td>Female</td><td>0</td><td>0</td><td>30</td><td>United-States</td><td>&lt;=50K</td></tr><tr><th>14</th><td>32</td><td>Private</td><td>205019</td><td>Assoc-acdm</td><td>12</td><td>Never-married</td><td>Sales</td><td>Not-in-family</td><td>Black</td><td>Male</td><td>0</td><td>0</td><td>50</td><td>United-States</td><td>&lt;=50K</td></tr><tr><th>15</th><td>34</td><td>Private</td><td>245487</td><td>7th-8th</td><td>4</td><td>Married-civ-spouse</td><td>Transport-moving</td><td>Husband</td><td>Amer-Indian-Eskimo</td><td>Male</td><td>0</td><td>0</td><td>45</td><td>Mexico</td><td>&lt;=50K</td></tr><tr><th>16</th><td>25</td><td>Self-emp-not-inc</td><td>176756</td><td>HS-grad</td><td>9</td><td>Never-married</td><td>Farming-fishing</td><td>Own-child</td><td>White</td><td>Male</td><td>0</td><td>0</td><td>35</td><td>United-States</td><td>&lt;=50K</td></tr><tr><th>17</th><td>32</td><td>Private</td><td>186824</td><td>HS-grad</td><td>9</td><td>Never-married</td><td>Machine-op-inspct</td><td>Unmarried</td><td>White</td><td>Male</td><td>0</td><td>0</td><td>40</td><td>United-States</td><td>&lt;=50K</td></tr><tr><th>18</th><td>38</td><td>Private</td><td>28887</td><td>11th</td><td>7</td><td>Married-civ-spouse</td><td>Sales</td><td>Husband</td><td>White</td><td>Male</td><td>0</td><td>0</td><td>50</td><td>United-States</td><td>&lt;=50K</td></tr><tr><th>19</th><td>43</td><td>Self-emp-not-inc</td><td>292175</td><td>Masters</td><td>14</td><td>Divorced</td><td>Exec-managerial</td><td>Unmarried</td><td>White</td><td>Female</td><td>0</td><td>0</td><td>45</td><td>United-States</td><td>&gt;50K</td></tr><tr><th>20</th><td>40</td><td>Private</td><td>193524</td><td>Doctorate</td><td>16</td><td>Married-civ-spouse</td><td>Prof-specialty</td><td>Husband</td><td>White</td><td>Male</td><td>0</td><td>0</td><td>60</td><td>United-States</td><td>&gt;50K</td></tr><tr><th>21</th><td>54</td><td>Private</td><td>302146</td><td>HS-grad</td><td>9</td><td>Separated</td><td>Other-service</td><td>Unmarried</td><td>Black</td><td>Female</td><td>0</td><td>0</td><td>20</td><td>United-States</td><td>&lt;=50K</td></tr><tr><th>22</th><td>35</td><td>Federal-gov</td><td>76845</td><td>9th</td><td>5</td><td>Married-civ-spouse</td><td>Farming-fishing</td><td>Husband</td><td>Black</td><td>Male</td><td>0</td><td>0</td><td>40</td><td>United-States</td><td>&lt;=50K</td></tr><tr><th>23</th><td>43</td><td>Private</td><td>117037</td><td>11th</td><td>7</td><td>Married-civ-spouse</td><td>Transport-moving</td><td>Husband</td><td>White</td><td>Male</td><td>0</td><td>2042</td><td>40</td><td>United-States</td><td>&lt;=50K</td></tr><tr><th>24</th><td>59</td><td>Private</td><td>109015</td><td>HS-grad</td><td>9</td><td>Divorced</td><td>Tech-support</td><td>Unmarried</td><td>White</td><td>Female</td><td>0</td><td>0</td><td>40</td><td>United-States</td><td>&lt;=50K</td></tr><tr><th>25</th><td>56</td><td>Local-gov</td><td>216851</td><td>Bachelors</td><td>13</td><td>Married-civ-spouse</td><td>Tech-support</td><td>Husband</td><td>White</td><td>Male</td><td>0</td><td>0</td><td>40</td><td>United-States</td><td>&gt;50K</td></tr><tr><th>26</th><td>19</td><td>Private</td><td>168294</td><td>HS-grad</td><td>9</td><td>Never-married</td><td>Craft-repair</td><td>Own-child</td><td>White</td><td>Male</td><td>0</td><td>0</td><td>40</td><td>United-States</td><td>&lt;=50K</td></tr><tr><th>27</th><td>39</td><td>Private</td><td>367260</td><td>HS-grad</td><td>9</td><td>Divorced</td><td>Exec-managerial</td><td>Not-in-family</td><td>White</td><td>Male</td><td>0</td><td>0</td><td>80</td><td>United-States</td><td>&lt;=50K</td></tr><tr><th>28</th><td>49</td><td>Private</td><td>193366</td><td>HS-grad</td><td>9</td><td>Married-civ-spouse</td><td>Craft-repair</td><td>Husband</td><td>White</td><td>Male</td><td>0</td><td>0</td><td>40</td><td>United-States</td><td>&lt;=50K</td></tr><tr><th>29</th><td>23</td><td>Local-gov</td><td>190709</td><td>Assoc-acdm</td><td>12</td><td>Never-married</td><td>Protective-serv</td><td>Not-in-family</td><td>White</td><td>Male</td><td>0</td><td>0</td><td>52</td><td>United-States</td><td>&lt;=50K</td></tr><tr><th>30</th><td>20</td><td>Private</td><td>266015</td><td>Some-college</td><td>10</td><td>Never-married</td><td>Sales</td><td>Own-child</td><td>Black</td><td>Male</td><td>0</td><td>0</td><td>44</td><td>United-States</td><td>&lt;=50K</td></tr><tr><th>&vellip;</th><td>&vellip;</td><td>&vellip;</td><td>&vellip;</td><td>&vellip;</td><td>&vellip;</td><td>&vellip;</td><td>&vellip;</td><td>&vellip;</td><td>&vellip;</td><td>&vellip;</td><td>&vellip;</td><td>&vellip;</td><td>&vellip;</td><td>&vellip;</td><td>&vellip;</td></tr></tbody></table></div>"
      ],
      "text/latex": [
       "\\begin{tabular}{r|ccccccccccccccc}\n",
       "\t& age & workclass & fnlwgt & education & educationnum & maritalstatus & occupation & relationship & race & sex & capitalgain & capitalloss & hoursperweek & nativecountry & mas50\\\\\n",
       "\t\\hline\n",
       "\t& Int64 & String31? & Int64 & String15 & Int64 & String31 & String31? & String15 & String31 & String7 & Int64 & Int64 & Int64 & String31? & String7\\\\\n",
       "\t\\hline\n",
       "\t1 & 39 & State-gov & 77516 & Bachelors & 13 & Never-married & Adm-clerical & Not-in-family & White & Male & 2174 & 0 & 40 & United-States & <=50K \\\\\n",
       "\t2 & 50 & Self-emp-not-inc & 83311 & Bachelors & 13 & Married-civ-spouse & Exec-managerial & Husband & White & Male & 0 & 0 & 13 & United-States & <=50K \\\\\n",
       "\t3 & 38 & Private & 215646 & HS-grad & 9 & Divorced & Handlers-cleaners & Not-in-family & White & Male & 0 & 0 & 40 & United-States & <=50K \\\\\n",
       "\t4 & 53 & Private & 234721 & 11th & 7 & Married-civ-spouse & Handlers-cleaners & Husband & Black & Male & 0 & 0 & 40 & United-States & <=50K \\\\\n",
       "\t5 & 28 & Private & 338409 & Bachelors & 13 & Married-civ-spouse & Prof-specialty & Wife & Black & Female & 0 & 0 & 40 & Cuba & <=50K \\\\\n",
       "\t6 & 37 & Private & 284582 & Masters & 14 & Married-civ-spouse & Exec-managerial & Wife & White & Female & 0 & 0 & 40 & United-States & <=50K \\\\\n",
       "\t7 & 49 & Private & 160187 & 9th & 5 & Married-spouse-absent & Other-service & Not-in-family & Black & Female & 0 & 0 & 16 & Jamaica & <=50K \\\\\n",
       "\t8 & 52 & Self-emp-not-inc & 209642 & HS-grad & 9 & Married-civ-spouse & Exec-managerial & Husband & White & Male & 0 & 0 & 45 & United-States & >50K \\\\\n",
       "\t9 & 31 & Private & 45781 & Masters & 14 & Never-married & Prof-specialty & Not-in-family & White & Female & 14084 & 0 & 50 & United-States & >50K \\\\\n",
       "\t10 & 42 & Private & 159449 & Bachelors & 13 & Married-civ-spouse & Exec-managerial & Husband & White & Male & 5178 & 0 & 40 & United-States & >50K \\\\\n",
       "\t11 & 37 & Private & 280464 & Some-college & 10 & Married-civ-spouse & Exec-managerial & Husband & Black & Male & 0 & 0 & 80 & United-States & >50K \\\\\n",
       "\t12 & 30 & State-gov & 141297 & Bachelors & 13 & Married-civ-spouse & Prof-specialty & Husband & Asian-Pac-Islander & Male & 0 & 0 & 40 & India & >50K \\\\\n",
       "\t13 & 23 & Private & 122272 & Bachelors & 13 & Never-married & Adm-clerical & Own-child & White & Female & 0 & 0 & 30 & United-States & <=50K \\\\\n",
       "\t14 & 32 & Private & 205019 & Assoc-acdm & 12 & Never-married & Sales & Not-in-family & Black & Male & 0 & 0 & 50 & United-States & <=50K \\\\\n",
       "\t15 & 34 & Private & 245487 & 7th-8th & 4 & Married-civ-spouse & Transport-moving & Husband & Amer-Indian-Eskimo & Male & 0 & 0 & 45 & Mexico & <=50K \\\\\n",
       "\t16 & 25 & Self-emp-not-inc & 176756 & HS-grad & 9 & Never-married & Farming-fishing & Own-child & White & Male & 0 & 0 & 35 & United-States & <=50K \\\\\n",
       "\t17 & 32 & Private & 186824 & HS-grad & 9 & Never-married & Machine-op-inspct & Unmarried & White & Male & 0 & 0 & 40 & United-States & <=50K \\\\\n",
       "\t18 & 38 & Private & 28887 & 11th & 7 & Married-civ-spouse & Sales & Husband & White & Male & 0 & 0 & 50 & United-States & <=50K \\\\\n",
       "\t19 & 43 & Self-emp-not-inc & 292175 & Masters & 14 & Divorced & Exec-managerial & Unmarried & White & Female & 0 & 0 & 45 & United-States & >50K \\\\\n",
       "\t20 & 40 & Private & 193524 & Doctorate & 16 & Married-civ-spouse & Prof-specialty & Husband & White & Male & 0 & 0 & 60 & United-States & >50K \\\\\n",
       "\t21 & 54 & Private & 302146 & HS-grad & 9 & Separated & Other-service & Unmarried & Black & Female & 0 & 0 & 20 & United-States & <=50K \\\\\n",
       "\t22 & 35 & Federal-gov & 76845 & 9th & 5 & Married-civ-spouse & Farming-fishing & Husband & Black & Male & 0 & 0 & 40 & United-States & <=50K \\\\\n",
       "\t23 & 43 & Private & 117037 & 11th & 7 & Married-civ-spouse & Transport-moving & Husband & White & Male & 0 & 2042 & 40 & United-States & <=50K \\\\\n",
       "\t24 & 59 & Private & 109015 & HS-grad & 9 & Divorced & Tech-support & Unmarried & White & Female & 0 & 0 & 40 & United-States & <=50K \\\\\n",
       "\t25 & 56 & Local-gov & 216851 & Bachelors & 13 & Married-civ-spouse & Tech-support & Husband & White & Male & 0 & 0 & 40 & United-States & >50K \\\\\n",
       "\t26 & 19 & Private & 168294 & HS-grad & 9 & Never-married & Craft-repair & Own-child & White & Male & 0 & 0 & 40 & United-States & <=50K \\\\\n",
       "\t27 & 39 & Private & 367260 & HS-grad & 9 & Divorced & Exec-managerial & Not-in-family & White & Male & 0 & 0 & 80 & United-States & <=50K \\\\\n",
       "\t28 & 49 & Private & 193366 & HS-grad & 9 & Married-civ-spouse & Craft-repair & Husband & White & Male & 0 & 0 & 40 & United-States & <=50K \\\\\n",
       "\t29 & 23 & Local-gov & 190709 & Assoc-acdm & 12 & Never-married & Protective-serv & Not-in-family & White & Male & 0 & 0 & 52 & United-States & <=50K \\\\\n",
       "\t30 & 20 & Private & 266015 & Some-college & 10 & Never-married & Sales & Own-child & Black & Male & 0 & 0 & 44 & United-States & <=50K \\\\\n",
       "\t$\\dots$ & $\\dots$ & $\\dots$ & $\\dots$ & $\\dots$ & $\\dots$ & $\\dots$ & $\\dots$ & $\\dots$ & $\\dots$ & $\\dots$ & $\\dots$ & $\\dots$ & $\\dots$ & $\\dots$ & $\\dots$ \\\\\n",
       "\\end{tabular}\n"
      ],
      "text/plain": [
       "\u001b[1m30161×15 DataFrame\u001b[0m\n",
       "\u001b[1m   Row \u001b[0m│\u001b[1m age   \u001b[0m\u001b[1m workclass        \u001b[0m\u001b[1m fnlwgt \u001b[0m\u001b[1m education    \u001b[0m\u001b[1m educationnum \u001b[0m\u001b[1m maritalstatus         \u001b[0m\u001b[1m occupation        \u001b[0m\u001b[1m relationship   \u001b[0m\u001b[1m race               \u001b[0m\u001b[1m sex     \u001b[0m\u001b[1m capitalgain \u001b[0m\u001b[1m capitalloss \u001b[0m\u001b[1m hoursperweek \u001b[0m\u001b[1m nativecountry \u001b[0m\u001b[1m mas50   \u001b[0m\n",
       "\u001b[1m       \u001b[0m│\u001b[90m Int64 \u001b[0m\u001b[90m String31?        \u001b[0m\u001b[90m Int64  \u001b[0m\u001b[90m String15     \u001b[0m\u001b[90m Int64        \u001b[0m\u001b[90m String31              \u001b[0m\u001b[90m String31?         \u001b[0m\u001b[90m String15       \u001b[0m\u001b[90m String31           \u001b[0m\u001b[90m String7 \u001b[0m\u001b[90m Int64       \u001b[0m\u001b[90m Int64       \u001b[0m\u001b[90m Int64        \u001b[0m\u001b[90m String31?     \u001b[0m\u001b[90m String7 \u001b[0m\n",
       "───────┼────────────────────────────────────────────────────────────────────────────────────────────────────────────────────────────────────────────────────────────────────────────────────────────────────────────────────\n",
       "     1 │    39  State-gov          77516  Bachelors               13  Never-married          Adm-clerical       Not-in-family   White               Male            2174            0            40  United-States  <=50K\n",
       "     2 │    50  Self-emp-not-inc   83311  Bachelors               13  Married-civ-spouse     Exec-managerial    Husband         White               Male               0            0            13  United-States  <=50K\n",
       "     3 │    38  Private           215646  HS-grad                  9  Divorced               Handlers-cleaners  Not-in-family   White               Male               0            0            40  United-States  <=50K\n",
       "     4 │    53  Private           234721  11th                     7  Married-civ-spouse     Handlers-cleaners  Husband         Black               Male               0            0            40  United-States  <=50K\n",
       "     5 │    28  Private           338409  Bachelors               13  Married-civ-spouse     Prof-specialty     Wife            Black               Female             0            0            40  Cuba           <=50K\n",
       "     6 │    37  Private           284582  Masters                 14  Married-civ-spouse     Exec-managerial    Wife            White               Female             0            0            40  United-States  <=50K\n",
       "     7 │    49  Private           160187  9th                      5  Married-spouse-absent  Other-service      Not-in-family   Black               Female             0            0            16  Jamaica        <=50K\n",
       "     8 │    52  Self-emp-not-inc  209642  HS-grad                  9  Married-civ-spouse     Exec-managerial    Husband         White               Male               0            0            45  United-States  >50K\n",
       "     9 │    31  Private            45781  Masters                 14  Never-married          Prof-specialty     Not-in-family   White               Female         14084            0            50  United-States  >50K\n",
       "    10 │    42  Private           159449  Bachelors               13  Married-civ-spouse     Exec-managerial    Husband         White               Male            5178            0            40  United-States  >50K\n",
       "    11 │    37  Private           280464  Some-college            10  Married-civ-spouse     Exec-managerial    Husband         Black               Male               0            0            80  United-States  >50K\n",
       "   ⋮   │   ⋮           ⋮            ⋮          ⋮             ⋮                  ⋮                    ⋮                ⋮                 ⋮              ⋮          ⋮            ⋮            ⋮              ⋮           ⋮\n",
       " 30152 │    43  Self-emp-not-inc   27242  Some-college            10  Married-civ-spouse     Craft-repair       Husband         White               Male               0            0            50  United-States  <=50K\n",
       " 30153 │    32  Private            34066  10th                     6  Married-civ-spouse     Handlers-cleaners  Husband         Amer-Indian-Eskimo  Male               0            0            40  United-States  <=50K\n",
       " 30154 │    43  Private            84661  Assoc-voc               11  Married-civ-spouse     Sales              Husband         White               Male               0            0            45  United-States  <=50K\n",
       " 30155 │    32  Private           116138  Masters                 14  Never-married          Tech-support       Not-in-family   Asian-Pac-Islander  Male               0            0            11  Taiwan         <=50K\n",
       " 30156 │    53  Private           321865  Masters                 14  Married-civ-spouse     Exec-managerial    Husband         White               Male               0            0            40  United-States  >50K\n",
       " 30157 │    22  Private           310152  Some-college            10  Never-married          Protective-serv    Not-in-family   White               Male               0            0            40  United-States  <=50K\n",
       " 30158 │    27  Private           257302  Assoc-acdm              12  Married-civ-spouse     Tech-support       Wife            White               Female             0            0            38  United-States  <=50K\n",
       " 30159 │    40  Private           154374  HS-grad                  9  Married-civ-spouse     Machine-op-inspct  Husband         White               Male               0            0            40  United-States  >50K\n",
       " 30160 │    58  Private           151910  HS-grad                  9  Widowed                Adm-clerical       Unmarried       White               Female             0            0            40  United-States  <=50K\n",
       " 30161 │    22  Private           201490  HS-grad                  9  Never-married          Adm-clerical       Own-child       White               Male               0            0            20  United-States  <=50K\n",
       "\u001b[36m                                                                                                                                                                                                          30140 rows omitted\u001b[0m"
      ]
     },
     "execution_count": 16,
     "metadata": {},
     "output_type": "execute_result"
    }
   ],
   "source": [
    "df[completecases(df),:]"
   ]
  },
  {
   "cell_type": "markdown",
   "metadata": {},
   "source": [
    "## Remplazar con el mas popular"
   ]
  },
  {
   "cell_type": "code",
   "execution_count": 17,
   "metadata": {
    "scrolled": true
   },
   "outputs": [
    {
     "data": {
      "text/plain": [
       "Dict{Union{Missing, String31}, Int64} with 9 entries:\n",
       "  missing            => 1836\n",
       "  \"Never-worked\"     => 7\n",
       "  \"Private\"          => 22696\n",
       "  \"Federal-gov\"      => 960\n",
       "  \"Self-emp-inc\"     => 1115\n",
       "  \"Without-pay\"      => 14\n",
       "  \"Local-gov\"        => 2093\n",
       "  \"State-gov\"        => 1298\n",
       "  \"Self-emp-not-inc\" => 2541"
      ]
     },
     "execution_count": 17,
     "metadata": {},
     "output_type": "execute_result"
    }
   ],
   "source": [
    "using StatsBase\n",
    "countmap(df[!,:workclass])"
   ]
  },
  {
   "cell_type": "code",
   "execution_count": 18,
   "metadata": {},
   "outputs": [
    {
     "data": {
      "text/plain": [
       "32560-element Vector{AbstractString}:\n",
       " \"State-gov\"\n",
       " \"Self-emp-not-inc\"\n",
       " \"Private\"\n",
       " \"Private\"\n",
       " \"Private\"\n",
       " \"Private\"\n",
       " \"Private\"\n",
       " \"Self-emp-not-inc\"\n",
       " \"Private\"\n",
       " \"Private\"\n",
       " \"Private\"\n",
       " \"State-gov\"\n",
       " \"Private\"\n",
       " ⋮\n",
       " \"Self-emp-not-inc\"\n",
       " \"State-gov\"\n",
       " \"Self-emp-not-inc\"\n",
       " \"Private\"\n",
       " \"Private\"\n",
       " \"Private\"\n",
       " \"Private\"\n",
       " \"Private\"\n",
       " \"Private\"\n",
       " \"Private\"\n",
       " \"Private\"\n",
       " \"Private\""
      ]
     },
     "execution_count": 18,
     "metadata": {},
     "output_type": "execute_result"
    }
   ],
   "source": [
    "# df[(df[!,:workclass] .== missing),:workclass].=\"Private\"\n",
    "df[!,:workclass] = coalesce.(df[!,:workclass], \"Private\")"
   ]
  },
  {
   "cell_type": "code",
   "execution_count": 19,
   "metadata": {},
   "outputs": [
    {
     "data": {
      "text/plain": [
       "Dict{AbstractString, Int64} with 8 entries:\n",
       "  \"Never-worked\"     => 7\n",
       "  \"Private\"          => 24532\n",
       "  \"Federal-gov\"      => 960\n",
       "  \"Self-emp-inc\"     => 1115\n",
       "  \"Without-pay\"      => 14\n",
       "  \"Local-gov\"        => 2093\n",
       "  \"State-gov\"        => 1298\n",
       "  \"Self-emp-not-inc\" => 2541"
      ]
     },
     "execution_count": 19,
     "metadata": {},
     "output_type": "execute_result"
    }
   ],
   "source": [
    "countmap(df[!,:workclass])"
   ]
  },
  {
   "cell_type": "markdown",
   "metadata": {},
   "source": [
    "## Remplazar con un valor vacio"
   ]
  },
  {
   "cell_type": "code",
   "execution_count": 20,
   "metadata": {},
   "outputs": [
    {
     "data": {
      "text/plain": [
       "583"
      ]
     },
     "execution_count": 20,
     "metadata": {},
     "output_type": "execute_result"
    }
   ],
   "source": [
    "countmap(df[!,:nativecountry])[missing]"
   ]
  },
  {
   "cell_type": "code",
   "execution_count": 21,
   "metadata": {},
   "outputs": [
    {
     "data": {
      "text/plain": [
       "583"
      ]
     },
     "execution_count": 21,
     "metadata": {},
     "output_type": "execute_result"
    }
   ],
   "source": [
    "df[!,:nativecountry] = coalesce.(df[!,:nativecountry], \"No country\");\n",
    "countmap(df[!,:nativecountry])[\"No country\"]"
   ]
  },
  {
   "cell_type": "code",
   "execution_count": 22,
   "metadata": {},
   "outputs": [
    {
     "name": "stdout",
     "output_type": "stream",
     "text": [
      "(\"age\", Int64)\n",
      "(\"workclass\", AbstractString)\n",
      "(\"fnlwgt\", Int64)\n",
      "(\"education\", String15)\n",
      "(\"educationnum\", Int64)\n",
      "(\"maritalstatus\", String31)\n",
      "(\"occupation\", Union{Missing, String31})\n",
      "(\"relationship\", String15)\n",
      "(\"race\", String31)\n",
      "(\"sex\", String7)\n",
      "(\"capitalgain\", Int64)\n",
      "(\"capitalloss\", Int64)\n",
      "(\"hoursperweek\", Int64)\n",
      "(\"nativecountry\", AbstractString)\n",
      "(\"mas50\", String7)\n"
     ]
    }
   ],
   "source": [
    "disallowmissing!(df, error=false);\n",
    "for i in zip(names(df), eltype.(eachcol(df)))\n",
    "    println(i)\n",
    "end"
   ]
  },
  {
   "cell_type": "code",
   "execution_count": 23,
   "metadata": {},
   "outputs": [
    {
     "data": {
      "text/plain": [
       "Dict{AbstractString, Int64} with 15 entries:\n",
       "  \"Farming-fishing\"   => 994\n",
       "  \"Protective-serv\"   => 649\n",
       "  \"Craft-repair\"      => 4099\n",
       "  \"Adm-clerical\"      => 3770\n",
       "  \"Machine-op-inspct\" => 2002\n",
       "  \"Exec-managerial\"   => 4065\n",
       "  \"Transport-moving\"  => 1597\n",
       "  \"Prof-specialty\"    => 4140\n",
       "  \"Handlers-cleaners\" => 1370\n",
       "  \"Tech-support\"      => 928\n",
       "  \"Other-service\"     => 3295\n",
       "  \"Priv-house-serv\"   => 149\n",
       "  \"Armed-Forces\"      => 9\n",
       "  \"Not Found\"         => 1843\n",
       "  \"Sales\"             => 3650"
      ]
     },
     "execution_count": 23,
     "metadata": {},
     "output_type": "execute_result"
    }
   ],
   "source": [
    "df[!,:occupation] = coalesce.(df[!,:occupation], \"Not Found\");\n",
    "countmap(df[!,:occupation])"
   ]
  },
  {
   "cell_type": "code",
   "execution_count": 24,
   "metadata": {},
   "outputs": [
    {
     "name": "stdout",
     "output_type": "stream",
     "text": [
      "(\"age\", Int64)\n",
      "(\"workclass\", AbstractString)\n",
      "(\"fnlwgt\", Int64)\n",
      "(\"education\", String15)\n",
      "(\"educationnum\", Int64)\n",
      "(\"maritalstatus\", String31)\n",
      "(\"occupation\", AbstractString)\n",
      "(\"relationship\", String15)\n",
      "(\"race\", String31)\n",
      "(\"sex\", String7)\n",
      "(\"capitalgain\", Int64)\n",
      "(\"capitalloss\", Int64)\n",
      "(\"hoursperweek\", Int64)\n",
      "(\"nativecountry\", AbstractString)\n",
      "(\"mas50\", String7)\n"
     ]
    },
    {
     "data": {
      "text/html": [
       "<div class=\"data-frame\"><p>32,560 rows × 15 columns</p><table class=\"data-frame\"><thead><tr><th></th><th>age</th><th>workclass</th><th>fnlwgt</th><th>education</th><th>educationnum</th><th>maritalstatus</th><th>occupation</th><th>relationship</th><th>race</th><th>sex</th><th>capitalgain</th><th>capitalloss</th><th>hoursperweek</th><th>nativecountry</th><th>mas50</th></tr><tr><th></th><th title=\"Int64\">Int64</th><th title=\"AbstractString\">Abstract…</th><th title=\"Int64\">Int64</th><th title=\"String15\">String15</th><th title=\"Int64\">Int64</th><th title=\"String31\">String31</th><th title=\"AbstractString\">Abstract…</th><th title=\"String15\">String15</th><th title=\"String31\">String31</th><th title=\"String7\">String7</th><th title=\"Int64\">Int64</th><th title=\"Int64\">Int64</th><th title=\"Int64\">Int64</th><th title=\"AbstractString\">Abstract…</th><th title=\"String7\">String7</th></tr></thead><tbody><tr><th>1</th><td>39</td><td>State-gov</td><td>77516</td><td>Bachelors</td><td>13</td><td>Never-married</td><td>Adm-clerical</td><td>Not-in-family</td><td>White</td><td>Male</td><td>2174</td><td>0</td><td>40</td><td>United-States</td><td>&lt;=50K</td></tr><tr><th>2</th><td>50</td><td>Self-emp-not-inc</td><td>83311</td><td>Bachelors</td><td>13</td><td>Married-civ-spouse</td><td>Exec-managerial</td><td>Husband</td><td>White</td><td>Male</td><td>0</td><td>0</td><td>13</td><td>United-States</td><td>&lt;=50K</td></tr><tr><th>3</th><td>38</td><td>Private</td><td>215646</td><td>HS-grad</td><td>9</td><td>Divorced</td><td>Handlers-cleaners</td><td>Not-in-family</td><td>White</td><td>Male</td><td>0</td><td>0</td><td>40</td><td>United-States</td><td>&lt;=50K</td></tr><tr><th>4</th><td>53</td><td>Private</td><td>234721</td><td>11th</td><td>7</td><td>Married-civ-spouse</td><td>Handlers-cleaners</td><td>Husband</td><td>Black</td><td>Male</td><td>0</td><td>0</td><td>40</td><td>United-States</td><td>&lt;=50K</td></tr><tr><th>5</th><td>28</td><td>Private</td><td>338409</td><td>Bachelors</td><td>13</td><td>Married-civ-spouse</td><td>Prof-specialty</td><td>Wife</td><td>Black</td><td>Female</td><td>0</td><td>0</td><td>40</td><td>Cuba</td><td>&lt;=50K</td></tr><tr><th>6</th><td>37</td><td>Private</td><td>284582</td><td>Masters</td><td>14</td><td>Married-civ-spouse</td><td>Exec-managerial</td><td>Wife</td><td>White</td><td>Female</td><td>0</td><td>0</td><td>40</td><td>United-States</td><td>&lt;=50K</td></tr><tr><th>7</th><td>49</td><td>Private</td><td>160187</td><td>9th</td><td>5</td><td>Married-spouse-absent</td><td>Other-service</td><td>Not-in-family</td><td>Black</td><td>Female</td><td>0</td><td>0</td><td>16</td><td>Jamaica</td><td>&lt;=50K</td></tr><tr><th>8</th><td>52</td><td>Self-emp-not-inc</td><td>209642</td><td>HS-grad</td><td>9</td><td>Married-civ-spouse</td><td>Exec-managerial</td><td>Husband</td><td>White</td><td>Male</td><td>0</td><td>0</td><td>45</td><td>United-States</td><td>&gt;50K</td></tr><tr><th>9</th><td>31</td><td>Private</td><td>45781</td><td>Masters</td><td>14</td><td>Never-married</td><td>Prof-specialty</td><td>Not-in-family</td><td>White</td><td>Female</td><td>14084</td><td>0</td><td>50</td><td>United-States</td><td>&gt;50K</td></tr><tr><th>10</th><td>42</td><td>Private</td><td>159449</td><td>Bachelors</td><td>13</td><td>Married-civ-spouse</td><td>Exec-managerial</td><td>Husband</td><td>White</td><td>Male</td><td>5178</td><td>0</td><td>40</td><td>United-States</td><td>&gt;50K</td></tr><tr><th>11</th><td>37</td><td>Private</td><td>280464</td><td>Some-college</td><td>10</td><td>Married-civ-spouse</td><td>Exec-managerial</td><td>Husband</td><td>Black</td><td>Male</td><td>0</td><td>0</td><td>80</td><td>United-States</td><td>&gt;50K</td></tr><tr><th>12</th><td>30</td><td>State-gov</td><td>141297</td><td>Bachelors</td><td>13</td><td>Married-civ-spouse</td><td>Prof-specialty</td><td>Husband</td><td>Asian-Pac-Islander</td><td>Male</td><td>0</td><td>0</td><td>40</td><td>India</td><td>&gt;50K</td></tr><tr><th>13</th><td>23</td><td>Private</td><td>122272</td><td>Bachelors</td><td>13</td><td>Never-married</td><td>Adm-clerical</td><td>Own-child</td><td>White</td><td>Female</td><td>0</td><td>0</td><td>30</td><td>United-States</td><td>&lt;=50K</td></tr><tr><th>14</th><td>32</td><td>Private</td><td>205019</td><td>Assoc-acdm</td><td>12</td><td>Never-married</td><td>Sales</td><td>Not-in-family</td><td>Black</td><td>Male</td><td>0</td><td>0</td><td>50</td><td>United-States</td><td>&lt;=50K</td></tr><tr><th>15</th><td>40</td><td>Private</td><td>121772</td><td>Assoc-voc</td><td>11</td><td>Married-civ-spouse</td><td>Craft-repair</td><td>Husband</td><td>Asian-Pac-Islander</td><td>Male</td><td>0</td><td>0</td><td>40</td><td>No country</td><td>&gt;50K</td></tr><tr><th>16</th><td>34</td><td>Private</td><td>245487</td><td>7th-8th</td><td>4</td><td>Married-civ-spouse</td><td>Transport-moving</td><td>Husband</td><td>Amer-Indian-Eskimo</td><td>Male</td><td>0</td><td>0</td><td>45</td><td>Mexico</td><td>&lt;=50K</td></tr><tr><th>17</th><td>25</td><td>Self-emp-not-inc</td><td>176756</td><td>HS-grad</td><td>9</td><td>Never-married</td><td>Farming-fishing</td><td>Own-child</td><td>White</td><td>Male</td><td>0</td><td>0</td><td>35</td><td>United-States</td><td>&lt;=50K</td></tr><tr><th>18</th><td>32</td><td>Private</td><td>186824</td><td>HS-grad</td><td>9</td><td>Never-married</td><td>Machine-op-inspct</td><td>Unmarried</td><td>White</td><td>Male</td><td>0</td><td>0</td><td>40</td><td>United-States</td><td>&lt;=50K</td></tr><tr><th>19</th><td>38</td><td>Private</td><td>28887</td><td>11th</td><td>7</td><td>Married-civ-spouse</td><td>Sales</td><td>Husband</td><td>White</td><td>Male</td><td>0</td><td>0</td><td>50</td><td>United-States</td><td>&lt;=50K</td></tr><tr><th>20</th><td>43</td><td>Self-emp-not-inc</td><td>292175</td><td>Masters</td><td>14</td><td>Divorced</td><td>Exec-managerial</td><td>Unmarried</td><td>White</td><td>Female</td><td>0</td><td>0</td><td>45</td><td>United-States</td><td>&gt;50K</td></tr><tr><th>21</th><td>40</td><td>Private</td><td>193524</td><td>Doctorate</td><td>16</td><td>Married-civ-spouse</td><td>Prof-specialty</td><td>Husband</td><td>White</td><td>Male</td><td>0</td><td>0</td><td>60</td><td>United-States</td><td>&gt;50K</td></tr><tr><th>22</th><td>54</td><td>Private</td><td>302146</td><td>HS-grad</td><td>9</td><td>Separated</td><td>Other-service</td><td>Unmarried</td><td>Black</td><td>Female</td><td>0</td><td>0</td><td>20</td><td>United-States</td><td>&lt;=50K</td></tr><tr><th>23</th><td>35</td><td>Federal-gov</td><td>76845</td><td>9th</td><td>5</td><td>Married-civ-spouse</td><td>Farming-fishing</td><td>Husband</td><td>Black</td><td>Male</td><td>0</td><td>0</td><td>40</td><td>United-States</td><td>&lt;=50K</td></tr><tr><th>24</th><td>43</td><td>Private</td><td>117037</td><td>11th</td><td>7</td><td>Married-civ-spouse</td><td>Transport-moving</td><td>Husband</td><td>White</td><td>Male</td><td>0</td><td>2042</td><td>40</td><td>United-States</td><td>&lt;=50K</td></tr><tr><th>25</th><td>59</td><td>Private</td><td>109015</td><td>HS-grad</td><td>9</td><td>Divorced</td><td>Tech-support</td><td>Unmarried</td><td>White</td><td>Female</td><td>0</td><td>0</td><td>40</td><td>United-States</td><td>&lt;=50K</td></tr><tr><th>26</th><td>56</td><td>Local-gov</td><td>216851</td><td>Bachelors</td><td>13</td><td>Married-civ-spouse</td><td>Tech-support</td><td>Husband</td><td>White</td><td>Male</td><td>0</td><td>0</td><td>40</td><td>United-States</td><td>&gt;50K</td></tr><tr><th>27</th><td>19</td><td>Private</td><td>168294</td><td>HS-grad</td><td>9</td><td>Never-married</td><td>Craft-repair</td><td>Own-child</td><td>White</td><td>Male</td><td>0</td><td>0</td><td>40</td><td>United-States</td><td>&lt;=50K</td></tr><tr><th>28</th><td>54</td><td>Private</td><td>180211</td><td>Some-college</td><td>10</td><td>Married-civ-spouse</td><td>Not Found</td><td>Husband</td><td>Asian-Pac-Islander</td><td>Male</td><td>0</td><td>0</td><td>60</td><td>South</td><td>&gt;50K</td></tr><tr><th>29</th><td>39</td><td>Private</td><td>367260</td><td>HS-grad</td><td>9</td><td>Divorced</td><td>Exec-managerial</td><td>Not-in-family</td><td>White</td><td>Male</td><td>0</td><td>0</td><td>80</td><td>United-States</td><td>&lt;=50K</td></tr><tr><th>30</th><td>49</td><td>Private</td><td>193366</td><td>HS-grad</td><td>9</td><td>Married-civ-spouse</td><td>Craft-repair</td><td>Husband</td><td>White</td><td>Male</td><td>0</td><td>0</td><td>40</td><td>United-States</td><td>&lt;=50K</td></tr><tr><th>&vellip;</th><td>&vellip;</td><td>&vellip;</td><td>&vellip;</td><td>&vellip;</td><td>&vellip;</td><td>&vellip;</td><td>&vellip;</td><td>&vellip;</td><td>&vellip;</td><td>&vellip;</td><td>&vellip;</td><td>&vellip;</td><td>&vellip;</td><td>&vellip;</td><td>&vellip;</td></tr></tbody></table></div>"
      ],
      "text/latex": [
       "\\begin{tabular}{r|ccccccccccccccc}\n",
       "\t& age & workclass & fnlwgt & education & educationnum & maritalstatus & occupation & relationship & race & sex & capitalgain & capitalloss & hoursperweek & nativecountry & mas50\\\\\n",
       "\t\\hline\n",
       "\t& Int64 & Abstract… & Int64 & String15 & Int64 & String31 & Abstract… & String15 & String31 & String7 & Int64 & Int64 & Int64 & Abstract… & String7\\\\\n",
       "\t\\hline\n",
       "\t1 & 39 & State-gov & 77516 & Bachelors & 13 & Never-married & Adm-clerical & Not-in-family & White & Male & 2174 & 0 & 40 & United-States & <=50K \\\\\n",
       "\t2 & 50 & Self-emp-not-inc & 83311 & Bachelors & 13 & Married-civ-spouse & Exec-managerial & Husband & White & Male & 0 & 0 & 13 & United-States & <=50K \\\\\n",
       "\t3 & 38 & Private & 215646 & HS-grad & 9 & Divorced & Handlers-cleaners & Not-in-family & White & Male & 0 & 0 & 40 & United-States & <=50K \\\\\n",
       "\t4 & 53 & Private & 234721 & 11th & 7 & Married-civ-spouse & Handlers-cleaners & Husband & Black & Male & 0 & 0 & 40 & United-States & <=50K \\\\\n",
       "\t5 & 28 & Private & 338409 & Bachelors & 13 & Married-civ-spouse & Prof-specialty & Wife & Black & Female & 0 & 0 & 40 & Cuba & <=50K \\\\\n",
       "\t6 & 37 & Private & 284582 & Masters & 14 & Married-civ-spouse & Exec-managerial & Wife & White & Female & 0 & 0 & 40 & United-States & <=50K \\\\\n",
       "\t7 & 49 & Private & 160187 & 9th & 5 & Married-spouse-absent & Other-service & Not-in-family & Black & Female & 0 & 0 & 16 & Jamaica & <=50K \\\\\n",
       "\t8 & 52 & Self-emp-not-inc & 209642 & HS-grad & 9 & Married-civ-spouse & Exec-managerial & Husband & White & Male & 0 & 0 & 45 & United-States & >50K \\\\\n",
       "\t9 & 31 & Private & 45781 & Masters & 14 & Never-married & Prof-specialty & Not-in-family & White & Female & 14084 & 0 & 50 & United-States & >50K \\\\\n",
       "\t10 & 42 & Private & 159449 & Bachelors & 13 & Married-civ-spouse & Exec-managerial & Husband & White & Male & 5178 & 0 & 40 & United-States & >50K \\\\\n",
       "\t11 & 37 & Private & 280464 & Some-college & 10 & Married-civ-spouse & Exec-managerial & Husband & Black & Male & 0 & 0 & 80 & United-States & >50K \\\\\n",
       "\t12 & 30 & State-gov & 141297 & Bachelors & 13 & Married-civ-spouse & Prof-specialty & Husband & Asian-Pac-Islander & Male & 0 & 0 & 40 & India & >50K \\\\\n",
       "\t13 & 23 & Private & 122272 & Bachelors & 13 & Never-married & Adm-clerical & Own-child & White & Female & 0 & 0 & 30 & United-States & <=50K \\\\\n",
       "\t14 & 32 & Private & 205019 & Assoc-acdm & 12 & Never-married & Sales & Not-in-family & Black & Male & 0 & 0 & 50 & United-States & <=50K \\\\\n",
       "\t15 & 40 & Private & 121772 & Assoc-voc & 11 & Married-civ-spouse & Craft-repair & Husband & Asian-Pac-Islander & Male & 0 & 0 & 40 & No country & >50K \\\\\n",
       "\t16 & 34 & Private & 245487 & 7th-8th & 4 & Married-civ-spouse & Transport-moving & Husband & Amer-Indian-Eskimo & Male & 0 & 0 & 45 & Mexico & <=50K \\\\\n",
       "\t17 & 25 & Self-emp-not-inc & 176756 & HS-grad & 9 & Never-married & Farming-fishing & Own-child & White & Male & 0 & 0 & 35 & United-States & <=50K \\\\\n",
       "\t18 & 32 & Private & 186824 & HS-grad & 9 & Never-married & Machine-op-inspct & Unmarried & White & Male & 0 & 0 & 40 & United-States & <=50K \\\\\n",
       "\t19 & 38 & Private & 28887 & 11th & 7 & Married-civ-spouse & Sales & Husband & White & Male & 0 & 0 & 50 & United-States & <=50K \\\\\n",
       "\t20 & 43 & Self-emp-not-inc & 292175 & Masters & 14 & Divorced & Exec-managerial & Unmarried & White & Female & 0 & 0 & 45 & United-States & >50K \\\\\n",
       "\t21 & 40 & Private & 193524 & Doctorate & 16 & Married-civ-spouse & Prof-specialty & Husband & White & Male & 0 & 0 & 60 & United-States & >50K \\\\\n",
       "\t22 & 54 & Private & 302146 & HS-grad & 9 & Separated & Other-service & Unmarried & Black & Female & 0 & 0 & 20 & United-States & <=50K \\\\\n",
       "\t23 & 35 & Federal-gov & 76845 & 9th & 5 & Married-civ-spouse & Farming-fishing & Husband & Black & Male & 0 & 0 & 40 & United-States & <=50K \\\\\n",
       "\t24 & 43 & Private & 117037 & 11th & 7 & Married-civ-spouse & Transport-moving & Husband & White & Male & 0 & 2042 & 40 & United-States & <=50K \\\\\n",
       "\t25 & 59 & Private & 109015 & HS-grad & 9 & Divorced & Tech-support & Unmarried & White & Female & 0 & 0 & 40 & United-States & <=50K \\\\\n",
       "\t26 & 56 & Local-gov & 216851 & Bachelors & 13 & Married-civ-spouse & Tech-support & Husband & White & Male & 0 & 0 & 40 & United-States & >50K \\\\\n",
       "\t27 & 19 & Private & 168294 & HS-grad & 9 & Never-married & Craft-repair & Own-child & White & Male & 0 & 0 & 40 & United-States & <=50K \\\\\n",
       "\t28 & 54 & Private & 180211 & Some-college & 10 & Married-civ-spouse & Not Found & Husband & Asian-Pac-Islander & Male & 0 & 0 & 60 & South & >50K \\\\\n",
       "\t29 & 39 & Private & 367260 & HS-grad & 9 & Divorced & Exec-managerial & Not-in-family & White & Male & 0 & 0 & 80 & United-States & <=50K \\\\\n",
       "\t30 & 49 & Private & 193366 & HS-grad & 9 & Married-civ-spouse & Craft-repair & Husband & White & Male & 0 & 0 & 40 & United-States & <=50K \\\\\n",
       "\t$\\dots$ & $\\dots$ & $\\dots$ & $\\dots$ & $\\dots$ & $\\dots$ & $\\dots$ & $\\dots$ & $\\dots$ & $\\dots$ & $\\dots$ & $\\dots$ & $\\dots$ & $\\dots$ & $\\dots$ & $\\dots$ \\\\\n",
       "\\end{tabular}\n"
      ],
      "text/plain": [
       "\u001b[1m32560×15 DataFrame\u001b[0m\n",
       "\u001b[1m   Row \u001b[0m│\u001b[1m age   \u001b[0m\u001b[1m workclass        \u001b[0m\u001b[1m fnlwgt \u001b[0m\u001b[1m education    \u001b[0m\u001b[1m educationnum \u001b[0m\u001b[1m maritalstatus         \u001b[0m\u001b[1m occupation        \u001b[0m\u001b[1m relationship   \u001b[0m\u001b[1m race               \u001b[0m\u001b[1m sex     \u001b[0m\u001b[1m capitalgain \u001b[0m\u001b[1m capitalloss \u001b[0m\u001b[1m hoursperweek \u001b[0m\u001b[1m nativecountry \u001b[0m\u001b[1m mas50   \u001b[0m\n",
       "\u001b[1m       \u001b[0m│\u001b[90m Int64 \u001b[0m\u001b[90m Abstract…        \u001b[0m\u001b[90m Int64  \u001b[0m\u001b[90m String15     \u001b[0m\u001b[90m Int64        \u001b[0m\u001b[90m String31              \u001b[0m\u001b[90m Abstract…         \u001b[0m\u001b[90m String15       \u001b[0m\u001b[90m String31           \u001b[0m\u001b[90m String7 \u001b[0m\u001b[90m Int64       \u001b[0m\u001b[90m Int64       \u001b[0m\u001b[90m Int64        \u001b[0m\u001b[90m Abstract…     \u001b[0m\u001b[90m String7 \u001b[0m\n",
       "───────┼────────────────────────────────────────────────────────────────────────────────────────────────────────────────────────────────────────────────────────────────────────────────────────────────────────────────────\n",
       "     1 │    39  State-gov          77516  Bachelors               13  Never-married          Adm-clerical       Not-in-family   White               Male            2174            0            40  United-States  <=50K\n",
       "     2 │    50  Self-emp-not-inc   83311  Bachelors               13  Married-civ-spouse     Exec-managerial    Husband         White               Male               0            0            13  United-States  <=50K\n",
       "     3 │    38  Private           215646  HS-grad                  9  Divorced               Handlers-cleaners  Not-in-family   White               Male               0            0            40  United-States  <=50K\n",
       "     4 │    53  Private           234721  11th                     7  Married-civ-spouse     Handlers-cleaners  Husband         Black               Male               0            0            40  United-States  <=50K\n",
       "     5 │    28  Private           338409  Bachelors               13  Married-civ-spouse     Prof-specialty     Wife            Black               Female             0            0            40  Cuba           <=50K\n",
       "     6 │    37  Private           284582  Masters                 14  Married-civ-spouse     Exec-managerial    Wife            White               Female             0            0            40  United-States  <=50K\n",
       "     7 │    49  Private           160187  9th                      5  Married-spouse-absent  Other-service      Not-in-family   Black               Female             0            0            16  Jamaica        <=50K\n",
       "     8 │    52  Self-emp-not-inc  209642  HS-grad                  9  Married-civ-spouse     Exec-managerial    Husband         White               Male               0            0            45  United-States  >50K\n",
       "     9 │    31  Private            45781  Masters                 14  Never-married          Prof-specialty     Not-in-family   White               Female         14084            0            50  United-States  >50K\n",
       "    10 │    42  Private           159449  Bachelors               13  Married-civ-spouse     Exec-managerial    Husband         White               Male            5178            0            40  United-States  >50K\n",
       "    11 │    37  Private           280464  Some-college            10  Married-civ-spouse     Exec-managerial    Husband         Black               Male               0            0            80  United-States  >50K\n",
       "   ⋮   │   ⋮           ⋮            ⋮          ⋮             ⋮                  ⋮                    ⋮                ⋮                 ⋮              ⋮          ⋮            ⋮            ⋮              ⋮           ⋮\n",
       " 32551 │    43  Self-emp-not-inc   27242  Some-college            10  Married-civ-spouse     Craft-repair       Husband         White               Male               0            0            50  United-States  <=50K\n",
       " 32552 │    32  Private            34066  10th                     6  Married-civ-spouse     Handlers-cleaners  Husband         Amer-Indian-Eskimo  Male               0            0            40  United-States  <=50K\n",
       " 32553 │    43  Private            84661  Assoc-voc               11  Married-civ-spouse     Sales              Husband         White               Male               0            0            45  United-States  <=50K\n",
       " 32554 │    32  Private           116138  Masters                 14  Never-married          Tech-support       Not-in-family   Asian-Pac-Islander  Male               0            0            11  Taiwan         <=50K\n",
       " 32555 │    53  Private           321865  Masters                 14  Married-civ-spouse     Exec-managerial    Husband         White               Male               0            0            40  United-States  >50K\n",
       " 32556 │    22  Private           310152  Some-college            10  Never-married          Protective-serv    Not-in-family   White               Male               0            0            40  United-States  <=50K\n",
       " 32557 │    27  Private           257302  Assoc-acdm              12  Married-civ-spouse     Tech-support       Wife            White               Female             0            0            38  United-States  <=50K\n",
       " 32558 │    40  Private           154374  HS-grad                  9  Married-civ-spouse     Machine-op-inspct  Husband         White               Male               0            0            40  United-States  >50K\n",
       " 32559 │    58  Private           151910  HS-grad                  9  Widowed                Adm-clerical       Unmarried       White               Female             0            0            40  United-States  <=50K\n",
       " 32560 │    22  Private           201490  HS-grad                  9  Never-married          Adm-clerical       Own-child       White               Male               0            0            20  United-States  <=50K\n",
       "\u001b[36m                                                                                                                                                                                                          32539 rows omitted\u001b[0m"
      ]
     },
     "execution_count": 24,
     "metadata": {},
     "output_type": "execute_result"
    }
   ],
   "source": [
    "df = df[completecases(df),:]\n",
    "disallowmissing!(df, error=false);\n",
    "for i in zip(names(df), eltype.(eachcol(df)))\n",
    "    println(i)\n",
    "end\n",
    "df"
   ]
  },
  {
   "cell_type": "markdown",
   "metadata": {},
   "source": [
    "# Normalización y escalamiento"
   ]
  },
  {
   "cell_type": "code",
   "execution_count": 25,
   "metadata": {},
   "outputs": [
    {
     "data": {
      "text/plain": [
       "PyObject <class 'sklearn.preprocessing._data.MinMaxScaler'>"
      ]
     },
     "execution_count": 25,
     "metadata": {},
     "output_type": "execute_result"
    }
   ],
   "source": [
    "# import Pkg; Pkg.add(\"ScikitLearn\");\n",
    "using ScikitLearn\n",
    "using DataFrames: DataFrame, missing\n",
    "@sk_import preprocessing: (LabelBinarizer, MinMaxScaler)"
   ]
  },
  {
   "cell_type": "code",
   "execution_count": 26,
   "metadata": {},
   "outputs": [],
   "source": [
    "mapper = DataFrameMapper([\n",
    "                        (:sex, LabelBinarizer()),\n",
    "                        (:workclass, LabelBinarizer()),\n",
    "                        ([:age], MinMaxScaler())\n",
    "                        ]);"
   ]
  },
  {
   "cell_type": "code",
   "execution_count": 27,
   "metadata": {},
   "outputs": [
    {
     "data": {
      "text/plain": [
       "32560×10 Matrix{Float64}:\n",
       " 1.0  0.0  0.0  0.0  0.0  0.0  0.0  1.0  0.0  0.30137\n",
       " 1.0  0.0  0.0  0.0  0.0  0.0  1.0  0.0  0.0  0.452055\n",
       " 1.0  0.0  0.0  0.0  1.0  0.0  0.0  0.0  0.0  0.287671\n",
       " 1.0  0.0  0.0  0.0  1.0  0.0  0.0  0.0  0.0  0.493151\n",
       " 0.0  0.0  0.0  0.0  1.0  0.0  0.0  0.0  0.0  0.150685\n",
       " 0.0  0.0  0.0  0.0  1.0  0.0  0.0  0.0  0.0  0.273973\n",
       " 0.0  0.0  0.0  0.0  1.0  0.0  0.0  0.0  0.0  0.438356\n",
       " 1.0  0.0  0.0  0.0  0.0  0.0  1.0  0.0  0.0  0.479452\n",
       " 0.0  0.0  0.0  0.0  1.0  0.0  0.0  0.0  0.0  0.191781\n",
       " 1.0  0.0  0.0  0.0  1.0  0.0  0.0  0.0  0.0  0.342466\n",
       " 1.0  0.0  0.0  0.0  1.0  0.0  0.0  0.0  0.0  0.273973\n",
       " 1.0  0.0  0.0  0.0  0.0  0.0  0.0  1.0  0.0  0.178082\n",
       " 0.0  0.0  0.0  0.0  1.0  0.0  0.0  0.0  0.0  0.0821918\n",
       " ⋮                        ⋮                   \n",
       " 1.0  0.0  0.0  0.0  0.0  0.0  1.0  0.0  0.0  0.657534\n",
       " 0.0  0.0  0.0  0.0  0.0  0.0  0.0  1.0  0.0  0.356164\n",
       " 1.0  0.0  0.0  0.0  0.0  0.0  1.0  0.0  0.0  0.356164\n",
       " 1.0  0.0  0.0  0.0  1.0  0.0  0.0  0.0  0.0  0.205479\n",
       " 1.0  0.0  0.0  0.0  1.0  0.0  0.0  0.0  0.0  0.356164\n",
       " 1.0  0.0  0.0  0.0  1.0  0.0  0.0  0.0  0.0  0.205479\n",
       " 1.0  0.0  0.0  0.0  1.0  0.0  0.0  0.0  0.0  0.493151\n",
       " 1.0  0.0  0.0  0.0  1.0  0.0  0.0  0.0  0.0  0.0684932\n",
       " 0.0  0.0  0.0  0.0  1.0  0.0  0.0  0.0  0.0  0.136986\n",
       " 1.0  0.0  0.0  0.0  1.0  0.0  0.0  0.0  0.0  0.315068\n",
       " 0.0  0.0  0.0  0.0  1.0  0.0  0.0  0.0  0.0  0.561644\n",
       " 1.0  0.0  0.0  0.0  1.0  0.0  0.0  0.0  0.0  0.0684932"
      ]
     },
     "execution_count": 27,
     "metadata": {},
     "output_type": "execute_result"
    }
   ],
   "source": [
    "fit_transform!(mapper, copy(df))"
   ]
  },
  {
   "cell_type": "code",
   "execution_count": 28,
   "metadata": {},
   "outputs": [
    {
     "data": {
      "text/html": [
       "<p>DataFrameRow (15 columns)</p><div class=\"data-frame\"><table class=\"data-frame\"><thead><tr><th></th><th>age</th><th>workclass</th><th>fnlwgt</th><th>education</th><th>educationnum</th><th>maritalstatus</th><th>occupation</th><th>relationship</th><th>race</th><th>sex</th><th>capitalgain</th><th>capitalloss</th><th>hoursperweek</th><th>nativecountry</th><th>mas50</th></tr><tr><th></th><th title=\"Int64\">Int64</th><th title=\"AbstractString\">Abstract…</th><th title=\"Int64\">Int64</th><th title=\"String15\">String15</th><th title=\"Int64\">Int64</th><th title=\"String31\">String31</th><th title=\"AbstractString\">Abstract…</th><th title=\"String15\">String15</th><th title=\"String31\">String31</th><th title=\"String7\">String7</th><th title=\"Int64\">Int64</th><th title=\"Int64\">Int64</th><th title=\"Int64\">Int64</th><th title=\"AbstractString\">Abstract…</th><th title=\"String7\">String7</th></tr></thead><tbody><tr><th>1</th><td>39</td><td>State-gov</td><td>77516</td><td>Bachelors</td><td>13</td><td>Never-married</td><td>Adm-clerical</td><td>Not-in-family</td><td>White</td><td>Male</td><td>2174</td><td>0</td><td>40</td><td>United-States</td><td>&lt;=50K</td></tr></tbody></table></div>"
      ],
      "text/latex": [
       "\\begin{tabular}{r|ccccccccccccccc}\n",
       "\t& age & workclass & fnlwgt & education & educationnum & maritalstatus & occupation & relationship & race & sex & capitalgain & capitalloss & hoursperweek & nativecountry & mas50\\\\\n",
       "\t\\hline\n",
       "\t& Int64 & Abstract… & Int64 & String15 & Int64 & String31 & Abstract… & String15 & String31 & String7 & Int64 & Int64 & Int64 & Abstract… & String7\\\\\n",
       "\t\\hline\n",
       "\t1 & 39 & State-gov & 77516 & Bachelors & 13 & Never-married & Adm-clerical & Not-in-family & White & Male & 2174 & 0 & 40 & United-States & <=50K \\\\\n",
       "\\end{tabular}\n"
      ],
      "text/plain": [
       "\u001b[1mDataFrameRow\u001b[0m\n",
       "\u001b[1m Row \u001b[0m│\u001b[1m age   \u001b[0m\u001b[1m workclass \u001b[0m\u001b[1m fnlwgt \u001b[0m\u001b[1m education \u001b[0m\u001b[1m educationnum \u001b[0m\u001b[1m maritalstatus \u001b[0m\u001b[1m occupation   \u001b[0m\u001b[1m relationship  \u001b[0m\u001b[1m race     \u001b[0m\u001b[1m sex     \u001b[0m\u001b[1m capitalgain \u001b[0m\u001b[1m capitalloss \u001b[0m\u001b[1m hoursperweek \u001b[0m\u001b[1m nativecountry \u001b[0m\u001b[1m mas50   \u001b[0m\n",
       "\u001b[1m     \u001b[0m│\u001b[90m Int64 \u001b[0m\u001b[90m Abstract… \u001b[0m\u001b[90m Int64  \u001b[0m\u001b[90m String15  \u001b[0m\u001b[90m Int64        \u001b[0m\u001b[90m String31      \u001b[0m\u001b[90m Abstract…    \u001b[0m\u001b[90m String15      \u001b[0m\u001b[90m String31 \u001b[0m\u001b[90m String7 \u001b[0m\u001b[90m Int64       \u001b[0m\u001b[90m Int64       \u001b[0m\u001b[90m Int64        \u001b[0m\u001b[90m Abstract…     \u001b[0m\u001b[90m String7 \u001b[0m\n",
       "─────┼──────────────────────────────────────────────────────────────────────────────────────────────────────────────────────────────────────────────────────────────────────────────────\n",
       "   1 │    39  State-gov   77516  Bachelors            13  Never-married  Adm-clerical  Not-in-family  White     Male            2174            0            40  United-States  <=50K"
      ]
     },
     "execution_count": 28,
     "metadata": {},
     "output_type": "execute_result"
    }
   ],
   "source": [
    "first(df)"
   ]
  },
  {
   "cell_type": "code",
   "execution_count": 29,
   "metadata": {},
   "outputs": [
    {
     "data": {
      "text/plain": [
       "8-element Vector{AbstractString}:\n",
       " \"Federal-gov\"\n",
       " \"Local-gov\"\n",
       " \"Never-worked\"\n",
       " \"Private\"\n",
       " \"Self-emp-inc\"\n",
       " \"Self-emp-not-inc\"\n",
       " \"State-gov\"\n",
       " \"Without-pay\""
      ]
     },
     "execution_count": 29,
     "metadata": {},
     "output_type": "execute_result"
    }
   ],
   "source": [
    "sort(unique(df[!,:workclass]))"
   ]
  },
  {
   "cell_type": "code",
   "execution_count": null,
   "metadata": {},
   "outputs": [],
   "source": []
  }
 ],
 "metadata": {
  "kernelspec": {
   "display_name": "Julia 1.7.2",
   "language": "julia",
   "name": "julia-1.7"
  },
  "language_info": {
   "file_extension": ".jl",
   "mimetype": "application/julia",
   "name": "julia",
   "version": "1.7.2"
  }
 },
 "nbformat": 4,
 "nbformat_minor": 4
}
