{
 "cells": [
  {
   "cell_type": "markdown",
   "id": "9f261f9f",
   "metadata": {},
   "source": [
    "Strings"
   ]
  },
  {
   "cell_type": "code",
   "execution_count": 3,
   "id": "237166a5",
   "metadata": {},
   "outputs": [
    {
     "name": "stdout",
     "output_type": "stream",
     "text": [
      "My name is Roberto, this is my first Julia Notebook\n"
     ]
    }
   ],
   "source": [
    "println(\"My name is Roberto, this is my first Julia Notebook\")"
   ]
  },
  {
   "cell_type": "code",
   "execution_count": 4,
   "id": "f66c6991",
   "metadata": {},
   "outputs": [
    {
     "name": "stdout",
     "output_type": "stream",
     "text": [
      "My name is Roberto\n"
     ]
    }
   ],
   "source": [
    "name=\"Roberto\"\n",
    "println(\"My name is $name\")"
   ]
  },
  {
   "cell_type": "code",
   "execution_count": 8,
   "id": "bb2e4465",
   "metadata": {},
   "outputs": [
    {
     "data": {
      "text/plain": [
       "\"Roberto is cool\""
      ]
     },
     "execution_count": 8,
     "metadata": {},
     "output_type": "execute_result"
    }
   ],
   "source": [
    "string1=\"Roberto\"\n",
    "string2=\"is cool\"\n",
    "string(string1,\" \",string2)"
   ]
  },
  {
   "cell_type": "code",
   "execution_count": 9,
   "id": "4483035b",
   "metadata": {},
   "outputs": [
    {
     "data": {
      "text/plain": [
       "\"Roberto is cool\""
      ]
     },
     "execution_count": 9,
     "metadata": {},
     "output_type": "execute_result"
    }
   ],
   "source": [
    "string1*\" \"*string2"
   ]
  },
  {
   "cell_type": "markdown",
   "id": "dd271f25",
   "metadata": {},
   "source": [
    "Data Structure: Arrays, tuples, matrix"
   ]
  },
  {
   "cell_type": "code",
   "execution_count": 10,
   "id": "620662ed",
   "metadata": {},
   "outputs": [
    {
     "data": {
      "text/plain": [
       "(1.2, \"Roberto\", \"is cool\", \"Roberto\", 33.5)"
      ]
     },
     "execution_count": 10,
     "metadata": {},
     "output_type": "execute_result"
    }
   ],
   "source": [
    "tuplas=(1.2,string1,string2,name,33.5)"
   ]
  },
  {
   "cell_type": "code",
   "execution_count": 11,
   "id": "502f45d4",
   "metadata": {},
   "outputs": [
    {
     "data": {
      "text/plain": [
       "Tuple{Float64, String, String, String, Float64}"
      ]
     },
     "execution_count": 11,
     "metadata": {},
     "output_type": "execute_result"
    }
   ],
   "source": [
    "typeof(tuplas)"
   ]
  },
  {
   "cell_type": "code",
   "execution_count": 12,
   "id": "6a5f13d6",
   "metadata": {},
   "outputs": [
    {
     "data": {
      "text/plain": [
       "(1, 2, 3)"
      ]
     },
     "execution_count": 12,
     "metadata": {},
     "output_type": "execute_result"
    }
   ],
   "source": [
    "a,b,c=(1,2,3)"
   ]
  },
  {
   "cell_type": "code",
   "execution_count": 13,
   "id": "c435dbaf",
   "metadata": {},
   "outputs": [
    {
     "data": {
      "text/plain": [
       "1"
      ]
     },
     "execution_count": 13,
     "metadata": {},
     "output_type": "execute_result"
    }
   ],
   "source": [
    "a"
   ]
  },
  {
   "cell_type": "code",
   "execution_count": 16,
   "id": "41658cf7",
   "metadata": {},
   "outputs": [
    {
     "data": {
      "text/plain": [
       "5-element Vector{Int64}:\n",
       " 1\n",
       " 2\n",
       " 3\n",
       " 4\n",
       " 5"
      ]
     },
     "execution_count": 16,
     "metadata": {},
     "output_type": "execute_result"
    }
   ],
   "source": [
    "lista=[1,2,3,4,5]"
   ]
  },
  {
   "cell_type": "code",
   "execution_count": 30,
   "id": "25fcf155",
   "metadata": {},
   "outputs": [
    {
     "data": {
      "text/plain": [
       "2×3 Matrix{Int64}:\n",
       " 1  2  3\n",
       " 3  4  5"
      ]
     },
     "execution_count": 30,
     "metadata": {},
     "output_type": "execute_result"
    }
   ],
   "source": [
    "matriz=[1 2 3; 3 4 5]"
   ]
  },
  {
   "cell_type": "code",
   "execution_count": 31,
   "id": "afac7342",
   "metadata": {},
   "outputs": [
    {
     "data": {
      "text/plain": [
       "2×3 Matrix{Int64}:\n",
       " 4  5  6\n",
       " 9  0  9"
      ]
     },
     "execution_count": 31,
     "metadata": {},
     "output_type": "execute_result"
    }
   ],
   "source": [
    "matriz2=[4 5 6; 9 0 9]"
   ]
  },
  {
   "cell_type": "code",
   "execution_count": 32,
   "id": "06eeefa1",
   "metadata": {},
   "outputs": [
    {
     "data": {
      "text/plain": [
       "2×3 Matrix{Int64}:\n",
       "  5  7   9\n",
       " 12  4  14"
      ]
     },
     "execution_count": 32,
     "metadata": {},
     "output_type": "execute_result"
    }
   ],
   "source": [
    "matriz+matriz2"
   ]
  },
  {
   "cell_type": "code",
   "execution_count": 33,
   "id": "58553093",
   "metadata": {},
   "outputs": [
    {
     "data": {
      "text/plain": [
       "3×3 Matrix{Int64}:\n",
       " 4  5  6\n",
       " 9  0  9\n",
       " 4  5  6"
      ]
     },
     "execution_count": 33,
     "metadata": {},
     "output_type": "execute_result"
    }
   ],
   "source": [
    "matriz3=[4 5 6; 9 0 9; 4 5 6]"
   ]
  },
  {
   "cell_type": "code",
   "execution_count": 34,
   "id": "2bdbd465",
   "metadata": {},
   "outputs": [
    {
     "data": {
      "text/plain": [
       "2×3 Matrix{Int64}:\n",
       " 34  20  42\n",
       " 68  40  84"
      ]
     },
     "execution_count": 34,
     "metadata": {},
     "output_type": "execute_result"
    }
   ],
   "source": [
    "matriz*matriz3"
   ]
  },
  {
   "cell_type": "code",
   "execution_count": 35,
   "id": "7dd335cb",
   "metadata": {},
   "outputs": [
    {
     "data": {
      "text/plain": [
       "6"
      ]
     },
     "execution_count": 35,
     "metadata": {},
     "output_type": "execute_result"
    }
   ],
   "source": [
    "length(matriz)"
   ]
  },
  {
   "cell_type": "code",
   "execution_count": 36,
   "id": "f5466611",
   "metadata": {},
   "outputs": [
    {
     "data": {
      "text/plain": [
       "(2, 3)"
      ]
     },
     "execution_count": 36,
     "metadata": {},
     "output_type": "execute_result"
    }
   ],
   "source": [
    "size(matriz)"
   ]
  },
  {
   "cell_type": "code",
   "execution_count": 38,
   "id": "ad2003fd",
   "metadata": {},
   "outputs": [
    {
     "data": {
      "text/plain": [
       "2"
      ]
     },
     "execution_count": 38,
     "metadata": {},
     "output_type": "execute_result"
    }
   ],
   "source": [
    "ndims(matriz)"
   ]
  },
  {
   "cell_type": "code",
   "execution_count": 39,
   "id": "9bacafbd",
   "metadata": {},
   "outputs": [
    {
     "data": {
      "text/plain": [
       "3-element Vector{Int64}:\n",
       " 1\n",
       " 2\n",
       " 3"
      ]
     },
     "execution_count": 39,
     "metadata": {},
     "output_type": "execute_result"
    }
   ],
   "source": [
    "matriz[1,:]"
   ]
  },
  {
   "cell_type": "code",
   "execution_count": 41,
   "id": "b3726491",
   "metadata": {},
   "outputs": [
    {
     "data": {
      "text/plain": [
       "2×3 Matrix{Int64}:\n",
       " 4  5  6\n",
       " 9  0  9"
      ]
     },
     "execution_count": 41,
     "metadata": {},
     "output_type": "execute_result"
    }
   ],
   "source": [
    "matriz3[1:2,:]"
   ]
  },
  {
   "cell_type": "markdown",
   "id": "be3a0065",
   "metadata": {},
   "source": [
    "dictionaries"
   ]
  },
  {
   "cell_type": "code",
   "execution_count": 43,
   "id": "c9e44c26",
   "metadata": {},
   "outputs": [
    {
     "data": {
      "text/plain": [
       "Dict{String, Int64} with 3 entries:\n",
       "  \"fabiola\" => 1998\n",
       "  \"josema\"  => 2002\n",
       "  \"roberto\" => 1995"
      ]
     },
     "execution_count": 43,
     "metadata": {},
     "output_type": "execute_result"
    }
   ],
   "source": [
    "diccionario=Dict(\"roberto\"=>1995,\"fabiola\"=>1998,\"josema\"=>2002)"
   ]
  },
  {
   "cell_type": "code",
   "execution_count": 45,
   "id": "d0ae7214",
   "metadata": {},
   "outputs": [
    {
     "data": {
      "text/plain": [
       "1995"
      ]
     },
     "execution_count": 45,
     "metadata": {},
     "output_type": "execute_result"
    }
   ],
   "source": [
    "diccionario[\"roberto\"]"
   ]
  },
  {
   "cell_type": "code",
   "execution_count": 46,
   "id": "6b0b0d15",
   "metadata": {},
   "outputs": [
    {
     "data": {
      "text/plain": [
       "1970"
      ]
     },
     "execution_count": 46,
     "metadata": {},
     "output_type": "execute_result"
    }
   ],
   "source": [
    "diccionario[\"esperanza\"]=1970"
   ]
  },
  {
   "cell_type": "code",
   "execution_count": 47,
   "id": "0c8d8dbd",
   "metadata": {},
   "outputs": [
    {
     "data": {
      "text/plain": [
       "1970"
      ]
     },
     "execution_count": 47,
     "metadata": {},
     "output_type": "execute_result"
    }
   ],
   "source": [
    "diccionario[\"esperanza\"]"
   ]
  },
  {
   "cell_type": "code",
   "execution_count": 49,
   "id": "80bd82ba",
   "metadata": {},
   "outputs": [
    {
     "data": {
      "text/plain": [
       "false"
      ]
     },
     "execution_count": 49,
     "metadata": {},
     "output_type": "execute_result"
    }
   ],
   "source": [
    "haskey(diccionario,\"robertomora\")"
   ]
  },
  {
   "cell_type": "markdown",
   "id": "d13e55d7",
   "metadata": {},
   "source": [
    "Flow Control"
   ]
  },
  {
   "cell_type": "code",
   "execution_count": null,
   "id": "8b3e3ed6",
   "metadata": {},
   "outputs": [],
   "source": []
  }
 ],
 "metadata": {
  "kernelspec": {
   "display_name": "Julia 1.9.0",
   "language": "julia",
   "name": "julia-1.9"
  },
  "language_info": {
   "file_extension": ".jl",
   "mimetype": "application/julia",
   "name": "julia",
   "version": "1.9.0"
  }
 },
 "nbformat": 4,
 "nbformat_minor": 5
}
