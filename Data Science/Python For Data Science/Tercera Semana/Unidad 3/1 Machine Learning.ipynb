{
 "cells": [
  {
   "cell_type": "markdown",
   "metadata": {},
   "source": [
    "# ¿Qué es Machine Learning?"
   ]
  },
  {
   "cell_type": "markdown",
   "metadata": {
    "collapsed": true
   },
   "source": [
    "<p style='text-align: justify;'>El área de aprendizaje automático se destaca por su vital importancia dentro de la carrera de un científico de datos. El aprendizaje automático mejor conocido por su término en inglés <b><font color = green>Machine learning</font></b> busca desarrollar software capaz de reconocer patrones dentro de un conjunto de datos, para posteriormente realizar un aprendizaje y por último poder construir un modelo que se adecue al comportamiento de dicho conjunto de datos. </p>"
   ]
  },
  {
   "cell_type": "markdown",
   "metadata": {},
   "source": [
    "# Aprendizaje Supervisado."
   ]
  },
  {
   "cell_type": "markdown",
   "metadata": {},
   "source": [
    "<center><img src=\"img/Ap_Sup.png\" width = \"100%\"></center>"
   ]
  },
  {
   "cell_type": "markdown",
   "metadata": {},
   "source": [
    "### Problemas clásicos del apredizaje supervisado."
   ]
  },
  {
   "cell_type": "markdown",
   "metadata": {},
   "source": [
    "- <b>Regresión</b>: Utilizando un conjunto de datos etiquetados, se genera un modelo que sea capaz de predecir un valor numérico.\n",
    "- <b>Clasificación</b>: Utilizando un conjunto de datos etiquetados, se genera un modelo que sea capaz de predecir la categoría correspondiente."
   ]
  },
  {
   "cell_type": "markdown",
   "metadata": {},
   "source": [
    "# Aprendizaje No Supervisado."
   ]
  },
  {
   "cell_type": "markdown",
   "metadata": {},
   "source": [
    "<center><img src=\"img/Ap_NoSup.png\" width = \"100%\"></center>"
   ]
  },
  {
   "cell_type": "markdown",
   "metadata": {},
   "source": [
    "### Problema clásico del apredizaje no supervisado."
   ]
  },
  {
   "cell_type": "markdown",
   "metadata": {},
   "source": [
    "- <b>Agrupamiento</b>: A partir de un conjunto de datos no etiquetados, se genera un modelo que agrupe a los datos que tengan caracteristicas semejantes entre ellos."
   ]
  },
  {
   "cell_type": "code",
   "execution_count": null,
   "metadata": {
    "collapsed": true
   },
   "outputs": [],
   "source": []
  }
 ],
 "metadata": {
  "kernelspec": {
   "display_name": "Python 3 (ipykernel)",
   "language": "python",
   "name": "python3"
  },
  "language_info": {
   "codemirror_mode": {
    "name": "ipython",
    "version": 3
   },
   "file_extension": ".py",
   "mimetype": "text/x-python",
   "name": "python",
   "nbconvert_exporter": "python",
   "pygments_lexer": "ipython3",
   "version": "3.9.7"
  }
 },
 "nbformat": 4,
 "nbformat_minor": 2
}
