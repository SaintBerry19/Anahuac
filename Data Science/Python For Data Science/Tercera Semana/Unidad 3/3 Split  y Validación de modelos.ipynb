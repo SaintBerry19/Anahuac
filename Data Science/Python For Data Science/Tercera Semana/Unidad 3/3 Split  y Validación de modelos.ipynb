{
 "cells": [
  {
   "cell_type": "markdown",
   "metadata": {},
   "source": [
    "# Obtención y preparación de los datos."
   ]
  },
  {
   "cell_type": "code",
   "execution_count": null,
   "metadata": {},
   "outputs": [],
   "source": [
    "import pandas as pd\n",
    "import numpy as np\n",
    "import matplotlib.pyplot as plt\n",
    "%matplotlib inline\n",
    "import seaborn as sns"
   ]
  },
  {
   "cell_type": "code",
   "execution_count": null,
   "metadata": {},
   "outputs": [],
   "source": [
    "df = pd.read_csv('data/Real_estate.csv')\n",
    "df.head()"
   ]
  },
  {
   "cell_type": "code",
   "execution_count": null,
   "metadata": {},
   "outputs": [],
   "source": [
    "df = df.drop(['No'], axis = 1)\n",
    "df = df.drop(['X1 transaction date'], axis = 1)\n",
    "\n",
    "df.rename(columns = {'X2 house age': 'edad'}, inplace = True)\n",
    "df.rename(columns = {'X3 distance to the nearest MRT station': 'distancia estacion'}, inplace = True)\n",
    "df.rename(columns = {'X4 number of convenience stores': 'tiendas cercanas'}, inplace = True)\n",
    "df.rename(columns = {'X5 latitude': 'latitud'}, inplace = True)\n",
    "df.rename(columns = {'X6 longitude': 'longitud'}, inplace = True)\n",
    "df.rename(columns = {'Y house price of unit area': 'precio'}, inplace = True)\n",
    "\n",
    "df.head()"
   ]
  },
  {
   "cell_type": "code",
   "execution_count": null,
   "metadata": {},
   "outputs": [],
   "source": [
    "X = df['distancia estacion'].values.reshape(-1,1)\n",
    "y = df['precio'].values.reshape(-1,1)"
   ]
  },
  {
   "cell_type": "code",
   "execution_count": null,
   "metadata": {},
   "outputs": [],
   "source": [
    "print(X.shape)"
   ]
  },
  {
   "cell_type": "markdown",
   "metadata": {},
   "source": [
    "# Importando train_test_split\n",
    "https://scikit-learn.org/stable/modules/generated/sklearn.model_selection.train_test_split.html"
   ]
  },
  {
   "cell_type": "code",
   "execution_count": null,
   "metadata": {},
   "outputs": [],
   "source": [
    "from sklearn.model_selection import train_test_split"
   ]
  },
  {
   "cell_type": "code",
   "execution_count": null,
   "metadata": {},
   "outputs": [],
   "source": [
    "X_train, X_test, y_train, y_test = train_test_split(X, y, test_size = 0.20, random_state = 100)"
   ]
  },
  {
   "cell_type": "code",
   "execution_count": null,
   "metadata": {},
   "outputs": [],
   "source": [
    "print(X_train.shape)\n",
    "print(X_test.shape)"
   ]
  },
  {
   "cell_type": "code",
   "execution_count": null,
   "metadata": {},
   "outputs": [],
   "source": [
    "fig = plt.figure()\n",
    "plt.scatter(X, y)\n",
    "plt.show()"
   ]
  },
  {
   "cell_type": "code",
   "execution_count": null,
   "metadata": {
    "scrolled": true
   },
   "outputs": [],
   "source": [
    "fig = plt.figure()\n",
    "plt.scatter(X_train, y_train)\n",
    "plt.scatter(X_test, y_test)\n",
    "plt.show()"
   ]
  },
  {
   "cell_type": "markdown",
   "metadata": {},
   "source": [
    "### Ejemplos Subplot\n",
    "https://matplotlib.org/devdocs/gallery/subplots_axes_and_figures/subplots_demo.html"
   ]
  },
  {
   "cell_type": "code",
   "execution_count": null,
   "metadata": {},
   "outputs": [],
   "source": [
    "fig, (ax1, ax2) = plt.subplots(1,2, figsize = (16,6))\n",
    "ax1.scatter(X_train, y_train, c='blue')\n",
    "ax1.set_title('Train')\n",
    "ax2.scatter(X_test, y_test, c='orange')\n",
    "ax2.set_title('Test');"
   ]
  },
  {
   "cell_type": "markdown",
   "metadata": {},
   "source": [
    "# Visualicemos lo anterior usando una gráfica interactiva."
   ]
  },
  {
   "cell_type": "code",
   "execution_count": null,
   "metadata": {},
   "outputs": [],
   "source": [
    "def split(size = 0.20, state = 100):\n",
    "    X_train, X_test, y_train, y_test = train_test_split(X, y, test_size = size, random_state = state)\n",
    "    fig, (ax1, ax2) = plt.subplots(1,2, figsize = (16,6))\n",
    "    ax1.scatter(X_train, y_train, c='blue')\n",
    "    ax1.set_title('Train')\n",
    "    ax2.scatter(X_test, y_test, c='orange')\n",
    "    ax2.set_title('Test');"
   ]
  },
  {
   "cell_type": "code",
   "execution_count": null,
   "metadata": {},
   "outputs": [],
   "source": [
    "split()"
   ]
  },
  {
   "cell_type": "code",
   "execution_count": null,
   "metadata": {},
   "outputs": [],
   "source": [
    "split(state = 20)"
   ]
  },
  {
   "cell_type": "code",
   "execution_count": null,
   "metadata": {},
   "outputs": [],
   "source": [
    "from ipywidgets import interact, interactive, fixed, interact_manual\n",
    "import ipywidgets as widgets"
   ]
  },
  {
   "cell_type": "code",
   "execution_count": null,
   "metadata": {},
   "outputs": [],
   "source": [
    "interact(split, size = (0.1, 0.5), state = (1, 100));"
   ]
  },
  {
   "cell_type": "markdown",
   "metadata": {},
   "source": [
    "# Probando nuestro modelo de regresión con el split de datos."
   ]
  },
  {
   "cell_type": "code",
   "execution_count": null,
   "metadata": {},
   "outputs": [],
   "source": [
    "from sklearn.linear_model import LinearRegression\n",
    "from sklearn.metrics import r2_score"
   ]
  },
  {
   "cell_type": "code",
   "execution_count": null,
   "metadata": {},
   "outputs": [],
   "source": [
    "X_train, X_test, y_train, y_test = train_test_split(X, y, test_size = 0.30, random_state = 50)"
   ]
  },
  {
   "cell_type": "markdown",
   "metadata": {},
   "source": [
    "### Construyendo el modelo."
   ]
  },
  {
   "cell_type": "code",
   "execution_count": null,
   "metadata": {},
   "outputs": [],
   "source": [
    "model = LinearRegression().fit(X_train, y_train)\n",
    "\n",
    "x_plot = np.linspace(0,7000).reshape(-1, 1)\n",
    "y_plot = model.predict(x_plot)"
   ]
  },
  {
   "cell_type": "markdown",
   "metadata": {},
   "source": [
    "### Probando el modelo con datos conocidos."
   ]
  },
  {
   "cell_type": "code",
   "execution_count": null,
   "metadata": {},
   "outputs": [],
   "source": [
    "# Usando el modelo para realizar predicciones con el conjunto de entrenamiento.\n",
    "y_train_prediccion = model.predict(X_train)\n",
    "\n",
    "fig = plt.figure()\n",
    "plt.axis([0, 7000, 0, 120])\n",
    "plt.scatter(X_train, y_train, c = 'blue', s = 40)\n",
    "plt.scatter(X_train, y_train_prediccion, c = 'orange', s = 60)\n",
    "plt.plot(x_plot, y_plot, \"r--\")\n",
    "plt.show()\n",
    "\n",
    "r2_score(y_train, y_train_prediccion)"
   ]
  },
  {
   "cell_type": "markdown",
   "metadata": {},
   "source": [
    "### Probando el modelo con datos desconocidos."
   ]
  },
  {
   "cell_type": "code",
   "execution_count": null,
   "metadata": {},
   "outputs": [],
   "source": [
    "# Usando el modelo para realizar predicciones con el conjunto de entrenamiento.\n",
    "y_test_prediccion = model.predict(X_test)\n",
    "\n",
    "fig = plt.figure()\n",
    "plt.axis([0, 7000, 0, 120])\n",
    "plt.scatter(X_test, y_test, c = 'blue', s = 40)\n",
    "plt.scatter(X_test, y_test_prediccion, c = 'orange', s = 60)\n",
    "plt.plot(x_plot, y_plot, \"r--\")\n",
    "plt.show()\n",
    "\n",
    "r2_score(y_test, y_test_prediccion)"
   ]
  },
  {
   "cell_type": "markdown",
   "metadata": {},
   "source": [
    "# Validación cruzada.\n",
    "https://scikit-learn.org/stable/modules/generated/sklearn.model_selection.KFold.html#sklearn.model_selection.KFold"
   ]
  },
  {
   "cell_type": "code",
   "execution_count": null,
   "metadata": {},
   "outputs": [],
   "source": [
    "from sklearn.model_selection import KFold"
   ]
  },
  {
   "cell_type": "code",
   "execution_count": null,
   "metadata": {},
   "outputs": [],
   "source": [
    "kfold = KFold(4, shuffle = False)"
   ]
  },
  {
   "cell_type": "code",
   "execution_count": null,
   "metadata": {},
   "outputs": [],
   "source": [
    "for train, test in kfold.split(X):\n",
    "    print(\"Conjunto de Entrenamiento\")\n",
    "    print(train)\n",
    "    print()\n",
    "    print(\"Conjunto de Prueba\")\n",
    "    print(test)\n",
    "    print()\n",
    "    print(\"------------------------------\")\n",
    "    print()"
   ]
  },
  {
   "cell_type": "code",
   "execution_count": null,
   "metadata": {
    "scrolled": false
   },
   "outputs": [],
   "source": [
    "for train, test in kfold.split(X):\n",
    "    \n",
    "    # Datos entrenamiento.\n",
    "    X_train = X[train]\n",
    "    y_train = y[train]\n",
    "    \n",
    "    # Datos prueba.\n",
    "    X_test = X[test]\n",
    "    y_test = y[test]\n",
    "    \n",
    "    # Grafica de los datos.\n",
    "    fig = plt.figure()\n",
    "    plt.scatter(X_train, y_train)\n",
    "    plt.scatter(X_test, y_test)\n",
    "    plt.show()\n",
    "    \n",
    "    print()"
   ]
  },
  {
   "cell_type": "code",
   "execution_count": null,
   "metadata": {
    "scrolled": false
   },
   "outputs": [],
   "source": [
    "divisiones = 4\n",
    "\n",
    "kfold = KFold(divisiones, shuffle = True, random_state= 100)\n",
    "\n",
    "r2_train_avg = 0\n",
    "r2_test_avg = 0\n",
    "\n",
    "for train, test in kfold.split(X):\n",
    "    \n",
    "    # Datos entrenamiento.\n",
    "    X_train = X[train]\n",
    "    y_train = y[train]\n",
    "    \n",
    "    # Datos prueba.\n",
    "    X_test = X[test]\n",
    "    y_test = y[test]\n",
    "    \n",
    "    # Construcción del modelo con los datos de entrenamiento.\n",
    "    model = LinearRegression().fit(X_train, y_train)\n",
    "    \n",
    "    x_plot = np.linspace(0,7000).reshape(-1, 1)\n",
    "    y_plot = model.predict(x_plot)\n",
    "\n",
    "    y_train_prediccion = model.predict(X_train)\n",
    "    y_test_prediccion = model.predict(X_test)\n",
    "    \n",
    "    fig = plt.figure()\n",
    "    plt.scatter(X_train, y_train, label = 'Entrenamiento')\n",
    "    plt.scatter(X_test, y_test, label = 'Prueba')\n",
    "    plt.legend()\n",
    "    plt.plot(x_plot, y_plot, \"r--\")\n",
    "    plt.show()\n",
    "\n",
    "    r2_train = r2_score(y_train, y_train_prediccion)\n",
    "    r2_test = r2_score(y_test, y_test_prediccion)\n",
    "    \n",
    "    r2_train_avg = r2_train_avg + r2_train\n",
    "    r2_test_avg = r2_test_avg + r2_test\n",
    "    \n",
    "    print(r2_train)\n",
    "    print(r2_test)\n",
    "    print()\n",
    "    print(\"-------------------------------------------------------------\")\n",
    "    print()\n",
    "    \n",
    "print(r2_train_avg / divisiones)\n",
    "print(r2_test_avg / divisiones)"
   ]
  }
 ],
 "metadata": {
  "kernelspec": {
   "display_name": "Python 3 (ipykernel)",
   "language": "python",
   "name": "python3"
  },
  "language_info": {
   "codemirror_mode": {
    "name": "ipython",
    "version": 3
   },
   "file_extension": ".py",
   "mimetype": "text/x-python",
   "name": "python",
   "nbconvert_exporter": "python",
   "pygments_lexer": "ipython3",
   "version": "3.9.7"
  }
 },
 "nbformat": 4,
 "nbformat_minor": 2
}
