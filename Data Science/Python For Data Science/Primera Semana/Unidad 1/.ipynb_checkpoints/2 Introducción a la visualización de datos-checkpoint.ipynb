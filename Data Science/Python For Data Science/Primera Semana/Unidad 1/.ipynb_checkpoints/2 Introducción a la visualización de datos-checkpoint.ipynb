{
 "cells": [
  {
   "cell_type": "markdown",
   "metadata": {},
   "source": [
    "<center><img src=\"img/Matplotlib.SVG\" width = \"40%\"></center>\n",
    "<br> https://matplotlib.org/"
   ]
  },
  {
   "cell_type": "markdown",
   "metadata": {},
   "source": [
    "# Importando las librerías a nuestra libreta.\n",
    "Al trabajar con nuestras libretas tenemos dos opciones:\n",
    "<br> <b>%matplotlib inline</b> --> Permite mostrar imágenes estáticas en nuestras libretas.\n",
    "<br> <b>%matplotlib notebook</b> --> Permite mostrar gráficas interactivas en nuestras libretas."
   ]
  },
  {
   "cell_type": "code",
   "execution_count": null,
   "metadata": {},
   "outputs": [],
   "source": [
    "import matplotlib.pyplot as plt\n",
    "%matplotlib inline"
   ]
  },
  {
   "cell_type": "markdown",
   "metadata": {},
   "source": [
    "<center><img src=\"img/Numpy.png\" width = \"40%\"></center>\n",
    "<br> https://numpy.org/"
   ]
  },
  {
   "cell_type": "code",
   "execution_count": null,
   "metadata": {},
   "outputs": [],
   "source": [
    "import numpy as np"
   ]
  },
  {
   "cell_type": "markdown",
   "metadata": {},
   "source": [
    "### Tutorial de Python:\n",
    "https://docs.python.org/3/tutorial/\n",
    "\n",
    "### Tutorial oficial de Matplolib:\n",
    "https://matplotlib.org/stable/tutorials/introductory/pyplot.html\n",
    "\n",
    "### Tutorial básico de Numpy:\n",
    "https://docs.scipy.org/doc/numpy/user/quickstart.html"
   ]
  },
  {
   "cell_type": "markdown",
   "metadata": {},
   "source": [
    "# Creando los datos para nuestra primera gráfica."
   ]
  },
  {
   "cell_type": "code",
   "execution_count": null,
   "metadata": {},
   "outputs": [],
   "source": [
    "x = np.linspace(0, 10, 100)\n",
    "print(x)"
   ]
  },
  {
   "cell_type": "code",
   "execution_count": null,
   "metadata": {},
   "outputs": [],
   "source": [
    "print(x.size)"
   ]
  },
  {
   "cell_type": "code",
   "execution_count": null,
   "metadata": {},
   "outputs": [],
   "source": [
    "print(x[0])\n",
    "print(x[1])\n",
    "print(x[2])"
   ]
  },
  {
   "cell_type": "code",
   "execution_count": null,
   "metadata": {},
   "outputs": [],
   "source": [
    "y1 = np.sin(x)\n",
    "print(y1)"
   ]
  },
  {
   "cell_type": "code",
   "execution_count": null,
   "metadata": {},
   "outputs": [],
   "source": [
    "print(y1[0])\n",
    "print(y1[1])\n",
    "print(y1[2])"
   ]
  },
  {
   "cell_type": "markdown",
   "metadata": {},
   "source": [
    "<br>$ \\sin(x) = y $\n",
    "<br>$ \\sin(0.0) = 0.0 $\n",
    "<br>$ \\sin(0.01001001001001001) = 0.010009842843179184 $\n",
    "<br>$ \\sin(0.02002002002002002) = 0.020018682705473478 $\n",
    "<br>$ \\vdots $"
   ]
  },
  {
   "cell_type": "code",
   "execution_count": null,
   "metadata": {},
   "outputs": [],
   "source": [
    "fig = plt.figure()\n",
    "plt.plot(x, y1)\n",
    "plt.show()"
   ]
  },
  {
   "cell_type": "markdown",
   "metadata": {},
   "source": [
    "# Modificando nuestra gráfica.\n",
    "<center><img src=\"img/Matplotlib_parameters.png\" width = \"80%\"></center>\n",
    "<br> https://matplotlib.org/3.1.1/api/_as_gen/matplotlib.pyplot.plot.html"
   ]
  },
  {
   "cell_type": "code",
   "execution_count": null,
   "metadata": {},
   "outputs": [],
   "source": [
    "fig = plt.figure()\n",
    "plt.plot(x, y1, marker = \">\", color = \"m\")\n",
    "plt.show()"
   ]
  },
  {
   "cell_type": "code",
   "execution_count": null,
   "metadata": {},
   "outputs": [],
   "source": [
    "fig = plt.figure()\n",
    "plt.plot(x, y1, marker = \">\", color = \"m\", markersize = 10)\n",
    "plt.show()"
   ]
  },
  {
   "cell_type": "markdown",
   "metadata": {},
   "source": [
    "# Agregando más datos a nuestra gráfica."
   ]
  },
  {
   "cell_type": "code",
   "execution_count": null,
   "metadata": {},
   "outputs": [],
   "source": [
    "print(x)"
   ]
  },
  {
   "cell_type": "code",
   "execution_count": null,
   "metadata": {},
   "outputs": [],
   "source": [
    "print(y1)"
   ]
  },
  {
   "cell_type": "code",
   "execution_count": null,
   "metadata": {},
   "outputs": [],
   "source": [
    "y2 = np.cos(x)\n",
    "print(y2)"
   ]
  },
  {
   "cell_type": "code",
   "execution_count": null,
   "metadata": {},
   "outputs": [],
   "source": [
    "fig = plt.figure()\n",
    "plt.plot(x, y1)\n",
    "plt.plot(x, y2)\n",
    "plt.show()"
   ]
  },
  {
   "cell_type": "code",
   "execution_count": null,
   "metadata": {},
   "outputs": [],
   "source": [
    "fig = plt.figure()\n",
    "plt.plot(x, y1, color = \"green\", marker = \">\", label = \"Sin(x)\")\n",
    "plt.plot(x, y2, color = \"orange\", marker = \"+\", label = \"Cos(x)\")\n",
    "plt.legend()\n",
    "plt.show()"
   ]
  },
  {
   "cell_type": "markdown",
   "metadata": {},
   "source": [
    "# Creando una imagen que contenga multíples gráficas.\n",
    "plt.subplot(<b>Filas, Columnas, Número_panel</b>)"
   ]
  },
  {
   "cell_type": "code",
   "execution_count": null,
   "metadata": {},
   "outputs": [],
   "source": [
    "fig = plt.figure()\n",
    "\n",
    "# Creación del primer panel de la gráfica.\n",
    "plt.subplot(2, 1, 1)\n",
    "plt.plot(x, y1)\n",
    "\n",
    "# Creación del segundo panel de la gráfica.\n",
    "plt.subplot(2, 1, 2)\n",
    "plt.plot(x, y2)\n",
    "\n",
    "# Mostrar la gráfica\n",
    "plt.show()"
   ]
  },
  {
   "cell_type": "code",
   "execution_count": null,
   "metadata": {},
   "outputs": [],
   "source": [
    "fig = plt.figure()\n",
    "\n",
    "# Creación del primer panel de la gráfica.\n",
    "plt.subplot(2, 1, 1)\n",
    "plt.plot(x, y1, color = \"orange\")\n",
    "plt.grid(True) # Muestra la cuadricula.\n",
    "plt.axis([-1, 11, -2, 2]) # Ajustamos los ejes.\n",
    "plt.title('Sen(x)') # Muestra el título.\n",
    "\n",
    "# Creación del segundo panel de la gráfica.\n",
    "plt.subplot(2, 1, 2)\n",
    "plt.plot(x, y2, label = \"Cos(x)\") # Se le asigno a la gráfica una leyenda.\n",
    "plt.legend() # Mostramos la leyenda.\n",
    "plt.title('Cos(x)')\n",
    "\n",
    "# Mostrar la gráfica\n",
    "plt.show()"
   ]
  },
  {
   "cell_type": "code",
   "execution_count": null,
   "metadata": {},
   "outputs": [],
   "source": [
    "# Asignación manual de tamaño de la imagen.\n",
    "fig = plt.figure(figsize=(9, 12))\n",
    "\n",
    "# Creación del primer panel de la gráfica.\n",
    "plt.subplot(2, 1, 1)\n",
    "plt.plot(x, y1, color = \"orange\")\n",
    "plt.grid(True) \n",
    "plt.axis([-1, 11, -2, 2]) \n",
    "plt.title('Sen(x)') \n",
    "\n",
    "# Creación del segundo panel de la gráfica.\n",
    "plt.subplot(2, 1, 2)\n",
    "plt.plot(x, y2, label = \"Cos(x)\") # Se le asigno a la gráfica una leyenda.\n",
    "plt.legend() # Mostramos la leyenda.\n",
    "plt.title('Cos(x)')\n",
    "\n",
    "# Ajustes de los margenes entre los paneles.\n",
    "plt.subplots_adjust(hspace = 0.5)\n",
    "\n",
    "# Mostrar la gráfica\n",
    "plt.show()"
   ]
  },
  {
   "cell_type": "markdown",
   "metadata": {},
   "source": [
    "# Construyendo una gráfica en tres dimensiones."
   ]
  },
  {
   "cell_type": "code",
   "execution_count": null,
   "metadata": {},
   "outputs": [],
   "source": [
    "from mpl_toolkits.mplot3d import Axes3D"
   ]
  },
  {
   "cell_type": "code",
   "execution_count": null,
   "metadata": {},
   "outputs": [],
   "source": [
    "fig = plt.figure()\n",
    "ax = plt.axes(projection = '3d')\n",
    "plt.show()"
   ]
  },
  {
   "cell_type": "markdown",
   "metadata": {},
   "source": [
    "<b> Vamos a construir la gráfica de una hélice </b>\n",
    "<br> <center><img src=\"img/helice.gif\" width = \"20%\"></center>\n",
    "<br> Animación original tomada de: https://es.wikipedia.org/wiki/H%C3%A9lice_(geometr%C3%ADa)"
   ]
  },
  {
   "cell_type": "code",
   "execution_count": null,
   "metadata": {},
   "outputs": [],
   "source": [
    "fig = plt.figure(figsize=(10, 10))\n",
    "ax = plt.axes(projection = '3d')\n",
    "\n",
    "z = np.linspace(0, 20, 1000)\n",
    "x = np.sin(z)\n",
    "y = np.cos(z)\n",
    "\n",
    "ax.plot3D(x, y, z)\n",
    "\n",
    "ax.set_xlabel(\"Eje x\")\n",
    "ax.set_ylabel(\"Eje y\")\n",
    "ax.set_zlabel(\"Eje z\")\n",
    "\n",
    "plt.show()"
   ]
  },
  {
   "cell_type": "code",
   "execution_count": null,
   "metadata": {},
   "outputs": [],
   "source": [
    "import matplotlib.pyplot as plt\n",
    "%matplotlib notebook"
   ]
  },
  {
   "cell_type": "code",
   "execution_count": null,
   "metadata": {},
   "outputs": [],
   "source": [
    "fig = plt.figure(figsize=(10, 10))\n",
    "ax = plt.axes(projection = '3d')\n",
    "\n",
    "z = np.linspace(0, 20, 1000)\n",
    "x = np.sin(z)\n",
    "y = np.cos(z)\n",
    "\n",
    "ax.plot3D(x, y, z)\n",
    "\n",
    "ax.set_xlabel(\"Eje x\")\n",
    "ax.set_ylabel(\"Eje y\")\n",
    "ax.set_zlabel(\"Eje z\")\n",
    "\n",
    "plt.show()"
   ]
  },
  {
   "cell_type": "markdown",
   "metadata": {},
   "source": [
    "# Otras alternativas de graficación."
   ]
  },
  {
   "cell_type": "markdown",
   "metadata": {},
   "source": [
    "## Gráficas de dispersión:\n",
    "https://matplotlib.org/stable/api/_as_gen/matplotlib.pyplot.scatter.html\n",
    "## Histogramas:\n",
    "https://matplotlib.org/stable/api/_as_gen/matplotlib.pyplot.hist.html\n",
    "## Mapas de calor:\n",
    "https://matplotlib.org/stable/gallery/images_contours_and_fields/image_annotated_heatmap.html\n",
    "## Gráficas de caja:\n",
    "https://matplotlib.org/stable/api/_as_gen/matplotlib.pyplot.boxplot.html\n",
    "## Galería con ejemplos:\n",
    "https://matplotlib.org/stable/gallery/index.html"
   ]
  },
  {
   "cell_type": "code",
   "execution_count": null,
   "metadata": {},
   "outputs": [],
   "source": []
  }
 ],
 "metadata": {
  "kernelspec": {
   "display_name": "Python 3 (ipykernel)",
   "language": "python",
   "name": "python3"
  },
  "language_info": {
   "codemirror_mode": {
    "name": "ipython",
    "version": 3
   },
   "file_extension": ".py",
   "mimetype": "text/x-python",
   "name": "python",
   "nbconvert_exporter": "python",
   "pygments_lexer": "ipython3",
   "version": "3.10.11"
  }
 },
 "nbformat": 4,
 "nbformat_minor": 2
}
