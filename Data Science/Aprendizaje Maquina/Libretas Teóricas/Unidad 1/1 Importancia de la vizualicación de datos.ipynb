{
 "cells": [
  {
   "cell_type": "markdown",
   "metadata": {},
   "source": [
    "<p style='text-align: justify;'>El poder representar correctamente grandes cantidades de información se ha convertido en uno de los principales retos a los que se enfrentan los científicos de datos. Para procesos estructurados como ventas, encuestas con respuestas numéricas o procesos que manejen variables cuantitativas los gráficos tradicionales como gráficas de barras, gráficas de pastel, histogramas suelen ser un medio eficaz para visualizar la información.</p> \n",
    "<p style='text-align: justify;'>Desafortunadamente el crear un gráfico simple no siempre es suficiente para poder representar correctamente toda la información, debido a que nuestra información puede tener un tamaño enorme o que es posible que existan múltiples relaciones entre las variables o que los datos con los que se trabaja no están estructurados. En estas situaciones es necesario utilizar otro tipo de gráficos como: Mapas de calor, diagramas de dispersión, gráficos relacionales entre otros.</p>"
   ]
  },
  {
   "cell_type": "markdown",
   "metadata": {},
   "source": [
    "¿Qué ventajas puedo obtener de visualizar correctamente los datos de mi proceso?\n",
    "- Mejorar el proceso de toma de decisiones.\n",
    "- Reducir el tiempo y el costo que se utiliza para analizar la información.\n",
    "- Identificar el comportamiento de los datos y su tendencia.\n",
    "- Predecir el comportamiento futuro de los procesos.\n",
    "- Compartir de una forma más eficiente la información."
   ]
  },
  {
   "cell_type": "markdown",
   "metadata": {},
   "source": [
    "<center><img src=\"img/Graph.jpeg\" width = \"100%\"></center>"
   ]
  },
  {
   "cell_type": "markdown",
   "metadata": {},
   "source": [
    "### Cinco principios fundamentales para la correcta presentación de datos"
   ]
  },
  {
   "cell_type": "markdown",
   "metadata": {},
   "source": [
    "1) Simplificar los datos y presentar solamente la información y variables adecuadas.\n",
    "\n",
    "2) Intentar resumir toda la información en pocas imágenes con la finalidad de poder comparar fácilmente los datos y evitar errores relacionados con la memoria.\n",
    "\n",
    "3) Elegir la mejor manera de como poder representar la información para captar mejor la atención de los interesados.\n",
    "\n",
    "4) Presentar los mismos datos utilizando diversas representaciones pueden ayudar a los investigadores a generar nuevas conclusiones.\n",
    "\n",
    "5) La representación de los datos seleccionada debe siempre ser simple y debe tener una fácil interpretación."
   ]
  },
  {
   "cell_type": "code",
   "execution_count": null,
   "metadata": {},
   "outputs": [],
   "source": []
  }
 ],
 "metadata": {
  "kernelspec": {
   "display_name": "Python 3 (ipykernel)",
   "language": "python",
   "name": "python3"
  },
  "language_info": {
   "codemirror_mode": {
    "name": "ipython",
    "version": 3
   },
   "file_extension": ".py",
   "mimetype": "text/x-python",
   "name": "python",
   "nbconvert_exporter": "python",
   "pygments_lexer": "ipython3",
   "version": "3.9.7"
  }
 },
 "nbformat": 4,
 "nbformat_minor": 2
}
