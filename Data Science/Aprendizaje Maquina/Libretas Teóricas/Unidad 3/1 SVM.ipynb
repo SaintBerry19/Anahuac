{
 "cells": [
  {
   "cell_type": "markdown",
   "metadata": {
    "collapsed": true
   },
   "source": [
    "# Máquina de Soporte Vectorial"
   ]
  },
  {
   "cell_type": "markdown",
   "metadata": {},
   "source": [
    "<p style='text-align: justify;'>Una máquina de soporte vectorial es un algoritmo de aprendizaje que usualmente se emplea para la clasificación de datos o para la regresión. Este algoritmo recibe un conjunto de datos como los mostrados en la siguiente imagen.</p>"
   ]
  },
  {
   "cell_type": "markdown",
   "metadata": {},
   "source": [
    "<center><img src=\"img/SVR1.png\" width = \"60%\"></center>"
   ]
  },
  {
   "cell_type": "markdown",
   "metadata": {},
   "source": [
    "<p style='text-align: justify;'>Y busca construir un espacio que separe de la mejor manera posible a las diferentes categorías de datos, en nuestro ejemplo a continuación este espacio esta visualizado con una línea recta. Pero no siempre se puede encontrar una línea recta capaz de adaptarse a nuestros datos, la generalización que nos servirá para separar nuestros datos es conocido como Hiperplano.</p>"
   ]
  },
  {
   "cell_type": "markdown",
   "metadata": {},
   "source": [
    "<center><img src=\"img/SVR2.png\" width = \"60%\"></center>"
   ]
  },
  {
   "cell_type": "markdown",
   "metadata": {},
   "source": [
    "<p style='text-align: justify;'>El objetivo de nuestra máquina de soporte vectorial es el de construir un hiperplano que se adapte de la manera más efectiva posible a nuestros datos intentando maximiar el margen de separación entre las clases de datos obtenidas. Y también se busca que existan la menor cantidad de elementos atipicos fuera de los margenes.</p>"
   ]
  },
  {
   "cell_type": "markdown",
   "metadata": {},
   "source": [
    "<center><img src=\"img/SVR3.png\" width = \"60%\"></center>"
   ]
  },
  {
   "cell_type": "markdown",
   "metadata": {},
   "source": [
    "<center><img src=\"img/SVR4.png\" width = \"60%\"></center>"
   ]
  }
 ],
 "metadata": {
  "kernelspec": {
   "display_name": "Python 3",
   "language": "python",
   "name": "python3"
  },
  "language_info": {
   "codemirror_mode": {
    "name": "ipython",
    "version": 3
   },
   "file_extension": ".py",
   "mimetype": "text/x-python",
   "name": "python",
   "nbconvert_exporter": "python",
   "pygments_lexer": "ipython3",
   "version": "3.6.2"
  }
 },
 "nbformat": 4,
 "nbformat_minor": 2
}
