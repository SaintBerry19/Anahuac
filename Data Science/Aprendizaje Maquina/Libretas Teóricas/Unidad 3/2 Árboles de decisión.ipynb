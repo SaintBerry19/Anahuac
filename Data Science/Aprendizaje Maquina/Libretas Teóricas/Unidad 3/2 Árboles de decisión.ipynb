{
 "cells": [
  {
   "cell_type": "markdown",
   "metadata": {},
   "source": [
    "# ¿Qué son los árboles de decisión?"
   ]
  },
  {
   "cell_type": "markdown",
   "metadata": {},
   "source": [
    "<p style='text-align: justify;'>Los árboles de decisión son representaciones esquemáticas de las diferentes alternativas que podemos obtener en nuestro proceso. Estos modelos se construyen a través de diferentes procesos que analizan nuestros datos.</p>"
   ]
  },
  {
   "cell_type": "markdown",
   "metadata": {
    "collapsed": true
   },
   "source": [
    "<center><img src=\"img/ArbReg1.png\" width = \"60%\"></center>"
   ]
  },
  {
   "cell_type": "markdown",
   "metadata": {},
   "source": [
    "<p style='text-align: justify;'>En la imagen era muy sencillo observar que los datos están agrupados en cuatro conjuntos muy característicos, que pueden ser delimitados como se muestra a continuación.</p>"
   ]
  },
  {
   "cell_type": "markdown",
   "metadata": {
    "collapsed": true
   },
   "source": [
    "<center><img src=\"img/ArbReg2.png\" width = \"60%\"></center>"
   ]
  },
  {
   "cell_type": "markdown",
   "metadata": {},
   "source": [
    "<p style='text-align: justify;'></p>"
   ]
  },
  {
   "cell_type": "markdown",
   "metadata": {},
   "source": [
    "<p style='text-align: justify;'>Las características identificadas con anterioridad, son un excelente punto de partida para empezar a tomar decisiones y generar reglas que nos permitirán categorizar nuestros datos como se muestra en el siguiente diagrama (<b>árbol</b>).</p>"
   ]
  },
  {
   "cell_type": "markdown",
   "metadata": {
    "collapsed": true
   },
   "source": [
    "<center><img src=\"img/ArbReg4.png\" width = \"60%\"></center>"
   ]
  },
  {
   "cell_type": "markdown",
   "metadata": {},
   "source": [
    "<p style='text-align: justify;'>Incluso nuestro árbol puede ser utilizado para saber qué valor aproximado devolverá mi proceso cuando se enfrenta a una situación nueva (<b>problema de regresión</b>) o en que categoría es más conveniente incluir a un nuevo dato (<b>problema de clasificación</b>). </p>"
   ]
  },
  {
   "cell_type": "markdown",
   "metadata": {
    "collapsed": true
   },
   "source": [
    "<center><img src=\"img/ArbReg5.png\" width = \"60%\"></center>"
   ]
  },
  {
   "cell_type": "markdown",
   "metadata": {
    "collapsed": true
   },
   "source": [
    "<center><img src=\"img/ArbReg6.png\" width = \"60%\"></center>"
   ]
  },
  {
   "cell_type": "code",
   "execution_count": null,
   "metadata": {
    "collapsed": true
   },
   "outputs": [],
   "source": []
  }
 ],
 "metadata": {
  "kernelspec": {
   "display_name": "Python 3",
   "language": "python",
   "name": "python3"
  },
  "language_info": {
   "codemirror_mode": {
    "name": "ipython",
    "version": 3
   },
   "file_extension": ".py",
   "mimetype": "text/x-python",
   "name": "python",
   "nbconvert_exporter": "python",
   "pygments_lexer": "ipython3",
   "version": "3.6.2"
  }
 },
 "nbformat": 4,
 "nbformat_minor": 2
}
