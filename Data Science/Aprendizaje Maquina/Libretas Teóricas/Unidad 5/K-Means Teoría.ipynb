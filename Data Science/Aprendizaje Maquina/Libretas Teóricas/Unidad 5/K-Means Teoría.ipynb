{
 "cells": [
  {
   "cell_type": "markdown",
   "metadata": {},
   "source": [
    "<p style='text-align: justify;'>El <b>clustering</b> es una técnica que busca identificar de manera automática diferentes agrupaciones (clústeres) de elementos dependiendo de la similitud que exista entre ellos. El objetivo fundamental de las técnicas de clustering es la de identificar diversos grupos donde la similitud entre los miembros del mismo grupo sea alta y la similitud con los miembros de otros grupos sea baja.</p> "
   ]
  },
  {
   "cell_type": "markdown",
   "metadata": {},
   "source": [
    "# K-Means"
   ]
  },
  {
   "cell_type": "markdown",
   "metadata": {},
   "source": [
    "<p style='text-align: justify;'>El algoritmo de K-Means es un algoritmo de Clustering basado en Centroides que agrupa diversos elementos en k grupos basándose en la similitud de las características de los elementos. El agrupamiento se realiza a través de un proceso iterativo donde en cada una de sus repeticiones se pretende minimizar la suma del cuadrado de las distancias entre cada uno de los objetos y el centroide de su grupo o clúster. El algoritmo consta de tres pasos:</p>\n",
    "\n",
    "1) Asignación inicial de los centroides. \n",
    "\n",
    "2) Creación de los conjuntos tomando en cuenta que elementos están más cerca a cada centroide.\n",
    "\n",
    "3) Actualización de los centroides.\n",
    "\n",
    "<p style='text-align: justify;'>Los pasos 2 y 3 se repetirán hasta que los centroides no se muevan o que se muevan debajo de un umbral definido por el investigador. Incluso es posible parar el procedimiento definiendo desde el principio un número máximo de repeticiones.</p>"
   ]
  },
  {
   "cell_type": "markdown",
   "metadata": {},
   "source": [
    "### Ejemplo Visual"
   ]
  },
  {
   "cell_type": "markdown",
   "metadata": {},
   "source": [
    "Al prinicipio iniciamos con una distribución de datos que aún no se intenta agrupar."
   ]
  },
  {
   "cell_type": "markdown",
   "metadata": {},
   "source": [
    "<center><img src=\"img/kmeans1.png\" width = \"80%\"></center>"
   ]
  },
  {
   "cell_type": "markdown",
   "metadata": {},
   "source": [
    "Se proponen unos puntos iniciales (usualmente de forma aleatoria) conocidos como centroides y los elementos que estén más cerca de cada uno de los centroides formaran parte de cada uno de los Clusters."
   ]
  },
  {
   "cell_type": "markdown",
   "metadata": {},
   "source": [
    "<center><img src=\"img/kmeans2.png\" width = \"80%\"></center>"
   ]
  },
  {
   "cell_type": "markdown",
   "metadata": {},
   "source": [
    "A medida de que el algoritmo se ejecuta, los centroides se empiezan a mover hacia nuevas regiones."
   ]
  },
  {
   "cell_type": "markdown",
   "metadata": {},
   "source": [
    "<center><img src=\"img/kmeans3.png\" width = \"80%\"></center>"
   ]
  },
  {
   "cell_type": "markdown",
   "metadata": {},
   "source": [
    "Posterior a cualquier movimiento es necesario volver a clasificar a los puntos más cercanos como elementos de cada uno de los clusters."
   ]
  },
  {
   "cell_type": "markdown",
   "metadata": {},
   "source": [
    "<center><img src=\"img/kmeans4.png\" width = \"80%\"></center>"
   ]
  },
  {
   "cell_type": "markdown",
   "metadata": {},
   "source": [
    "Este proceso continua de forma iterativa mientras se cumpla con su condición de repetición."
   ]
  },
  {
   "cell_type": "markdown",
   "metadata": {},
   "source": [
    "<center><img src=\"img/kmeans5.png\" width = \"80%\"></center>"
   ]
  },
  {
   "cell_type": "markdown",
   "metadata": {},
   "source": [
    "Una vez que se termine el proceso, los datos quedarán agrupados con respecto al centroide más cercano."
   ]
  },
  {
   "cell_type": "markdown",
   "metadata": {},
   "source": [
    "<center><img src=\"img/kmeans6.png\" width = \"80%\"></center>"
   ]
  },
  {
   "cell_type": "markdown",
   "metadata": {},
   "source": [
    "<center><img src=\"img/kmeans7.png\" width = \"80%\"></center>"
   ]
  },
  {
   "cell_type": "code",
   "execution_count": null,
   "metadata": {
    "collapsed": true
   },
   "outputs": [],
   "source": []
  }
 ],
 "metadata": {
  "kernelspec": {
   "display_name": "Python 3",
   "language": "python",
   "name": "python3"
  },
  "language_info": {
   "codemirror_mode": {
    "name": "ipython",
    "version": 3
   },
   "file_extension": ".py",
   "mimetype": "text/x-python",
   "name": "python",
   "nbconvert_exporter": "python",
   "pygments_lexer": "ipython3",
   "version": "3.6.2"
  }
 },
 "nbformat": 4,
 "nbformat_minor": 2
}
