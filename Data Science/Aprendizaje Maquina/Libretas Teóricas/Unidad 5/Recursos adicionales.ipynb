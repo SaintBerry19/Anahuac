{
 "cells": [
  {
   "cell_type": "markdown",
   "metadata": {},
   "source": [
    "# Scikit-learn"
   ]
  },
  {
   "cell_type": "markdown",
   "metadata": {},
   "source": [
    "<center><img src=\"img/scikit.png\" width = \"40%\"></center>"
   ]
  },
  {
   "cell_type": "markdown",
   "metadata": {},
   "source": [
    "<p style='text-align: justify;'>Es una librería de Python útil para Machine Learning y Análisis de datos. Está basada en NumPy, SciPy y Mathplotlib y permite implementar fácilmente una gran cantidad de técnicas de aprendizaje automático, aprendizaje supervisado y aprendizaje no supervisado, logrando resolver problemas de clasificación y regresión. </p>"
   ]
  },
  {
   "cell_type": "markdown",
   "metadata": {},
   "source": [
    "<p style='text-align: justify;'>Como aprendimos anteriormente, esta paquetería es muy fácil de usar gracias a su interfaz simple y consistente, esto lo logramos percibir cuando podemos cambiar de técnica de machine learning cambiando una sola línea de código. Aunado a las ventajas ya mencionadas, los valores de hiper-parámetros tienen valores default adecuados para la mayoría de los casos.</p>"
   ]
  },
  {
   "cell_type": "markdown",
   "metadata": {},
   "source": [
    "<p style='text-align: justify;'>Estas son algunas de las técnicas de aprendizaje automático que podemos usar con scikit-learn:</p>"
   ]
  },
  {
   "cell_type": "markdown",
   "metadata": {},
   "source": [
    "- Regresión lineal y polinomial.\n",
    "- Regresión logística.\n",
    "- Máquinas de vectores de soporte.\n",
    "- Árboles de decisión.\n",
    "- Bosques aleatorios (random forests).\n",
    "- Agrupamiento (clustering).\n",
    "- Modelos basados en instancias.\n",
    "- Clasificadores bayesianos.\n",
    "- Reducción de dimensionalidad."
   ]
  },
  {
   "cell_type": "markdown",
   "metadata": {},
   "source": [
    "# TensorFlow"
   ]
  },
  {
   "cell_type": "markdown",
   "metadata": {},
   "source": [
    "<center><img src=\"img/Tensor.png\" width = \"40%\"></center>"
   ]
  },
  {
   "cell_type": "markdown",
   "metadata": {},
   "source": [
    "<p style='text-align: justify;'>TensorFlow es una librería de Python, desarrollada por Google para Deep Learning y aplicaciones de cálculos científicos con el propósito de realizar cálculos numéricos mediante diagramas de flujo de datos, esto quiere decir que en lugar de codificar un programa, codificaremos un grafo. Cada nodo del diagrama representara una operación matemática y cada arista representaran a los tensores (arreglos de datos multidimensionales).</p>"
   ]
  },
  {
   "cell_type": "markdown",
   "metadata": {},
   "source": [
    "# Keras"
   ]
  },
  {
   "cell_type": "markdown",
   "metadata": {},
   "source": [
    "<center><img src=\"img/Keras.png\" width = \"40%\"></center>"
   ]
  },
  {
   "cell_type": "markdown",
   "metadata": {},
   "source": [
    "<p style='text-align: justify;'>Keras es una paquetería de Deep Learning que proporciona una interfaz de alto nivel de TensorFlow. Es utilizada para la creación y entrenamiento de modelos de manera rápida para prototipos, en el campo de la investigacion y en el ámbito de producción.</p>"
   ]
  },
  {
   "cell_type": "markdown",
   "metadata": {},
   "source": [
    "<p style='text-align: justify;'>Esta librería es muy amigable ya que tiene una interfaz simple optimizada para casos de uso común, además nos proporciona información clara acerca de los errores cometidos por el usuario. También, presenta una estructura modular ya que los modelos se fabrican conectando \"bloques\" de construcción configurables entre sí y dada esta estructura, tenemos una facilidad grande de extender nuestro programa para probar diferentes ideas de investigación o prototipos. </p>"
   ]
  },
  {
   "cell_type": "markdown",
   "metadata": {},
   "source": [
    "# spaCy"
   ]
  },
  {
   "cell_type": "markdown",
   "metadata": {},
   "source": [
    "<center><img src=\"img/Spacy.png\" width = \"40%\"></center>"
   ]
  },
  {
   "cell_type": "markdown",
   "metadata": {},
   "source": [
    "<p style='text-align: justify;'>Es una biblioteca de procesamiento de lenguaje natural que está diseñada específicamente con el objetivo de permitir implementar sistemas listos para producción, es decir fue diseñado para ayudarnos a crear productos reales u obtener información real. Es muy rápido e intuitivo y actualmente es uno de los competidores superiores para las tareas de procesamiento de lenguaje natural. </p>"
   ]
  },
  {
   "cell_type": "markdown",
   "metadata": {},
   "source": [
    "<p style='text-align: justify;'>spaCy ya cuenta con modelos estadísticos pre-entrenados y vectores de palabras, trabaja con mas de 49 idiomas y cuenta con modelos de redes neuronales para el etiquetado, análisis y reconocimiento de entidades nombradas. </p>"
   ]
  },
  {
   "cell_type": "markdown",
   "metadata": {},
   "source": [
    "# Tweepy"
   ]
  },
  {
   "cell_type": "markdown",
   "metadata": {},
   "source": [
    "<center><img src=\"img/tweepy.png\" width = \"80%\"></center>"
   ]
  },
  {
   "cell_type": "markdown",
   "metadata": {},
   "source": [
    "<p style='text-align: justify;'>Tweepy es una librería que nos permite conectarnos al API (Interfaz de Programación de Aplicaciones) de Twitter de manera sencilla mediante Python. La principal ventaja de utilizar esta librería es que podemos actualizar estados, realizar conteos de likes y retweets, enviar mensajes directos a otros usuarios y extraer información valiosa de tweets permitiendo analizar tendencias y modas. </p>"
   ]
  }
 ],
 "metadata": {
  "kernelspec": {
   "display_name": "Python 3 (ipykernel)",
   "language": "python",
   "name": "python3"
  },
  "language_info": {
   "codemirror_mode": {
    "name": "ipython",
    "version": 3
   },
   "file_extension": ".py",
   "mimetype": "text/x-python",
   "name": "python",
   "nbconvert_exporter": "python",
   "pygments_lexer": "ipython3",
   "version": "3.9.7"
  }
 },
 "nbformat": 4,
 "nbformat_minor": 2
}
