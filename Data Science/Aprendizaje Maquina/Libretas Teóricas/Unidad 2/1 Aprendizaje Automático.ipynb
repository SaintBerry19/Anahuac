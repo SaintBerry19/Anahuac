{
 "cells": [
  {
   "cell_type": "markdown",
   "metadata": {},
   "source": [
    "<p style='text-align: justify;'>El área de aprendizaje automático se destaca por su vital importancia dentro de la carrera de un científico de datos. El aprendizaje automático mejor conocido por su término en inglés <b><font color = green>Machine learning</font></b> busca desarrollar software capaz de reconocer patrones dentro de un conjunto de datos, para posteriormente realizar un aprendizaje y por último poder construir un modelo que se adecue al comportamiento de dicho conjunto de datos. </p>\n",
    "\n",
    "<p style='text-align: justify;'>El aprendizaje automático resulta de ayuda a la hora de usar datos históricos para tomar mejores decisiones de negocio o decisiones fundamentadas en acontecimientos pasados por una persona o empresa. Lo cual ha aumentado mucho la demanda de los científicos de datos en diferentes ámbitos laborales y profesionales. </p>"
   ]
  },
  {
   "cell_type": "markdown",
   "metadata": {},
   "source": [
    "# Tipos de aprendizaje"
   ]
  },
  {
   "cell_type": "markdown",
   "metadata": {},
   "source": [
    "<p style='text-align: justify;'>A continuación repasaremos las más básicas detrás de tres de las principales técnicas que componen al aprendizaje automático. </p>"
   ]
  },
  {
   "cell_type": "markdown",
   "metadata": {},
   "source": [
    "<center><img src=\"img/Ap_Sup.png\" width = \"100%\"></center>"
   ]
  },
  {
   "cell_type": "markdown",
   "metadata": {},
   "source": [
    "<p style='text-align: justify;'>Los algoritmos de <b><font color = green>aprendizaje supervisado</font></b> son aquellos que trabajan primeramente aprendiendo con un conjunto de datos de entrenamiento <b>\"etiquetados\"</b>, los cuales recibe para posteriormente trabajar con ellos, intentando asignarles correctamente una etiqueta que coincida con la que previamente tenía. </p>\n",
    "<p style='text-align: justify;'>El comportamiento del algoritmo se corrige en medida a cuántas veces fallo al momento de etiquetar los datos de prueba y posteriormente modifica su comportamiento para las próximas ejecuciones. Después de terminar de entrenar con los datos etiquetados, se somete al algoritmo a trabajar con un conjunto de datos nuevos para los que no se conoce la etiqueta. </p>"
   ]
  },
  {
   "cell_type": "markdown",
   "metadata": {},
   "source": [
    "<center><img src=\"img/Ap_NoSup.png\" width = \"100%\"></center>"
   ]
  },
  {
   "cell_type": "markdown",
   "metadata": {},
   "source": [
    "<p style='text-align: justify;'>Los algoritmos de <b><font color = purple>aprendizaje no supervisado</font></b> no cuentan con un conjunto de datos <b>\"etiquetados\"</b> con los cuales puede entrenar y buscan intentar encontrar algún tipo de organización o patrón en los datos de entrada que recibe. Estos algoritmos suelen tener un comportamiento <b>\"exploratorio\"</b>, y en el caso de enfrentar un problema de agrupamiento, estos algoritmos intentan agrupar a los datos por medio de características similares pero no sin saber previamente que tipos de datos va a agrupar. </p>"
   ]
  },
  {
   "cell_type": "markdown",
   "metadata": {},
   "source": [
    "<center><img src=\"img/Ap_Ref.png\" width = \"100%\"></center>"
   ]
  },
  {
   "cell_type": "markdown",
   "metadata": {},
   "source": [
    "<p style='text-align: justify;'>Las técnicas de <b><font color = orange>aprendizaje por refuerzo</font></b> se basan en modificar la respuesta del algoritmo utilizando un proceso de retroalimentación basado en un conjunto de recompensas y castigos que le permiten al algoritmo identificar cuando alguna de las acciones que realizo previamente obtuvo buenos resultados o fue un comportamiento que deberá evitar en futuras ejecuciones. Estas técnicas de aprendizaje intentan simular el proceso de aprendizaje humano, simulando la sensación de que el algoritmo aprende obteniendo información de cómo se modifica el mundo que lo rodea en respuesta de las acciones que produce. </p>"
   ]
  },
  {
   "cell_type": "markdown",
   "metadata": {},
   "source": [
    "<p style='text-align: justify;'>Las entradas de un problema suelen definir qué tipo de técnica de aprendizaje automático se utilizará. La siguiente lista pretende darte a conocer algunas características que te permitirán identificar el tipo de aprendizaje a utilizar:</p>\n",
    "\n",
    "- Si tenemos __datos etiquetados__, tenemos un problema de <font color = green>__aprendizaje supervisado__</font>.\n",
    "- Si tenemos __datos no etiquetados__ y queremos encontrar una estructura, tenemos un problema de <font color = green>__aprendizaje no supervisado__</font>.\n",
    "- Si queremos __aprender a partir de la interacción__ con un ambiente, tenemos <font color = green>__aprendizaje reforzado__</font>."
   ]
  },
  {
   "cell_type": "code",
   "execution_count": null,
   "metadata": {
    "collapsed": true
   },
   "outputs": [],
   "source": []
  }
 ],
 "metadata": {
  "kernelspec": {
   "display_name": "Python 3",
   "language": "python",
   "name": "python3"
  },
  "language_info": {
   "codemirror_mode": {
    "name": "ipython",
    "version": 3
   },
   "file_extension": ".py",
   "mimetype": "text/x-python",
   "name": "python",
   "nbconvert_exporter": "python",
   "pygments_lexer": "ipython3",
   "version": "3.6.2"
  }
 },
 "nbformat": 4,
 "nbformat_minor": 2
}
