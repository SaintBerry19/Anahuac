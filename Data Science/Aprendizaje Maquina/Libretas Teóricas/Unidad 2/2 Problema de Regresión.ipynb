{
 "cells": [
  {
   "cell_type": "markdown",
   "metadata": {},
   "source": [
    "# ¿Qué es el modelado de datos?"
   ]
  },
  {
   "cell_type": "markdown",
   "metadata": {},
   "source": [
    "<p style='text-align: justify;'>El <b><font color = green>modelado de datos</font></b> es el proceso que nos permite construir o identificar una representación abstracta de la información observada, con la finalidad de analizar características importantes dentro de los datos e intentar describir el comportamiento de dichos datos.</p>\n",
    "<p style='text-align: justify;'>Además utilizaremos nuestros modelos para intentar predecir como se comportarán nuestros problemas antes situaciones novedosas o diferentes a las que estaban acostumbradas.</p>"
   ]
  },
  {
   "cell_type": "markdown",
   "metadata": {},
   "source": [
    "# El modelado de datos y el problema de la regresión"
   ]
  },
  {
   "cell_type": "markdown",
   "metadata": {},
   "source": [
    "<p style='text-align: justify;'>La regresión es una herramienta uso frecuente en la estadística, la cual permite estudiar y valorar las relaciones entre diferentes variables. El esquema básico de análisis de regresión plantea un modelo en el cual se analiza la relación entre una variable dependiente y una o varias variables independientes.</p>"
   ]
  },
  {
   "cell_type": "markdown",
   "metadata": {
    "collapsed": true
   },
   "source": [
    "### Regresión líneal\n",
    "<br>\n",
    "<center><img src=\"img/RegLin.png\" width = \"70%\"></center>"
   ]
  },
  {
   "cell_type": "markdown",
   "metadata": {},
   "source": [
    "### Regresión polinomial\n",
    "<br>\n",
    "<center><img src=\"img/RegPol.png\" width = \"70%\"></center>"
   ]
  },
  {
   "cell_type": "markdown",
   "metadata": {},
   "source": [
    "### Arbol Regresión\n",
    "<br>\n",
    "<center><img src=\"img/ArbReg.png\" width = \"100%\"></center>"
   ]
  },
  {
   "cell_type": "code",
   "execution_count": null,
   "metadata": {
    "collapsed": true
   },
   "outputs": [],
   "source": []
  }
 ],
 "metadata": {
  "kernelspec": {
   "display_name": "Python 3",
   "language": "python",
   "name": "python3"
  },
  "language_info": {
   "codemirror_mode": {
    "name": "ipython",
    "version": 3
   },
   "file_extension": ".py",
   "mimetype": "text/x-python",
   "name": "python",
   "nbconvert_exporter": "python",
   "pygments_lexer": "ipython3",
   "version": "3.6.2"
  }
 },
 "nbformat": 4,
 "nbformat_minor": 2
}
