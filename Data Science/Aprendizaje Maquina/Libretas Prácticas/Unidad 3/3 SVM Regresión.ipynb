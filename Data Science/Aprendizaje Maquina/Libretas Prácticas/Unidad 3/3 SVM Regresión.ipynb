{
 "cells": [
  {
   "cell_type": "markdown",
   "metadata": {},
   "source": [
    "# Obtención y preparación de datos"
   ]
  },
  {
   "cell_type": "code",
   "execution_count": null,
   "metadata": {},
   "outputs": [],
   "source": [
    "from sklearn.datasets import load_boston\n",
    "import pandas as pd\n",
    "import numpy as np\n",
    "\n",
    "import matplotlib.pyplot as plt\n",
    "%matplotlib inline\n",
    "import seaborn as sns\n",
    "\n",
    "from sklearn.model_selection import train_test_split\n",
    "from sklearn.metrics import r2_score\n",
    "\n",
    "boston = load_boston()\n",
    "\n",
    "df = pd.DataFrame(boston.data, columns = boston.feature_names)\n",
    "df['MEDV'] = boston.target[df.index]\n",
    "df.head()"
   ]
  },
  {
   "cell_type": "markdown",
   "metadata": {},
   "source": [
    "## Preparando aún más los datos: MinMaxScaler"
   ]
  },
  {
   "cell_type": "code",
   "execution_count": null,
   "metadata": {},
   "outputs": [],
   "source": [
    "x = df[\"LSTAT\"].values.reshape(-1, 1)\n",
    "y = df[\"MEDV\"].values.reshape(-1, 1)"
   ]
  },
  {
   "cell_type": "code",
   "execution_count": null,
   "metadata": {},
   "outputs": [],
   "source": [
    "x"
   ]
  },
  {
   "cell_type": "code",
   "execution_count": null,
   "metadata": {},
   "outputs": [],
   "source": [
    "from sklearn.preprocessing import MinMaxScaler"
   ]
  },
  {
   "cell_type": "code",
   "execution_count": null,
   "metadata": {},
   "outputs": [],
   "source": [
    "x_scaler = MinMaxScaler()\n",
    "y_scaler = MinMaxScaler()\n",
    "x = x_scaler.fit_transform(x)\n",
    "y = y_scaler.fit_transform(y)"
   ]
  },
  {
   "cell_type": "code",
   "execution_count": null,
   "metadata": {},
   "outputs": [],
   "source": [
    "x"
   ]
  },
  {
   "cell_type": "code",
   "execution_count": null,
   "metadata": {},
   "outputs": [],
   "source": [
    "y"
   ]
  },
  {
   "cell_type": "code",
   "execution_count": null,
   "metadata": {},
   "outputs": [],
   "source": [
    "x_train, x_test, y_train, y_test = train_test_split(\n",
    "    x, y, test_size = 0.33, random_state = 100)"
   ]
  },
  {
   "cell_type": "code",
   "execution_count": null,
   "metadata": {},
   "outputs": [],
   "source": [
    "x_train"
   ]
  },
  {
   "cell_type": "code",
   "execution_count": null,
   "metadata": {},
   "outputs": [],
   "source": [
    "y_train"
   ]
  },
  {
   "cell_type": "markdown",
   "metadata": {},
   "source": [
    "# SVR"
   ]
  },
  {
   "cell_type": "markdown",
   "metadata": {},
   "source": [
    "Documentación oficial de la librería utilizada\n",
    "<br>https://scikit-learn.org/stable/modules/generated/sklearn.svm.SVR.html"
   ]
  },
  {
   "cell_type": "code",
   "execution_count": null,
   "metadata": {},
   "outputs": [],
   "source": [
    "from sklearn.svm import SVR"
   ]
  },
  {
   "cell_type": "markdown",
   "metadata": {},
   "source": [
    "### Asignando el nucleo de la SVR: Linear"
   ]
  },
  {
   "cell_type": "code",
   "execution_count": null,
   "metadata": {},
   "outputs": [],
   "source": [
    "svr_lin = SVR(kernel = 'linear', C = 100, gamma = 'auto')"
   ]
  },
  {
   "cell_type": "code",
   "execution_count": null,
   "metadata": {},
   "outputs": [],
   "source": [
    "reg = svr_lin.fit(x_train, y_train)\n",
    "y_train_predict = reg.predict(x_train)\n",
    "y_test_predict = reg.predict(x_test)"
   ]
  },
  {
   "cell_type": "markdown",
   "metadata": {},
   "source": [
    "#### Nota: Es importante que recordemos que nuestros datos están escalados si usamos el rango de 0.0 hasta 40.0 no se van a ver, ahora nuestros datos están entre 0.0 y 1.0"
   ]
  },
  {
   "cell_type": "code",
   "execution_count": null,
   "metadata": {},
   "outputs": [],
   "source": [
    "x_plot = np.linspace(0,1).reshape(-1, 1)\n",
    "y_plot = reg.predict(x_plot)"
   ]
  },
  {
   "cell_type": "code",
   "execution_count": null,
   "metadata": {},
   "outputs": [],
   "source": [
    "plt.scatter(x_train, y_train, alpha = 0.2)\n",
    "plt.scatter(x_test, y_test, alpha = 0.8)\n",
    "plt.plot(x_plot, y_plot, \"r--\", lw = 4)\n",
    "\n",
    "plt.xlabel(\"Scaled: LSTAT\")\n",
    "plt.ylabel(\"Scaled: MEDV\")\n",
    "plt.show()"
   ]
  },
  {
   "cell_type": "code",
   "execution_count": null,
   "metadata": {},
   "outputs": [],
   "source": [
    "print(\"Entrenamiento\", r2_score(y_train, y_train_predict))\n",
    "print(\"Prueba\", r2_score(y_test, y_test_predict))"
   ]
  },
  {
   "cell_type": "markdown",
   "metadata": {},
   "source": [
    "### Asignando el nucleo de la SVR: Cuadrático"
   ]
  },
  {
   "cell_type": "code",
   "execution_count": null,
   "metadata": {},
   "outputs": [],
   "source": [
    "svr_poly2 = SVR(kernel='poly', C=100, gamma='auto', degree=2, epsilon=.1, coef0=1)"
   ]
  },
  {
   "cell_type": "code",
   "execution_count": null,
   "metadata": {},
   "outputs": [],
   "source": [
    "reg = svr_poly2.fit(x_train, y_train)\n",
    "y_train_predict = reg.predict(x_train)\n",
    "y_test_predict = reg.predict(x_test)"
   ]
  },
  {
   "cell_type": "code",
   "execution_count": null,
   "metadata": {},
   "outputs": [],
   "source": [
    "x_plot = np.linspace(0,1).reshape(-1, 1)\n",
    "y_plot = reg.predict(x_plot)"
   ]
  },
  {
   "cell_type": "code",
   "execution_count": null,
   "metadata": {},
   "outputs": [],
   "source": [
    "plt.scatter(x_train, y_train, alpha = 0.2)\n",
    "plt.scatter(x_test, y_test, alpha = 0.8)\n",
    "plt.plot(x_plot, y_plot, \"r--\", lw = 4)\n",
    "\n",
    "plt.xlabel(\"Scaled: LSTAT\")\n",
    "plt.ylabel(\"Scaled: MEDV\")\n",
    "plt.show()"
   ]
  },
  {
   "cell_type": "code",
   "execution_count": null,
   "metadata": {},
   "outputs": [],
   "source": [
    "print(\"Entrenamiento\", r2_score(y_train, y_train_predict))\n",
    "print(\"Prueba\", r2_score(y_test, y_test_predict))"
   ]
  },
  {
   "cell_type": "markdown",
   "metadata": {},
   "source": [
    "### Asignando el nucleo de la SVR: Cúbico"
   ]
  },
  {
   "cell_type": "code",
   "execution_count": null,
   "metadata": {},
   "outputs": [],
   "source": [
    "svr_poly3 = SVR(kernel='poly', C=100, gamma='auto', degree=3, epsilon=.1, coef0=1)"
   ]
  },
  {
   "cell_type": "code",
   "execution_count": null,
   "metadata": {},
   "outputs": [],
   "source": [
    "reg = svr_poly3.fit(x_train, y_train)\n",
    "y_train_predict = reg.predict(x_train)\n",
    "y_test_predict = reg.predict(x_test)"
   ]
  },
  {
   "cell_type": "code",
   "execution_count": null,
   "metadata": {},
   "outputs": [],
   "source": [
    "x_plot = np.linspace(0,1).reshape(-1, 1)\n",
    "y_plot = reg.predict(x_plot)"
   ]
  },
  {
   "cell_type": "code",
   "execution_count": null,
   "metadata": {},
   "outputs": [],
   "source": [
    "plt.scatter(x_train, y_train, alpha = 0.2)\n",
    "plt.scatter(x_test, y_test, alpha = 0.8)\n",
    "plt.plot(x_plot, y_plot, \"r--\", lw = 4)\n",
    "\n",
    "plt.xlabel(\"Scaled: LSTAT\")\n",
    "plt.ylabel(\"Scaled: MEDV\")\n",
    "plt.show()"
   ]
  },
  {
   "cell_type": "code",
   "execution_count": null,
   "metadata": {},
   "outputs": [],
   "source": [
    "print(\"Entrenamiento\", r2_score(y_train, y_train_predict))\n",
    "print(\"Prueba\", r2_score(y_test, y_test_predict))"
   ]
  },
  {
   "cell_type": "markdown",
   "metadata": {},
   "source": [
    "### Asignando el nucleo de la SVR: RBF"
   ]
  },
  {
   "cell_type": "code",
   "execution_count": null,
   "metadata": {},
   "outputs": [],
   "source": [
    "svr_rbf = SVR(kernel = 'rbf', C = 100, gamma = 0.1, epsilon = 0.1)"
   ]
  },
  {
   "cell_type": "code",
   "execution_count": null,
   "metadata": {},
   "outputs": [],
   "source": [
    "reg = svr_rbf.fit(x_train, y_train)\n",
    "y_train_predict = reg.predict(x_train)\n",
    "y_test_predict = reg.predict(x_test)"
   ]
  },
  {
   "cell_type": "code",
   "execution_count": null,
   "metadata": {},
   "outputs": [],
   "source": [
    "x_plot = np.linspace(0,1).reshape(-1, 1)\n",
    "y_plot = reg.predict(x_plot)"
   ]
  },
  {
   "cell_type": "code",
   "execution_count": null,
   "metadata": {},
   "outputs": [],
   "source": [
    "plt.scatter(x_train, y_train, alpha = 0.2)\n",
    "plt.scatter(x_test, y_test, alpha = 0.8)\n",
    "plt.plot(x_plot, y_plot, \"r--\", lw = 4)\n",
    "\n",
    "plt.xlabel(\"Scaled: LSTAT\")\n",
    "plt.ylabel(\"Scaled: MEDV\")\n",
    "plt.show()"
   ]
  },
  {
   "cell_type": "code",
   "execution_count": null,
   "metadata": {},
   "outputs": [],
   "source": [
    "print(\"Entrenamiento\", r2_score(y_train, y_train_predict))\n",
    "print(\"Prueba\", r2_score(y_test, y_test_predict))"
   ]
  },
  {
   "cell_type": "markdown",
   "metadata": {
    "collapsed": true
   },
   "source": [
    "# Manejando multíples iteradores con la función zip()"
   ]
  },
  {
   "cell_type": "code",
   "execution_count": null,
   "metadata": {},
   "outputs": [],
   "source": [
    "svr_lin = SVR(kernel = 'linear', C = 100, gamma = 'auto')\n",
    "svr_poly2 = SVR(kernel = 'poly', C = 100, gamma = 'auto', degree = 2, epsilon = 0.1, coef0 = 1)\n",
    "svr_poly3 = SVR(kernel = 'poly', C = 100, gamma = 'auto', degree = 3, epsilon = 0.1, coef0 = 1)\n",
    "svr_rbf = SVR(kernel = 'rbf', C = 100, gamma = 0.1, epsilon = 0.1)\n",
    "\n",
    "plt.scatter(x_train, y_train, alpha = 0.2)\n",
    "plt.scatter(x_test, y_test, alpha = 0.2)\n",
    "x_plot = np.linspace(0,1).reshape(-1, 1)\n",
    "\n",
    "for name, svr, s in zip([\"Linear\", \"Poly2\", \"Poly3\", \"RBF\"],[svr_lin, svr_poly2, svr_poly3, svr_rbf],[\"r--\" ,\"b--\", \"m--\", \"y--\"]):\n",
    "    reg = svr.fit(x_train, y_train)\n",
    "    \n",
    "    y_train_predict = reg.predict(x_train)\n",
    "    y_test_predict = reg.predict(x_test)\n",
    "    \n",
    "    y_plot = reg.predict(x_plot)\n",
    "    \n",
    "    plt.plot(x_plot, y_plot, s, lw = 4, label = name)\n",
    "    \n",
    "    print(name, \"Entrenamiento\", r2_score(y_train, y_train_predict))\n",
    "    print(name, \"Prueba\", r2_score(y_test, y_test_predict))\n",
    "    print()\n",
    "    \n",
    "plt.legend()\n",
    "plt.show()"
   ]
  },
  {
   "cell_type": "code",
   "execution_count": null,
   "metadata": {},
   "outputs": [],
   "source": [
    "plt.style.use(\"seaborn\")\n",
    "\n",
    "svr_lin = SVR(kernel = 'linear', C = 100, gamma = 'auto')\n",
    "svr_poly2 = SVR(kernel = 'poly', C = 100, gamma = 'auto', degree = 2, epsilon = 0.1, coef0 = 1)\n",
    "svr_poly3 = SVR(kernel = 'poly', C = 100, gamma = 'auto', degree = 3, epsilon = 0.1, coef0 = 1)\n",
    "svr_rbf = SVR(kernel = 'rbf', C = 100, gamma = 0.1, epsilon = 0.1)\n",
    "\n",
    "plt.scatter(x_train, y_train, alpha = 0.2, c = 'blue', label = \"Train\")\n",
    "plt.scatter(x_test, y_test, alpha = 0.2, c = 'orange', label = \"Test\")\n",
    "x_plot = np.linspace(0,1).reshape(-1, 1)\n",
    "\n",
    "for name, svr, s in zip([\"Linear\", \"Poly2\", \"Poly3\", \"RBF\"],[svr_lin, svr_poly2, svr_poly3, svr_rbf],[\"r--\" ,\"b--\", \"m--\", \"y--\"]):\n",
    "    reg = svr.fit(x_train, y_train)\n",
    "    \n",
    "    y_train_predict = reg.predict(x_train)\n",
    "    y_test_predict = reg.predict(x_test)\n",
    "    \n",
    "    y_plot = reg.predict(x_plot)\n",
    "    \n",
    "    plt.plot(x_plot, y_plot, s, lw = 4, label = name)\n",
    "    \n",
    "    print(name, \"Entrenamiento\", r2_score(y_train, y_train_predict))\n",
    "    print(name, \"Prueba\", r2_score(y_test, y_test_predict))\n",
    "    print(\"--------------------\")\n",
    "    \n",
    "plt.legend()\n",
    "plt.show()"
   ]
  },
  {
   "cell_type": "markdown",
   "metadata": {},
   "source": [
    "# ¿Cómo regresamos a los datos originales sin escalamiento?"
   ]
  },
  {
   "cell_type": "markdown",
   "metadata": {},
   "source": [
    "### Para escalar al inicio de la libreta utilizamos:\n",
    "x_scaler = MinMaxScaler() \n",
    "<br>y_scaler = MinMaxScaler() \n",
    "<br>x = x_scaler.fit_transform(x) \n",
    "<br>y = y_scaler.fit_transform(y) "
   ]
  },
  {
   "cell_type": "markdown",
   "metadata": {},
   "source": [
    "### Para volver a los valores originales utilizaremos:\n",
    "x_scaler.inverse_transform\n",
    "<br>y_scaler.inverse_transform"
   ]
  },
  {
   "cell_type": "code",
   "execution_count": null,
   "metadata": {},
   "outputs": [],
   "source": [
    "svr_lin = SVR(kernel = 'linear', C = 100, gamma = 'auto')\n",
    "svr_poly2 = SVR(kernel = 'poly', C = 100, gamma = 'auto', degree = 2, epsilon = 0.1, coef0 = 1)\n",
    "svr_poly3 = SVR(kernel = 'poly', C = 100, gamma = 'auto', degree = 3, epsilon = 0.1, coef0 = 1)\n",
    "svr_rbf = SVR(kernel = 'rbf', C = 100, gamma = 0.1, epsilon = 0.1)\n",
    "\n",
    "plt.scatter(x_scaler.inverse_transform(x_train), y_scaler.inverse_transform(y_train), alpha = 0.2, c = 'blue', label = \"Train\")\n",
    "plt.scatter(x_scaler.inverse_transform(x_test), y_scaler.inverse_transform(y_test), alpha = 0.2, c = 'orange', label = \"Test\")\n",
    "x_plot = np.linspace(0,1).reshape(-1, 1)\n",
    "\n",
    "for name, svr, s in zip([\"Linear\", \"Poly2\", \"Poly3\", \"RBF\"],[svr_lin, svr_poly2, svr_poly3, svr_rbf],[\"r--\" ,\"b--\", \"m--\", \"y--\"]):\n",
    "    reg = svr.fit(x_train, y_train)\n",
    "    \n",
    "    y_train_predict = reg.predict(x_train)\n",
    "    y_test_predict = reg.predict(x_test)\n",
    "    \n",
    "    y_plot = reg.predict(x_plot)\n",
    "    \n",
    "    plt.plot(x_scaler.inverse_transform(x_plot), y_scaler.inverse_transform(y_plot.reshape(-1,1)), s, lw = 4, label = name)\n",
    "    \n",
    "    print(name, \"Entrenamiento\", r2_score(y_train, y_train_predict))\n",
    "    print(name, \"Prueba\", r2_score(y_test, y_test_predict))\n",
    "    print(\"--------------------\")\n",
    "    \n",
    "plt.legend()\n",
    "plt.show()"
   ]
  }
 ],
 "metadata": {
  "kernelspec": {
   "display_name": "Python 3 (ipykernel)",
   "language": "python",
   "name": "python3"
  },
  "language_info": {
   "codemirror_mode": {
    "name": "ipython",
    "version": 3
   },
   "file_extension": ".py",
   "mimetype": "text/x-python",
   "name": "python",
   "nbconvert_exporter": "python",
   "pygments_lexer": "ipython3",
   "version": "3.9.7"
  }
 },
 "nbformat": 4,
 "nbformat_minor": 2
}
