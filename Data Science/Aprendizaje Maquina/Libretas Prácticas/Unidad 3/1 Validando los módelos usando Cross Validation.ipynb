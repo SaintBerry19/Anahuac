{
 "cells": [
  {
   "cell_type": "markdown",
   "metadata": {},
   "source": [
    "# Cross-Validation"
   ]
  },
  {
   "cell_type": "code",
   "execution_count": null,
   "metadata": {},
   "outputs": [],
   "source": [
    "from sklearn.datasets import load_boston\n",
    "import pandas as pd\n",
    "import numpy as np\n",
    "from sklearn.linear_model import LinearRegression\n",
    "import matplotlib.pyplot as plt\n",
    "%matplotlib inline\n",
    "import seaborn as sns\n",
    "\n",
    "boston = load_boston()\n",
    "\n",
    "df = pd.DataFrame(boston.data, columns = boston.feature_names)\n",
    "df['MEDV'] = boston.target[df.index]\n",
    "df.head()"
   ]
  },
  {
   "cell_type": "code",
   "execution_count": null,
   "metadata": {},
   "outputs": [],
   "source": [
    "from sklearn.model_selection import KFold\n",
    "\n",
    "#KFold(n_splits, shuffle, random_state)\n",
    "kfold = KFold(4, False)\n",
    "\n",
    "data = df[[\"LSTAT\",\"MEDV\"]]\n",
    "\n",
    "for train, test in kfold.split(data):\n",
    "    print('train: {}, test: {}'.format(train, test))\n",
    "    print()"
   ]
  },
  {
   "cell_type": "code",
   "execution_count": null,
   "metadata": {},
   "outputs": [],
   "source": [
    "from sklearn.model_selection import KFold\n",
    "from sklearn.metrics import r2_score\n",
    "\n",
    "k = 4\n",
    "kfold = KFold(k, True, 103)\n",
    "r2_train_avg, r2_test_avg = 0, 0\n",
    "\n",
    "for train, test in kfold.split(data):\n",
    " \n",
    "    X_train = data.iloc[train][\"LSTAT\"].values.reshape(-1,1)\n",
    "    y_train = data.iloc[train][\"MEDV\"]\n",
    "    X_test = data.iloc[test][\"LSTAT\"].values.reshape(-1,1)\n",
    "    y_test = data.iloc[test][\"MEDV\"]\n",
    " \n",
    "    reg = LinearRegression().fit(X_train,y_train)\n",
    " \n",
    "    y_train_hat = reg.predict(X_train)\n",
    "    y_test_hat = reg.predict(X_test)\n",
    " \n",
    "    r2_train = r2_score(y_train,y_train_hat)\n",
    "    r2_test = r2_score(y_test,y_test_hat)\n",
    "    print(\"R2_train es {:.3f}, R2_test es {:.3f}\".format(r2_train,r2_test))\n",
    " \n",
    "    r2_train_avg += r2_train\n",
    "    r2_test_avg += r2_test\n",
    "\n",
    "r2_train_avg/k, r2_test_avg/k"
   ]
  },
  {
   "cell_type": "code",
   "execution_count": null,
   "metadata": {},
   "outputs": [],
   "source": [
    "k= 4\n",
    "\n",
    "kfold = KFold(k, True, 103)\n",
    "r2_train_avg,r2_test_avg=0,0\n",
    "\n",
    "for train, test in kfold.split(data):\n",
    "    X_train = data.iloc[train][\"LSTAT\"].values.reshape(-1,1)\n",
    "    y_train = data.iloc[train][\"MEDV\"]\n",
    "    \n",
    "    X_test = data.iloc[test][\"LSTAT\"].values.reshape(-1,1)\n",
    "    y_test = data.iloc[test][\"MEDV\"]\n",
    "    \n",
    "    reg = LinearRegression().fit(X_train,y_train)\n",
    "    \n",
    "    y_train_hat = reg.predict(X_train)\n",
    "    y_test_hat = reg.predict(X_test)\n",
    "    r2_train = r2_score(y_train,y_train_hat)\n",
    "    r2_test = r2_score(y_test,y_test_hat)\n",
    "\n",
    "    x_model = np.linspace(0,40,num=100)\n",
    "    y_model = reg.predict(x_model.reshape(-1,1))\n",
    "    plt.scatter(X_train, y_train, alpha = 0.2)\n",
    "    plt.scatter(X_test, y_test, alpha = 0.8)\n",
    "    plt.plot(x_model, y_model,\"r--\", lw = 4)\n",
    "    plt.show()\n",
    "\n",
    "    print(\"R2_train es {:.3f}, R2_test es {:.3f}\".format(r2_train,r2_test))\n",
    "    r2_train_avg += r2_train\n",
    "    r2_test_avg += r2_test\n",
    "    \n",
    "r2_train_avg/k, r2_test_avg/k"
   ]
  }
 ],
 "metadata": {
  "kernelspec": {
   "display_name": "Python 3 (ipykernel)",
   "language": "python",
   "name": "python3"
  },
  "language_info": {
   "codemirror_mode": {
    "name": "ipython",
    "version": 3
   },
   "file_extension": ".py",
   "mimetype": "text/x-python",
   "name": "python",
   "nbconvert_exporter": "python",
   "pygments_lexer": "ipython3",
   "version": "3.9.7"
  }
 },
 "nbformat": 4,
 "nbformat_minor": 2
}
