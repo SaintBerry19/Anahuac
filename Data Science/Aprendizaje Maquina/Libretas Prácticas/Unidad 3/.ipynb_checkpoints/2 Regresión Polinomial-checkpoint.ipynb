{
 "cells": [
  {
   "cell_type": "markdown",
   "metadata": {},
   "source": [
    "# Obtención y preparación de datos"
   ]
  },
  {
   "cell_type": "code",
   "execution_count": null,
   "metadata": {},
   "outputs": [],
   "source": [
    "from sklearn.datasets import load_boston\n",
    "import pandas as pd\n",
    "import numpy as np\n",
    "\n",
    "import matplotlib.pyplot as plt\n",
    "%matplotlib inline\n",
    "import seaborn as sns\n",
    "\n",
    "boston = load_boston()\n",
    "\n",
    "df = pd.DataFrame(boston.data, columns = boston.feature_names)\n",
    "df['MEDV'] = boston.target[df.index]\n",
    "df.head()"
   ]
  },
  {
   "cell_type": "markdown",
   "metadata": {},
   "source": [
    "# Volvamos a revisar el modelo obtenido usando la regresión lineal"
   ]
  },
  {
   "cell_type": "code",
   "execution_count": null,
   "metadata": {},
   "outputs": [],
   "source": [
    "from sklearn.model_selection import train_test_split\n",
    "from sklearn.metrics import r2_score\n",
    "\n",
    "x = df[\"LSTAT\"].values.reshape(-1,1)\n",
    "y = df[\"MEDV\"].values.reshape(-1, 1)\n",
    "\n",
    "x_train, x_test, y_train, y_test = train_test_split(\n",
    "    x, y, test_size = 0.20, random_state=100)\n",
    "\n",
    "print(\"Tamaño del conjunto de datos: \", x.size)\n",
    "print(\"Tamaño del conjunto de entrenamiento: \", x_train.size)\n",
    "print(\"Tamaño del conjunto de prueba: \", x_test.size)\n",
    "\n",
    "from sklearn.linear_model import LinearRegression\n",
    "reg = LinearRegression().fit(x_train,y_train)\n",
    "y_train_predict = reg.predict(x_train)\n",
    "y_test_predict = reg.predict(x_test)\n",
    "\n",
    "x_plot = np.linspace(0,40).reshape(-1, 1)\n",
    "y_plot = reg.predict(x_plot)\n",
    "\n",
    "plt.scatter(x_train, y_train, alpha = 0.2)\n",
    "plt.scatter(x_test, y_test, alpha = 0.8)\n",
    "plt.plot(x_plot, y_plot,\"r--\", lw = 4)\n",
    "\n",
    "plt.xlabel(\"LSTAT\")\n",
    "plt.ylabel(\"MEDV\")\n",
    "plt.show()\n",
    "\n",
    "print(\"Entrenamiento\", r2_score(y_train, y_train_predict))\n",
    "print(\"Prueba\", r2_score(y_test, y_test_predict))"
   ]
  },
  {
   "cell_type": "markdown",
   "metadata": {},
   "source": [
    "# Primer acercamiento a la Regresión Polinomial"
   ]
  },
  {
   "cell_type": "markdown",
   "metadata": {},
   "source": [
    "## Regresión Cuadrática"
   ]
  },
  {
   "cell_type": "code",
   "execution_count": null,
   "metadata": {},
   "outputs": [],
   "source": [
    "x = df[\"LSTAT\"].values.reshape(-1, 1)\n",
    "y = df[\"MEDV\"].values.reshape(-1, 1)"
   ]
  },
  {
   "cell_type": "code",
   "execution_count": null,
   "metadata": {},
   "outputs": [],
   "source": [
    "from sklearn.preprocessing import PolynomialFeatures"
   ]
  },
  {
   "cell_type": "code",
   "execution_count": null,
   "metadata": {},
   "outputs": [],
   "source": [
    "poly = PolynomialFeatures(degree = 2)\n",
    "x_poly = poly.fit_transform(x)\n",
    "reg = LinearRegression().fit(x_poly, y)\n",
    "y_predict = reg.predict(x_poly)"
   ]
  },
  {
   "cell_type": "code",
   "execution_count": null,
   "metadata": {},
   "outputs": [],
   "source": [
    "x_model = np.linspace(0,40).reshape(-1, 1)\n",
    "y_model = reg.predict(poly.transform(x_model.reshape(-1,1)))"
   ]
  },
  {
   "cell_type": "code",
   "execution_count": null,
   "metadata": {},
   "outputs": [],
   "source": [
    "plt.scatter(x, y, alpha = 0.6)\n",
    "plt.plot(x_model, y_model, \"--r\", lw = 4)\n",
    "\n",
    "plt.axis([0, 40, 0, 50])\n",
    "plt.xlabel(\"LSTAT\")\n",
    "plt.ylabel(\"MEDV\")\n",
    "\n",
    "plt.show()"
   ]
  },
  {
   "cell_type": "code",
   "execution_count": null,
   "metadata": {},
   "outputs": [],
   "source": [
    "print(\"R2_score:\", r2_score(y, y_predict))\n",
    "print()"
   ]
  },
  {
   "cell_type": "markdown",
   "metadata": {},
   "source": [
    "$ F(x) = a x^2 + b x + c $"
   ]
  },
  {
   "cell_type": "code",
   "execution_count": null,
   "metadata": {},
   "outputs": [],
   "source": [
    "reg.coef_"
   ]
  },
  {
   "cell_type": "code",
   "execution_count": null,
   "metadata": {},
   "outputs": [],
   "source": [
    "a = reg.coef_[0][2]\n",
    "a"
   ]
  },
  {
   "cell_type": "code",
   "execution_count": null,
   "metadata": {},
   "outputs": [],
   "source": [
    "b = reg.coef_[0][1]\n",
    "b"
   ]
  },
  {
   "cell_type": "code",
   "execution_count": null,
   "metadata": {},
   "outputs": [],
   "source": [
    "reg.intercept_"
   ]
  },
  {
   "cell_type": "code",
   "execution_count": null,
   "metadata": {},
   "outputs": [],
   "source": [
    "c = reg.intercept_[0]\n",
    "c"
   ]
  },
  {
   "cell_type": "code",
   "execution_count": null,
   "metadata": {},
   "outputs": [],
   "source": [
    "x_propuesta = 30\n",
    "y_obtenida = a * x_propuesta * x_propuesta + b * x_propuesta + c\n",
    "print(y_obtenida)"
   ]
  },
  {
   "cell_type": "markdown",
   "metadata": {},
   "source": [
    "$ F(x) = 0.043546889358 x^2 -2.33282109828x + 42.862007328 $"
   ]
  },
  {
   "cell_type": "code",
   "execution_count": null,
   "metadata": {},
   "outputs": [],
   "source": [
    "x_poly = poly.fit_transform([[x_propuesta]])\n",
    "y_obtenida = reg.predict(x_poly)\n",
    "print(y_obtenida)"
   ]
  },
  {
   "cell_type": "markdown",
   "metadata": {},
   "source": [
    "<b>Actualización 2022:</b>\n",
    "<br>\n",
    "<br>Se modifica el parametro que recibe la función <b>poly.fit_transform(x_propuesta)</b> por el mismo parametro pero dentro de un doble parentesis cuadrado. Puesto que ahora la función necesita recibir un arreglo de dos dimensiones.\n",
    "<br>\n",
    "<br>Quedando de la siguiente manera: <b>poly.fit_transform([[x_propuesta]])</b>"
   ]
  },
  {
   "cell_type": "markdown",
   "metadata": {},
   "source": [
    "## Regresión Cúbica"
   ]
  },
  {
   "cell_type": "code",
   "execution_count": null,
   "metadata": {},
   "outputs": [],
   "source": [
    "x = df[\"LSTAT\"].values.reshape(-1, 1)\n",
    "y = df[\"MEDV\"].values.reshape(-1, 1)"
   ]
  },
  {
   "cell_type": "code",
   "execution_count": null,
   "metadata": {},
   "outputs": [],
   "source": [
    "poly = PolynomialFeatures(degree = 3)\n",
    "x_poly = poly.fit_transform(x)\n",
    "reg = LinearRegression().fit(x_poly, y)\n",
    "y_predict = reg.predict(x_poly)"
   ]
  },
  {
   "cell_type": "code",
   "execution_count": null,
   "metadata": {},
   "outputs": [],
   "source": [
    "x_model = np.linspace(0,40).reshape(-1, 1)\n",
    "y_model = reg.predict(poly.transform(x_model.reshape(-1,1)))"
   ]
  },
  {
   "cell_type": "code",
   "execution_count": null,
   "metadata": {},
   "outputs": [],
   "source": [
    "plt.scatter(x, y, alpha = 0.6)\n",
    "plt.plot(x_model, y_model, \"--r\", lw = 4)\n",
    "\n",
    "plt.axis([0, 40, 0, 50])\n",
    "plt.xlabel(\"LSTAT\")\n",
    "plt.ylabel(\"MEDV\")\n",
    "\n",
    "plt.show()"
   ]
  },
  {
   "cell_type": "code",
   "execution_count": null,
   "metadata": {},
   "outputs": [],
   "source": [
    "print(\"R2_score:\", r2_score(y, y_predict))\n",
    "print()"
   ]
  },
  {
   "cell_type": "markdown",
   "metadata": {},
   "source": [
    "$ F(x) = ax^3+bx^2+cx+d $"
   ]
  },
  {
   "cell_type": "code",
   "execution_count": null,
   "metadata": {},
   "outputs": [],
   "source": [
    "reg.coef_"
   ]
  },
  {
   "cell_type": "code",
   "execution_count": null,
   "metadata": {},
   "outputs": [],
   "source": [
    "a = reg.coef_[0][3]\n",
    "a"
   ]
  },
  {
   "cell_type": "code",
   "execution_count": null,
   "metadata": {},
   "outputs": [],
   "source": [
    "b = reg.coef_[0][2]\n",
    "b"
   ]
  },
  {
   "cell_type": "code",
   "execution_count": null,
   "metadata": {},
   "outputs": [],
   "source": [
    "c = reg.coef_[0][1]\n",
    "c"
   ]
  },
  {
   "cell_type": "code",
   "execution_count": null,
   "metadata": {},
   "outputs": [],
   "source": [
    "d = reg.intercept_[0]\n",
    "d"
   ]
  },
  {
   "cell_type": "code",
   "execution_count": null,
   "metadata": {},
   "outputs": [],
   "source": [
    "x_ = 30\n",
    "y_obtenida = a * x_ * x_ * x_ + b * x_ * x_  + c * x_  + d\n",
    "print(y_obtenida)"
   ]
  },
  {
   "cell_type": "markdown",
   "metadata": {},
   "source": [
    "$ F(x) = -0.0020038676661x^3+0.148738476x^2-3.86559277881x+48.6496253415 $"
   ]
  },
  {
   "cell_type": "code",
   "execution_count": null,
   "metadata": {},
   "outputs": [],
   "source": [
    "x_poly = poly.fit_transform([[x_]])\n",
    "y_obtenida = reg.predict(x_poly)\n",
    "print(y_obtenida)"
   ]
  },
  {
   "cell_type": "markdown",
   "metadata": {},
   "source": [
    "<b>Actualización 2022:</b>\n",
    "<br>\n",
    "<br>Se modifica el parametro que recibe la función <b>poly.fit_transform(x_)</b> por el mismo parametro pero dentro de un doble parentesis cuadrado. Puesto que ahora la función necesita recibir un arreglo de dos dimensiones.\n",
    "<br>\n",
    "<br>Quedando de la siguiente manera: <b>poly.fit_transform([[x_]])</b>"
   ]
  },
  {
   "cell_type": "markdown",
   "metadata": {},
   "source": [
    "## Un buen habito como programador es reutilizar código y crear funciones."
   ]
  },
  {
   "cell_type": "code",
   "execution_count": null,
   "metadata": {},
   "outputs": [],
   "source": [
    "def plotModel(degree = 1):\n",
    "    \n",
    "    global y_predict, poly, reg, x_model, x, y\n",
    "    \n",
    "    poly = PolynomialFeatures(degree = degree)\n",
    "    x_poly = poly.fit_transform(x)\n",
    "    reg = LinearRegression().fit(x_poly, y)\n",
    "    y_predict = reg.predict(x_poly)\n",
    "    \n",
    "    plt.scatter(x, y, alpha = 0.6)\n",
    "    \n",
    "    x_model = np.linspace(0,40).reshape(-1, 1)\n",
    "    y_model = reg.predict(poly.transform(x_model.reshape(-1,1)))\n",
    "    plt.plot(x_model, y_model,\"--r\", lw = 4)\n",
    "    \n",
    "    plt.axis([0, 40, 0, 50])\n",
    "    plt.xlabel(\"LSTAT\")\n",
    "    plt.ylabel(\"MEDV\")\n",
    "    \n",
    "    plt.show()\n",
    "    \n",
    "    print(\"R2_score:\", r2_score(y, y_predict))\n",
    "    print()"
   ]
  },
  {
   "cell_type": "code",
   "execution_count": null,
   "metadata": {},
   "outputs": [],
   "source": [
    "x = df[\"LSTAT\"].values.reshape(-1, 1)\n",
    "y = df[\"MEDV\"].values.reshape(-1, 1)"
   ]
  },
  {
   "cell_type": "code",
   "execution_count": null,
   "metadata": {},
   "outputs": [],
   "source": [
    "plotModel(5)\n",
    "plotModel(10)\n",
    "plotModel(15)\n",
    "plotModel(20)"
   ]
  },
  {
   "cell_type": "markdown",
   "metadata": {},
   "source": [
    "# Hagamos nuestro modelo de Regresión Polinomial usando ipywidgets"
   ]
  },
  {
   "cell_type": "code",
   "execution_count": null,
   "metadata": {},
   "outputs": [],
   "source": [
    "from ipywidgets import interact, interactive, fixed, interact_manual\n",
    "import ipywidgets as widgets\n",
    "\n",
    "x = df[\"LSTAT\"].values.reshape(-1, 1)\n",
    "y = df[\"MEDV\"].values.reshape(-1, 1)\n",
    "    \n",
    "interact(plotModel, degree = (1, 20));"
   ]
  },
  {
   "cell_type": "markdown",
   "metadata": {
    "collapsed": true
   },
   "source": [
    "# Validando nuestros modelos usando: Train-Test Split"
   ]
  },
  {
   "cell_type": "code",
   "execution_count": null,
   "metadata": {},
   "outputs": [],
   "source": [
    "def plotTrainTestModel(degree = 1, test_size = 0.20):\n",
    "\n",
    "    global y_predict, poly, reg, x_model, x, y \n",
    "           \n",
    "    x_train, x_test, y_train, y_test = train_test_split(\n",
    "        x, y, test_size = test_size, random_state=100)\n",
    "    \n",
    "    poly = PolynomialFeatures(degree = degree)\n",
    "    x_train_poly = poly.fit_transform(x_train)\n",
    "    x_test_poly = poly.fit_transform(x_test)\n",
    "    reg = LinearRegression().fit(x_train_poly, y_train)\n",
    "    \n",
    "    y_train_predict = reg.predict(x_train_poly)\n",
    "    y_test_predict = reg.predict(x_test_poly)\n",
    "    \n",
    "    plt.scatter(x_train, y_train, alpha = 0.2)\n",
    "    plt.scatter(x_test, y_test, alpha = 0.8)\n",
    "    \n",
    "    x_model = np.linspace(0,40).reshape(-1, 1)\n",
    "    y_model = reg.predict(poly.transform(x_model.reshape(-1,1)))\n",
    "    plt.plot(x_model, y_model, \"--r\", lw = 4)\n",
    "    \n",
    "    plt.axis([0, 40, 0, 50])\n",
    "    plt.xlabel(\"LSTAT\")\n",
    "    plt.ylabel(\"MEDV\")\n",
    "    \n",
    "    plt.show()\n",
    "    \n",
    "    print(\"Porcentaje de Entrenamiento: \", 1 - test_size)\n",
    "    print(\"Porcentaje de Prueba: \", test_size)\n",
    "    print(\"Entrenamiento\", r2_score(y_train, y_train_predict))\n",
    "    print(\"Prueba\", r2_score(y_test, y_test_predict))\n",
    "    print()"
   ]
  },
  {
   "cell_type": "code",
   "execution_count": null,
   "metadata": {},
   "outputs": [],
   "source": [
    "x = df[\"LSTAT\"].values.reshape(-1, 1)\n",
    "y = df[\"MEDV\"].values.reshape(-1, 1)"
   ]
  },
  {
   "cell_type": "code",
   "execution_count": null,
   "metadata": {},
   "outputs": [],
   "source": [
    "plotTrainTestModel(5)\n",
    "plotTrainTestModel(10)\n",
    "plotTrainTestModel(15)\n",
    "plotTrainTestModel(20)"
   ]
  },
  {
   "cell_type": "code",
   "execution_count": null,
   "metadata": {},
   "outputs": [],
   "source": [
    "plotTrainTestModel(5, 0.40)\n",
    "plotTrainTestModel(10, 0.40)\n",
    "plotTrainTestModel(15, 0.40)\n",
    "plotTrainTestModel(20, 0.40)"
   ]
  },
  {
   "cell_type": "code",
   "execution_count": null,
   "metadata": {},
   "outputs": [],
   "source": [
    "interact(plotTrainTestModel, degree = (1, 20), test_size = (0.20, 0.90));"
   ]
  },
  {
   "cell_type": "markdown",
   "metadata": {
    "collapsed": true
   },
   "source": [
    "# Validando nuestros modelos usando: Cross Validation"
   ]
  },
  {
   "cell_type": "code",
   "execution_count": null,
   "metadata": {},
   "outputs": [],
   "source": [
    "from sklearn.model_selection import KFold\n",
    "\n",
    "def plotCrossValidationModel(degree = 1, showGraph = True, k_ = 4):\n",
    "\n",
    "    global y_predict, poly, reg, x_model, x, y \n",
    "    data = df[[\"LSTAT\",\"MEDV\"]]\n",
    "    \n",
    "    k = k_\n",
    "    kfold = KFold(k, True, 103)\n",
    "    r2_train_avg, r2_test_avg = 0, 0\n",
    "    \n",
    "    for train, test in kfold.split(data):\n",
    "        \n",
    "        x_train = data.iloc[train][\"LSTAT\"].values.reshape(-1,1)\n",
    "        y_train = data.iloc[train][\"MEDV\"]\n",
    "        x_test = data.iloc[test][\"LSTAT\"].values.reshape(-1,1)\n",
    "        y_test = data.iloc[test][\"MEDV\"]\n",
    "    \n",
    "        poly = PolynomialFeatures(degree = degree)\n",
    "        x_train_poly = poly.fit_transform(x_train)\n",
    "        x_test_poly = poly.fit_transform(x_test)\n",
    "        reg = LinearRegression().fit(x_train_poly, y_train)\n",
    "    \n",
    "        y_train_predict = reg.predict(x_train_poly)\n",
    "        y_test_predict = reg.predict(x_test_poly)\n",
    "    \n",
    "        x_model = np.linspace(0,40).reshape(-1, 1)\n",
    "        y_model = reg.predict(poly.transform(x_model.reshape(-1,1)))\n",
    "    \n",
    "        r2_train = r2_score(y_train, y_train_predict)\n",
    "        r2_test = r2_score(y_test, y_test_predict)\n",
    "              \n",
    "        r2_train_avg += r2_train\n",
    "        r2_test_avg += r2_test\n",
    "    \n",
    "        if(showGraph):\n",
    "            \n",
    "            plt.scatter(x_train, y_train, alpha = 0.2)\n",
    "            plt.scatter(x_test, y_test, alpha = 0.8)\n",
    "            plt.plot(x_model, y_model, \"--r\", lw = 4)\n",
    "\n",
    "            plt.axis([0, 40, 0, 50])\n",
    "            plt.xlabel(\"LSTAT\")\n",
    "            plt.ylabel(\"MEDV\")\n",
    "\n",
    "            plt.show()\n",
    "\n",
    "            print(\"Entrenamiento = \", r2_train)\n",
    "            print(\"Prueba = \", r2_test)\n",
    "    \n",
    "    print()\n",
    "    print(\"Entrenamiento promedio =\", r2_train_avg/k)\n",
    "    print(\"Prueba promedio =\", r2_test_avg/k)\n",
    "    print()"
   ]
  },
  {
   "cell_type": "code",
   "execution_count": null,
   "metadata": {},
   "outputs": [],
   "source": [
    "plotCrossValidationModel(5)"
   ]
  },
  {
   "cell_type": "code",
   "execution_count": null,
   "metadata": {},
   "outputs": [],
   "source": [
    "plotCrossValidationModel(5, False)\n",
    "plotCrossValidationModel(10, False)\n",
    "plotCrossValidationModel(15, False)\n",
    "plotCrossValidationModel(20, False)"
   ]
  },
  {
   "cell_type": "code",
   "execution_count": null,
   "metadata": {
    "scrolled": false
   },
   "outputs": [],
   "source": [
    "interact(plotCrossValidationModel, degree = (1, 20), k_ = (4,8));"
   ]
  }
 ],
 "metadata": {
  "kernelspec": {
   "display_name": "Python 3 (ipykernel)",
   "language": "python",
   "name": "python3"
  },
  "language_info": {
   "codemirror_mode": {
    "name": "ipython",
    "version": 3
   },
   "file_extension": ".py",
   "mimetype": "text/x-python",
   "name": "python",
   "nbconvert_exporter": "python",
   "pygments_lexer": "ipython3",
   "version": "3.11.1"
  }
 },
 "nbformat": 4,
 "nbformat_minor": 2
}
