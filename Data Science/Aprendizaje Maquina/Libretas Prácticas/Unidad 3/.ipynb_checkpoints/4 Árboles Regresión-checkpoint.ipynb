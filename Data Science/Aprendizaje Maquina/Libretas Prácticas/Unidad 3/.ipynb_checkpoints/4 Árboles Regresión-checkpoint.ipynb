{
 "cells": [
  {
   "cell_type": "markdown",
   "metadata": {},
   "source": [
    "# Obtención y preparación de datos"
   ]
  },
  {
   "cell_type": "code",
   "execution_count": null,
   "metadata": {},
   "outputs": [],
   "source": [
    "from sklearn.datasets import load_boston\n",
    "import pandas as pd\n",
    "import numpy as np\n",
    "\n",
    "import matplotlib.pyplot as plt\n",
    "%matplotlib inline\n",
    "import seaborn as sns\n",
    "\n",
    "from sklearn.preprocessing import MinMaxScaler\n",
    "from sklearn.model_selection import train_test_split\n",
    "from sklearn.metrics import r2_score\n",
    "\n",
    "boston = load_boston()\n",
    "\n",
    "df = pd.DataFrame(boston.data, columns = boston.feature_names)\n",
    "df['MEDV'] = boston.target[df.index]\n",
    "df.head()"
   ]
  },
  {
   "cell_type": "code",
   "execution_count": null,
   "metadata": {},
   "outputs": [],
   "source": [
    "x = df[\"LSTAT\"].values.reshape(-1, 1)\n",
    "y = df[\"MEDV\"].values.reshape(-1, 1)\n",
    "\n",
    "x_scaler = MinMaxScaler()\n",
    "y_scaler = MinMaxScaler()\n",
    "x = x_scaler.fit_transform(x)\n",
    "y = y_scaler.fit_transform(y)\n",
    "\n",
    "x_train, x_test, y_train, y_test = train_test_split(\n",
    "    x, y, test_size = 0.33, random_state = 100)"
   ]
  },
  {
   "cell_type": "markdown",
   "metadata": {},
   "source": [
    "# Nuestro primer árbol de regresión: Árbol de profundidad 2"
   ]
  },
  {
   "cell_type": "code",
   "execution_count": null,
   "metadata": {},
   "outputs": [],
   "source": [
    "from sklearn.tree import DecisionTreeRegressor"
   ]
  },
  {
   "cell_type": "code",
   "execution_count": null,
   "metadata": {},
   "outputs": [],
   "source": [
    "reg = DecisionTreeRegressor(max_depth = 2)"
   ]
  },
  {
   "cell_type": "markdown",
   "metadata": {},
   "source": [
    "#### Nota: Es importante que recordemos que nuestros datos están escalados si usamos el rango de 0.0 hasta 40.0 no se van a ver, ahora nuestros datos están entre 0.0 y 1.0"
   ]
  },
  {
   "cell_type": "code",
   "execution_count": null,
   "metadata": {},
   "outputs": [],
   "source": [
    "reg.fit(x_train, y_train)\n",
    "y_train_predict = reg.predict(x_train)\n",
    "y_test_predict = reg.predict(x_test)"
   ]
  },
  {
   "cell_type": "code",
   "execution_count": null,
   "metadata": {},
   "outputs": [],
   "source": [
    "x_plot = np.linspace(0,1,1000).reshape(-1, 1)\n",
    "y_plot = reg.predict(x_plot)"
   ]
  },
  {
   "cell_type": "code",
   "execution_count": null,
   "metadata": {},
   "outputs": [],
   "source": [
    "plt.scatter(x_train, y_train, alpha = 0.2)\n",
    "plt.scatter(x_test, y_test, alpha = 0.8)\n",
    "plt.plot(x_plot, y_plot, \"r--\", lw = 4)\n",
    "\n",
    "plt.xlabel(\"Scaled: LSTAT\")\n",
    "plt.ylabel(\"Scaled: MEDV\")\n",
    "plt.show()"
   ]
  },
  {
   "cell_type": "code",
   "execution_count": null,
   "metadata": {},
   "outputs": [],
   "source": [
    "print(\"Entrenamiento\", r2_score(y_train, y_train_predict))\n",
    "print(\"Prueba\", r2_score(y_test, y_test_predict))"
   ]
  },
  {
   "cell_type": "markdown",
   "metadata": {},
   "source": [
    "# Usando Graphviz para mostrar el árbol obtenido"
   ]
  },
  {
   "cell_type": "code",
   "execution_count": null,
   "metadata": {},
   "outputs": [],
   "source": [
    "from sklearn.tree import export_graphviz\n",
    "export_graphviz(reg, out_file = \"scaled_tree2.ps\")"
   ]
  },
  {
   "cell_type": "markdown",
   "metadata": {},
   "source": [
    "### Código devuelto\n",
    "digraph Tree {\n",
    "<br>node [shape=box] ;\n",
    "<br>0 [label=\"X[0] <= 0.169\\nmse = 0.039\\nsamples = 339\\nvalue = 0.391\"] ;\n",
    "<br>1 [label=\"X[0] <= 0.08\\nmse = 0.037\\nsamples = 110\\nvalue = 0.583\"] ;\n",
    "<br>0 -> 1 [labeldistance=2.5, labelangle=45, headlabel=\"True\"] ;\n",
    "<br>2 [label=\"mse = 0.03\\nsamples = 31\\nvalue = 0.777\"] ;\n",
    "<br>1 -> 2 ;\n",
    "<br>3 [label=\"mse = 0.019\\nsamples = 79\\nvalue = 0.506\"] ;\n",
    "<br>1 -> 3 ;\n",
    "<br>4 [label=\"X[0] <= 0.396\\nmse = 0.014\\nsamples = 229\\nvalue = 0.298\"] ;\n",
    "<br>0 -> 4 [labeldistance=2.5, labelangle=-45, headlabel=\"False\"] ;\n",
    "<br>5 [label=\"mse = 0.007\\nsamples = 132\\nvalue = 0.366\"] ;\n",
    "<br>4 -> 5 ;\n",
    "<br>6 [label=\"mse = 0.008\\nsamples = 97\\nvalue = 0.206\"] ;\n",
    "<br>4 -> 6 ;\n",
    "<br>}"
   ]
  },
  {
   "cell_type": "markdown",
   "metadata": {},
   "source": [
    "### ¿Cómo transformar el código en una imagén?\n",
    "Alternativa 1: https://edotor.net/\n",
    "<br>Alternativa 2: http://www.webgraphviz.com/\n",
    "<br>Alternativa 3: https://stamm-wilbrandt.de/GraphvizFiddle/#"
   ]
  },
  {
   "cell_type": "markdown",
   "metadata": {},
   "source": [
    "<center><img src=\"img/Tree_2.png\" width = \"80%\"></center>"
   ]
  },
  {
   "cell_type": "markdown",
   "metadata": {},
   "source": [
    "# Árbol de profundidad 3"
   ]
  },
  {
   "cell_type": "code",
   "execution_count": null,
   "metadata": {},
   "outputs": [],
   "source": [
    "x = df[\"LSTAT\"].values.reshape(-1, 1)\n",
    "y = df[\"MEDV\"].values.reshape(-1, 1)\n",
    "\n",
    "x_scaler = MinMaxScaler()\n",
    "y_scaler = MinMaxScaler()\n",
    "x = x_scaler.fit_transform(x)\n",
    "y = y_scaler.fit_transform(y)\n",
    "\n",
    "x_train, x_test, y_train, y_test = train_test_split(\n",
    "    x, y, test_size = 0.33, random_state = 100)"
   ]
  },
  {
   "cell_type": "code",
   "execution_count": null,
   "metadata": {},
   "outputs": [],
   "source": [
    "reg = DecisionTreeRegressor(max_depth = 3)"
   ]
  },
  {
   "cell_type": "code",
   "execution_count": null,
   "metadata": {},
   "outputs": [],
   "source": [
    "reg.fit(x_train, y_train)\n",
    "y_train_predict = reg.predict(x_train)\n",
    "y_test_predict = reg.predict(x_test)"
   ]
  },
  {
   "cell_type": "code",
   "execution_count": null,
   "metadata": {},
   "outputs": [],
   "source": [
    "x_plot = np.linspace(0,1,1000).reshape(-1, 1)\n",
    "y_plot = reg.predict(x_plot)"
   ]
  },
  {
   "cell_type": "code",
   "execution_count": null,
   "metadata": {},
   "outputs": [],
   "source": [
    "plt.scatter(x_train, y_train, alpha = 0.2)\n",
    "plt.scatter(x_test, y_test, alpha = 0.8)\n",
    "plt.plot(x_plot, y_plot, \"r--\", lw = 4)\n",
    "\n",
    "plt.xlabel(\"Scaled: LSTAT\")\n",
    "plt.ylabel(\"Scaled: MEDV\")\n",
    "plt.show()"
   ]
  },
  {
   "cell_type": "code",
   "execution_count": null,
   "metadata": {},
   "outputs": [],
   "source": [
    "print(\"Entrenamiento\", r2_score(y_train, y_train_predict))\n",
    "print(\"Prueba\", r2_score(y_test, y_test_predict))"
   ]
  },
  {
   "cell_type": "code",
   "execution_count": null,
   "metadata": {},
   "outputs": [],
   "source": [
    "from sklearn.tree import export_graphviz\n",
    "export_graphviz(reg, out_file = \"scaled_tree3.ps\")"
   ]
  },
  {
   "cell_type": "markdown",
   "metadata": {},
   "source": [
    "# Ahora tenemos dos nuevos problemas: \n",
    "## 1) Hay mucho código que se reutiliza  \n",
    "## 2) Los datos están escalados "
   ]
  },
  {
   "cell_type": "code",
   "execution_count": null,
   "metadata": {},
   "outputs": [],
   "source": [
    "def arbolRegresionEscalado(max_depth = 2):\n",
    "\n",
    "    x = df[\"LSTAT\"].values.reshape(-1, 1)\n",
    "    y = df[\"MEDV\"].values.reshape(-1, 1)\n",
    "    \n",
    "    x_scaler = MinMaxScaler()\n",
    "    y_scaler = MinMaxScaler()\n",
    "    x = x_scaler.fit_transform(x)\n",
    "    y = y_scaler.fit_transform(y)\n",
    "\n",
    "    x_train, x_test, y_train, y_test = train_test_split(\n",
    "        x, y, test_size = 0.33, random_state = 100)\n",
    "    \n",
    "    reg = DecisionTreeRegressor(max_depth = max_depth)\n",
    "    \n",
    "    reg.fit(x_train, y_train)\n",
    "    y_train_predict = reg.predict(x_train)\n",
    "    y_test_predict = reg.predict(x_test)\n",
    "    \n",
    "    x_plot = np.linspace(0,1,1000).reshape(-1, 1)\n",
    "    y_plot = reg.predict(x_plot)\n",
    "    \n",
    "    plt.scatter(x_train, y_train, alpha = 0.2)\n",
    "    plt.scatter(x_test, y_test, alpha = 0.8)\n",
    "    plt.plot(x_plot, y_plot, \"r--\", lw = 4)\n",
    "\n",
    "    plt.xlabel(\"Scaled: LSTAT\")\n",
    "    plt.ylabel(\"Scaled: MEDV\")\n",
    "    plt.show()\n",
    "    \n",
    "    print(\"Entrenamiento\", r2_score(y_train, y_train_predict))\n",
    "    print(\"Prueba\", r2_score(y_test, y_test_predict))\n",
    "    print()\n",
    "    \n",
    "    file_name = \"scaled_tree\" + str(max_depth) + \".ps\"\n",
    "    file_name = str(file_name)\n",
    "    from sklearn.tree import export_graphviz\n",
    "    export_graphviz(reg, out_file = file_name)"
   ]
  },
  {
   "cell_type": "code",
   "execution_count": null,
   "metadata": {},
   "outputs": [],
   "source": [
    "arbolRegresionEscalado(4)\n",
    "arbolRegresionEscalado(5)\n",
    "arbolRegresionEscalado(6)\n",
    "arbolRegresionEscalado(7)"
   ]
  },
  {
   "cell_type": "markdown",
   "metadata": {},
   "source": [
    "### Para volver a los valores originales utilizaremos:\n",
    "x_scaler.inverse_transform\n",
    "<br>y_scaler.inverse_transform"
   ]
  },
  {
   "cell_type": "code",
   "execution_count": null,
   "metadata": {},
   "outputs": [],
   "source": [
    "def arbolRegresion(max_depth = 2):\n",
    "\n",
    "    x = df[\"LSTAT\"].values.reshape(-1, 1)\n",
    "    y = df[\"MEDV\"].values.reshape(-1, 1)\n",
    "    \n",
    "    x_scaler = MinMaxScaler()\n",
    "    y_scaler = MinMaxScaler()\n",
    "    x = x_scaler.fit_transform(x)\n",
    "    y = y_scaler.fit_transform(y)\n",
    "\n",
    "    x_train, x_test, y_train, y_test = train_test_split(\n",
    "        x, y, test_size = 0.33, random_state = 100)\n",
    "    \n",
    "    reg = DecisionTreeRegressor(max_depth = max_depth)\n",
    "    \n",
    "    reg.fit(x_train, y_train)\n",
    "    y_train_predict = reg.predict(x_train)\n",
    "    y_test_predict = reg.predict(x_test)\n",
    "    \n",
    "    x_plot = np.linspace(0,1,1000).reshape(-1, 1)\n",
    "    y_plot = reg.predict(x_plot)\n",
    "       \n",
    "    plt.scatter(x_scaler.inverse_transform(x_train), y_scaler.inverse_transform(y_train), alpha = 0.2)\n",
    "    plt.scatter(x_scaler.inverse_transform(x_test), y_scaler.inverse_transform(y_test), alpha = 0.8)\n",
    "    plt.plot(x_scaler.inverse_transform(x_plot), y_scaler.inverse_transform(y_plot.reshape(-1,1)), \"r--\", lw = 4)\n",
    "\n",
    "    plt.xlabel(\"LSTAT\")\n",
    "    plt.ylabel(\"MEDV\")\n",
    "    plt.show()\n",
    "    \n",
    "    print(\"Entrenamiento\", r2_score(y_train, y_train_predict))\n",
    "    print(\"Prueba\", r2_score(y_test, y_test_predict))\n",
    "    print()\n",
    "    \n",
    "    file_name = \"tree\" + str(max_depth) + \".ps\"\n",
    "    file_name = str(file_name)\n",
    "    from sklearn.tree import export_graphviz\n",
    "    export_graphviz(reg, out_file = file_name)"
   ]
  },
  {
   "cell_type": "code",
   "execution_count": null,
   "metadata": {},
   "outputs": [],
   "source": [
    "arbolRegresion(4)\n",
    "arbolRegresion(5)\n",
    "arbolRegresion(6)\n",
    "arbolRegresion(7)"
   ]
  }
 ],
 "metadata": {
  "kernelspec": {
   "display_name": "Python 3 (ipykernel)",
   "language": "python",
   "name": "python3"
  },
  "language_info": {
   "codemirror_mode": {
    "name": "ipython",
    "version": 3
   },
   "file_extension": ".py",
   "mimetype": "text/x-python",
   "name": "python",
   "nbconvert_exporter": "python",
   "pygments_lexer": "ipython3",
   "version": "3.11.1"
  }
 },
 "nbformat": 4,
 "nbformat_minor": 2
}
