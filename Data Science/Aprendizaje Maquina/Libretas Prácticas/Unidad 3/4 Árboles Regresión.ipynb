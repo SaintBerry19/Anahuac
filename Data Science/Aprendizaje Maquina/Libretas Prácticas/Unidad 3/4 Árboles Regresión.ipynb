{
 "cells": [
  {
   "cell_type": "markdown",
   "metadata": {},
   "source": [
    "# Obtención y preparación de datos"
   ]
  },
  {
   "cell_type": "code",
   "execution_count": 1,
   "metadata": {},
   "outputs": [
    {
     "name": "stderr",
     "output_type": "stream",
     "text": [
      "C:\\Users\\User\\AppData\\Local\\Programs\\Python\\Python311\\Lib\\site-packages\\sklearn\\utils\\deprecation.py:87: FutureWarning: Function load_boston is deprecated; `load_boston` is deprecated in 1.0 and will be removed in 1.2.\n",
      "\n",
      "    The Boston housing prices dataset has an ethical problem. You can refer to\n",
      "    the documentation of this function for further details.\n",
      "\n",
      "    The scikit-learn maintainers therefore strongly discourage the use of this\n",
      "    dataset unless the purpose of the code is to study and educate about\n",
      "    ethical issues in data science and machine learning.\n",
      "\n",
      "    In this special case, you can fetch the dataset from the original\n",
      "    source::\n",
      "\n",
      "        import pandas as pd\n",
      "        import numpy as np\n",
      "\n",
      "        data_url = \"http://lib.stat.cmu.edu/datasets/boston\"\n",
      "        raw_df = pd.read_csv(data_url, sep=\"\\s+\", skiprows=22, header=None)\n",
      "        data = np.hstack([raw_df.values[::2, :], raw_df.values[1::2, :2]])\n",
      "        target = raw_df.values[1::2, 2]\n",
      "\n",
      "    Alternative datasets include the California housing dataset (i.e.\n",
      "    :func:`~sklearn.datasets.fetch_california_housing`) and the Ames housing\n",
      "    dataset. You can load the datasets as follows::\n",
      "\n",
      "        from sklearn.datasets import fetch_california_housing\n",
      "        housing = fetch_california_housing()\n",
      "\n",
      "    for the California housing dataset and::\n",
      "\n",
      "        from sklearn.datasets import fetch_openml\n",
      "        housing = fetch_openml(name=\"house_prices\", as_frame=True)\n",
      "\n",
      "    for the Ames housing dataset.\n",
      "  warnings.warn(msg, category=FutureWarning)\n"
     ]
    },
    {
     "data": {
      "text/html": [
       "<div>\n",
       "<style scoped>\n",
       "    .dataframe tbody tr th:only-of-type {\n",
       "        vertical-align: middle;\n",
       "    }\n",
       "\n",
       "    .dataframe tbody tr th {\n",
       "        vertical-align: top;\n",
       "    }\n",
       "\n",
       "    .dataframe thead th {\n",
       "        text-align: right;\n",
       "    }\n",
       "</style>\n",
       "<table border=\"1\" class=\"dataframe\">\n",
       "  <thead>\n",
       "    <tr style=\"text-align: right;\">\n",
       "      <th></th>\n",
       "      <th>CRIM</th>\n",
       "      <th>ZN</th>\n",
       "      <th>INDUS</th>\n",
       "      <th>CHAS</th>\n",
       "      <th>NOX</th>\n",
       "      <th>RM</th>\n",
       "      <th>AGE</th>\n",
       "      <th>DIS</th>\n",
       "      <th>RAD</th>\n",
       "      <th>TAX</th>\n",
       "      <th>PTRATIO</th>\n",
       "      <th>B</th>\n",
       "      <th>LSTAT</th>\n",
       "      <th>MEDV</th>\n",
       "    </tr>\n",
       "  </thead>\n",
       "  <tbody>\n",
       "    <tr>\n",
       "      <th>0</th>\n",
       "      <td>0.00632</td>\n",
       "      <td>18.0</td>\n",
       "      <td>2.31</td>\n",
       "      <td>0.0</td>\n",
       "      <td>0.538</td>\n",
       "      <td>6.575</td>\n",
       "      <td>65.2</td>\n",
       "      <td>4.0900</td>\n",
       "      <td>1.0</td>\n",
       "      <td>296.0</td>\n",
       "      <td>15.3</td>\n",
       "      <td>396.90</td>\n",
       "      <td>4.98</td>\n",
       "      <td>24.0</td>\n",
       "    </tr>\n",
       "    <tr>\n",
       "      <th>1</th>\n",
       "      <td>0.02731</td>\n",
       "      <td>0.0</td>\n",
       "      <td>7.07</td>\n",
       "      <td>0.0</td>\n",
       "      <td>0.469</td>\n",
       "      <td>6.421</td>\n",
       "      <td>78.9</td>\n",
       "      <td>4.9671</td>\n",
       "      <td>2.0</td>\n",
       "      <td>242.0</td>\n",
       "      <td>17.8</td>\n",
       "      <td>396.90</td>\n",
       "      <td>9.14</td>\n",
       "      <td>21.6</td>\n",
       "    </tr>\n",
       "    <tr>\n",
       "      <th>2</th>\n",
       "      <td>0.02729</td>\n",
       "      <td>0.0</td>\n",
       "      <td>7.07</td>\n",
       "      <td>0.0</td>\n",
       "      <td>0.469</td>\n",
       "      <td>7.185</td>\n",
       "      <td>61.1</td>\n",
       "      <td>4.9671</td>\n",
       "      <td>2.0</td>\n",
       "      <td>242.0</td>\n",
       "      <td>17.8</td>\n",
       "      <td>392.83</td>\n",
       "      <td>4.03</td>\n",
       "      <td>34.7</td>\n",
       "    </tr>\n",
       "    <tr>\n",
       "      <th>3</th>\n",
       "      <td>0.03237</td>\n",
       "      <td>0.0</td>\n",
       "      <td>2.18</td>\n",
       "      <td>0.0</td>\n",
       "      <td>0.458</td>\n",
       "      <td>6.998</td>\n",
       "      <td>45.8</td>\n",
       "      <td>6.0622</td>\n",
       "      <td>3.0</td>\n",
       "      <td>222.0</td>\n",
       "      <td>18.7</td>\n",
       "      <td>394.63</td>\n",
       "      <td>2.94</td>\n",
       "      <td>33.4</td>\n",
       "    </tr>\n",
       "    <tr>\n",
       "      <th>4</th>\n",
       "      <td>0.06905</td>\n",
       "      <td>0.0</td>\n",
       "      <td>2.18</td>\n",
       "      <td>0.0</td>\n",
       "      <td>0.458</td>\n",
       "      <td>7.147</td>\n",
       "      <td>54.2</td>\n",
       "      <td>6.0622</td>\n",
       "      <td>3.0</td>\n",
       "      <td>222.0</td>\n",
       "      <td>18.7</td>\n",
       "      <td>396.90</td>\n",
       "      <td>5.33</td>\n",
       "      <td>36.2</td>\n",
       "    </tr>\n",
       "  </tbody>\n",
       "</table>\n",
       "</div>"
      ],
      "text/plain": [
       "      CRIM    ZN  INDUS  CHAS    NOX     RM   AGE     DIS  RAD    TAX  \\\n",
       "0  0.00632  18.0   2.31   0.0  0.538  6.575  65.2  4.0900  1.0  296.0   \n",
       "1  0.02731   0.0   7.07   0.0  0.469  6.421  78.9  4.9671  2.0  242.0   \n",
       "2  0.02729   0.0   7.07   0.0  0.469  7.185  61.1  4.9671  2.0  242.0   \n",
       "3  0.03237   0.0   2.18   0.0  0.458  6.998  45.8  6.0622  3.0  222.0   \n",
       "4  0.06905   0.0   2.18   0.0  0.458  7.147  54.2  6.0622  3.0  222.0   \n",
       "\n",
       "   PTRATIO       B  LSTAT  MEDV  \n",
       "0     15.3  396.90   4.98  24.0  \n",
       "1     17.8  396.90   9.14  21.6  \n",
       "2     17.8  392.83   4.03  34.7  \n",
       "3     18.7  394.63   2.94  33.4  \n",
       "4     18.7  396.90   5.33  36.2  "
      ]
     },
     "execution_count": 1,
     "metadata": {},
     "output_type": "execute_result"
    }
   ],
   "source": [
    "from sklearn.datasets import load_boston\n",
    "import pandas as pd\n",
    "import numpy as np\n",
    "\n",
    "import matplotlib.pyplot as plt\n",
    "%matplotlib inline\n",
    "import seaborn as sns\n",
    "\n",
    "from sklearn.preprocessing import MinMaxScaler\n",
    "from sklearn.model_selection import train_test_split\n",
    "from sklearn.metrics import r2_score\n",
    "\n",
    "boston = load_boston()\n",
    "\n",
    "df = pd.DataFrame(boston.data, columns = boston.feature_names)\n",
    "df['MEDV'] = boston.target[df.index]\n",
    "df.head()"
   ]
  },
  {
   "cell_type": "code",
   "execution_count": 2,
   "metadata": {},
   "outputs": [],
   "source": [
    "x = df[\"LSTAT\"].values.reshape(-1, 1)\n",
    "y = df[\"MEDV\"].values.reshape(-1, 1)\n",
    "\n",
    "x_scaler = MinMaxScaler()\n",
    "y_scaler = MinMaxScaler()\n",
    "x = x_scaler.fit_transform(x)\n",
    "y = y_scaler.fit_transform(y)\n",
    "\n",
    "x_train, x_test, y_train, y_test = train_test_split(\n",
    "    x, y, test_size = 0.33, random_state = 100)"
   ]
  },
  {
   "cell_type": "markdown",
   "metadata": {},
   "source": [
    "# Nuestro primer árbol de regresión: Árbol de profundidad 2"
   ]
  },
  {
   "cell_type": "code",
   "execution_count": 3,
   "metadata": {},
   "outputs": [],
   "source": [
    "from sklearn.tree import DecisionTreeRegressor"
   ]
  },
  {
   "cell_type": "code",
   "execution_count": 4,
   "metadata": {},
   "outputs": [],
   "source": [
    "reg = DecisionTreeRegressor(max_depth = 2)"
   ]
  },
  {
   "cell_type": "markdown",
   "metadata": {},
   "source": [
    "#### Nota: Es importante que recordemos que nuestros datos están escalados si usamos el rango de 0.0 hasta 40.0 no se van a ver, ahora nuestros datos están entre 0.0 y 1.0"
   ]
  },
  {
   "cell_type": "code",
   "execution_count": 5,
   "metadata": {},
   "outputs": [],
   "source": [
    "reg.fit(x_train, y_train)\n",
    "y_train_predict = reg.predict(x_train)\n",
    "y_test_predict = reg.predict(x_test)"
   ]
  },
  {
   "cell_type": "code",
   "execution_count": 6,
   "metadata": {},
   "outputs": [],
   "source": [
    "x_plot = np.linspace(0,1,1000).reshape(-1, 1)\n",
    "y_plot = reg.predict(x_plot)"
   ]
  },
  {
   "cell_type": "code",
   "execution_count": 7,
   "metadata": {},
   "outputs": [
    {
     "data": {
      "image/png": "[encoded data removed]",
      "text/plain": [
       "<Figure size 640x480 with 1 Axes>"
      ]
     },
     "metadata": {},
     "output_type": "display_data"
    }
   ],
   "source": [
    "plt.scatter(x_train, y_train, alpha = 0.2)\n",
    "plt.scatter(x_test, y_test, alpha = 0.8)\n",
    "plt.plot(x_plot, y_plot, \"r--\", lw = 4)\n",
    "\n",
    "plt.xlabel(\"Scaled: LSTAT\")\n",
    "plt.ylabel(\"Scaled: MEDV\")\n",
    "plt.show()"
   ]
  },
  {
   "cell_type": "code",
   "execution_count": null,
   "metadata": {},
   "outputs": [],
   "source": [
    "print(\"Entrenamiento\", r2_score(y_train, y_train_predict))\n",
    "print(\"Prueba\", r2_score(y_test, y_test_predict))"
   ]
  },
  {
   "cell_type": "markdown",
   "metadata": {},
   "source": [
    "# Usando Graphviz para mostrar el árbol obtenido"
   ]
  },
  {
   "cell_type": "code",
   "execution_count": null,
   "metadata": {},
   "outputs": [],
   "source": [
    "from sklearn.tree import export_graphviz\n",
    "export_graphviz(reg, out_file = \"scaled_tree2.ps\")"
   ]
  },
  {
   "cell_type": "markdown",
   "metadata": {},
   "source": [
    "### Código devuelto\n",
    "digraph Tree {\n",
    "<br>node [shape=box] ;\n",
    "<br>0 [label=\"X[0] <= 0.169\\nmse = 0.039\\nsamples = 339\\nvalue = 0.391\"] ;\n",
    "<br>1 [label=\"X[0] <= 0.08\\nmse = 0.037\\nsamples = 110\\nvalue = 0.583\"] ;\n",
    "<br>0 -> 1 [labeldistance=2.5, labelangle=45, headlabel=\"True\"] ;\n",
    "<br>2 [label=\"mse = 0.03\\nsamples = 31\\nvalue = 0.777\"] ;\n",
    "<br>1 -> 2 ;\n",
    "<br>3 [label=\"mse = 0.019\\nsamples = 79\\nvalue = 0.506\"] ;\n",
    "<br>1 -> 3 ;\n",
    "<br>4 [label=\"X[0] <= 0.396\\nmse = 0.014\\nsamples = 229\\nvalue = 0.298\"] ;\n",
    "<br>0 -> 4 [labeldistance=2.5, labelangle=-45, headlabel=\"False\"] ;\n",
    "<br>5 [label=\"mse = 0.007\\nsamples = 132\\nvalue = 0.366\"] ;\n",
    "<br>4 -> 5 ;\n",
    "<br>6 [label=\"mse = 0.008\\nsamples = 97\\nvalue = 0.206\"] ;\n",
    "<br>4 -> 6 ;\n",
    "<br>}"
   ]
  },
  {
   "cell_type": "markdown",
   "metadata": {},
   "source": [
    "### ¿Cómo transformar el código en una imagén?\n",
    "Alternativa 1: https://edotor.net/\n",
    "<br>Alternativa 2: http://www.webgraphviz.com/\n",
    "<br>Alternativa 3: https://stamm-wilbrandt.de/GraphvizFiddle/#"
   ]
  },
  {
   "cell_type": "markdown",
   "metadata": {},
   "source": [
    "<center><img src=\"img/Tree_2.png\" width = \"80%\"></center>"
   ]
  },
  {
   "cell_type": "markdown",
   "metadata": {},
   "source": [
    "# Árbol de profundidad 3"
   ]
  },
  {
   "cell_type": "code",
   "execution_count": null,
   "metadata": {},
   "outputs": [],
   "source": [
    "x = df[\"LSTAT\"].values.reshape(-1, 1)\n",
    "y = df[\"MEDV\"].values.reshape(-1, 1)\n",
    "\n",
    "x_scaler = MinMaxScaler()\n",
    "y_scaler = MinMaxScaler()\n",
    "x = x_scaler.fit_transform(x)\n",
    "y = y_scaler.fit_transform(y)\n",
    "\n",
    "x_train, x_test, y_train, y_test = train_test_split(\n",
    "    x, y, test_size = 0.33, random_state = 100)"
   ]
  },
  {
   "cell_type": "code",
   "execution_count": null,
   "metadata": {},
   "outputs": [],
   "source": [
    "reg = DecisionTreeRegressor(max_depth = 3)"
   ]
  },
  {
   "cell_type": "code",
   "execution_count": null,
   "metadata": {},
   "outputs": [],
   "source": [
    "reg.fit(x_train, y_train)\n",
    "y_train_predict = reg.predict(x_train)\n",
    "y_test_predict = reg.predict(x_test)"
   ]
  },
  {
   "cell_type": "code",
   "execution_count": null,
   "metadata": {},
   "outputs": [],
   "source": [
    "x_plot = np.linspace(0,1,1000).reshape(-1, 1)\n",
    "y_plot = reg.predict(x_plot)"
   ]
  },
  {
   "cell_type": "code",
   "execution_count": null,
   "metadata": {},
   "outputs": [],
   "source": [
    "plt.scatter(x_train, y_train, alpha = 0.2)\n",
    "plt.scatter(x_test, y_test, alpha = 0.8)\n",
    "plt.plot(x_plot, y_plot, \"r--\", lw = 4)\n",
    "\n",
    "plt.xlabel(\"Scaled: LSTAT\")\n",
    "plt.ylabel(\"Scaled: MEDV\")\n",
    "plt.show()"
   ]
  },
  {
   "cell_type": "code",
   "execution_count": null,
   "metadata": {},
   "outputs": [],
   "source": [
    "print(\"Entrenamiento\", r2_score(y_train, y_train_predict))\n",
    "print(\"Prueba\", r2_score(y_test, y_test_predict))"
   ]
  },
  {
   "cell_type": "code",
   "execution_count": null,
   "metadata": {},
   "outputs": [],
   "source": [
    "from sklearn.tree import export_graphviz\n",
    "export_graphviz(reg, out_file = \"scaled_tree3.ps\")"
   ]
  },
  {
   "cell_type": "markdown",
   "metadata": {},
   "source": [
    "# Ahora tenemos dos nuevos problemas: \n",
    "## 1) Hay mucho código que se reutiliza  \n",
    "## 2) Los datos están escalados "
   ]
  },
  {
   "cell_type": "code",
   "execution_count": null,
   "metadata": {},
   "outputs": [],
   "source": [
    "def arbolRegresionEscalado(max_depth = 2):\n",
    "\n",
    "    x = df[\"LSTAT\"].values.reshape(-1, 1)\n",
    "    y = df[\"MEDV\"].values.reshape(-1, 1)\n",
    "    \n",
    "    x_scaler = MinMaxScaler()\n",
    "    y_scaler = MinMaxScaler()\n",
    "    x = x_scaler.fit_transform(x)\n",
    "    y = y_scaler.fit_transform(y)\n",
    "\n",
    "    x_train, x_test, y_train, y_test = train_test_split(\n",
    "        x, y, test_size = 0.33, random_state = 100)\n",
    "    \n",
    "    reg = DecisionTreeRegressor(max_depth = max_depth)\n",
    "    \n",
    "    reg.fit(x_train, y_train)\n",
    "    y_train_predict = reg.predict(x_train)\n",
    "    y_test_predict = reg.predict(x_test)\n",
    "    \n",
    "    x_plot = np.linspace(0,1,1000).reshape(-1, 1)\n",
    "    y_plot = reg.predict(x_plot)\n",
    "    \n",
    "    plt.scatter(x_train, y_train, alpha = 0.2)\n",
    "    plt.scatter(x_test, y_test, alpha = 0.8)\n",
    "    plt.plot(x_plot, y_plot, \"r--\", lw = 4)\n",
    "\n",
    "    plt.xlabel(\"Scaled: LSTAT\")\n",
    "    plt.ylabel(\"Scaled: MEDV\")\n",
    "    plt.show()\n",
    "    \n",
    "    print(\"Entrenamiento\", r2_score(y_train, y_train_predict))\n",
    "    print(\"Prueba\", r2_score(y_test, y_test_predict))\n",
    "    print()\n",
    "    \n",
    "    file_name = \"scaled_tree\" + str(max_depth) + \".ps\"\n",
    "    file_name = str(file_name)\n",
    "    from sklearn.tree import export_graphviz\n",
    "    export_graphviz(reg, out_file = file_name)"
   ]
  },
  {
   "cell_type": "code",
   "execution_count": null,
   "metadata": {},
   "outputs": [],
   "source": [
    "arbolRegresionEscalado(4)\n",
    "arbolRegresionEscalado(5)\n",
    "arbolRegresionEscalado(6)\n",
    "arbolRegresionEscalado(7)"
   ]
  },
  {
   "cell_type": "markdown",
   "metadata": {},
   "source": [
    "### Para volver a los valores originales utilizaremos:\n",
    "x_scaler.inverse_transform\n",
    "<br>y_scaler.inverse_transform"
   ]
  },
  {
   "cell_type": "code",
   "execution_count": null,
   "metadata": {},
   "outputs": [],
   "source": [
    "def arbolRegresion(max_depth = 2):\n",
    "\n",
    "    x = df[\"LSTAT\"].values.reshape(-1, 1)\n",
    "    y = df[\"MEDV\"].values.reshape(-1, 1)\n",
    "    \n",
    "    x_scaler = MinMaxScaler()\n",
    "    y_scaler = MinMaxScaler()\n",
    "    x = x_scaler.fit_transform(x)\n",
    "    y = y_scaler.fit_transform(y)\n",
    "\n",
    "    x_train, x_test, y_train, y_test = train_test_split(\n",
    "        x, y, test_size = 0.33, random_state = 100)\n",
    "    \n",
    "    reg = DecisionTreeRegressor(max_depth = max_depth)\n",
    "    \n",
    "    reg.fit(x_train, y_train)\n",
    "    y_train_predict = reg.predict(x_train)\n",
    "    y_test_predict = reg.predict(x_test)\n",
    "    \n",
    "    x_plot = np.linspace(0,1,1000).reshape(-1, 1)\n",
    "    y_plot = reg.predict(x_plot)\n",
    "       \n",
    "    plt.scatter(x_scaler.inverse_transform(x_train), y_scaler.inverse_transform(y_train), alpha = 0.2)\n",
    "    plt.scatter(x_scaler.inverse_transform(x_test), y_scaler.inverse_transform(y_test), alpha = 0.8)\n",
    "    plt.plot(x_scaler.inverse_transform(x_plot), y_scaler.inverse_transform(y_plot.reshape(-1,1)), \"r--\", lw = 4)\n",
    "\n",
    "    plt.xlabel(\"LSTAT\")\n",
    "    plt.ylabel(\"MEDV\")\n",
    "    plt.show()\n",
    "    \n",
    "    print(\"Entrenamiento\", r2_score(y_train, y_train_predict))\n",
    "    print(\"Prueba\", r2_score(y_test, y_test_predict))\n",
    "    print()\n",
    "    \n",
    "    file_name = \"tree\" + str(max_depth) + \".ps\"\n",
    "    file_name = str(file_name)\n",
    "    from sklearn.tree import export_graphviz\n",
    "    export_graphviz(reg, out_file = file_name)"
   ]
  },
  {
   "cell_type": "code",
   "execution_count": null,
   "metadata": {},
   "outputs": [],
   "source": [
    "arbolRegresion(4)\n",
    "arbolRegresion(5)\n",
    "arbolRegresion(6)\n",
    "arbolRegresion(7)"
   ]
  }
 ],
 "metadata": {
  "kernelspec": {
   "display_name": "Python 3 (ipykernel)",
   "language": "python",
   "name": "python3"
  },
  "language_info": {
   "codemirror_mode": {
    "name": "ipython",
    "version": 3
   },
   "file_extension": ".py",
   "mimetype": "text/x-python",
   "name": "python",
   "nbconvert_exporter": "python",
   "pygments_lexer": "ipython3",
   "version": "3.11.1"
  }
 },
 "nbformat": 4,
 "nbformat_minor": 2
}
