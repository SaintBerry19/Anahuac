{
 "cells": [
  {
   "cell_type": "markdown",
   "metadata": {},
   "source": [
    "# Problema de Clustering"
   ]
  },
  {
   "cell_type": "markdown",
   "metadata": {},
   "source": [
    "<p style='text-align: justify;'>Es el problema encargado de agrupar un conjunto de datos, objetos, clientes, productos u objetos de tal forma que los elementos del mismo conjunto (Clúster) compartan características similares.</p>"
   ]
  },
  {
   "cell_type": "markdown",
   "metadata": {},
   "source": [
    "<center><img src=\"img/Clustering1.png\" width = \"70%\"></center>"
   ]
  },
  {
   "cell_type": "markdown",
   "metadata": {},
   "source": [
    "<p style='text-align: justify;'>En este primer y sencillo ejemplo visual separaremos al conjunto de datos en cuatro clústeres diferentes, tal como se muestra en la siguiente figura.</p>"
   ]
  },
  {
   "cell_type": "markdown",
   "metadata": {},
   "source": [
    "<center><img src=\"img/Clustering2.png\" width = \"70%\"></center>"
   ]
  },
  {
   "cell_type": "markdown",
   "metadata": {},
   "source": [
    "## Ejemplo 1) Empecemos a trabajar con un conjunto de datos sintéticos."
   ]
  },
  {
   "cell_type": "code",
   "execution_count": null,
   "metadata": {},
   "outputs": [],
   "source": [
    "import numpy as np\n",
    "import matplotlib.pyplot as plt\n",
    "%matplotlib inline\n",
    "import seaborn as sns\n",
    "sns.set()"
   ]
  },
  {
   "cell_type": "markdown",
   "metadata": {},
   "source": [
    "#### Función \"make_blobs\""
   ]
  },
  {
   "cell_type": "markdown",
   "metadata": {},
   "source": [
    "<b>Actualización 2022:</b>\n",
    "<br>\n",
    "<br>La versión más reciente de scikit-learn ha simplificado el módulo sklearn.datasets.samples_generator, por lo que la siguiente celda contiene la nueva forma de acceder a la función make_blobs.\n",
    "<br>\n",
    "<br>Para evitar el error <b>No module named 'sklearn.datasets.samples_generator'</b>."
   ]
  },
  {
   "cell_type": "code",
   "execution_count": null,
   "metadata": {},
   "outputs": [],
   "source": [
    "from sklearn.datasets import make_blobs\n",
    "x, y_true = make_blobs(n_samples = 300, centers = 4, random_state = 70)\n",
    "plt.scatter(x[:, 0], x[:, 1], s=50)\n",
    "plt.show()"
   ]
  },
  {
   "cell_type": "code",
   "execution_count": null,
   "metadata": {},
   "outputs": [],
   "source": [
    "plt.scatter(x[:, 0], x[:, 1], c=y_true, s=50, cmap='autumn')\n",
    "plt.show()"
   ]
  },
  {
   "cell_type": "markdown",
   "metadata": {},
   "source": [
    "### Algoritmo K-Means."
   ]
  },
  {
   "cell_type": "code",
   "execution_count": null,
   "metadata": {},
   "outputs": [],
   "source": [
    "from sklearn.cluster import KMeans\n",
    "kmeans = KMeans(n_clusters=4)\n",
    "kmeans.fit(x)"
   ]
  },
  {
   "cell_type": "code",
   "execution_count": null,
   "metadata": {},
   "outputs": [],
   "source": [
    "kmeans.labels_"
   ]
  },
  {
   "cell_type": "code",
   "execution_count": null,
   "metadata": {},
   "outputs": [],
   "source": [
    "y_kmeans = kmeans.predict(x)\n",
    "y_kmeans"
   ]
  },
  {
   "cell_type": "code",
   "execution_count": null,
   "metadata": {},
   "outputs": [],
   "source": [
    "plt.scatter(x[:, 0], x[:, 1], c=y_kmeans, s=50, cmap='autumn', alpha=0.6)\n",
    "centers = kmeans.cluster_centers_\n",
    "plt.scatter(centers[:, 0], centers[:, 1], c='black', s=200, alpha=0.7)\n",
    "plt.show()"
   ]
  },
  {
   "cell_type": "code",
   "execution_count": null,
   "metadata": {},
   "outputs": [],
   "source": [
    "centers"
   ]
  },
  {
   "cell_type": "markdown",
   "metadata": {},
   "source": [
    "## Ejemplo 2) Variando el número de Clusters."
   ]
  },
  {
   "cell_type": "code",
   "execution_count": null,
   "metadata": {},
   "outputs": [],
   "source": [
    "x, y_true = make_blobs(random_state=1)"
   ]
  },
  {
   "cell_type": "code",
   "execution_count": null,
   "metadata": {},
   "outputs": [],
   "source": [
    "kmeans = KMeans(n_clusters=2)\n",
    "kmeans.fit(x)"
   ]
  },
  {
   "cell_type": "code",
   "execution_count": null,
   "metadata": {},
   "outputs": [],
   "source": [
    "y_kmeans = kmeans.predict(x)\n",
    "y_kmeans"
   ]
  },
  {
   "cell_type": "code",
   "execution_count": null,
   "metadata": {},
   "outputs": [],
   "source": [
    "plt.scatter(x[:, 0], x[:, 1], c=y_kmeans, s=50, cmap='autumn', alpha=0.6)\n",
    "centers = kmeans.cluster_centers_\n",
    "plt.scatter(centers[:, 0], centers[:, 1], c='black', s=200, alpha=0.7)\n",
    "plt.show()"
   ]
  },
  {
   "cell_type": "markdown",
   "metadata": {},
   "source": [
    "### Compactemos lo anterior escribiendo una función."
   ]
  },
  {
   "cell_type": "code",
   "execution_count": null,
   "metadata": {},
   "outputs": [],
   "source": [
    "def BasicKMeans(clusters = 2):\n",
    "    x, y_true = make_blobs(random_state=1)\n",
    "    \n",
    "    kmeans = KMeans(n_clusters = clusters)\n",
    "    kmeans.fit(x)\n",
    "    \n",
    "    y_kmeans = kmeans.predict(x)\n",
    "    y_kmeans\n",
    "    \n",
    "    plt.scatter(x[:, 0], x[:, 1], c=y_kmeans, s=50, cmap='autumn', alpha=0.6)\n",
    "    centers = kmeans.cluster_centers_\n",
    "    plt.scatter(centers[:, 0], centers[:, 1], c='black', s=200, alpha=0.7)\n",
    "    plt.show()"
   ]
  },
  {
   "cell_type": "code",
   "execution_count": null,
   "metadata": {},
   "outputs": [],
   "source": [
    "BasicKMeans(3)"
   ]
  },
  {
   "cell_type": "code",
   "execution_count": null,
   "metadata": {},
   "outputs": [],
   "source": [
    "BasicKMeans(4)"
   ]
  },
  {
   "cell_type": "markdown",
   "metadata": {},
   "source": [
    "### Retomemos la función interactive."
   ]
  },
  {
   "cell_type": "code",
   "execution_count": null,
   "metadata": {},
   "outputs": [],
   "source": [
    "from ipywidgets import interact, interactive, fixed, interact_manual\n",
    "import ipywidgets as widgets\n",
    "    \n",
    "interact(BasicKMeans, clusters = (2, 8));"
   ]
  },
  {
   "cell_type": "markdown",
   "metadata": {},
   "source": [
    "## Ejemplo 3) Casos donde el algoritmo de K-Means puede fallar."
   ]
  },
  {
   "cell_type": "markdown",
   "metadata": {},
   "source": [
    "### Casos donde no existe una consistente distribución de los datos."
   ]
  },
  {
   "cell_type": "code",
   "execution_count": null,
   "metadata": {},
   "outputs": [],
   "source": [
    "x, y_true = make_blobs(n_samples = 200,\n",
    "                      cluster_std = [1.0, 2.5, 0.5],\n",
    "                      random_state = 180)\n",
    "\n",
    "kmeans = KMeans(n_clusters = 3)\n",
    "kmeans.fit(x)\n",
    "\n",
    "y_kmeans = kmeans.predict(x)\n",
    "y_kmeans\n",
    "\n",
    "plt.scatter(x[:, 0], x[:, 1], c=y_kmeans, s=50, cmap='autumn', alpha=0.6)\n",
    "centers = kmeans.cluster_centers_\n",
    "plt.scatter(centers[:, 0], centers[:, 1], c='black', s=200, alpha=0.7)\n",
    "plt.show()"
   ]
  },
  {
   "cell_type": "code",
   "execution_count": null,
   "metadata": {},
   "outputs": [],
   "source": [
    "def DiferenteDistribucion(clusters = 2):\n",
    "    x, y_true = make_blobs(n_samples = 200,\n",
    "                      cluster_std = [1.0, 2.5, 0.5],\n",
    "                      random_state = 180)\n",
    "\n",
    "    kmeans = KMeans(n_clusters = clusters)\n",
    "    kmeans.fit(x)\n",
    "\n",
    "    y_kmeans = kmeans.predict(x)\n",
    "    y_kmeans\n",
    "\n",
    "    plt.scatter(x[:, 0], x[:, 1], c=y_kmeans, s=50, cmap='autumn', alpha=0.6)\n",
    "    centers = kmeans.cluster_centers_\n",
    "    plt.scatter(centers[:, 0], centers[:, 1], c='black', s=200, alpha=0.7)\n",
    "    plt.show()\n",
    "    \n",
    "interact(DiferenteDistribucion, clusters = (2, 8));"
   ]
  },
  {
   "cell_type": "markdown",
   "metadata": {},
   "source": [
    "### Casos donde la distribución de los datos no se puede representar por un espacio circular."
   ]
  },
  {
   "cell_type": "code",
   "execution_count": null,
   "metadata": {},
   "outputs": [],
   "source": [
    "x, y_true = make_blobs(n_samples = 600,\n",
    "                       random_state = 170)\n",
    "plt.scatter(x[:, 0], x[:, 1])"
   ]
  },
  {
   "cell_type": "code",
   "execution_count": null,
   "metadata": {},
   "outputs": [],
   "source": [
    "rng = np.random.RandomState(74)\n",
    "transformation = rng.normal(size=(2,2))\n",
    "transformation"
   ]
  },
  {
   "cell_type": "code",
   "execution_count": null,
   "metadata": {},
   "outputs": [],
   "source": [
    "x = np.dot(x, transformation)\n",
    "plt.scatter(x[:, 0], x[:, 1])"
   ]
  },
  {
   "cell_type": "code",
   "execution_count": null,
   "metadata": {},
   "outputs": [],
   "source": [
    "kmeans = KMeans(n_clusters = 3)\n",
    "kmeans.fit(x)\n",
    "\n",
    "y_kmeans = kmeans.predict(x)\n",
    "y_kmeans\n",
    "\n",
    "plt.scatter(x[:, 0], x[:, 1], c=y_kmeans, s=50, cmap='autumn', alpha=0.6)\n",
    "centers = kmeans.cluster_centers_\n",
    "plt.scatter(centers[:, 0], centers[:, 1], c='black', s=200, alpha=0.7)\n",
    "plt.show()"
   ]
  },
  {
   "cell_type": "code",
   "execution_count": null,
   "metadata": {},
   "outputs": [],
   "source": [
    "def DiferenteForma(clusters = 2):\n",
    "    x, y_true = make_blobs(n_samples = 600,\n",
    "                       random_state = 170)\n",
    "    \n",
    "    rng = np.random.RandomState(74)\n",
    "    transformation = rng.normal(size=(2,2))\n",
    "    \n",
    "    x = np.dot(x, transformation)\n",
    "    \n",
    "    kmeans = KMeans(n_clusters = clusters)\n",
    "    kmeans.fit(x)\n",
    "\n",
    "    y_kmeans = kmeans.predict(x)\n",
    "    y_kmeans\n",
    "\n",
    "    plt.scatter(x[:, 0], x[:, 1], c=y_kmeans, s=50, cmap='autumn', alpha=0.6)\n",
    "    centers = kmeans.cluster_centers_\n",
    "    plt.scatter(centers[:, 0], centers[:, 1], c='black', s=200, alpha=0.7)\n",
    "    plt.show()\n",
    "    \n",
    "interact(DiferenteForma, clusters = (2, 8));"
   ]
  },
  {
   "cell_type": "markdown",
   "metadata": {},
   "source": [
    "### Casos donde los datos generar formas complejas."
   ]
  },
  {
   "cell_type": "markdown",
   "metadata": {},
   "source": [
    "#### Función \"make_moons\""
   ]
  },
  {
   "cell_type": "code",
   "execution_count": null,
   "metadata": {},
   "outputs": [],
   "source": [
    "from sklearn.datasets import make_moons\n",
    "x, y_true = make_moons(n_samples = 100,\n",
    "                       random_state = 100)\n",
    "plt.scatter(x[:, 0], x[:, 1])"
   ]
  },
  {
   "cell_type": "code",
   "execution_count": null,
   "metadata": {},
   "outputs": [],
   "source": [
    "x, y_true = make_moons(n_samples = 100, noise = 0.1,\n",
    "                       random_state = 100)\n",
    "plt.scatter(x[:, 0], x[:, 1])"
   ]
  },
  {
   "cell_type": "code",
   "execution_count": null,
   "metadata": {},
   "outputs": [],
   "source": [
    "kmeans = KMeans(n_clusters = 2)\n",
    "kmeans.fit(x)\n",
    "\n",
    "y_kmeans = kmeans.predict(x)\n",
    "y_kmeans\n",
    "\n",
    "plt.scatter(x[:, 0], x[:, 1], c=y_kmeans, s=50, cmap='autumn', alpha=0.6)\n",
    "centers = kmeans.cluster_centers_\n",
    "plt.scatter(centers[:, 0], centers[:, 1], c='black', s=200, alpha=0.7)\n",
    "plt.show()"
   ]
  },
  {
   "cell_type": "code",
   "execution_count": null,
   "metadata": {},
   "outputs": [],
   "source": [
    "def FormasComplejas(clusters = 2):\n",
    "    x, y_true = make_moons(n_samples = 100, noise = 0.1,\n",
    "                       random_state = 100)\n",
    "    \n",
    "    kmeans = KMeans(n_clusters = clusters)\n",
    "    kmeans.fit(x)\n",
    "\n",
    "    y_kmeans = kmeans.predict(x)\n",
    "    y_kmeans\n",
    "\n",
    "    plt.scatter(x[:, 0], x[:, 1], c=y_kmeans, s=50, cmap='autumn', alpha=0.6)\n",
    "    centers = kmeans.cluster_centers_\n",
    "    plt.scatter(centers[:, 0], centers[:, 1], c='black', s=200, alpha=0.7)\n",
    "    plt.show()\n",
    "    \n",
    "interact(FormasComplejas, clusters = (2, 8));"
   ]
  }
 ],
 "metadata": {
  "kernelspec": {
   "display_name": "Python 3 (ipykernel)",
   "language": "python",
   "name": "python3"
  },
  "language_info": {
   "codemirror_mode": {
    "name": "ipython",
    "version": 3
   },
   "file_extension": ".py",
   "mimetype": "text/x-python",
   "name": "python",
   "nbconvert_exporter": "python",
   "pygments_lexer": "ipython3",
   "version": "3.9.7"
  }
 },
 "nbformat": 4,
 "nbformat_minor": 2
}
