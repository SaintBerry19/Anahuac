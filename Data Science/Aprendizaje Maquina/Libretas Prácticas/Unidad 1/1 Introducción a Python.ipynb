{
 "cells": [
  {
   "cell_type": "markdown",
   "metadata": {},
   "source": [
    "# Enlaces utiles\n",
    "<br>https://www.python.org/\n",
    "<br>https://docs.python.org/3/tutorial/index.html\n",
    "<br>https://entrenamiento-python-basico.readthedocs.io/es/latest/index.html\n",
    "<br>https://www.learnpython.org/es/"
   ]
  },
  {
   "cell_type": "markdown",
   "metadata": {},
   "source": [
    "# Descripción de los tipos de variables"
   ]
  },
  {
   "cell_type": "markdown",
   "metadata": {},
   "source": [
    "<center><img src=\"img/Tipos_Datos.png\" width = \"80%\"></center>\n",
    "<br>\n",
    "Documentación: \n",
    "<br>https://entrenamiento-python-basico.readthedocs.io/es/latest/leccion3/tipos.html#clasificacion"
   ]
  },
  {
   "cell_type": "markdown",
   "metadata": {},
   "source": [
    "En la siguiente sección se probaran diferentes tipos de datos asignados en la misma variable para ver el comportamiento. La estructura de cada una de las celdas será la siguiente:\n",
    "- Asignación de valor.\n",
    "- Impresión del valor usando la instrucción print()\n",
    "- Impresión del tipo de valor usando en conjunto las instrucciones print() y type()"
   ]
  },
  {
   "cell_type": "code",
   "execution_count": null,
   "metadata": {},
   "outputs": [],
   "source": [
    "x = 10\n",
    "print(x)\n",
    "print(type(x))"
   ]
  },
  {
   "cell_type": "code",
   "execution_count": null,
   "metadata": {},
   "outputs": [],
   "source": [
    "x = 10.5\n",
    "print(x)\n",
    "print(type(x))"
   ]
  },
  {
   "cell_type": "code",
   "execution_count": null,
   "metadata": {},
   "outputs": [],
   "source": [
    "x = \"Diez\"\n",
    "print(x)\n",
    "print(type(x))"
   ]
  },
  {
   "cell_type": "code",
   "execution_count": null,
   "metadata": {},
   "outputs": [],
   "source": [
    "x = 10 + 5j\n",
    "print(x)\n",
    "print(type(x))"
   ]
  },
  {
   "cell_type": "code",
   "execution_count": null,
   "metadata": {},
   "outputs": [],
   "source": [
    "x = True\n",
    "print(x)\n",
    "print(type(x))"
   ]
  },
  {
   "cell_type": "markdown",
   "metadata": {},
   "source": [
    "# Cadenas de Texto"
   ]
  },
  {
   "cell_type": "markdown",
   "metadata": {},
   "source": [
    "<center><img src=\"img/Cadena_Texto.png\" width = \"100%\"></center>\n",
    "<br>\n",
    "Documentación:\n",
    "<br>https://entrenamiento-python-basico.readthedocs.io/es/latest/leccion3/tipo_cadenas.html#python-str"
   ]
  },
  {
   "cell_type": "code",
   "execution_count": null,
   "metadata": {},
   "outputs": [],
   "source": [
    "mensaje = \"Hola compañeros\"\n",
    "print(mensaje)\n",
    "print(type(mensaje))"
   ]
  },
  {
   "cell_type": "code",
   "execution_count": null,
   "metadata": {},
   "outputs": [],
   "source": [
    "print(mensaje[0])\n",
    "print(mensaje[5])"
   ]
  },
  {
   "cell_type": "code",
   "execution_count": null,
   "metadata": {},
   "outputs": [],
   "source": [
    "print(len(mensaje))"
   ]
  },
  {
   "cell_type": "code",
   "execution_count": null,
   "metadata": {},
   "outputs": [],
   "source": [
    "print(mensaje[15])"
   ]
  },
  {
   "cell_type": "markdown",
   "metadata": {},
   "source": [
    "<b>La celda anterior tiene un error debido a que no existe un elemento en la posición 15, continua reproduciendo la libreta.<b>"
   ]
  },
  {
   "cell_type": "code",
   "execution_count": null,
   "metadata": {},
   "outputs": [],
   "source": [
    "print(mensaje[-1])\n",
    "print(mensaje[-2])"
   ]
  },
  {
   "cell_type": "markdown",
   "metadata": {},
   "source": [
    "### Imprimamos una sección simple del mensaje\n",
    "Sintaxis --> print(msj [<b>inicio</b> : <b>fin</b>] ) "
   ]
  },
  {
   "cell_type": "code",
   "execution_count": null,
   "metadata": {},
   "outputs": [],
   "source": [
    "print(mensaje[3:10])\n",
    "print(mensaje[10:14])"
   ]
  },
  {
   "cell_type": "markdown",
   "metadata": {},
   "source": [
    "<b>Nota</b>: el mensaje impreso no incluirá el caracter final."
   ]
  },
  {
   "cell_type": "markdown",
   "metadata": {},
   "source": [
    "# Listas de elementos"
   ]
  },
  {
   "cell_type": "markdown",
   "metadata": {},
   "source": [
    "<center><img src=\"img/Ejemplo_Lista.png\" width = \"60%\"></center>\n",
    "<br>\n",
    "Documentación:\n",
    "<br> https://entrenamiento-python-basico.readthedocs.io/es/latest/leccion3/tipo_listas.html#python-list\n",
    "<br>\n",
    "<br> Algunas instrucciones importantes\n",
    "<br>Append: https://www.programiz.com/python-programming/methods/list/append\n",
    "<br>Inster: https://www.programiz.com/python-programming/methods/list/insert\n",
    "<br>Remove: https://www.programiz.com/python-programming/methods/list/remove\n",
    "<br>Pop: https://www.programiz.com/python-programming/methods/list/pop"
   ]
  },
  {
   "cell_type": "code",
   "execution_count": null,
   "metadata": {},
   "outputs": [],
   "source": [
    "alumno = [\"Jose\", 22, 1.70, \"Soltero\", \"Mexicano\", True]"
   ]
  },
  {
   "cell_type": "code",
   "execution_count": null,
   "metadata": {},
   "outputs": [],
   "source": [
    "estado_civil = alumno[3]\n",
    "print(estado_civil)\n",
    "\n",
    "nacionalidad = alumno[4]\n",
    "print(nacionalidad)"
   ]
  },
  {
   "cell_type": "code",
   "execution_count": null,
   "metadata": {},
   "outputs": [],
   "source": [
    "print(len(alumno))"
   ]
  },
  {
   "cell_type": "code",
   "execution_count": null,
   "metadata": {},
   "outputs": [],
   "source": [
    "promedio = 9.5\n",
    "alumno.append(promedio)\n",
    "print(alumno)\n",
    "print(len(alumno))\n",
    "\n",
    "escolaridad = \"Maestria\"\n",
    "alumno. append(escolaridad)\n",
    "print(alumno)\n",
    "print(len(alumno))\n",
    "\n",
    "peso = 85.5\n",
    "alumno.insert(3, peso)\n",
    "print(alumno)\n",
    "print(len(alumno))"
   ]
  },
  {
   "cell_type": "code",
   "execution_count": null,
   "metadata": {},
   "outputs": [],
   "source": [
    "alumno.remove(\"Mexicano\")\n",
    "print(alumno)"
   ]
  },
  {
   "cell_type": "code",
   "execution_count": null,
   "metadata": {},
   "outputs": [],
   "source": [
    "alumno.remove(\"Europeo\")"
   ]
  },
  {
   "cell_type": "markdown",
   "metadata": {},
   "source": [
    "<b>La celda anterior tiene un error debido a que no existe el elemento \"Europeo\" en la lista, continua reproduciendo la libreta.<b>"
   ]
  },
  {
   "cell_type": "code",
   "execution_count": null,
   "metadata": {},
   "outputs": [],
   "source": [
    "alumno.pop(5)"
   ]
  },
  {
   "cell_type": "code",
   "execution_count": null,
   "metadata": {},
   "outputs": [],
   "source": [
    "print(alumno)"
   ]
  },
  {
   "cell_type": "code",
   "execution_count": null,
   "metadata": {},
   "outputs": [],
   "source": [
    "alumno.pop(5)"
   ]
  },
  {
   "cell_type": "code",
   "execution_count": null,
   "metadata": {},
   "outputs": [],
   "source": [
    "print(alumno)"
   ]
  },
  {
   "cell_type": "code",
   "execution_count": null,
   "metadata": {},
   "outputs": [],
   "source": [
    "alumno.pop(5)"
   ]
  },
  {
   "cell_type": "code",
   "execution_count": null,
   "metadata": {},
   "outputs": [],
   "source": [
    "print(alumno)"
   ]
  },
  {
   "cell_type": "code",
   "execution_count": null,
   "metadata": {},
   "outputs": [],
   "source": [
    "alumno.pop(5)"
   ]
  },
  {
   "cell_type": "markdown",
   "metadata": {},
   "source": [
    "<b>La celda anterior tiene un error debido a que no existe un quinto elemento en la lista, continua reproduciendo la libreta.<b>"
   ]
  },
  {
   "cell_type": "markdown",
   "metadata": {},
   "source": [
    "# Estructuras de control"
   ]
  },
  {
   "cell_type": "markdown",
   "metadata": {},
   "source": [
    "## If\n"
   ]
  },
  {
   "cell_type": "code",
   "execution_count": null,
   "metadata": {},
   "outputs": [],
   "source": [
    "if True:\n",
    "    print(\"Obligamos al if a entrar\")"
   ]
  },
  {
   "cell_type": "code",
   "execution_count": null,
   "metadata": {},
   "outputs": [],
   "source": [
    "if False:\n",
    "    print(\"Nunca me imprimire\")"
   ]
  },
  {
   "cell_type": "code",
   "execution_count": null,
   "metadata": {},
   "outputs": [],
   "source": [
    "promedio = 8.0\n",
    "print(promedio)\n",
    "if promedio >= 8.0:\n",
    "    print(\"Alumno aprobado\")\n",
    "\n",
    "promedio = 7.5\n",
    "promedio = round(promedio)\n",
    "print(promedio)\n",
    "if promedio >= 8.0:\n",
    "    print(\"Alumno aprobado\")"
   ]
  },
  {
   "cell_type": "code",
   "execution_count": null,
   "metadata": {},
   "outputs": [],
   "source": [
    "a = 5\n",
    "b = 3\n",
    "\n",
    "if a > b:\n",
    "    print(\"A es mayor que B\")\n",
    "\n",
    "if a < b:\n",
    "    print(\"B es mayor que A\")"
   ]
  },
  {
   "cell_type": "code",
   "execution_count": null,
   "metadata": {},
   "outputs": [],
   "source": [
    "if a > b:\n",
    "    print(\"A es mayor que B\")\n",
    "else:\n",
    "    print(\"B es mayor que A\")"
   ]
  },
  {
   "cell_type": "code",
   "execution_count": null,
   "metadata": {},
   "outputs": [],
   "source": [
    "if a < 10:\n",
    "    a = a + 5\n",
    "    print(a)\n",
    "else:\n",
    "    print(\"A es demasiado grande para entrar al if\")\n"
   ]
  },
  {
   "cell_type": "markdown",
   "metadata": {},
   "source": [
    "Regresa a la celda anterior y vuelve a ejecutarla! "
   ]
  },
  {
   "cell_type": "code",
   "execution_count": null,
   "metadata": {},
   "outputs": [],
   "source": [
    "promedio = 7.1\n",
    "print(promedio)\n",
    "\n",
    "if promedio > 9.5:\n",
    "    print(\"Alumno sobresaliente\")\n",
    "elif promedio > 8.0 and promedio <= 9.5:\n",
    "    print(\"Alumno regular\")\n",
    "elif promedio >=7.0 and promedio <= 8.0:\n",
    "    print(\"Alumno con promedio aprobatorio pero necesita mejorar\")\n",
    "else:\n",
    "    print(\"Alumno reprobado\")"
   ]
  },
  {
   "cell_type": "markdown",
   "metadata": {},
   "source": [
    "## For\n"
   ]
  },
  {
   "cell_type": "code",
   "execution_count": null,
   "metadata": {},
   "outputs": [],
   "source": [
    "for enteros in range(10):\n",
    "    print(enteros)"
   ]
  },
  {
   "cell_type": "code",
   "execution_count": null,
   "metadata": {},
   "outputs": [],
   "source": [
    "for enteros in range(10):\n",
    "    print(5*enteros)"
   ]
  },
  {
   "cell_type": "code",
   "execution_count": null,
   "metadata": {},
   "outputs": [],
   "source": [
    "alumnos = [\"Diego\", \"Arturo\", \"Andres\", \"Javier\", \"Carmen\"]\n",
    "for alumno in alumnos:\n",
    "    print(\"Hola \" + alumno)"
   ]
  },
  {
   "cell_type": "code",
   "execution_count": null,
   "metadata": {},
   "outputs": [],
   "source": [
    "promedios = [9.6, 5, 7.0, 8.2, 10.0, 6.5, 8.7]\n",
    "\n",
    "for promedio in promedios:\n",
    "    print(\"El alumno tiene un promedio de: \", str(promedio))\n",
    "    if promedio > 9.5:\n",
    "        print(\"Alumno sobresaliente\")\n",
    "    elif promedio > 8.0 and promedio <= 9.5:\n",
    "        print(\"Alumno regular\")\n",
    "    elif promedio >=7.0 and promedio <= 8.0:\n",
    "        print(\"Alumno con promedio aprobatorio pero necesita mejorar\")\n",
    "    else:\n",
    "        print(\"Alumno reprobado\")\n",
    "    print()\n",
    "\n",
    "total = len(promedios)    \n",
    "print(\"El total de alumnos evaluados fue: \", str(total))"
   ]
  },
  {
   "cell_type": "markdown",
   "metadata": {},
   "source": [
    "## While"
   ]
  },
  {
   "cell_type": "code",
   "execution_count": null,
   "metadata": {},
   "outputs": [],
   "source": [
    "invitados = 0\n",
    "capacidad_maxima = 10\n",
    "\n",
    "while invitados <= capacidad_maxima:\n",
    "    print(\"Actualmente tenemos los siguientes invitados: \", str(invitados))\n",
    "    print(\"Es necesario invitar mas personas\")\n",
    "    invitados = invitados + 1\n",
    "\n",
    "print(\"Casa llena\")"
   ]
  },
  {
   "cell_type": "markdown",
   "metadata": {},
   "source": [
    "# Funciones"
   ]
  },
  {
   "cell_type": "markdown",
   "metadata": {},
   "source": [
    "Documentación:\n",
    "<br>https://entrenamiento-python-basico.readthedocs.io/es/latest/leccion5/funciones.html"
   ]
  },
  {
   "cell_type": "code",
   "execution_count": null,
   "metadata": {},
   "outputs": [],
   "source": [
    "def suma(a, b):\n",
    "    return a + b"
   ]
  },
  {
   "cell_type": "code",
   "execution_count": null,
   "metadata": {},
   "outputs": [],
   "source": [
    "def resta(a, b):\n",
    "    return a - b"
   ]
  },
  {
   "cell_type": "code",
   "execution_count": null,
   "metadata": {},
   "outputs": [],
   "source": [
    "def descuento(subtotal, porcentaje):\n",
    "    total = subtotal - subtotal * porcentaje\n",
    "    return total"
   ]
  },
  {
   "cell_type": "code",
   "execution_count": null,
   "metadata": {},
   "outputs": [],
   "source": [
    "numero1 = 10\n",
    "numero2 = 6\n",
    "print(suma(numero1, numero2))"
   ]
  },
  {
   "cell_type": "code",
   "execution_count": null,
   "metadata": {},
   "outputs": [],
   "source": [
    "numero1 = 10\n",
    "numero2 = 6\n",
    "print(resta(numero1, numero2))"
   ]
  },
  {
   "cell_type": "code",
   "execution_count": null,
   "metadata": {},
   "outputs": [],
   "source": [
    "costo = 200.0\n",
    "porcentaje = 0.20\n",
    "print(\"El costo original es: \", str(costo))\n",
    "print(\"El costo con descuento es:\", str(descuento(costo, porcentaje)))"
   ]
  },
  {
   "cell_type": "code",
   "execution_count": null,
   "metadata": {},
   "outputs": [],
   "source": [
    "def multiplicacion(a,b):\n",
    "    return a * b\n",
    "\n",
    "def division(a,b):\n",
    "    return a/b\n",
    "\n",
    "def calculadora(a,b):\n",
    "    print(\"La suma de los numeros es: \", str(suma(a,b)))\n",
    "    print(\"La resta de los numeros es: \", str(resta(a,b)))\n",
    "    print(\"La multiplicacion de los numeros es: \", str(multiplicacion(a,b)))\n",
    "    print(\"La division de los numeros es: \", str(division(a,b)))"
   ]
  },
  {
   "cell_type": "code",
   "execution_count": null,
   "metadata": {},
   "outputs": [],
   "source": [
    "calculadora(5,3)"
   ]
  },
  {
   "cell_type": "code",
   "execution_count": null,
   "metadata": {},
   "outputs": [],
   "source": [
    "calculadora(10.4, 3)"
   ]
  },
  {
   "cell_type": "code",
   "execution_count": null,
   "metadata": {},
   "outputs": [],
   "source": [
    "calculadora(-3,1.6)"
   ]
  },
  {
   "cell_type": "code",
   "execution_count": null,
   "metadata": {},
   "outputs": [],
   "source": [
    "calculadora(10+2j, 5-3j)"
   ]
  },
  {
   "cell_type": "markdown",
   "metadata": {},
   "source": [
    "# Librerías"
   ]
  },
  {
   "cell_type": "markdown",
   "metadata": {},
   "source": [
    "Documentación:\n",
    "<br>https://numpy.org/\n",
    "<br>https://matplotlib.org/\n",
    "<br>https://seaborn.pydata.org/"
   ]
  },
  {
   "cell_type": "code",
   "execution_count": null,
   "metadata": {},
   "outputs": [],
   "source": [
    "import numpy as np\n",
    "import matplotlib.pyplot as plt\n",
    "%matplotlib inline\n",
    "\n",
    "dataX = np.random.normal(0.0, 0.2, 1000)\n",
    "plt.hist(dataX, bins=10)\n",
    "plt.show()"
   ]
  },
  {
   "cell_type": "code",
   "execution_count": null,
   "metadata": {},
   "outputs": [],
   "source": [
    "import seaborn as sns\n",
    "sns.distplot(dataX,kde=False)\n",
    "plt.show()"
   ]
  },
  {
   "cell_type": "code",
   "execution_count": null,
   "metadata": {},
   "outputs": [],
   "source": [
    "sns.distplot(dataX,rug=True)\n",
    "plt.show()"
   ]
  },
  {
   "cell_type": "code",
   "execution_count": null,
   "metadata": {},
   "outputs": [],
   "source": [
    "dataY = np.arange(1000)\n",
    "dataY"
   ]
  },
  {
   "cell_type": "code",
   "execution_count": null,
   "metadata": {},
   "outputs": [],
   "source": [
    "plt.scatter(dataX, dataY)\n",
    "plt.show()"
   ]
  },
  {
   "cell_type": "code",
   "execution_count": null,
   "metadata": {},
   "outputs": [],
   "source": []
  }
 ],
 "metadata": {
  "kernelspec": {
   "display_name": "Python 3 (ipykernel)",
   "language": "python",
   "name": "python3"
  },
  "language_info": {
   "codemirror_mode": {
    "name": "ipython",
    "version": 3
   },
   "file_extension": ".py",
   "mimetype": "text/x-python",
   "name": "python",
   "nbconvert_exporter": "python",
   "pygments_lexer": "ipython3",
   "version": "3.9.7"
  }
 },
 "nbformat": 4,
 "nbformat_minor": 2
}
