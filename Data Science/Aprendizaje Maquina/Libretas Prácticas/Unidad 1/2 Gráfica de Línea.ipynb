{
 "cells": [
  {
   "cell_type": "markdown",
   "metadata": {},
   "source": [
    "# Introducción"
   ]
  },
  {
   "cell_type": "markdown",
   "metadata": {},
   "source": [
    "<p style='text-align: justify;'>Las <b><font color = green>gráficas de línea</font></b> son una representación visual de valores que se modifican sobre el intervalo de una variable continua usualmente en los problemas del mundo real se utiliza el tiempo como dicha variable. Generalmente se utilizan para representar tendencias del comportamiento de una variable o para evidenciar la relación de dos o más variables durante el mismo intervalo.</p>\n",
    "<center><img src=\"img/Lineal.png\" width = \"80%\"></center>"
   ]
  },
  {
   "cell_type": "markdown",
   "metadata": {},
   "source": [
    "# Gráfica de Línea Simple"
   ]
  },
  {
   "cell_type": "code",
   "execution_count": null,
   "metadata": {},
   "outputs": [],
   "source": [
    "import matplotlib.pyplot as plt\n",
    "%matplotlib inline\n",
    "plt.style.use('seaborn-whitegrid')\n",
    "import numpy as np"
   ]
  },
  {
   "cell_type": "markdown",
   "metadata": {},
   "source": [
    "### Matplotlib Figure:\n",
    "<p style='text-align: justify;'>Dentro de la librería de Matplotlib podemos definir al objeto <b>figure </b> como el contenedor donde se juntan todos los elementos que representan una gráfica: los ejes, la figura de la gráfica, las etiquetas, el texto entre otros elementos que podamos programar y modificar.</p>\n",
    "<center><img src=\"img/Figure.jpeg\" width = \"80%\"></center>"
   ]
  },
  {
   "cell_type": "code",
   "execution_count": null,
   "metadata": {},
   "outputs": [],
   "source": [
    "figure = plt.figure()\n",
    "ax = plt.axes()"
   ]
  },
  {
   "cell_type": "code",
   "execution_count": null,
   "metadata": {},
   "outputs": [],
   "source": [
    "figure = plt.figure()\n",
    "ax = plt.axes()\n",
    "\n",
    "x = np.linspace(0,10,10000)\n",
    "ax.plot(x, np.sin(x))"
   ]
  },
  {
   "cell_type": "code",
   "execution_count": null,
   "metadata": {},
   "outputs": [],
   "source": [
    "plt.plot(x, np.sin(x - 0), color = 'blue')\n",
    "plt.plot(x, np.sin(x - 1), color = 'red')\n",
    "plt.plot(x, np.sin(x - 2), color = 'green')"
   ]
  },
  {
   "cell_type": "code",
   "execution_count": null,
   "metadata": {},
   "outputs": [],
   "source": [
    "plt.plot(x, x + 0, '-b')\n",
    "plt.plot(x, x + 1, '--r')\n",
    "plt.plot(x, x + 2, ':g')\n",
    "plt.plot(x, x + 3, '-.c')"
   ]
  },
  {
   "cell_type": "code",
   "execution_count": null,
   "metadata": {},
   "outputs": [],
   "source": [
    "plt.plot(x, x + 0, '-b')\n",
    "plt.plot(x, x + 1, '--r')\n",
    "plt.plot(x, x + 2, ':g')\n",
    "plt.plot(x, x + 3, '-.c')\n",
    "\n",
    "plt.xlim(0, 5)\n",
    "plt.ylim(0, 5)"
   ]
  },
  {
   "cell_type": "code",
   "execution_count": null,
   "metadata": {},
   "outputs": [],
   "source": [
    "plt.plot(x, x + 0, '-b')\n",
    "plt.plot(x, x + 1, '--r')\n",
    "plt.plot(x, x + 2, ':g')\n",
    "plt.plot(x, x + 3, '-.c')\n",
    "\n",
    "plt.xlim(0, 10)\n",
    "plt.ylim(0, 10)\n",
    "\n",
    "plt.title(\"Nuestra primer grafica\")"
   ]
  },
  {
   "cell_type": "code",
   "execution_count": null,
   "metadata": {},
   "outputs": [],
   "source": [
    "plt.plot(x, np.sin(x), '-g', label='sin(x)')\n",
    "plt.plot(x, np.cos(x), ':b', label='cos(x)')\n",
    "\n",
    "plt.title(\"Sin vs Cos\")\n",
    "plt.legend()"
   ]
  },
  {
   "cell_type": "markdown",
   "metadata": {},
   "source": [
    "# Grafiquemos un conjunto de datos."
   ]
  },
  {
   "cell_type": "code",
   "execution_count": null,
   "metadata": {},
   "outputs": [],
   "source": [
    "import matplotlib.pyplot as plt\n",
    "%matplotlib inline\n",
    "import numpy as np\n",
    "import pandas as pd\n",
    "cemex = pd.read_csv('data/CEMEXCPO.csv',index_col=0)\n",
    "bimbo = pd.read_csv('data/BIMBOA.csv',index_col = 0)"
   ]
  },
  {
   "cell_type": "code",
   "execution_count": null,
   "metadata": {},
   "outputs": [],
   "source": [
    "df_cemex = cemex.head(20)"
   ]
  },
  {
   "cell_type": "code",
   "execution_count": null,
   "metadata": {},
   "outputs": [],
   "source": [
    "df_bimbo = bimbo.head(20)"
   ]
  },
  {
   "cell_type": "code",
   "execution_count": null,
   "metadata": {},
   "outputs": [],
   "source": [
    "plt.plot(df_cemex['Close'])\n",
    "plt.xticks(rotation=90)"
   ]
  },
  {
   "cell_type": "code",
   "execution_count": null,
   "metadata": {},
   "outputs": [],
   "source": [
    "plt.figure()\n",
    "plt.plot(df_bimbo['Close'])\n",
    "plt.xticks(rotation=90)"
   ]
  },
  {
   "cell_type": "code",
   "execution_count": null,
   "metadata": {},
   "outputs": [],
   "source": [
    "plt.figure()\n",
    "plt.plot(df_cemex['Open'], 'g')\n",
    "plt.plot(df_cemex['Close'], 'r')\n",
    "plt.plot(df_bimbo['Open'], 'g')\n",
    "plt.plot(df_bimbo['Close'], 'r')\n",
    "plt.xticks(rotation=90)"
   ]
  },
  {
   "cell_type": "code",
   "execution_count": null,
   "metadata": {},
   "outputs": [],
   "source": [
    "plt.figure()\n",
    "\n",
    "ax1 = plt.subplot(211)\n",
    "plt.plot(df_cemex['Open'], 'g')\n",
    "plt.plot(df_cemex['Close'], 'r')\n",
    "plt.title('Cemex')\n",
    "plt.tight_layout()\n",
    "plt.legend()\n",
    "plt.xticks(rotation=90)\n",
    "\n",
    "ax2 = plt.subplot(212)\n",
    "plt.plot(df_bimbo['Open'], 'g')\n",
    "plt.plot(df_bimbo['Close'], 'r')\n",
    "plt.title('Bimbo')\n",
    "plt.tight_layout()\n",
    "plt.legend()\n",
    "plt.xticks(rotation=90)"
   ]
  },
  {
   "cell_type": "code",
   "execution_count": null,
   "metadata": {},
   "outputs": [],
   "source": [
    "plt.figure()\n",
    "\n",
    "ax1 = plt.subplot(211)\n",
    "plt.plot(df_cemex['Open'], 'g')\n",
    "plt.plot(df_cemex['Close'], 'r')\n",
    "plt.title('Cemex')\n",
    "plt.tight_layout()\n",
    "plt.legend()\n",
    "plt.xticks(rotation=90)\n",
    "\n",
    "ax2 = plt.subplot(212)\n",
    "plt.plot(df_bimbo['Open'], 'g')\n",
    "plt.plot(df_bimbo['Close'], 'r')\n",
    "plt.title('Bimbo')\n",
    "plt.tight_layout()\n",
    "plt.legend()\n",
    "plt.xticks(rotation=90)\n",
    "\n",
    "plt.savefig(\"Graficasdelinea.png\", dpi=300)"
   ]
  },
  {
   "cell_type": "code",
   "execution_count": null,
   "metadata": {},
   "outputs": [],
   "source": []
  }
 ],
 "metadata": {
  "kernelspec": {
   "display_name": "Python 3 (ipykernel)",
   "language": "python",
   "name": "python3"
  },
  "language_info": {
   "codemirror_mode": {
    "name": "ipython",
    "version": 3
   },
   "file_extension": ".py",
   "mimetype": "text/x-python",
   "name": "python",
   "nbconvert_exporter": "python",
   "pygments_lexer": "ipython3",
   "version": "3.9.7"
  }
 },
 "nbformat": 4,
 "nbformat_minor": 2
}
