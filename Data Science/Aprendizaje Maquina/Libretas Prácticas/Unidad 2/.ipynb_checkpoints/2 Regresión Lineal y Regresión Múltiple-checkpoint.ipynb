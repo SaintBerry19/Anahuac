{
 "cells": [
  {
   "cell_type": "markdown",
   "metadata": {},
   "source": [
    "# Construcción de un modelo de regresión lineal para un conjunto de puntos aleatorios"
   ]
  },
  {
   "cell_type": "code",
   "execution_count": null,
   "metadata": {},
   "outputs": [],
   "source": [
    "import numpy as np\n",
    "import pandas as pd\n",
    "import matplotlib.pyplot as plt\n",
    "%matplotlib inline\n",
    "import seaborn as sns\n",
    "sns.set_style(\"whitegrid\")"
   ]
  },
  {
   "cell_type": "markdown",
   "metadata": {},
   "source": [
    "Vamos a construir un conjunto de puntos aleatorios que esten cercanos a la recta:\n",
    "$$y = 2 x + 3$$"
   ]
  },
  {
   "cell_type": "code",
   "execution_count": null,
   "metadata": {},
   "outputs": [],
   "source": [
    "rng = np.random.RandomState(100)\n",
    "x = 10 * rng.rand(100)\n",
    "y = 2 * x + 3 + rng.randn(100)"
   ]
  },
  {
   "cell_type": "code",
   "execution_count": null,
   "metadata": {},
   "outputs": [],
   "source": [
    "plt.scatter(x,y, c = 'red')\n",
    "plt.show()"
   ]
  },
  {
   "cell_type": "code",
   "execution_count": null,
   "metadata": {},
   "outputs": [],
   "source": [
    "from sklearn.linear_model import LinearRegression\n",
    "model = LinearRegression(fit_intercept = True)\n",
    "model.fit(x[:, np.newaxis], y)"
   ]
  },
  {
   "cell_type": "code",
   "execution_count": null,
   "metadata": {},
   "outputs": [],
   "source": [
    "xfit = np.linspace(0, 10, 1000)\n",
    "yfit = model.predict(xfit[:, np.newaxis])"
   ]
  },
  {
   "cell_type": "code",
   "execution_count": null,
   "metadata": {},
   "outputs": [],
   "source": [
    "plt.scatter(x, y, c = 'red', alpha = 0.2)\n",
    "plt.plot(xfit, yfit, lw = 3)\n",
    "\n",
    "plt.show()"
   ]
  },
  {
   "cell_type": "code",
   "execution_count": null,
   "metadata": {},
   "outputs": [],
   "source": [
    "print(\"Pendiente del módelo (m): \", model.coef_[0])\n",
    "print(\"Intersección del módelo (b):\", model.intercept_)"
   ]
  },
  {
   "cell_type": "markdown",
   "metadata": {},
   "source": [
    "# Obtención y preparación de datos"
   ]
  },
  {
   "cell_type": "code",
   "execution_count": null,
   "metadata": {},
   "outputs": [],
   "source": [
    "from sklearn.datasets import load_boston\n",
    "boston_dataset = load_boston()\n",
    "df = pd.DataFrame(boston_dataset.data, columns = boston_dataset.feature_names)\n",
    "df['MEDV'] = boston_dataset.target[df.index]\n",
    "df.head()"
   ]
  },
  {
   "cell_type": "code",
   "execution_count": null,
   "metadata": {},
   "outputs": [],
   "source": [
    "correlation = df.corr()\n",
    "sns.set(style=\"ticks\", color_codes=True)\n",
    "plt.figure(figsize=(14, 12))\n",
    "sns.heatmap(correlation,annot=True, linewidths=.5, cmap=\"YlGnBu\")"
   ]
  },
  {
   "cell_type": "code",
   "execution_count": null,
   "metadata": {},
   "outputs": [],
   "source": [
    "cor_target = abs(correlation[\"MEDV\"])\n",
    "relevant_features = cor_target[cor_target>0.5]\n",
    "relevant_features"
   ]
  },
  {
   "cell_type": "code",
   "execution_count": null,
   "metadata": {},
   "outputs": [],
   "source": [
    "df.corr()[\"MEDV\"].sort_values()"
   ]
  },
  {
   "cell_type": "code",
   "execution_count": null,
   "metadata": {},
   "outputs": [],
   "source": [
    "x = df[\"LSTAT\"].values.reshape(-1, 1)\n",
    "y = df[\"MEDV\"].values.reshape(-1, 1)"
   ]
  },
  {
   "cell_type": "code",
   "execution_count": null,
   "metadata": {},
   "outputs": [],
   "source": [
    "x"
   ]
  },
  {
   "cell_type": "code",
   "execution_count": null,
   "metadata": {},
   "outputs": [],
   "source": [
    "y"
   ]
  },
  {
   "cell_type": "markdown",
   "metadata": {},
   "source": [
    "# Train Test Split"
   ]
  },
  {
   "cell_type": "markdown",
   "metadata": {},
   "source": [
    "https://scikit-learn.org/stable/modules/generated/sklearn.model_selection.train_test_split.html"
   ]
  },
  {
   "cell_type": "code",
   "execution_count": null,
   "metadata": {},
   "outputs": [],
   "source": [
    "from sklearn.model_selection import train_test_split\n",
    "x_train, x_test, y_train, y_test = train_test_split(\n",
    "    x, y, test_size=0.20, random_state=100)"
   ]
  },
  {
   "cell_type": "markdown",
   "metadata": {},
   "source": [
    "<center><img src=\"img/TrainTestSplit.png\" width = \"80%\"></center>"
   ]
  },
  {
   "cell_type": "code",
   "execution_count": null,
   "metadata": {},
   "outputs": [],
   "source": [
    "print(\"Tamaño del conjunto de datos: \", x.size)\n",
    "print(\"Tamaño del conjunto de entrenamiento: \", x_train.size)\n",
    "print(\"Tamaño del conjunto de prueba: \", x_test.size)"
   ]
  },
  {
   "cell_type": "code",
   "execution_count": null,
   "metadata": {},
   "outputs": [],
   "source": [
    "from sklearn.linear_model import LinearRegression\n",
    "\n",
    "reg = LinearRegression().fit(x_train,y_train)\n",
    "\n",
    "y_train_predict = reg.predict(x_train)\n",
    "y_test_predict = reg.predict(x_test)"
   ]
  },
  {
   "cell_type": "code",
   "execution_count": null,
   "metadata": {},
   "outputs": [],
   "source": [
    "plt.scatter(x_train, y_train, c = \"blue\", alpha = 0.2)\n",
    "plt.scatter(x_test, y_test, c = \"orange\", alpha = 0.8)\n",
    "\n",
    "x_plot = np.linspace(0,40).reshape(-1, 1)\n",
    "y_plot = reg.predict(x_plot)\n",
    "\n",
    "plt.plot(x_plot, y_plot,\"r--\", lw = 4)\n",
    "plt.show()"
   ]
  },
  {
   "cell_type": "code",
   "execution_count": null,
   "metadata": {},
   "outputs": [],
   "source": [
    "from sklearn.metrics import r2_score\n",
    "print(\"Entrenamiento\", r2_score(y_train, y_train_predict))\n",
    "print(\"Prueba\", r2_score(y_test, y_test_predict))"
   ]
  },
  {
   "cell_type": "markdown",
   "metadata": {},
   "source": [
    "## Ahora hagamos una función usando lo anterior."
   ]
  },
  {
   "cell_type": "code",
   "execution_count": null,
   "metadata": {},
   "outputs": [],
   "source": [
    "def graficaRegresion(size):\n",
    "    x_train, x_test, y_train, y_test = train_test_split(\n",
    "        x, y, test_size = size, random_state=100)\n",
    "\n",
    "    print(\"Tamaño del conjunto de datos: \", x.size)\n",
    "    print(\"Tamaño del conjunto de entrenamiento: \", x_train.size)\n",
    "    print(\"Tamaño del conjunto de prueba: \", x_test.size)\n",
    "\n",
    "    reg = LinearRegression().fit(x_train,y_train)\n",
    "\n",
    "    y_train_predict = reg.predict(x_train)\n",
    "    y_test_predict = reg.predict(x_test)\n",
    "\n",
    "    plt.scatter(x_train, y_train, c = 'blue', alpha = 0.2)\n",
    "    plt.scatter(x_test, y_test, c = 'orange', alpha = 0.8)\n",
    "\n",
    "    x_plot = np.linspace(0,40).reshape(-1, 1)\n",
    "    y_plot = reg.predict(x_plot)\n",
    "\n",
    "    plt.plot(x_plot, y_plot,\"r--\", lw = 4)\n",
    "    plt.show()\n",
    "\n",
    "    print(\"Entrenamiento\", r2_score(y_train, y_train_predict))\n",
    "    print(\"Prueba\", r2_score(y_test, y_test_predict))"
   ]
  },
  {
   "cell_type": "code",
   "execution_count": null,
   "metadata": {},
   "outputs": [],
   "source": [
    "graficaRegresion(0.30)"
   ]
  },
  {
   "cell_type": "code",
   "execution_count": null,
   "metadata": {},
   "outputs": [],
   "source": [
    "graficaRegresion(0.40)"
   ]
  },
  {
   "cell_type": "code",
   "execution_count": null,
   "metadata": {},
   "outputs": [],
   "source": [
    "graficaRegresion(0.50)"
   ]
  },
  {
   "cell_type": "markdown",
   "metadata": {},
   "source": [
    "# Regresión Múltiple"
   ]
  },
  {
   "cell_type": "code",
   "execution_count": null,
   "metadata": {},
   "outputs": [],
   "source": [
    "x = df[[\"RM\",\"AGE\"]]\n",
    "y = df[\"MEDV\"].values.reshape(-1, 1)\n",
    "\n",
    "x_train, x_test, y_train, y_test = train_test_split(\n",
    "    x, y, test_size=0.20, random_state=100)\n",
    "\n",
    "reg = LinearRegression().fit(x_train,y_train)\n",
    "\n",
    "y_train_predict = reg.predict(x_train)\n",
    "y_test_predict = reg.predict(x_test)\n",
    "\n",
    "print(\"Entrenamiento\", r2_score(y_train, y_train_predict))\n",
    "print(\"Prueba\", r2_score(y_test, y_test_predict))"
   ]
  },
  {
   "cell_type": "code",
   "execution_count": null,
   "metadata": {},
   "outputs": [],
   "source": [
    "%matplotlib notebook"
   ]
  },
  {
   "cell_type": "code",
   "execution_count": null,
   "metadata": {},
   "outputs": [],
   "source": [
    "from mpl_toolkits.mplot3d import Axes3D\n",
    "\n",
    "x_ = df[\"RM\"]\n",
    "y_ = df[\"AGE\"]\n",
    "z_ = df[\"MEDV\"]\n",
    "\n",
    "fig = plt.figure()\n",
    "ax = fig.add_subplot(111, projection='3d')\n",
    "ax.scatter(x_, y_, z_, c='r', marker='.')\n",
    "plt.show()"
   ]
  },
  {
   "cell_type": "code",
   "execution_count": null,
   "metadata": {},
   "outputs": [],
   "source": [
    "def regresionMultiple():\n",
    "    x_train, x_test, y_train, y_test = train_test_split(\n",
    "        x, y, test_size=0.20, random_state=100)\n",
    "\n",
    "    reg = LinearRegression().fit(x_train,y_train)\n",
    "\n",
    "    y_train_predict = reg.predict(x_train)\n",
    "    y_test_predict = reg.predict(x_test)\n",
    "\n",
    "    print(\"Entrenamiento\", r2_score(y_train, y_train_predict))\n",
    "    print(\"Prueba\", r2_score(y_test, y_test_predict))"
   ]
  },
  {
   "cell_type": "code",
   "execution_count": null,
   "metadata": {},
   "outputs": [],
   "source": [
    "x = df[[\"RM\",\"LSTAT\"]]\n",
    "y = df[\"MEDV\"].values.reshape(-1, 1)\n",
    "\n",
    "regresionMultiple()"
   ]
  },
  {
   "cell_type": "code",
   "execution_count": null,
   "metadata": {},
   "outputs": [],
   "source": [
    "x = df[[\"RM\",\"LSTAT\", \"AGE\"]]\n",
    "y = df[\"MEDV\"].values.reshape(-1, 1)\n",
    "\n",
    "regresionMultiple()"
   ]
  },
  {
   "cell_type": "code",
   "execution_count": null,
   "metadata": {},
   "outputs": [],
   "source": [
    "x = df[[\"RM\",\"LSTAT\", \"AGE\", \"PTRATIO\"]]\n",
    "y = df[\"MEDV\"].values.reshape(-1, 1)\n",
    "\n",
    "regresionMultiple()"
   ]
  },
  {
   "cell_type": "code",
   "execution_count": null,
   "metadata": {},
   "outputs": [],
   "source": []
  }
 ],
 "metadata": {
  "kernelspec": {
   "display_name": "Python 3 (ipykernel)",
   "language": "python",
   "name": "python3"
  },
  "language_info": {
   "codemirror_mode": {
    "name": "ipython",
    "version": 3
   },
   "file_extension": ".py",
   "mimetype": "text/x-python",
   "name": "python",
   "nbconvert_exporter": "python",
   "pygments_lexer": "ipython3",
   "version": "3.11.1"
  }
 },
 "nbformat": 4,
 "nbformat_minor": 2
}
