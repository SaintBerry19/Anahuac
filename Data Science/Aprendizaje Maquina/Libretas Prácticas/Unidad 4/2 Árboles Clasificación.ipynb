{
 "cells": [
  {
   "cell_type": "markdown",
   "metadata": {},
   "source": [
    "# Obtención y preparación de datos"
   ]
  },
  {
   "cell_type": "code",
   "execution_count": null,
   "metadata": {},
   "outputs": [],
   "source": [
    "import pandas as pd\n",
    "import numpy as np\n",
    "\n",
    "import matplotlib.pyplot as plt\n",
    "%matplotlib inline\n",
    "import seaborn as sns"
   ]
  },
  {
   "cell_type": "code",
   "execution_count": null,
   "metadata": {},
   "outputs": [],
   "source": [
    "from sklearn.datasets import load_breast_cancer\n",
    "cancer_dataset = load_breast_cancer()\n",
    "df = pd.DataFrame(cancer_dataset.data, columns = cancer_dataset.feature_names)\n",
    "df['Target'] = cancer_dataset.target[df.index]\n",
    "df.head()"
   ]
  },
  {
   "cell_type": "code",
   "execution_count": null,
   "metadata": {},
   "outputs": [],
   "source": [
    "x = df.drop(\"Target\", axis = 1)\n",
    "y = df.Target"
   ]
  },
  {
   "cell_type": "code",
   "execution_count": null,
   "metadata": {},
   "outputs": [],
   "source": [
    "from sklearn.model_selection import train_test_split\n",
    "x_train, x_test, y_train, y_test = train_test_split(\n",
    "    x, y, test_size=0.30, random_state=100)"
   ]
  },
  {
   "cell_type": "markdown",
   "metadata": {},
   "source": [
    "# Árbol de clasificación"
   ]
  },
  {
   "cell_type": "markdown",
   "metadata": {},
   "source": [
    "https://scikit-learn.org/stable/modules/generated/sklearn.tree.DecisionTreeClassifier.html"
   ]
  },
  {
   "cell_type": "code",
   "execution_count": null,
   "metadata": {},
   "outputs": [],
   "source": [
    "from sklearn.tree import DecisionTreeClassifier\n",
    "clf = DecisionTreeClassifier()"
   ]
  },
  {
   "cell_type": "code",
   "execution_count": null,
   "metadata": {},
   "outputs": [],
   "source": [
    "clf.fit(x_train, y_train)"
   ]
  },
  {
   "cell_type": "code",
   "execution_count": null,
   "metadata": {},
   "outputs": [],
   "source": [
    "y_train_predict = clf.predict(x_train)\n",
    "y_test_predict = clf.predict(x_test)"
   ]
  },
  {
   "cell_type": "markdown",
   "metadata": {},
   "source": [
    "https://scikit-learn.org/stable/modules/generated/sklearn.tree.export_graphviz.html#sklearn.tree.export_graphviz"
   ]
  },
  {
   "cell_type": "code",
   "execution_count": null,
   "metadata": {},
   "outputs": [],
   "source": [
    "from sklearn.tree import export_graphviz\n",
    "export_graphviz(clf, out_file = \"Tree.ps\")"
   ]
  },
  {
   "cell_type": "markdown",
   "metadata": {},
   "source": [
    "### ¿Cómo transformar el código en una imagén?\n",
    "Alternativa 1: https://edotor.net/\n",
    "<br>Alternativa 2: http://www.webgraphviz.com/\n",
    "<br>Alternativa 3: https://stamm-wilbrandt.de/GraphvizFiddle/#"
   ]
  },
  {
   "cell_type": "markdown",
   "metadata": {},
   "source": [
    "### Tu árbol debe ser muy parecido al que tienes aquí en la libreta."
   ]
  },
  {
   "cell_type": "markdown",
   "metadata": {},
   "source": [
    "<center><img src=\"img/ClasfTree1.png\" width = \"100%\"></center>"
   ]
  },
  {
   "cell_type": "code",
   "execution_count": null,
   "metadata": {},
   "outputs": [],
   "source": [
    "x.columns"
   ]
  },
  {
   "cell_type": "code",
   "execution_count": null,
   "metadata": {},
   "outputs": [],
   "source": [
    "feature_labels = []\n",
    "for col in x.columns:\n",
    "    feature_labels.append(col)\n",
    "\n",
    "print(feature_labels)"
   ]
  },
  {
   "cell_type": "code",
   "execution_count": null,
   "metadata": {},
   "outputs": [],
   "source": [
    "class_labels = ['malignant', 'benign']"
   ]
  },
  {
   "cell_type": "code",
   "execution_count": null,
   "metadata": {},
   "outputs": [],
   "source": [
    "export_graphviz(clf, out_file = \"TreeWithInfo.ps\", \n",
    "                feature_names = feature_labels, \n",
    "                class_names = class_labels,\n",
    "                filled = True,\n",
    "                rounded = True\n",
    "               )"
   ]
  },
  {
   "cell_type": "markdown",
   "metadata": {},
   "source": [
    "### Tu árbol debe ser muy parecido al que tienes aquí en la libreta."
   ]
  },
  {
   "cell_type": "markdown",
   "metadata": {},
   "source": [
    "<center><img src=\"img/ClasfTree2.png\" width = \"100%\"></center>"
   ]
  },
  {
   "cell_type": "markdown",
   "metadata": {},
   "source": [
    "### Reporte de la clasificación"
   ]
  },
  {
   "cell_type": "code",
   "execution_count": null,
   "metadata": {},
   "outputs": [],
   "source": [
    "from sklearn.metrics import classification_report\n",
    "print(classification_report(y_train, y_train_predict))\n",
    "print(classification_report(y_test, y_test_predict))"
   ]
  },
  {
   "cell_type": "markdown",
   "metadata": {},
   "source": [
    "### Matriz de confusión"
   ]
  },
  {
   "cell_type": "code",
   "execution_count": null,
   "metadata": {},
   "outputs": [],
   "source": [
    "from sklearn.metrics import confusion_matrix"
   ]
  },
  {
   "cell_type": "code",
   "execution_count": null,
   "metadata": {},
   "outputs": [],
   "source": [
    "cm = confusion_matrix(y_train, y_train_predict)\n",
    "sns.heatmap(cm, linewidth = 0.5, annot = True, cmap = 'Reds', fmt = 'g')\n",
    "plt.ylabel('Valores predecidos')\n",
    "plt.xlabel('Valores reales')\n",
    "plt.title('Comparación con valores de entrenamiento')\n",
    "plt.show()"
   ]
  },
  {
   "cell_type": "code",
   "execution_count": null,
   "metadata": {},
   "outputs": [],
   "source": [
    "cm = confusion_matrix(y_test, y_test_predict)\n",
    "sns.heatmap(cm, linewidth = 0.5, annot = True, cmap = 'Reds', fmt = 'g')\n",
    "plt.ylabel('Valores predecidos')\n",
    "plt.xlabel('Valores reales')\n",
    "plt.title('Comparación con valores de prueba')\n",
    "plt.show()"
   ]
  },
  {
   "cell_type": "markdown",
   "metadata": {},
   "source": [
    "### Selección de características"
   ]
  },
  {
   "cell_type": "code",
   "execution_count": null,
   "metadata": {},
   "outputs": [],
   "source": [
    "from sklearn.feature_selection import RFE\n",
    "selector = RFE(clf, 8, step = 1)\n",
    "selector = selector.fit(x_train, y_train.ravel())\n",
    "print(selector.support_)\n",
    "print(selector.ranking_)"
   ]
  },
  {
   "cell_type": "code",
   "execution_count": null,
   "metadata": {},
   "outputs": [],
   "source": [
    "n = int(selector.support_.size)\n",
    "\n",
    "for i in range(n):\n",
    "    if selector.support_[i] == True:\n",
    "        print(cancer_dataset.feature_names[i])"
   ]
  },
  {
   "cell_type": "markdown",
   "metadata": {},
   "source": [
    "# Volvamos a hacer el árbol pero con una copia reducida de los datos"
   ]
  },
  {
   "cell_type": "code",
   "execution_count": null,
   "metadata": {},
   "outputs": [],
   "source": [
    "df_reduced = df.drop(\"Target\", axis = 1)\n",
    "df_reduced = df_reduced.loc[:, selector.support_]\n",
    "df_reduced.head()"
   ]
  },
  {
   "cell_type": "code",
   "execution_count": null,
   "metadata": {},
   "outputs": [],
   "source": [
    "x = df_reduced\n",
    "y = df.Target"
   ]
  },
  {
   "cell_type": "code",
   "execution_count": null,
   "metadata": {},
   "outputs": [],
   "source": [
    "x_train, x_test, y_train, y_test = train_test_split(\n",
    "    x, y, test_size=0.30, random_state=100)\n",
    "\n",
    "clf = DecisionTreeClassifier()\n",
    "clf.fit(x_train, y_train)\n",
    "\n",
    "y_train_predict = clf.predict(x_train)\n",
    "y_test_predict = clf.predict(x_test)\n",
    "\n",
    "print(x.columns)\n",
    "class_labels = ['malignant', 'benign']\n",
    "feature_labels = []\n",
    "for col in x.columns:\n",
    "    feature_labels.append(col)\n",
    "\n",
    "export_graphviz(clf, out_file = \"ReducedTreeWithInfo.ps\", \n",
    "                feature_names = feature_labels, \n",
    "                class_names = class_labels,\n",
    "                filled = True,\n",
    "                rounded = True\n",
    "               )\n",
    "\n",
    "print(\"-----------------------------------------------------\")\n",
    "print(classification_report(y_train, y_train_predict))\n",
    "print(\"-----------------------------------------------------\")\n",
    "print(classification_report(y_test, y_test_predict))\n",
    "print(\"-----------------------------------------------------\")\n",
    "\n",
    "cm = confusion_matrix(y_train, y_train_predict)\n",
    "sns.heatmap(cm, linewidth = 0.5, annot = True, cmap = 'Reds', fmt = 'g')\n",
    "plt.ylabel('Valores predecidos')\n",
    "plt.xlabel('Valores reales')\n",
    "plt.title('Comparación con valores de entrenamiento')\n",
    "plt.show()\n",
    "\n",
    "cm = confusion_matrix(y_test, y_test_predict)\n",
    "sns.heatmap(cm, linewidth = 0.5, annot = True, cmap = 'Reds', fmt = 'g')\n",
    "plt.ylabel('Valores predecidos')\n",
    "plt.xlabel('Valores reales')\n",
    "plt.title('Comparación con valores de prueba')\n",
    "plt.show()"
   ]
  },
  {
   "cell_type": "markdown",
   "metadata": {},
   "source": [
    "### Tu árbol debe ser muy parecido al que tienes aquí en la libreta."
   ]
  },
  {
   "cell_type": "markdown",
   "metadata": {},
   "source": [
    "<center><img src=\"img/ClasfTree3.png\" width = \"100%\"></center>"
   ]
  },
  {
   "cell_type": "markdown",
   "metadata": {},
   "source": [
    "# Ahora analicemos un ejemplo donde existen multíples clases."
   ]
  },
  {
   "cell_type": "markdown",
   "metadata": {},
   "source": [
    "# Obtención y preparación de datos"
   ]
  },
  {
   "cell_type": "code",
   "execution_count": null,
   "metadata": {},
   "outputs": [],
   "source": [
    "from sklearn.datasets import load_iris\n",
    "iris = load_iris()\n",
    "dataset_description = iris.DESCR\n",
    "print(dataset_description)"
   ]
  },
  {
   "cell_type": "code",
   "execution_count": null,
   "metadata": {},
   "outputs": [],
   "source": [
    "df2 = pd.DataFrame(iris.data, columns = iris.feature_names)\n",
    "df2.head()"
   ]
  },
  {
   "cell_type": "code",
   "execution_count": null,
   "metadata": {},
   "outputs": [],
   "source": [
    "df2['Target']=iris.target[df2.index]\n",
    "df2.head()"
   ]
  },
  {
   "cell_type": "code",
   "execution_count": null,
   "metadata": {},
   "outputs": [],
   "source": [
    "df2['Target'].unique()"
   ]
  },
  {
   "cell_type": "code",
   "execution_count": null,
   "metadata": {},
   "outputs": [],
   "source": [
    "x = df2.drop(\"Target\", axis = 1)\n",
    "y = df2.Target"
   ]
  },
  {
   "cell_type": "code",
   "execution_count": null,
   "metadata": {},
   "outputs": [],
   "source": [
    "x_train, x_test, y_train, y_test = train_test_split(\n",
    "    x, y, test_size=0.30, random_state=100)\n",
    "\n",
    "clf = DecisionTreeClassifier()\n",
    "clf.fit(x_train, y_train)\n",
    "\n",
    "y_train_predict = clf.predict(x_train)\n",
    "y_test_predict = clf.predict(x_test)\n",
    "\n",
    "print(x.columns)\n",
    "class_labels = ['Setosa', 'Versicolour', 'Virginica']\n",
    "feature_labels = []\n",
    "for col in x.columns:\n",
    "    feature_labels.append(col)\n",
    "\n",
    "export_graphviz(clf, out_file = \"IrisTreeWithInfo.ps\", \n",
    "                feature_names = feature_labels, \n",
    "                class_names = class_labels,\n",
    "                filled = True,\n",
    "                rounded = True\n",
    "               )\n",
    "\n",
    "print(\"-----------------------------------------------------\")\n",
    "print(classification_report(y_train, y_train_predict))\n",
    "print(\"-----------------------------------------------------\")\n",
    "print(classification_report(y_test, y_test_predict))\n",
    "print(\"-----------------------------------------------------\")\n",
    "\n",
    "cm = confusion_matrix(y_train, y_train_predict)\n",
    "sns.heatmap(cm, linewidth = 0.5, annot = True, cmap = 'Reds', fmt = 'g')\n",
    "plt.ylabel('Valores predecidos')\n",
    "plt.xlabel('Valores reales')\n",
    "plt.title('Comparación con valores de entrenamiento')\n",
    "plt.show()\n",
    "\n",
    "cm = confusion_matrix(y_test, y_test_predict)\n",
    "sns.heatmap(cm, linewidth = 0.5, annot = True, cmap = 'Reds', fmt = 'g')\n",
    "plt.ylabel('Valores predecidos')\n",
    "plt.xlabel('Valores reales')\n",
    "plt.title('Comparación con valores de prueba')\n",
    "plt.show()"
   ]
  },
  {
   "cell_type": "markdown",
   "metadata": {},
   "source": [
    "### Tu árbol debe ser muy parecido al que tienes aquí en la libreta."
   ]
  },
  {
   "cell_type": "markdown",
   "metadata": {},
   "source": [
    "<center><img src=\"img/ClasfTree4.png\" width = \"80%\"></center>"
   ]
  }
 ],
 "metadata": {
  "kernelspec": {
   "display_name": "Python 3 (ipykernel)",
   "language": "python",
   "name": "python3"
  },
  "language_info": {
   "codemirror_mode": {
    "name": "ipython",
    "version": 3
   },
   "file_extension": ".py",
   "mimetype": "text/x-python",
   "name": "python",
   "nbconvert_exporter": "python",
   "pygments_lexer": "ipython3",
   "version": "3.11.1"
  }
 },
 "nbformat": 4,
 "nbformat_minor": 2
}
